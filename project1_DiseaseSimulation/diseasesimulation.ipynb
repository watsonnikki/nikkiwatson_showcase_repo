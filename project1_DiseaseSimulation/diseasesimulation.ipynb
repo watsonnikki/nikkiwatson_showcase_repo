{
 "cells": [
  {
   "cell_type": "code",
   "execution_count": 75,
   "metadata": {},
   "outputs": [],
   "source": [
    "import pandas as pd\n",
    "pd.set_option('display.expand_frame_repr', False)\n",
    "import numpy as np\n",
    "import matplotlib.pyplot as plt\n",
    "import itertools as it\n",
    "import scipy as sp\n",
    "import plotly.express as px\n",
    "from plotly.subplots import make_subplots\n",
    "import plotly.graph_objects as go"
   ]
  },
  {
   "cell_type": "code",
   "execution_count": 76,
   "metadata": {},
   "outputs": [],
   "source": [
    "# Treatments and their assosiated failure rates\n",
    "healthy_rate = {'healthy': 0.009706}\n",
    "treatment_failure_rates = {'mesalamine': 60,\n",
    "                    'remicade': 60,\n",
    "                    'humira': 32,\n",
    "                    'entyvio': 60,\n",
    "                    'skyrizi': 12.3,\n",
    "                    'rinvoq': 86}\n",
    "failure_rate = {'failure': 0}"
   ]
  },
  {
   "cell_type": "markdown",
   "metadata": {},
   "source": [
    "### Defining the treatments to include based on most common clinical practice"
   ]
  },
  {
   "cell_type": "code",
   "execution_count": 77,
   "metadata": {},
   "outputs": [],
   "source": [
    "def define_treatments():\n",
    "    '''\n",
    "    Defines the treatment options for Crohn's Disease.\n",
    "    Takes no arguments. Returns a dictionary of treatment options.\n",
    "    '''\n",
    "    permutations = list(it.permutations(treatment_failure_rates.keys(), 6))\n",
    "    treatment_progressions = {i: treatment for i, treatment in enumerate(permutations) if i < 51}\n",
    "    return treatment_progressions"
   ]
  },
  {
   "cell_type": "code",
   "execution_count": 78,
   "metadata": {},
   "outputs": [
    {
     "name": "stdout",
     "output_type": "stream",
     "text": [
      "('mesalamine', 'remicade', 'humira', 'entyvio', 'skyrizi', 'rinvoq')\n",
      "('mesalamine', 'remicade', 'humira', 'entyvio', 'rinvoq', 'skyrizi')\n",
      "('mesalamine', 'remicade', 'humira', 'skyrizi', 'entyvio', 'rinvoq')\n",
      "('mesalamine', 'remicade', 'humira', 'skyrizi', 'rinvoq', 'entyvio')\n",
      "('mesalamine', 'remicade', 'humira', 'rinvoq', 'entyvio', 'skyrizi')\n",
      "('mesalamine', 'remicade', 'humira', 'rinvoq', 'skyrizi', 'entyvio')\n",
      "('mesalamine', 'remicade', 'entyvio', 'humira', 'skyrizi', 'rinvoq')\n",
      "('mesalamine', 'remicade', 'entyvio', 'humira', 'rinvoq', 'skyrizi')\n",
      "('mesalamine', 'remicade', 'entyvio', 'skyrizi', 'humira', 'rinvoq')\n",
      "('mesalamine', 'remicade', 'entyvio', 'skyrizi', 'rinvoq', 'humira')\n",
      "('mesalamine', 'remicade', 'entyvio', 'rinvoq', 'humira', 'skyrizi')\n",
      "('mesalamine', 'remicade', 'entyvio', 'rinvoq', 'skyrizi', 'humira')\n",
      "('mesalamine', 'remicade', 'skyrizi', 'humira', 'entyvio', 'rinvoq')\n",
      "('mesalamine', 'remicade', 'skyrizi', 'humira', 'rinvoq', 'entyvio')\n",
      "('mesalamine', 'remicade', 'skyrizi', 'entyvio', 'humira', 'rinvoq')\n",
      "('mesalamine', 'remicade', 'skyrizi', 'entyvio', 'rinvoq', 'humira')\n",
      "('mesalamine', 'remicade', 'skyrizi', 'rinvoq', 'humira', 'entyvio')\n",
      "('mesalamine', 'remicade', 'skyrizi', 'rinvoq', 'entyvio', 'humira')\n",
      "('mesalamine', 'remicade', 'rinvoq', 'humira', 'entyvio', 'skyrizi')\n",
      "('mesalamine', 'remicade', 'rinvoq', 'humira', 'skyrizi', 'entyvio')\n",
      "('mesalamine', 'remicade', 'rinvoq', 'entyvio', 'humira', 'skyrizi')\n",
      "('mesalamine', 'remicade', 'rinvoq', 'entyvio', 'skyrizi', 'humira')\n",
      "('mesalamine', 'remicade', 'rinvoq', 'skyrizi', 'humira', 'entyvio')\n",
      "('mesalamine', 'remicade', 'rinvoq', 'skyrizi', 'entyvio', 'humira')\n",
      "('mesalamine', 'humira', 'remicade', 'entyvio', 'skyrizi', 'rinvoq')\n",
      "('mesalamine', 'humira', 'remicade', 'entyvio', 'rinvoq', 'skyrizi')\n",
      "('mesalamine', 'humira', 'remicade', 'skyrizi', 'entyvio', 'rinvoq')\n",
      "('mesalamine', 'humira', 'remicade', 'skyrizi', 'rinvoq', 'entyvio')\n",
      "('mesalamine', 'humira', 'remicade', 'rinvoq', 'entyvio', 'skyrizi')\n",
      "('mesalamine', 'humira', 'remicade', 'rinvoq', 'skyrizi', 'entyvio')\n",
      "('mesalamine', 'humira', 'entyvio', 'remicade', 'skyrizi', 'rinvoq')\n",
      "('mesalamine', 'humira', 'entyvio', 'remicade', 'rinvoq', 'skyrizi')\n",
      "('mesalamine', 'humira', 'entyvio', 'skyrizi', 'remicade', 'rinvoq')\n",
      "('mesalamine', 'humira', 'entyvio', 'skyrizi', 'rinvoq', 'remicade')\n",
      "('mesalamine', 'humira', 'entyvio', 'rinvoq', 'remicade', 'skyrizi')\n",
      "('mesalamine', 'humira', 'entyvio', 'rinvoq', 'skyrizi', 'remicade')\n",
      "('mesalamine', 'humira', 'skyrizi', 'remicade', 'entyvio', 'rinvoq')\n",
      "('mesalamine', 'humira', 'skyrizi', 'remicade', 'rinvoq', 'entyvio')\n",
      "('mesalamine', 'humira', 'skyrizi', 'entyvio', 'remicade', 'rinvoq')\n",
      "('mesalamine', 'humira', 'skyrizi', 'entyvio', 'rinvoq', 'remicade')\n",
      "('mesalamine', 'humira', 'skyrizi', 'rinvoq', 'remicade', 'entyvio')\n",
      "('mesalamine', 'humira', 'skyrizi', 'rinvoq', 'entyvio', 'remicade')\n",
      "('mesalamine', 'humira', 'rinvoq', 'remicade', 'entyvio', 'skyrizi')\n",
      "('mesalamine', 'humira', 'rinvoq', 'remicade', 'skyrizi', 'entyvio')\n",
      "('mesalamine', 'humira', 'rinvoq', 'entyvio', 'remicade', 'skyrizi')\n",
      "('mesalamine', 'humira', 'rinvoq', 'entyvio', 'skyrizi', 'remicade')\n",
      "('mesalamine', 'humira', 'rinvoq', 'skyrizi', 'remicade', 'entyvio')\n",
      "('mesalamine', 'humira', 'rinvoq', 'skyrizi', 'entyvio', 'remicade')\n",
      "('mesalamine', 'entyvio', 'remicade', 'humira', 'skyrizi', 'rinvoq')\n",
      "('mesalamine', 'entyvio', 'remicade', 'humira', 'rinvoq', 'skyrizi')\n",
      "('mesalamine', 'entyvio', 'remicade', 'skyrizi', 'humira', 'rinvoq')\n"
     ]
    }
   ],
   "source": [
    "for i in range(51):\n",
    "    print(define_treatments()[i])"
   ]
  },
  {
   "cell_type": "markdown",
   "metadata": {},
   "source": [
    "### Model Creation"
   ]
  },
  {
   "cell_type": "markdown",
   "metadata": {},
   "source": [
    "- #1 incorporates treatment burden"
   ]
  },
  {
   "cell_type": "code",
   "execution_count": 79,
   "metadata": {},
   "outputs": [],
   "source": [
    "# def simulate_model(x, t, params, treatment_order):\n",
    "#     '''\n",
    "#     Simulates a linear compartmental model for the progression of\n",
    "#     patients through a treatment option.\n",
    "#     Takes the following arguments:\n",
    "#         x: a list of the initial values of the compartments\n",
    "#         t: a list of time points to evaluate the model at\n",
    "#         params: a dictionary of the parameters for the model\n",
    "#     Returns a list of the values of the compartments at each time point.\n",
    "#     '''\n",
    "#     # Unpack the parameter rates\n",
    "#     healthy_rate = 1/0.009706\n",
    "#     rates = {treatment: 1/params[treatment] for treatment in treatment_order}\n",
    "#     failure_rate = 1\n",
    "\n",
    "#    # Unpack the initial values\n",
    "#     num_patients = {treatment: x[i] for i, treatment in enumerate(treatment_order)}\n",
    "#     num_failure = x[-3]\n",
    "#     treatment_dalys = x[-2]\n",
    "#     failure_dalys = x[-1]\n",
    "\n",
    "#     dx = np.zeros(len(x))\n",
    "#     dx[0] = -healthy_rate * num_patients[treatment_order[0]]\n",
    "#     for i, treatment in enumerate(treatment_order):\n",
    "#         if i == 0:\n",
    "#             dx[i] = -rates[treatment] * num_patients[treatment]\n",
    "#         else:\n",
    "#             dx[i] = rates[treatment_order[i-1]] * num_patients[treatment_order[i-1]] - rates[treatment] * num_patients[treatment]\n",
    "#     dx[-4] = rates[treatment_order[-1]] * num_patients[treatment_order[-1]]\n",
    "#     dx[-3] = failure_rate * num_patients[treatment_order[-1]]\n",
    "\n",
    "#     # Update the DALYs\n",
    "#     treatment_daly_rate = 0.231  # DALYs per patient per year for treatment\n",
    "#     failure_daly_rate = 0.095  # DALYs per patient per year for failure\n",
    "#     dx[-2] = sum(treatment_daly_rate * num_patients[treatment] for treatment in treatment_order)\n",
    "#     dx[-1] = failure_daly_rate * num_failure\n",
    "\n",
    "#     return dx"
   ]
  },
  {
   "cell_type": "markdown",
   "metadata": {},
   "source": [
    "- #2 does not incorporate burden"
   ]
  },
  {
   "cell_type": "code",
   "execution_count": 80,
   "metadata": {},
   "outputs": [],
   "source": [
    "def simulate_model(x, t, params, treatment_order):\n",
    "    '''\n",
    "    Simulates a linear compartmental model for the progression of\n",
    "    patients through a treatment option.\n",
    "    Takes the following arguments:\n",
    "        x: a list of the initial values of the compartments\n",
    "        t: a list of time points to evaluate the model at\n",
    "        params: a dictionary of the parameters for the model\n",
    "    Returns a list of the values of the compartments at each time point.\n",
    "    '''\n",
    "    # Unpack the parameter rates\n",
    "    healthy_rate = 1/0.009706\n",
    "    rates = {treatment: 1/params[treatment] for treatment in treatment_order}\n",
    "    failure_rate = 1\n",
    "\n",
    "    # Unpack the initial values\n",
    "    num_patients = {treatment: x[i] for i, treatment in enumerate(treatment_order)}\n",
    "    num_failure = x[-1]\n",
    "\n",
    "    dx = np.zeros(len(x))\n",
    "    dx[0] = -healthy_rate * num_patients[treatment_order[0]]\n",
    "    for i, treatment in enumerate(treatment_order):\n",
    "        if i == 0:\n",
    "            dx[i] = -rates[treatment] * num_patients[treatment]\n",
    "        else:\n",
    "            dx[i] = rates[treatment_order[i-1]] * num_patients[treatment_order[i-1]] - rates[treatment] * num_patients[treatment]\n",
    "    dx[-2] = rates[treatment_order[-1]] * num_patients[treatment_order[-1]]\n",
    "    dx[-1] = failure_rate * num_patients[treatment_order[-1]]\n",
    "\n",
    "    return dx\n"
   ]
  },
  {
   "cell_type": "code",
   "execution_count": 81,
   "metadata": {},
   "outputs": [],
   "source": [
    "# Initial values\n",
    "num_healthy = 340000000 # 340 million people in the US\n",
    "num_mesalamine = 1011000 # 1.011 million people in the US with Crohn's Disease\n",
    "\n",
    "# Initial state values\n",
    "# x0 = [num_healthy, num_mesalamine, 0, 0, 0, 0, 0, 0, 0, 0] # burden\n",
    "x0 = [num_healthy, num_mesalamine, 0, 0, 0, 0, 0, 0] # no burden\n",
    "\n",
    "# Time = 25 years\n",
    "t0 = 1\n",
    "tf = 26\n",
    "dt = 1\n",
    "\n",
    "# Model\n",
    "t = np.arange(t0, tf, dt)"
   ]
  },
  {
   "cell_type": "code",
   "execution_count": 82,
   "metadata": {},
   "outputs": [
    {
     "name": "stdout",
     "output_type": "stream",
     "text": [
      "{0: ('mesalamine', 'remicade', 'humira', 'entyvio', 'skyrizi', 'rinvoq'), 1: ('mesalamine', 'remicade', 'humira', 'entyvio', 'rinvoq', 'skyrizi'), 2: ('mesalamine', 'remicade', 'humira', 'skyrizi', 'entyvio', 'rinvoq'), 3: ('mesalamine', 'remicade', 'humira', 'skyrizi', 'rinvoq', 'entyvio'), 4: ('mesalamine', 'remicade', 'humira', 'rinvoq', 'entyvio', 'skyrizi'), 5: ('mesalamine', 'remicade', 'humira', 'rinvoq', 'skyrizi', 'entyvio'), 6: ('mesalamine', 'remicade', 'entyvio', 'humira', 'skyrizi', 'rinvoq'), 7: ('mesalamine', 'remicade', 'entyvio', 'humira', 'rinvoq', 'skyrizi'), 8: ('mesalamine', 'remicade', 'entyvio', 'skyrizi', 'humira', 'rinvoq'), 9: ('mesalamine', 'remicade', 'entyvio', 'skyrizi', 'rinvoq', 'humira'), 10: ('mesalamine', 'remicade', 'entyvio', 'rinvoq', 'humira', 'skyrizi'), 11: ('mesalamine', 'remicade', 'entyvio', 'rinvoq', 'skyrizi', 'humira'), 12: ('mesalamine', 'remicade', 'skyrizi', 'humira', 'entyvio', 'rinvoq'), 13: ('mesalamine', 'remicade', 'skyrizi', 'humira', 'rinvoq', 'entyvio'), 14: ('mesalamine', 'remicade', 'skyrizi', 'entyvio', 'humira', 'rinvoq'), 15: ('mesalamine', 'remicade', 'skyrizi', 'entyvio', 'rinvoq', 'humira'), 16: ('mesalamine', 'remicade', 'skyrizi', 'rinvoq', 'humira', 'entyvio'), 17: ('mesalamine', 'remicade', 'skyrizi', 'rinvoq', 'entyvio', 'humira'), 18: ('mesalamine', 'remicade', 'rinvoq', 'humira', 'entyvio', 'skyrizi'), 19: ('mesalamine', 'remicade', 'rinvoq', 'humira', 'skyrizi', 'entyvio'), 20: ('mesalamine', 'remicade', 'rinvoq', 'entyvio', 'humira', 'skyrizi'), 21: ('mesalamine', 'remicade', 'rinvoq', 'entyvio', 'skyrizi', 'humira'), 22: ('mesalamine', 'remicade', 'rinvoq', 'skyrizi', 'humira', 'entyvio'), 23: ('mesalamine', 'remicade', 'rinvoq', 'skyrizi', 'entyvio', 'humira'), 24: ('mesalamine', 'humira', 'remicade', 'entyvio', 'skyrizi', 'rinvoq'), 25: ('mesalamine', 'humira', 'remicade', 'entyvio', 'rinvoq', 'skyrizi'), 26: ('mesalamine', 'humira', 'remicade', 'skyrizi', 'entyvio', 'rinvoq'), 27: ('mesalamine', 'humira', 'remicade', 'skyrizi', 'rinvoq', 'entyvio'), 28: ('mesalamine', 'humira', 'remicade', 'rinvoq', 'entyvio', 'skyrizi'), 29: ('mesalamine', 'humira', 'remicade', 'rinvoq', 'skyrizi', 'entyvio'), 30: ('mesalamine', 'humira', 'entyvio', 'remicade', 'skyrizi', 'rinvoq'), 31: ('mesalamine', 'humira', 'entyvio', 'remicade', 'rinvoq', 'skyrizi'), 32: ('mesalamine', 'humira', 'entyvio', 'skyrizi', 'remicade', 'rinvoq'), 33: ('mesalamine', 'humira', 'entyvio', 'skyrizi', 'rinvoq', 'remicade'), 34: ('mesalamine', 'humira', 'entyvio', 'rinvoq', 'remicade', 'skyrizi'), 35: ('mesalamine', 'humira', 'entyvio', 'rinvoq', 'skyrizi', 'remicade'), 36: ('mesalamine', 'humira', 'skyrizi', 'remicade', 'entyvio', 'rinvoq'), 37: ('mesalamine', 'humira', 'skyrizi', 'remicade', 'rinvoq', 'entyvio'), 38: ('mesalamine', 'humira', 'skyrizi', 'entyvio', 'remicade', 'rinvoq'), 39: ('mesalamine', 'humira', 'skyrizi', 'entyvio', 'rinvoq', 'remicade'), 40: ('mesalamine', 'humira', 'skyrizi', 'rinvoq', 'remicade', 'entyvio'), 41: ('mesalamine', 'humira', 'skyrizi', 'rinvoq', 'entyvio', 'remicade'), 42: ('mesalamine', 'humira', 'rinvoq', 'remicade', 'entyvio', 'skyrizi'), 43: ('mesalamine', 'humira', 'rinvoq', 'remicade', 'skyrizi', 'entyvio'), 44: ('mesalamine', 'humira', 'rinvoq', 'entyvio', 'remicade', 'skyrizi'), 45: ('mesalamine', 'humira', 'rinvoq', 'entyvio', 'skyrizi', 'remicade'), 46: ('mesalamine', 'humira', 'rinvoq', 'skyrizi', 'remicade', 'entyvio'), 47: ('mesalamine', 'humira', 'rinvoq', 'skyrizi', 'entyvio', 'remicade'), 48: ('mesalamine', 'entyvio', 'remicade', 'humira', 'skyrizi', 'rinvoq'), 49: ('mesalamine', 'entyvio', 'remicade', 'humira', 'rinvoq', 'skyrizi'), 50: ('mesalamine', 'entyvio', 'remicade', 'skyrizi', 'humira', 'rinvoq')}\n"
     ]
    }
   ],
   "source": [
    "treatments = define_treatments()\n",
    "print(treatments)"
   ]
  },
  {
   "cell_type": "code",
   "execution_count": 83,
   "metadata": {},
   "outputs": [
    {
     "name": "stdout",
     "output_type": "stream",
     "text": [
      "[-5666666.66666667  5649816.66666667    16850.                0.\n",
      "        0.                0.                0.                0.        ]\n"
     ]
    }
   ],
   "source": [
    "dx = simulate_model(x0, t, treatment_failure_rates, treatments[0])\n",
    "print(dx)\n",
    "x = sp.integrate.odeint(simulate_model, x0, t, args=(treatment_failure_rates, treatments[0]),)"
   ]
  },
  {
   "cell_type": "markdown",
   "metadata": {},
   "source": [
    "Show the results of one treatment plan over 25 years"
   ]
  },
  {
   "cell_type": "code",
   "execution_count": 84,
   "metadata": {},
   "outputs": [
    {
     "data": {
      "text/html": [
       "<div>\n",
       "<style scoped>\n",
       "    .dataframe tbody tr th:only-of-type {\n",
       "        vertical-align: middle;\n",
       "    }\n",
       "\n",
       "    .dataframe tbody tr th {\n",
       "        vertical-align: top;\n",
       "    }\n",
       "\n",
       "    .dataframe thead th {\n",
       "        text-align: right;\n",
       "    }\n",
       "</style>\n",
       "<table border=\"1\" class=\"dataframe\">\n",
       "  <thead>\n",
       "    <tr style=\"text-align: right;\">\n",
       "      <th></th>\n",
       "      <th>healthy</th>\n",
       "      <th>mesalamine</th>\n",
       "      <th>remicade</th>\n",
       "      <th>humira</th>\n",
       "      <th>entyvio</th>\n",
       "      <th>skyrizi</th>\n",
       "      <th>rinvoq</th>\n",
       "      <th>failure</th>\n",
       "    </tr>\n",
       "    <tr>\n",
       "      <th>Year</th>\n",
       "      <th></th>\n",
       "      <th></th>\n",
       "      <th></th>\n",
       "      <th></th>\n",
       "      <th></th>\n",
       "      <th></th>\n",
       "      <th></th>\n",
       "      <th></th>\n",
       "    </tr>\n",
       "  </thead>\n",
       "  <tbody>\n",
       "    <tr>\n",
       "      <th>1</th>\n",
       "      <td>3.400000e+08</td>\n",
       "      <td>1.011000e+06</td>\n",
       "      <td>0.000000e+00</td>\n",
       "      <td>0.000000e+00</td>\n",
       "      <td>0.000000</td>\n",
       "      <td>0.000000</td>\n",
       "      <td>0.000000</td>\n",
       "      <td>0.000000</td>\n",
       "    </tr>\n",
       "    <tr>\n",
       "      <th>2</th>\n",
       "      <td>3.343803e+08</td>\n",
       "      <td>6.567295e+06</td>\n",
       "      <td>6.266802e+04</td>\n",
       "      <td>7.396847e+02</td>\n",
       "      <td>3.394507</td>\n",
       "      <td>0.061183</td>\n",
       "      <td>0.000130</td>\n",
       "      <td>0.011210</td>\n",
       "    </tr>\n",
       "    <tr>\n",
       "      <th>3</th>\n",
       "      <td>3.288535e+08</td>\n",
       "      <td>1.193964e+07</td>\n",
       "      <td>2.130575e+05</td>\n",
       "      <td>4.787350e+03</td>\n",
       "      <td>41.616511</td>\n",
       "      <td>1.453178</td>\n",
       "      <td>0.006033</td>\n",
       "      <td>0.518845</td>\n",
       "    </tr>\n",
       "    <tr>\n",
       "      <th>4</th>\n",
       "      <td>3.234180e+08</td>\n",
       "      <td>1.713259e+07</td>\n",
       "      <td>4.454888e+05</td>\n",
       "      <td>1.471799e+04</td>\n",
       "      <td>186.080236</td>\n",
       "      <td>9.617625</td>\n",
       "      <td>0.059246</td>\n",
       "      <td>5.095170</td>\n",
       "    </tr>\n",
       "    <tr>\n",
       "      <th>5</th>\n",
       "      <td>3.180724e+08</td>\n",
       "      <td>2.215062e+07</td>\n",
       "      <td>7.545311e+05</td>\n",
       "      <td>3.289191e+04</td>\n",
       "      <td>542.085258</td>\n",
       "      <td>37.120443</td>\n",
       "      <td>0.303414</td>\n",
       "      <td>26.093646</td>\n",
       "    </tr>\n",
       "    <tr>\n",
       "      <th>6</th>\n",
       "      <td>3.128151e+08</td>\n",
       "      <td>2.699809e+07</td>\n",
       "      <td>1.134993e+06</td>\n",
       "      <td>6.146585e+04</td>\n",
       "      <td>1242.824874</td>\n",
       "      <td>106.061276</td>\n",
       "      <td>1.081638</td>\n",
       "      <td>93.020854</td>\n",
       "    </tr>\n",
       "    <tr>\n",
       "      <th>7</th>\n",
       "      <td>3.076447e+08</td>\n",
       "      <td>3.167926e+07</td>\n",
       "      <td>1.581914e+06</td>\n",
       "      <td>1.024036e+05</td>\n",
       "      <td>2444.036404</td>\n",
       "      <td>249.997169</td>\n",
       "      <td>3.058955</td>\n",
       "      <td>263.070155</td>\n",
       "    </tr>\n",
       "    <tr>\n",
       "      <th>8</th>\n",
       "      <td>3.025598e+08</td>\n",
       "      <td>3.619831e+07</td>\n",
       "      <td>2.090556e+06</td>\n",
       "      <td>1.574863e+05</td>\n",
       "      <td>4319.235981</td>\n",
       "      <td>515.435638</td>\n",
       "      <td>7.364644</td>\n",
       "      <td>633.359354</td>\n",
       "    </tr>\n",
       "    <tr>\n",
       "      <th>9</th>\n",
       "      <td>2.975589e+08</td>\n",
       "      <td>4.055932e+07</td>\n",
       "      <td>2.656391e+06</td>\n",
       "      <td>2.283219e+05</td>\n",
       "      <td>7055.485130</td>\n",
       "      <td>962.947175</td>\n",
       "      <td>15.749618</td>\n",
       "      <td>1354.467174</td>\n",
       "    </tr>\n",
       "    <tr>\n",
       "      <th>10</th>\n",
       "      <td>2.926407e+08</td>\n",
       "      <td>4.476628e+07</td>\n",
       "      <td>3.275102e+06</td>\n",
       "      <td>3.163551e+05</td>\n",
       "      <td>10849.640831</td>\n",
       "      <td>1667.942596</td>\n",
       "      <td>30.754780</td>\n",
       "      <td>2644.911063</td>\n",
       "    </tr>\n",
       "    <tr>\n",
       "      <th>11</th>\n",
       "      <td>2.878038e+08</td>\n",
       "      <td>4.882309e+07</td>\n",
       "      <td>3.942565e+06</td>\n",
       "      <td>4.228757e+05</td>\n",
       "      <td>15905.044787</td>\n",
       "      <td>2721.156363</td>\n",
       "      <td>55.886652</td>\n",
       "      <td>4806.252073</td>\n",
       "    </tr>\n",
       "    <tr>\n",
       "      <th>12</th>\n",
       "      <td>2.830468e+08</td>\n",
       "      <td>5.273356e+07</td>\n",
       "      <td>4.654848e+06</td>\n",
       "      <td>5.490273e+05</td>\n",
       "      <td>22428.611306</td>\n",
       "      <td>4228.873122</td>\n",
       "      <td>95.797113</td>\n",
       "      <td>8238.551715</td>\n",
       "    </tr>\n",
       "    <tr>\n",
       "      <th>13</th>\n",
       "      <td>2.783685e+08</td>\n",
       "      <td>5.650143e+07</td>\n",
       "      <td>5.408202e+06</td>\n",
       "      <td>6.958159e+05</td>\n",
       "      <td>30628.276639</td>\n",
       "      <td>6312.931100</td>\n",
       "      <td>156.464432</td>\n",
       "      <td>13455.941127</td>\n",
       "    </tr>\n",
       "    <tr>\n",
       "      <th>14</th>\n",
       "      <td>2.737674e+08</td>\n",
       "      <td>6.013033e+07</td>\n",
       "      <td>6.199054e+06</td>\n",
       "      <td>8.641171e+05</td>\n",
       "      <td>40710.775726</td>\n",
       "      <td>9110.532781</td>\n",
       "      <td>245.373196</td>\n",
       "      <td>21102.094865</td>\n",
       "    </tr>\n",
       "    <tr>\n",
       "      <th>15</th>\n",
       "      <td>2.692425e+08</td>\n",
       "      <td>6.362384e+07</td>\n",
       "      <td>7.023999e+06</td>\n",
       "      <td>1.054684e+06</td>\n",
       "      <td>52879.715187</td>\n",
       "      <td>12773.890258</td>\n",
       "      <td>371.691053</td>\n",
       "      <td>31965.430540</td>\n",
       "    </tr>\n",
       "    <tr>\n",
       "      <th>16</th>\n",
       "      <td>2.647923e+08</td>\n",
       "      <td>6.698543e+07</td>\n",
       "      <td>7.879795e+06</td>\n",
       "      <td>1.268155e+06</td>\n",
       "      <td>67333.914052</td>\n",
       "      <td>17469.729944</td>\n",
       "      <td>546.440483</td>\n",
       "      <td>46993.881548</td>\n",
       "    </tr>\n",
       "    <tr>\n",
       "      <th>17</th>\n",
       "      <td>2.604156e+08</td>\n",
       "      <td>7.021852e+07</td>\n",
       "      <td>8.763356e+06</td>\n",
       "      <td>1.505059e+06</td>\n",
       "      <td>84265.986150</td>\n",
       "      <td>23378.678856</td>\n",
       "      <td>782.664111</td>\n",
       "      <td>67309.113537</td>\n",
       "    </tr>\n",
       "    <tr>\n",
       "      <th>18</th>\n",
       "      <td>2.561113e+08</td>\n",
       "      <td>7.332644e+07</td>\n",
       "      <td>9.671748e+06</td>\n",
       "      <td>1.765822e+06</td>\n",
       "      <td>103861.140293</td>\n",
       "      <td>30694.552370</td>\n",
       "      <td>1095.582283</td>\n",
       "      <td>94220.076324</td>\n",
       "    </tr>\n",
       "    <tr>\n",
       "      <th>19</th>\n",
       "      <td>2.518782e+08</td>\n",
       "      <td>7.631243e+07</td>\n",
       "      <td>1.060218e+07</td>\n",
       "      <td>2.050777e+06</td>\n",
       "      <td>126296.176490</td>\n",
       "      <td>39623.561310</td>\n",
       "      <td>1502.741882</td>\n",
       "      <td>129235.801830</td>\n",
       "    </tr>\n",
       "    <tr>\n",
       "      <th>20</th>\n",
       "      <td>2.477150e+08</td>\n",
       "      <td>7.917968e+07</td>\n",
       "      <td>1.155200e+07</td>\n",
       "      <td>2.360165e+06</td>\n",
       "      <td>151738.658263</td>\n",
       "      <td>50383.454334</td>\n",
       "      <td>2024.155529</td>\n",
       "      <td>174077.375490</td>\n",
       "    </tr>\n",
       "    <tr>\n",
       "      <th>21</th>\n",
       "      <td>2.436206e+08</td>\n",
       "      <td>8.193130e+07</td>\n",
       "      <td>1.251868e+07</td>\n",
       "      <td>2.694144e+06</td>\n",
       "      <td>180346.242904</td>\n",
       "      <td>63202.609831</td>\n",
       "      <td>2682.430508</td>\n",
       "      <td>230689.023697</td>\n",
       "    </tr>\n",
       "    <tr>\n",
       "      <th>22</th>\n",
       "      <td>2.395940e+08</td>\n",
       "      <td>8.457032e+07</td>\n",
       "      <td>1.349985e+07</td>\n",
       "      <td>3.052792e+06</td>\n",
       "      <td>212266.153089</td>\n",
       "      <td>78319.090027</td>\n",
       "      <td>3502.886898</td>\n",
       "      <td>301248.273245</td>\n",
       "    </tr>\n",
       "    <tr>\n",
       "      <th>23</th>\n",
       "      <td>2.356338e+08</td>\n",
       "      <td>8.709973e+07</td>\n",
       "      <td>1.449322e+07</td>\n",
       "      <td>3.436115e+06</td>\n",
       "      <td>247634.774725</td>\n",
       "      <td>95979.668513</td>\n",
       "      <td>4513.664543</td>\n",
       "      <td>388175.150709</td>\n",
       "    </tr>\n",
       "    <tr>\n",
       "      <th>24</th>\n",
       "      <td>2.317391e+08</td>\n",
       "      <td>8.952241e+07</td>\n",
       "      <td>1.549665e+07</td>\n",
       "      <td>3.844049e+06</td>\n",
       "      <td>286577.367254</td>\n",
       "      <td>116438.841156</td>\n",
       "      <td>5745.818608</td>\n",
       "      <td>494140.400286</td>\n",
       "    </tr>\n",
       "    <tr>\n",
       "      <th>25</th>\n",
       "      <td>2.279088e+08</td>\n",
       "      <td>9.184122e+07</td>\n",
       "      <td>1.650810e+07</td>\n",
       "      <td>4.276468e+06</td>\n",
       "      <td>329207.873860</td>\n",
       "      <td>139957.829160</td>\n",
       "      <td>7233.403580</td>\n",
       "      <td>622072.707893</td>\n",
       "    </tr>\n",
       "  </tbody>\n",
       "</table>\n",
       "</div>"
      ],
      "text/plain": [
       "           healthy    mesalamine      remicade        humira        entyvio        skyrizi       rinvoq        failure\n",
       "Year                                                                                                                  \n",
       "1     3.400000e+08  1.011000e+06  0.000000e+00  0.000000e+00       0.000000       0.000000     0.000000       0.000000\n",
       "2     3.343803e+08  6.567295e+06  6.266802e+04  7.396847e+02       3.394507       0.061183     0.000130       0.011210\n",
       "3     3.288535e+08  1.193964e+07  2.130575e+05  4.787350e+03      41.616511       1.453178     0.006033       0.518845\n",
       "4     3.234180e+08  1.713259e+07  4.454888e+05  1.471799e+04     186.080236       9.617625     0.059246       5.095170\n",
       "5     3.180724e+08  2.215062e+07  7.545311e+05  3.289191e+04     542.085258      37.120443     0.303414      26.093646\n",
       "6     3.128151e+08  2.699809e+07  1.134993e+06  6.146585e+04    1242.824874     106.061276     1.081638      93.020854\n",
       "7     3.076447e+08  3.167926e+07  1.581914e+06  1.024036e+05    2444.036404     249.997169     3.058955     263.070155\n",
       "8     3.025598e+08  3.619831e+07  2.090556e+06  1.574863e+05    4319.235981     515.435638     7.364644     633.359354\n",
       "9     2.975589e+08  4.055932e+07  2.656391e+06  2.283219e+05    7055.485130     962.947175    15.749618    1354.467174\n",
       "10    2.926407e+08  4.476628e+07  3.275102e+06  3.163551e+05   10849.640831    1667.942596    30.754780    2644.911063\n",
       "11    2.878038e+08  4.882309e+07  3.942565e+06  4.228757e+05   15905.044787    2721.156363    55.886652    4806.252073\n",
       "12    2.830468e+08  5.273356e+07  4.654848e+06  5.490273e+05   22428.611306    4228.873122    95.797113    8238.551715\n",
       "13    2.783685e+08  5.650143e+07  5.408202e+06  6.958159e+05   30628.276639    6312.931100   156.464432   13455.941127\n",
       "14    2.737674e+08  6.013033e+07  6.199054e+06  8.641171e+05   40710.775726    9110.532781   245.373196   21102.094865\n",
       "15    2.692425e+08  6.362384e+07  7.023999e+06  1.054684e+06   52879.715187   12773.890258   371.691053   31965.430540\n",
       "16    2.647923e+08  6.698543e+07  7.879795e+06  1.268155e+06   67333.914052   17469.729944   546.440483   46993.881548\n",
       "17    2.604156e+08  7.021852e+07  8.763356e+06  1.505059e+06   84265.986150   23378.678856   782.664111   67309.113537\n",
       "18    2.561113e+08  7.332644e+07  9.671748e+06  1.765822e+06  103861.140293   30694.552370  1095.582283   94220.076324\n",
       "19    2.518782e+08  7.631243e+07  1.060218e+07  2.050777e+06  126296.176490   39623.561310  1502.741882  129235.801830\n",
       "20    2.477150e+08  7.917968e+07  1.155200e+07  2.360165e+06  151738.658263   50383.454334  2024.155529  174077.375490\n",
       "21    2.436206e+08  8.193130e+07  1.251868e+07  2.694144e+06  180346.242904   63202.609831  2682.430508  230689.023697\n",
       "22    2.395940e+08  8.457032e+07  1.349985e+07  3.052792e+06  212266.153089   78319.090027  3502.886898  301248.273245\n",
       "23    2.356338e+08  8.709973e+07  1.449322e+07  3.436115e+06  247634.774725   95979.668513  4513.664543  388175.150709\n",
       "24    2.317391e+08  8.952241e+07  1.549665e+07  3.844049e+06  286577.367254  116438.841156  5745.818608  494140.400286\n",
       "25    2.279088e+08  9.184122e+07  1.650810e+07  4.276468e+06  329207.873860  139957.829160  7233.403580  622072.707893"
      ]
     },
     "execution_count": 84,
     "metadata": {},
     "output_type": "execute_result"
    }
   ],
   "source": [
    "# df = pd.DataFrame(x, columns=['healthy', 'mesalamine', 'remicade', 'humira', 'entyvio', 'skyrizi', 'rinvoq', 'failure', 'treatment_burden', 'failure_burden'])\n",
    "df = pd.DataFrame(x, columns=['healthy', 'mesalamine', 'remicade', 'humira', 'entyvio', 'skyrizi', 'rinvoq', 'failure'])\n",
    "df['Year'] = t\n",
    "# df = df[['Year', 'healthy', 'mesalamine', 'remicade', 'humira', 'entyvio', 'skyrizi', 'rinvoq', 'failure', 'treatment_burden', 'failure_burden']]\n",
    "df = df[['Year', 'healthy', 'mesalamine', 'remicade', 'humira', 'entyvio', 'skyrizi', 'rinvoq', 'failure']]\n",
    "df.set_index('Year', inplace=True)\n",
    "df.tail(25)"
   ]
  },
  {
   "cell_type": "code",
   "execution_count": 85,
   "metadata": {},
   "outputs": [],
   "source": [
    "# plotting_df = df[['treatment_burden', 'failure_burden']]\n",
    "\n",
    "# # Filter the DataFrame to only include rows where the year is 50\n",
    "# plotting_df_25 = plotting_df.loc[25]\n",
    "\n",
    "# # Convert the series to a DataFrame and transpose it for plotting\n",
    "# plotting_df_25 = plotting_df_25.to_frame().reset_index()\n",
    "\n",
    "# # Rename the columns for plotting\n",
    "# plotting_df_25.columns = ['Burden Type', 'DALYs']\n",
    "\n",
    "# # Create a subplot with 1 row and 2 columns\n",
    "# fig = make_subplots(rows=1, cols=2)\n",
    "\n",
    "# # Add the first bar plot to the subplot for treatment_burden\n",
    "# fig.add_trace(\n",
    "#     go.Bar(x=plotting_df_25[plotting_df_25['Burden Type'] == 'treatment_burden']['Burden Type'],\n",
    "#            y=plotting_df_25[plotting_df_25['Burden Type'] == 'treatment_burden']['DALYs'],\n",
    "#            text=plotting_df_25[plotting_df_25['Burden Type'] == 'treatment_burden']['DALYs'],\n",
    "#            textposition='auto',\n",
    "#            name='Treatment Burden', marker_color=px.colors.qualitative.Plotly, showlegend=False),\n",
    "#     row=1, col=1\n",
    "# )\n",
    "\n",
    "# # Add the second bar plot to the subplot for failure_burden\n",
    "# fig.add_trace(\n",
    "#     go.Bar(x=plotting_df_25[plotting_df_25['Burden Type'] == 'failure_burden']['Burden Type'],\n",
    "#            y=plotting_df_25[plotting_df_25['Burden Type'] == 'failure_burden']['DALYs'],\n",
    "#            text=plotting_df_25[plotting_df_25['Burden Type'] == 'failure_burden']['DALYs'],\n",
    "#            textposition='auto',\n",
    "#            name='Failure Burden', marker_color=px.colors.qualitative.Pastel, showlegend=False),\n",
    "#     row=1, col=2\n",
    "# )\n",
    "\n",
    "# # Update layout\n",
    "# fig.update_layout(title_text=\"Cumulative DALYs Lost in Year 25\", barmode='group')\n",
    "\n",
    "# # Set y-axis limits\n",
    "# fig.update_yaxes(range=[0, 2000000000], row=1, col=1, title_text='Cumulative DALYs')\n",
    "# fig.update_yaxes(range=[0, 2000000], row=1, col=2)\n",
    "# fig.update_xaxes(title_text='Treatment', row=1, col=1)\n",
    "# fig.update_xaxes(title_text='Failure', row=1, col=2)\n",
    "\n",
    "# fig.show()"
   ]
  },
  {
   "cell_type": "code",
   "execution_count": 86,
   "metadata": {},
   "outputs": [],
   "source": [
    "# # plotting_df = df.drop(columns=['healthy'])\n",
    "# plotting_df = df.drop(columns=['healthy', 'failure_burden', 'treatment_burden'])\n",
    "# fig = px.line(plotting_df, x=plotting_df.index, y=plotting_df.columns, title='Treatment Progression')\n",
    "# fig.show()"
   ]
  },
  {
   "cell_type": "code",
   "execution_count": 87,
   "metadata": {},
   "outputs": [],
   "source": [
    "# bar = px.bar(plotting_df, x=plotting_df.index, y=plotting_df.columns, title='Treatment Progression')\n",
    "# bar.show()"
   ]
  },
  {
   "cell_type": "code",
   "execution_count": 88,
   "metadata": {},
   "outputs": [],
   "source": [
    "failure_df = df[['failure']]\n",
    "final_bar = px.bar(failure_df, x=failure_df.index, y=failure_df.columns, title='Failure Rate')\n",
    "# final_bar.show()"
   ]
  },
  {
   "cell_type": "markdown",
   "metadata": {},
   "source": [
    "## Run Model with different permutations"
   ]
  },
  {
   "cell_type": "markdown",
   "metadata": {},
   "source": [
    "Model for 25 permutations of treatment plan"
   ]
  },
  {
   "cell_type": "code",
   "execution_count": 89,
   "metadata": {},
   "outputs": [],
   "source": [
    "results = {}\n",
    "total_people = sum(x0)\n",
    "for i in range(51):\n",
    "    for treatment_key, treatment_value in treatments.items():\n",
    "        x = sp.integrate.odeint(simulate_model, x0, t, args=(treatment_failure_rates, treatment_value),)\n",
    "        df = pd.DataFrame(x, columns=['healthy', 'mesalamine', 'remicade', 'humira', 'entyvio', 'skyrizi', 'rinvoq', 'failure'])\n",
    "        df['failure_rate'] = df['failure'] / total_people\n",
    "        df['Year'] = t\n",
    "        df = df[['Year', 'healthy', 'mesalamine', 'remicade', 'humira', 'entyvio', 'skyrizi', 'rinvoq', 'failure', 'failure_rate']]\n",
    "        df.set_index('Year', inplace=True)\n",
    "        results[treatment_key] = df"
   ]
  },
  {
   "cell_type": "code",
   "execution_count": 90,
   "metadata": {},
   "outputs": [
    {
     "name": "stdout",
     "output_type": "stream",
     "text": [
      "{0:            healthy    mesalamine      remicade        humira        entyvio        skyrizi       rinvoq        failure  failure_rate\n",
      "Year                                                                                                                                \n",
      "1     3.400000e+08  1.011000e+06  0.000000e+00  0.000000e+00       0.000000       0.000000     0.000000       0.000000  0.000000e+00\n",
      "2     3.343803e+08  6.567295e+06  6.266802e+04  7.396847e+02       3.394507       0.061183     0.000130       0.011210  3.287333e-11\n",
      "3     3.288535e+08  1.193964e+07  2.130575e+05  4.787350e+03      41.616511       1.453178     0.006033       0.518845  1.521490e-09\n",
      "4     3.234180e+08  1.713259e+07  4.454888e+05  1.471799e+04     186.080236       9.617625     0.059246       5.095170  1.494136e-08\n",
      "5     3.180724e+08  2.215062e+07  7.545311e+05  3.289191e+04     542.085258      37.120443     0.303414      26.093646  7.651849e-08\n",
      "6     3.128151e+08  2.699809e+07  1.134993e+06  6.146585e+04    1242.824874     106.061276     1.081638      93.020854  2.727796e-07\n",
      "7     3.076447e+08  3.167926e+07  1.581914e+06  1.024036e+05    2444.036404     249.997169     3.058955     263.070155  7.714418e-07\n",
      "8     3.025598e+08  3.619831e+07  2.090556e+06  1.574863e+05    4319.235981     515.435638     7.364644     633.359354  1.857299e-06\n",
      "9     2.975589e+08  4.055932e+07  2.656391e+06  2.283219e+05    7055.485130     962.947175    15.749618    1354.467174  3.971916e-06\n",
      "10    2.926407e+08  4.476628e+07  3.275102e+06  3.163551e+05   10849.640831    1667.942596    30.754780    2644.911063  7.756087e-06\n",
      "11    2.878038e+08  4.882309e+07  3.942565e+06  4.228757e+05   15905.044787    2721.156363    55.886652    4806.252073  1.409413e-05\n",
      "12    2.830468e+08  5.273356e+07  4.654848e+06  5.490273e+05   22428.611306    4228.873122    95.797113    8238.551715  2.415920e-05\n",
      "13    2.783685e+08  5.650143e+07  5.408202e+06  6.958159e+05   30628.276639    6312.931100   156.464432   13455.941127  3.945897e-05\n",
      "14    2.737674e+08  6.013033e+07  6.199054e+06  8.641171e+05   40710.775726    9110.532781   245.373196   21102.094865  6.188098e-05\n",
      "15    2.692425e+08  6.362384e+07  7.023999e+06  1.054684e+06   52879.715187   12773.890258   371.691053   31965.430540  9.373724e-05\n",
      "16    2.647923e+08  6.698543e+07  7.879795e+06  1.268155e+06   67333.914052   17469.729944   546.440483   46993.881548  1.378075e-04\n",
      "17    2.604156e+08  7.021852e+07  8.763356e+06  1.505059e+06   84265.986150   23378.678856   782.664111   67309.113537  1.973811e-04\n",
      "18    2.561113e+08  7.332644e+07  9.671748e+06  1.765822e+06  103861.140293   30694.552370  1095.582283   94220.076324  2.762963e-04\n",
      "19    2.518782e+08  7.631243e+07  1.060218e+07  2.050777e+06  126296.176490   39623.561310  1502.741882  129235.801830  3.789784e-04\n",
      "20    2.477150e+08  7.917968e+07  1.155200e+07  2.360165e+06  151738.658263   50383.454334  2024.155529  174077.375490  5.104744e-04\n",
      "21    2.436206e+08  8.193130e+07  1.251868e+07  2.694144e+06  180346.242904   63202.609831  2682.430508  230689.023697  6.764856e-04\n",
      "22    2.395940e+08  8.457032e+07  1.349985e+07  3.052792e+06  212266.153089   78319.090027  3502.886898  301248.273245  8.833975e-04\n",
      "23    2.356338e+08  8.709973e+07  1.449322e+07  3.436115e+06  247634.774725   95979.668513  4513.664543  388175.150709  1.138307e-03\n",
      "24    2.317391e+08  8.952241e+07  1.549665e+07  3.844049e+06  286577.367254  116438.841156  5745.818608  494140.400286  1.449045e-03\n",
      "25    2.279088e+08  9.184122e+07  1.650810e+07  4.276468e+06  329207.873860  139957.829160  7233.403580  622072.707893  1.824201e-03, 1:            healthy    mesalamine      remicade        humira        entyvio       skyrizi       rinvoq       failure  failure_rate\n",
      "Year                                                                                                                              \n",
      "1     3.400000e+08  1.011000e+06  0.000000e+00  0.000000e+00       0.000000      0.000000     0.000000      0.000000  0.000000e+00\n",
      "2     3.343803e+08  6.567295e+06  6.266802e+04  7.396847e+02       3.446939      0.008751     0.000130      0.001603  4.701639e-12\n",
      "3     3.288535e+08  1.193964e+07  2.130575e+05  4.787350e+03      42.861850      0.207838     0.006033      0.074207  2.176084e-10\n",
      "4     3.234180e+08  1.713259e+07  4.454888e+05  1.471799e+04     194.322317      1.375544     0.059246      0.728728  2.136963e-09\n",
      "5     3.180724e+08  2.215062e+07  7.545311e+05  3.289191e+04     573.896615      5.309087     0.303414      3.731998  1.094392e-08\n",
      "6     3.128151e+08  2.699809e+07  1.134993e+06  6.146585e+04    1333.716921     15.169229     1.081638     13.304145  3.901383e-08\n",
      "7     3.076447e+08  3.167926e+07  1.581914e+06  1.024036e+05    2658.278164     35.755409     3.058955     37.625150  1.103341e-07\n",
      "8     3.025598e+08  3.619831e+07  2.090556e+06  1.574863e+05    4760.952336     73.719283     7.364644     90.585117  2.656369e-07\n",
      "9     2.975589e+08  4.055932e+07  2.656391e+06  2.283219e+05    7880.708465    137.723840    15.749618    193.720305  5.680764e-07\n",
      "10    2.926407e+08  4.476628e+07  3.275102e+06  3.163551e+05   12279.028846    238.554581    30.754780    378.283792  1.109301e-06\n",
      "11    2.878038e+08  4.882309e+07  3.942565e+06  4.228757e+05   18237.012507    389.188643    55.886652    687.405820  2.015788e-06\n",
      "12    2.830468e+08  5.273356e+07  4.654848e+06  5.490273e+05   26052.657225    604.827202    95.797113   1178.304490  3.455327e-06\n",
      "13    2.783685e+08  5.650143e+07  5.408202e+06  6.958159e+05   36038.311780    902.895960   156.464432   1924.512510  5.643550e-06\n",
      "14    2.737674e+08  6.013033e+07  6.199054e+06  8.641171e+05   48518.290447   1303.018061   245.373196   3018.090311  8.850419e-06\n",
      "15    2.692425e+08  6.362384e+07  7.023999e+06  1.054684e+06   63826.642070   1826.963374   371.691053   4571.799948  1.340661e-05\n",
      "16    2.647923e+08  6.698543e+07  7.879795e+06  1.268155e+06   82305.066342   2498.577655   546.440483   6721.217941  1.970968e-05\n",
      "17    2.604156e+08  7.021852e+07  8.763356e+06  1.505059e+06  104300.970239   3343.694767   782.664111   9626.768563  2.823008e-05\n",
      "18    2.561113e+08  7.332644e+07  9.671748e+06  1.765822e+06  130165.657847   4390.034816  1095.582283  13475.662078  3.951680e-05\n",
      "19    2.518782e+08  7.631243e+07  1.060218e+07  2.050777e+06  160252.647054   5667.090746  1502.741882  18483.725144  5.420272e-05\n",
      "20    2.477150e+08  7.917968e+07  1.155200e+07  2.360165e+06  194916.106918   7206.005678  2024.155529  24897.113005  7.300971e-05\n",
      "21    2.436206e+08  8.193130e+07  1.251868e+07  2.694144e+06  234509.409701   9039.443034  2682.430508  32993.895249  9.675317e-05\n",
      "22    2.395940e+08  8.457032e+07  1.349985e+07  3.052792e+06  279383.791868  11201.451248  3502.886898  43085.508847  1.263464e-04\n",
      "23    2.356338e+08  8.709973e+07  1.449322e+07  3.436115e+06  329887.118555  13727.324683  4513.664543  55518.073880  1.628043e-04\n",
      "24    2.317391e+08  8.952241e+07  1.549665e+07  3.844049e+06  386362.746244  16653.462166  5745.818608  70673.568875  2.072472e-04\n",
      "25    2.279088e+08  9.184122e+07  1.650810e+07  4.276468e+06  449148.478616  20017.224404  7233.403580  88970.864028  2.609032e-04, 2:            healthy    mesalamine      remicade        humira       entyvio        skyrizi       rinvoq        failure  failure_rate\n",
      "Year                                                                                                                               \n",
      "1     3.400000e+08  1.011000e+06  0.000000e+00  0.000000e+00  0.000000e+00       0.000000     0.000000       0.000000  0.000000e+00\n",
      "2     3.343803e+08  6.567295e+06  6.266802e+04  7.265206e+02  1.655857e+01       0.061183     0.000130       0.011210  3.287328e-11\n",
      "3     3.288535e+08  1.193964e+07  2.130575e+05  4.625960e+03  2.030074e+02       1.453178     0.006033       0.518845  1.521490e-09\n",
      "4     3.234180e+08  1.713259e+07  4.454888e+05  1.399636e+04  9.077085e+02       9.617625     0.059246       5.095170  1.494136e-08\n",
      "5     3.180724e+08  2.215062e+07  7.545311e+05  3.078968e+04  2.644318e+03      37.120443     0.303414      26.093646  7.651849e-08\n",
      "6     3.128151e+08  2.699809e+07  1.134993e+06  5.664611e+04  6.062560e+03     106.061276     1.081638      93.020854  2.727796e-07\n",
      "7     3.076447e+08  3.167926e+07  1.581914e+06  9.292552e+04  1.192213e+04     249.997169     3.058955     263.070155  7.714418e-07\n",
      "8     3.025598e+08  3.619831e+07  2.090556e+06  1.407361e+05  2.106944e+04     515.435638     7.364644     633.359354  1.857299e-06\n",
      "9     2.975589e+08  4.055932e+07  2.656391e+06  2.009604e+05  3.441700e+04     962.947175    15.749618    1354.467174  3.971916e-06\n",
      "10    2.926407e+08  4.476628e+07  3.275102e+06  2.742797e+05  5.292508e+04    1667.942596    30.754780    2644.911063  7.756087e-06\n",
      "11    2.878038e+08  4.882309e+07  3.942565e+06  3.611951e+05  7.758558e+04    2721.156363    55.886652    4806.252073  1.409413e-05\n",
      "12    2.830468e+08  5.273356e+07  4.654848e+06  4.620481e+05  1.094079e+05    4228.873122    95.797113    8238.551715  2.415920e-05\n",
      "13    2.783685e+08  5.650143e+07  5.408202e+06  5.770379e+05  1.494062e+05    6312.931100   156.464432   13455.941127  3.945897e-05\n",
      "14    2.737674e+08  6.013033e+07  6.199054e+06  7.062387e+05  1.985891e+05    9110.532781   245.373196   21102.094866  6.188098e-05\n",
      "15    2.692425e+08  6.362384e+07  7.023999e+06  8.496141e+05  2.579498e+05   12773.890258   371.691053   31965.430541  9.373724e-05\n",
      "16    2.647923e+08  6.698543e+07  7.879795e+06  1.007031e+06  3.284581e+05   17469.729944   546.440483   46993.881548  1.378075e-04\n",
      "17    2.604156e+08  7.021852e+07  8.763356e+06  1.178271e+06  4.110536e+05   23378.678856   782.664111   67309.113537  1.973811e-04\n",
      "18    2.561113e+08  7.332644e+07  9.671748e+06  1.363044e+06  5.066397e+05   30694.552370  1095.582283   94220.076325  2.762963e-04\n",
      "19    2.518782e+08  7.631243e+07  1.060218e+07  1.560994e+06  6.160789e+05   39623.561310  1502.741882  129235.801830  3.789784e-04\n",
      "20    2.477150e+08  7.917968e+07  1.155200e+07  1.771715e+06  7.401886e+05   50383.454334  2024.155529  174077.375490  5.104744e-04\n",
      "21    2.436206e+08  8.193130e+07  1.251868e+07  1.994752e+06  8.797378e+05   63202.609831  2682.430508  230689.023697  6.764856e-04\n",
      "22    2.395940e+08  8.457032e+07  1.349985e+07  2.229613e+06  1.035445e+06   78319.090027  3502.886898  301248.273245  8.833975e-04\n",
      "23    2.356338e+08  8.709973e+07  1.449322e+07  2.475775e+06  1.207975e+06   95979.668513  4513.664543  388175.150709  1.138307e-03\n",
      "24    2.317391e+08  8.952241e+07  1.549665e+07  2.732688e+06  1.397938e+06  116438.841156  5745.818608  494140.400290  1.449045e-03\n",
      "25    2.279088e+08  9.184122e+07  1.650810e+07  2.999783e+06  1.605892e+06  139957.829160  7233.403580  622072.707895  1.824201e-03, 3:            healthy    mesalamine      remicade        humira       entyvio       skyrizi       rinvoq        failure  failure_rate\n",
      "Year                                                                                                                              \n",
      "1     3.400000e+08  1.011000e+06  0.000000e+00  0.000000e+00  0.000000e+00      0.000000     0.000000       0.000000  0.000000e+00\n",
      "2     3.343803e+08  6.567295e+06  6.266802e+04  7.265206e+02  1.657707e+01      0.042686     0.000130       0.007821  2.293485e-11\n",
      "3     3.288535e+08  1.193964e+07  2.130575e+05  4.625960e+03  2.034467e+02      1.013845     0.006033       0.361985  1.061505e-09\n",
      "4     3.234180e+08  1.713259e+07  4.454888e+05  1.399636e+04  9.106161e+02      6.709971     0.059246       3.554769  1.042421e-08\n",
      "5     3.180724e+08  2.215062e+07  7.545311e+05  3.078968e+04  2.655541e+03     25.897984     0.303414      18.204869  5.338499e-08\n",
      "6     3.128151e+08  2.699809e+07  1.134993e+06  5.664611e+04  6.094625e+03     73.996239     1.081638      64.898270  1.903114e-07\n",
      "7     3.076447e+08  3.167926e+07  1.581914e+06  9.292552e+04  1.199771e+04    174.416630     3.058955     183.537317  5.382152e-07\n",
      "8     3.025598e+08  3.619831e+07  2.090556e+06  1.407361e+05  2.122527e+04    359.606259     7.364644     441.878619  1.295790e-06\n",
      "9     2.975589e+08  4.055932e+07  2.656391e+06  2.009604e+05  3.470812e+04    671.823610    15.749618     944.977098  2.771104e-06\n",
      "10    2.926407e+08  4.476628e+07  3.275102e+06  2.742797e+05  5.342934e+04   1163.680881    30.754780    1845.286788  5.411224e-06\n",
      "11    2.878038e+08  4.882309e+07  3.942565e+06  3.611951e+05  7.840826e+04   1898.481184    55.886652    3353.199121  9.833111e-06\n",
      "12    2.830468e+08  5.273356e+07  4.654848e+06  4.620481e+05  1.106864e+05   2950.376597    95.797113    5747.826778  1.685525e-05\n",
      "13    2.783685e+08  5.650143e+07  5.408202e+06  5.770379e+05  1.513148e+05   4404.370535   156.464432    9387.865902  2.752951e-05\n",
      "14    2.737674e+08  6.013033e+07  6.199054e+06  7.062387e+05  2.013435e+05   6356.185662   245.373196   14722.391765  4.317278e-05\n",
      "15    2.692425e+08  6.362384e+07  7.023999e+06  8.496141e+05  2.618117e+05   8912.016459   371.691053   22301.463166  6.539808e-05\n",
      "16    2.647923e+08  6.698543e+07  7.879795e+06  1.007031e+06  3.337397e+05  12188.183682   546.440483   32786.428986  9.614478e-05\n",
      "17    2.604156e+08  7.021852e+07  8.763356e+06  1.178271e+06  4.181216e+05  16310.706179   782.664111   46959.846653  1.377077e-04\n",
      "18    2.561113e+08  7.332644e+07  9.671748e+06  1.363044e+06  5.159195e+05  21414.803979  1095.582283   65734.936970  1.927649e-04\n",
      "19    2.518782e+08  7.631243e+07  1.060218e+07  1.560994e+06  6.280581e+05  27644.345100  1502.741882   90164.512904  2.644035e-04\n",
      "20    2.477150e+08  7.917968e+07  1.155200e+07  1.771715e+06  7.554208e+05  35151.247210  2024.155529  121449.331737  3.561449e-04\n",
      "21    2.436206e+08  8.193130e+07  1.251868e+07  1.994752e+06  8.988455e+05  44094.844068  2682.430508  160945.830486  4.719667e-04\n",
      "22    2.395940e+08  8.457032e+07  1.349985e+07  2.229613e+06  1.059123e+06  54641.225601  3502.886898  210173.213891  6.163239e-04\n",
      "23    2.356338e+08  8.709973e+07  1.449322e+07  2.475775e+06  1.236992e+06  66962.559428  4513.664543  270819.872587  7.941676e-04\n",
      "24    2.317391e+08  8.952241e+07  1.549665e+07  2.732688e+06  1.433141e+06  81236.400807  5745.818608  344749.116472  1.010962e-03\n",
      "25    2.279088e+08  9.184122e+07  1.650810e+07  2.999783e+06  1.648205e+06  97644.997088  7233.403580  434004.214810  1.272699e-03, 4:            healthy    mesalamine      remicade        humira        entyvio       skyrizi       rinvoq       failure  failure_rate\n",
      "Year                                                                                                                              \n",
      "1     3.400000e+08  1.011000e+06  0.000000e+00  0.000000e+00       0.000000      0.000000     0.000000      0.000000  0.000000e+00\n",
      "2     3.343803e+08  6.567295e+06  6.266802e+04  7.407268e+02       2.404841      0.008751     0.000130      0.001603  4.701639e-12\n",
      "3     3.288535e+08  1.193964e+07  2.130575e+05  4.800309e+03      29.903617      0.207838     0.006033      0.074207  2.176084e-10\n",
      "4     3.234180e+08  1.713259e+07  4.454888e+05  1.477674e+04     135.573709      1.375544     0.059246      0.728728  2.136963e-09\n",
      "5     3.180724e+08  2.215062e+07  7.545311e+05  3.306542e+04     400.392987      5.309087     0.303414      3.731998  1.094392e-08\n",
      "6     3.128151e+08  2.699809e+07  1.134993e+06  6.186907e+04     930.500178     15.169229     1.081638     13.304145  3.901383e-08\n",
      "7     3.076447e+08  3.167926e+07  1.581914e+06  1.032073e+05    1854.612673     35.755409     3.058955     37.625150  1.103341e-07\n",
      "8     3.025598e+08  3.619831e+07  2.090556e+06  1.589256e+05    3321.594653     73.719283     7.364644     90.585117  2.656369e-07\n",
      "9     2.975589e+08  4.055932e+07  2.656391e+06  2.307045e+05    5498.168696    137.723840    15.749618    193.720305  5.680764e-07\n",
      "10    2.926407e+08  4.476628e+07  3.275102e+06  3.200674e+05    8566.764311    238.554581    30.754780    378.283792  1.109301e-06\n",
      "11    2.878038e+08  4.882309e+07  3.942565e+06  4.283892e+05   12723.497098    389.188643    55.886652    687.405820  2.015788e-06\n",
      "12    2.830468e+08  5.273356e+07  4.654848e+06  5.569037e+05   18176.272483    604.827202    95.797113   1178.304490  3.455327e-06\n",
      "13    2.783685e+08  5.650143e+07  5.408202e+06  7.067112e+05   25143.008218    902.895960   156.464432   1924.512510  5.643550e-06\n",
      "14    2.737674e+08  6.013033e+07  6.199054e+06  8.787854e+05   33849.970079   1303.018061   245.373196   3018.090311  8.850419e-06\n",
      "15    2.692425e+08  6.362384e+07  7.023999e+06  1.073981e+06   44530.215398   1826.963374   371.691053   4571.799948  1.340661e-05\n",
      "16    2.647923e+08  6.698543e+07  7.879795e+06  1.293038e+06   57422.139308   2498.577655   546.440483   6721.217941  1.970968e-05\n",
      "17    2.604156e+08  7.021852e+07  8.763356e+06  1.536591e+06   72768.118772   3343.694767   782.664111   9626.768563  2.823008e-05\n",
      "18    2.561113e+08  7.332644e+07  9.671748e+06  1.805175e+06   90813.249660   4390.034816  1095.582283  13475.662078  3.951680e-05\n",
      "19    2.518782e+08  7.631243e+07  1.060218e+07  2.099226e+06  111804.172363   5667.090746  1502.741882  18483.725144  5.420272e-05\n",
      "20    2.477150e+08  7.917968e+07  1.155200e+07  2.419093e+06  135987.981571   7206.005678  2024.155529  24897.113005  7.300971e-05\n",
      "21    2.436206e+08  8.193130e+07  1.251868e+07  2.765042e+06  163611.216071   9039.443034  2682.430508  32993.895249  9.675317e-05\n",
      "22    2.395940e+08  8.457032e+07  1.349985e+07  3.137257e+06  194918.924559  11201.451248  3502.886898  43085.508847  1.263464e-04\n",
      "23    2.356338e+08  8.709973e+07  1.449322e+07  3.535848e+06  230153.803643  13727.324683  4513.664543  55518.073880  1.628043e-04\n",
      "24    2.317391e+08  8.952241e+07  1.549665e+07  3.960856e+06  269555.404357  16653.462166  5745.818608  70673.568875  2.072472e-04\n",
      "25    2.279088e+08  9.184122e+07  1.650810e+07  4.412257e+06  313359.403686  20017.224404  7233.403580  88970.864028  2.609032e-04, 5:            healthy    mesalamine      remicade        humira        entyvio       skyrizi       rinvoq        failure  failure_rate\n",
      "Year                                                                                                                               \n",
      "1     3.400000e+08  1.011000e+06  0.000000e+00  0.000000e+00       0.000000      0.000000     0.000000       0.000000  0.000000e+00\n",
      "2     3.343803e+08  6.567295e+06  6.266802e+04  7.407268e+02       2.370906      0.042686     0.000130       0.007821  2.293489e-11\n",
      "3     3.288535e+08  1.193964e+07  2.130575e+05  4.800309e+03      29.097610      1.013845     0.006033       0.361985  1.061505e-09\n",
      "4     3.234180e+08  1.713259e+07  4.454888e+05  1.477674e+04     130.239283      6.709971     0.059246       3.554769  1.042421e-08\n",
      "5     3.180724e+08  2.215062e+07  7.545311e+05  3.306542e+04     379.804090     25.897984     0.303414      18.204870  5.338499e-08\n",
      "6     3.128151e+08  2.699809e+07  1.134993e+06  6.186907e+04     871.673168     73.996239     1.081638      64.898270  1.903114e-07\n",
      "7     3.076447e+08  3.167926e+07  1.581914e+06  1.032073e+05    1715.951452    174.416630     3.058955     183.537317  5.382152e-07\n",
      "8     3.025598e+08  3.619831e+07  2.090556e+06  1.589256e+05    3035.707677    359.606259     7.364644     441.878618  1.295790e-06\n",
      "9     2.975589e+08  4.055932e+07  2.656391e+06  2.307045e+05    4964.068926    671.823610    15.749618     944.977098  2.771104e-06\n",
      "10    2.926407e+08  4.476628e+07  3.275102e+06  3.200674e+05    7641.638011   1163.680881    30.754780    1845.286789  5.411224e-06\n",
      "11    2.878038e+08  4.882309e+07  3.942565e+06  4.283892e+05   11214.204557   1898.481184    55.886652    3353.199121  9.833111e-06\n",
      "12    2.830468e+08  5.273356e+07  4.654848e+06  5.569037e+05   15830.723088   2950.376597    95.797113    5747.826778  1.685525e-05\n",
      "13    2.783685e+08  5.650143e+07  5.408202e+06  7.067112e+05   21641.533643   4404.370535   156.464432    9387.865901  2.752951e-05\n",
      "14    2.737674e+08  6.013033e+07  6.199054e+06  8.787854e+05   28796.802478   6356.185662   245.373196   14722.391764  4.317278e-05\n",
      "15    2.692425e+08  6.362384e+07  7.023999e+06  1.073981e+06   37445.162313   8912.016459   371.691053   22301.463165  6.539808e-05\n",
      "16    2.647923e+08  6.698543e+07  7.879795e+06  1.293038e+06   47732.533281  12188.183682   546.440483   32786.428985  9.614478e-05\n",
      "17    2.604156e+08  7.021852e+07  8.763356e+06  1.536591e+06   59801.107359  16310.706179   782.664111   46959.846653  1.377077e-04\n",
      "18    2.561113e+08  7.332644e+07  9.671748e+06  1.805175e+06   73788.480497  21414.803979  1095.582283   65734.936970  1.927649e-04\n",
      "19    2.518782e+08  7.631243e+07  1.060218e+07  2.099226e+06   89826.918009  27644.345100  1502.741882   90164.512903  2.644035e-04\n",
      "20    2.477150e+08  7.917968e+07  1.155200e+07  2.419093e+06  108042.740039  35151.247210  2024.155529  121449.331736  3.561449e-04\n",
      "21    2.436206e+08  8.193130e+07  1.251868e+07  2.765042e+06  128555.815036  44094.844069  2682.430508  160945.830485  4.719667e-04\n",
      "22    2.395940e+08  8.457032e+07  1.349985e+07  3.137257e+06  151479.150207  54641.225601  3502.886898  210173.213890  6.163239e-04\n",
      "23    2.356338e+08  8.709973e+07  1.449322e+07  3.535848e+06  176918.568898  66962.559428  4513.664543  270819.872586  7.941676e-04\n",
      "24    2.317391e+08  8.952241e+07  1.549665e+07  3.960856e+06  204972.465715  81236.400808  5745.818608  344749.116467  1.010962e-03\n",
      "25    2.279088e+08  9.184122e+07  1.650810e+07  4.412257e+06  235731.631000  97644.997089  7233.403580  434004.214801  1.272699e-03, 6:            healthy    mesalamine      remicade        humira        entyvio        skyrizi       rinvoq        failure  failure_rate\n",
      "Year                                                                                                                                \n",
      "1     3.400000e+08  1.011000e+06  0.000000e+00  0.000000e+00       0.000000       0.000000     0.000000       0.000000  0.000000e+00\n",
      "2     3.343803e+08  6.567295e+06  6.301320e+04  3.944985e+02       3.394507       0.061183     0.000130       0.011210  3.287334e-11\n",
      "3     3.288535e+08  1.193964e+07  2.152916e+05  2.553254e+03      41.616511       1.453178     0.006033       0.518845  1.521490e-09\n",
      "4     3.234180e+08  1.713259e+07  4.523572e+05  7.849595e+03     186.080236       9.617625     0.059246       5.095170  1.494136e-08\n",
      "5     3.180724e+08  2.215062e+07  7.698807e+05  1.754235e+04     542.085258      37.120443     0.303414      26.093646  7.651849e-08\n",
      "6     3.128151e+08  2.699809e+07  1.163677e+06  3.278179e+04    1242.824874     106.061276     1.081638      93.020854  2.727796e-07\n",
      "7     3.076447e+08  3.167926e+07  1.629703e+06  5.461526e+04    2444.036404     249.997169     3.058955     263.070155  7.714418e-07\n",
      "8     3.025598e+08  3.619831e+07  2.164049e+06  8.399268e+04    4319.235981     515.435638     7.364644     633.359354  1.857299e-06\n",
      "9     2.975589e+08  4.055932e+07  2.762942e+06  1.217717e+05    7055.485130     962.947175    15.749618    1354.467174  3.971916e-06\n",
      "10    2.926407e+08  4.476628e+07  3.422734e+06  1.687227e+05   10849.640831    1667.942596    30.754780    2644.911063  7.756087e-06\n",
      "11    2.878038e+08  4.882309e+07  4.139907e+06  2.255337e+05   15905.044787    2721.156363    55.886652    4806.252073  1.409413e-05\n",
      "12    2.830468e+08  5.273356e+07  4.911061e+06  2.928146e+05   22428.611306    4228.873122    95.797113    8238.551715  2.415920e-05\n",
      "13    2.783685e+08  5.650143e+07  5.732916e+06  3.711018e+05   30628.276639    6312.931100   156.464432   13455.941127  3.945897e-05\n",
      "14    2.737674e+08  6.013033e+07  6.602309e+06  4.608625e+05   40710.775726    9110.532781   245.373196   21102.094866  6.188098e-05\n",
      "15    2.692425e+08  6.362384e+07  7.516185e+06  5.624982e+05   52879.715187   12773.890258   371.691053   31965.430541  9.373724e-05\n",
      "16    2.647923e+08  6.698543e+07  8.471600e+06  6.763493e+05   67333.914052   17469.729944   546.440483   46993.881549  1.378075e-04\n",
      "17    2.604156e+08  7.021852e+07  9.465717e+06  8.026979e+05   84265.986150   23378.678856   782.664111   67309.113538  1.973811e-04\n",
      "18    2.561113e+08  7.332644e+07  1.049580e+07  9.417718e+05  103861.140293   30694.552370  1095.582283   94220.076325  2.762963e-04\n",
      "19    2.518782e+08  7.631243e+07  1.155921e+07  1.093748e+06  126296.176490   39623.561310  1502.741882  129235.801830  3.789784e-04\n",
      "20    2.477150e+08  7.917968e+07  1.265341e+07  1.258755e+06  151738.658263   50383.454334  2024.155529  174077.375490  5.104744e-04\n",
      "21    2.436206e+08  8.193130e+07  1.377595e+07  1.436877e+06  180346.242904   63202.609831  2682.430508  230689.023697  6.764856e-04\n",
      "22    2.395940e+08  8.457032e+07  1.492448e+07  1.628156e+06  212266.153089   78319.090027  3502.886898  301248.273245  8.833975e-04\n",
      "23    2.356338e+08  8.709973e+07  1.609674e+07  1.832594e+06  247634.774725   95979.668513  4513.664543  388175.150709  1.138307e-03\n",
      "24    2.317391e+08  8.952241e+07  1.729054e+07  2.050159e+06  286577.367254  116438.841155  5745.818608  494140.400294  1.449045e-03\n",
      "25    2.279088e+08  9.184122e+07  1.850378e+07  2.280783e+06  329207.873860  139957.829160  7233.403580  622072.707896  1.824201e-03, 7:            healthy    mesalamine      remicade        humira        entyvio       skyrizi       rinvoq       failure  failure_rate\n",
      "Year                                                                                                                              \n",
      "1     3.400000e+08  1.011000e+06  0.000000e+00  0.000000e+00       0.000000      0.000000     0.000000      0.000000  0.000000e+00\n",
      "2     3.343803e+08  6.567295e+06  6.301320e+04  3.944985e+02       3.446939      0.008751     0.000130      0.001603  4.701638e-12\n",
      "3     3.288535e+08  1.193964e+07  2.152916e+05  2.553254e+03      42.861850      0.207838     0.006033      0.074207  2.176084e-10\n",
      "4     3.234180e+08  1.713259e+07  4.523572e+05  7.849595e+03     194.322317      1.375544     0.059246      0.728728  2.136963e-09\n",
      "5     3.180724e+08  2.215062e+07  7.698807e+05  1.754235e+04     573.896615      5.309087     0.303414      3.731998  1.094392e-08\n",
      "6     3.128151e+08  2.699809e+07  1.163677e+06  3.278179e+04    1333.716921     15.169229     1.081638     13.304145  3.901383e-08\n",
      "7     3.076447e+08  3.167926e+07  1.629703e+06  5.461526e+04    2658.278164     35.755409     3.058955     37.625150  1.103341e-07\n",
      "8     3.025598e+08  3.619831e+07  2.164049e+06  8.399268e+04    4760.952336     73.719283     7.364644     90.585117  2.656369e-07\n",
      "9     2.975589e+08  4.055932e+07  2.762942e+06  1.217717e+05    7880.708465    137.723840    15.749618    193.720305  5.680764e-07\n",
      "10    2.926407e+08  4.476628e+07  3.422734e+06  1.687227e+05   12279.028846    238.554581    30.754780    378.283792  1.109301e-06\n",
      "11    2.878038e+08  4.882309e+07  4.139907e+06  2.255337e+05   18237.012507    389.188643    55.886652    687.405820  2.015788e-06\n",
      "12    2.830468e+08  5.273356e+07  4.911061e+06  2.928146e+05   26052.657225    604.827202    95.797113   1178.304490  3.455327e-06\n",
      "13    2.783685e+08  5.650143e+07  5.732916e+06  3.711018e+05   36038.311780    902.895960   156.464432   1924.512510  5.643550e-06\n",
      "14    2.737674e+08  6.013033e+07  6.602309e+06  4.608625e+05   48518.290447   1303.018061   245.373196   3018.090311  8.850419e-06\n",
      "15    2.692425e+08  6.362384e+07  7.516185e+06  5.624982e+05   63826.642070   1826.963374   371.691053   4571.799948  1.340661e-05\n",
      "16    2.647923e+08  6.698543e+07  8.471600e+06  6.763493e+05   82305.066342   2498.577655   546.440483   6721.217941  1.970968e-05\n",
      "17    2.604156e+08  7.021852e+07  9.465717e+06  8.026979e+05  104300.970239   3343.694767   782.664111   9626.768563  2.823008e-05\n",
      "18    2.561113e+08  7.332644e+07  1.049580e+07  9.417718e+05  130165.657847   4390.034816  1095.582283  13475.662078  3.951680e-05\n",
      "19    2.518782e+08  7.631243e+07  1.155921e+07  1.093748e+06  160252.647054   5667.090746  1502.741882  18483.725144  5.420272e-05\n",
      "20    2.477150e+08  7.917968e+07  1.265341e+07  1.258755e+06  194916.106918   7206.005678  2024.155529  24897.113005  7.300971e-05\n",
      "21    2.436206e+08  8.193130e+07  1.377595e+07  1.436877e+06  234509.409701   9039.443034  2682.430508  32993.895249  9.675317e-05\n",
      "22    2.395940e+08  8.457032e+07  1.492448e+07  1.628156e+06  279383.791868  11201.451248  3502.886898  43085.508847  1.263464e-04\n",
      "23    2.356338e+08  8.709973e+07  1.609674e+07  1.832594e+06  329887.118555  13727.324683  4513.664543  55518.073880  1.628043e-04\n",
      "24    2.317391e+08  8.952241e+07  1.729054e+07  2.050159e+06  386362.746244  16653.462166  5745.818608  70673.568875  2.072472e-04\n",
      "25    2.279088e+08  9.184122e+07  1.850378e+07  2.280783e+06  449148.478616  20017.224404  7233.403580  88970.864028  2.609032e-04, 8:            healthy    mesalamine      remicade        humira        entyvio        skyrizi       rinvoq        failure  failure_rate\n",
      "Year                                                                                                                                \n",
      "1     3.400000e+08  1.011000e+06  0.000000e+00  0.000000e+00       0.000000       0.000000     0.000000       0.000000  0.000000e+00\n",
      "2     3.343803e+08  6.567295e+06  6.301320e+04  3.890618e+02       8.831238       0.061183     0.000130       0.011210  3.287329e-11\n",
      "3     3.288535e+08  1.193964e+07  2.152916e+05  2.486599e+03     108.270597       1.453178     0.006033       0.518845  1.521490e-09\n",
      "4     3.234180e+08  1.713259e+07  4.523572e+05  7.551564e+03     484.111183       9.617625     0.059246       5.095170  1.494136e-08\n",
      "5     3.180724e+08  2.215062e+07  7.698807e+05  1.667414e+04    1410.303111      37.120443     0.303414      26.093646  7.651849e-08\n",
      "6     3.128151e+08  2.699809e+07  1.163677e+06  3.079125e+04    3233.365526     106.061276     1.081638      93.020854  2.727796e-07\n",
      "7     3.076447e+08  3.167926e+07  1.629703e+06  5.070083e+04    6358.468694     249.997169     3.058955     263.070155  7.714418e-07\n",
      "8     3.025598e+08  3.619831e+07  2.164049e+06  7.707488e+04   11237.036699     515.435638     7.364644     633.359354  1.857299e-06\n",
      "9     2.975589e+08  4.055932e+07  2.762942e+06  1.104715e+05   18355.733671     962.947175    15.749618    1354.467174  3.971916e-06\n",
      "10    2.926407e+08  4.476628e+07  3.422734e+06  1.513457e+05   28226.707853    1667.942596    30.754780    2644.911063  7.756087e-06\n",
      "11    2.878038e+08  4.882309e+07  4.139907e+06  2.000598e+05   41378.978307    2721.156363    55.886652    4806.252073  1.409413e-05\n",
      "12    2.830468e+08  5.273356e+07  4.911061e+06  2.568923e+05   58350.858682    4228.873122    95.797113    8238.551715  2.415920e-05\n",
      "13    2.783685e+08  5.650143e+07  5.732916e+06  3.220468e+05   79683.321338    6312.931100   156.464432   13455.941127  3.945897e-05\n",
      "14    2.737674e+08  6.013033e+07  6.602309e+06  3.956590e+05  105914.213272    9110.532781   245.373196   21102.094865  6.188098e-05\n",
      "15    2.692425e+08  6.362384e+07  7.516185e+06  4.778047e+05  137573.242762   12773.890258   371.691053   31965.430540  9.373724e-05\n",
      "16    2.647923e+08  6.698543e+07  8.471600e+06  5.685056e+05  175177.662575   17469.729944   546.440483   46993.881547  1.378075e-04\n",
      "17    2.604156e+08  7.021852e+07  9.465717e+06  6.677353e+05  219228.581853   23378.678856   782.664111   67309.113537  1.973811e-04\n",
      "18    2.561113e+08  7.332644e+07  1.049580e+07  7.754251e+05  270207.844664   30694.552370  1095.582283   94220.076324  2.762963e-04\n",
      "19    2.518782e+08  7.631243e+07  1.155921e+07  8.914686e+05  328575.418510   39623.561310  1502.741882  129235.801830  3.789784e-04\n",
      "20    2.477150e+08  7.917968e+07  1.265341e+07  1.015726e+06  394767.241008   50383.454334  2024.155529  174077.375490  5.104744e-04\n",
      "21    2.436206e+08  8.193130e+07  1.377595e+07  1.148030e+06  469193.477473   63202.609831  2682.430508  230689.023697  6.764856e-04\n",
      "22    2.395940e+08  8.457032e+07  1.492448e+07  1.288185e+06  552237.146247   78319.090027  3502.886898  301248.273245  8.833975e-04\n",
      "23    2.356338e+08  8.709973e+07  1.609674e+07  1.435976e+06  644253.072454   95979.668513  4513.664543  388175.150708  1.138307e-03\n",
      "24    2.317391e+08  8.952241e+07  1.729054e+07  1.591170e+06  745567.134319  116438.841156  5745.818608  494140.400285  1.449045e-03\n",
      "25    2.279088e+08  9.184122e+07  1.850378e+07  1.753515e+06  856475.769391  139957.829160  7233.403580  622072.707893  1.824201e-03, 9:            healthy    mesalamine      remicade        humira        entyvio       skyrizi       rinvoq        failure  failure_rate\n",
      "Year                                                                                                                               \n",
      "1     3.400000e+08  1.011000e+06  0.000000e+00  0.000000e+00       0.000000      0.000000     0.000000       0.000000  0.000000e+00\n",
      "2     3.343803e+08  6.567295e+06  6.301320e+04  3.890618e+02       8.869655      0.022766     0.000130       0.004171  1.223192e-11\n",
      "3     3.288535e+08  1.193964e+07  2.152916e+05  2.486599e+03     109.183058      0.540717     0.006033       0.193059  5.661358e-10\n",
      "4     3.234180e+08  1.713259e+07  4.523572e+05  7.551564e+03     490.150157      3.578651     0.059246       1.895877  5.559577e-09\n",
      "5     3.180724e+08  2.215062e+07  7.698807e+05  1.667414e+04    1433.611297     13.812258     0.303414       9.709264  2.847200e-08\n",
      "6     3.128151e+08  2.699809e+07  1.163677e+06  3.079125e+04    3299.962142     39.464661     1.081638      34.612411  1.014994e-07\n",
      "7     3.076447e+08  3.167926e+07  1.629703e+06  5.070083e+04    6515.443661     93.022202     3.058955      97.886569  2.870481e-07\n",
      "8     3.025598e+08  3.619831e+07  2.164049e+06  7.707488e+04   11560.682332    191.790005     7.364644     235.668596  6.910880e-07\n",
      "9     2.975589e+08  4.055932e+07  2.762942e+06  1.104715e+05   18960.374920    358.305926    15.749618     503.987786  1.477922e-06\n",
      "10    2.926407e+08  4.476628e+07  3.422734e+06  1.513457e+05   29274.020645    620.629803    30.754780     984.152954  2.885986e-06\n",
      "11    2.878038e+08  4.882309e+07  4.139907e+06  2.000598e+05   43087.611372   1012.523298    55.886652    1788.372864  5.244326e-06\n",
      "12    2.830468e+08  5.273356e+07  4.911061e+06  2.568923e+05   61006.197619   1573.534185    95.797113    3065.507615  8.989468e-06\n",
      "13    2.783685e+08  5.650143e+07  5.732916e+06  3.220468e+05   83647.254820   2348.997619   156.464432    5006.861814  1.468241e-05\n",
      "14    2.737674e+08  6.013033e+07  6.602309e+06  3.956590e+05  111634.780366   3389.965686   245.373196    7851.942274  2.302548e-05\n",
      "15    2.692425e+08  6.362384e+07  7.516185e+06  4.778047e+05  145594.057574   4753.075445   371.691053   11894.113688  3.487897e-05\n",
      "16    2.647923e+08  6.698543e+07  8.471600e+06  5.685056e+05  186147.027888   6500.364631   546.440483   17486.095458  5.127722e-05\n",
      "17    2.604156e+08  7.021852e+07  9.465717e+06  6.677353e+05  233908.217413   8699.043296   782.664111   25045.251547  7.344412e-05\n",
      "18    2.561113e+08  7.332644e+07  1.049580e+07  7.754251e+05  289481.168244  11421.228789  1095.582283   35058.633049  1.028079e-04\n",
      "19    2.518782e+08  7.631243e+07  1.155921e+07  8.914686e+05  353455.329099  14743.650720  1502.741882   48087.740214  1.410152e-04\n",
      "20    2.477150e+08  7.917968e+07  1.265341e+07  1.015726e+06  426403.363496  18747.331845  2024.155529   64772.976925  1.899440e-04\n",
      "21    2.436206e+08  8.193130e+07  1.377595e+07  1.148030e+06  508878.837134  23517.250170  2682.430508   85837.776258  2.517156e-04\n",
      "22    2.395940e+08  8.457032e+07  1.492448e+07  1.288185e+06  601414.249287  29141.986987  3502.886898  112092.380741  3.287061e-04\n",
      "23    2.356338e+08  8.709973e+07  1.609674e+07  1.435976e+06  704519.375939  35713.365028  4513.664543  144437.265379  4.235560e-04\n",
      "24    2.317391e+08  8.952241e+07  1.729054e+07  1.591170e+06  818679.895042  43326.080431  5745.818608  183866.195448  5.391797e-04\n",
      "25    2.279088e+08  9.184122e+07  1.850378e+07  1.753515e+06  944356.266765  52077.331782  7233.403580  231468.914552  6.787726e-04, 10:            healthy    mesalamine      remicade        humira        entyvio       skyrizi       rinvoq       failure  failure_rate\n",
      "Year                                                                                                                              \n",
      "1     3.400000e+08  1.011000e+06  0.000000e+00  0.000000e+00       0.000000      0.000000     0.000000      0.000000  0.000000e+00\n",
      "2     3.343803e+08  6.567295e+06  6.301320e+04  3.966628e+02       1.282582      0.008751     0.000130      0.001603  4.701638e-12\n",
      "3     3.288535e+08  1.193964e+07  2.152916e+05  2.580167e+03      15.948595      0.207838     0.006033      0.074207  2.176084e-10\n",
      "4     3.234180e+08  1.713259e+07  4.523572e+05  7.971611e+03      72.305978      1.375544     0.059246      0.728728  2.136963e-09\n",
      "5     3.180724e+08  2.215062e+07  7.698807e+05  1.790271e+04     213.542927      5.309087     0.303414      3.731998  1.094392e-08\n",
      "6     3.128151e+08  2.699809e+07  1.163677e+06  3.361924e+04     496.266761     15.169229     1.081638     13.304145  3.901383e-08\n",
      "7     3.076447e+08  3.167926e+07  1.629703e+06  5.628441e+04     989.126759     35.755409     3.058955     37.625150  1.103341e-07\n",
      "8     3.025598e+08  3.619831e+07  2.164049e+06  8.698211e+04    1771.517148     73.719283     7.364644     90.585117  2.656369e-07\n",
      "9     2.975589e+08  4.055932e+07  2.762942e+06  1.267201e+05    2932.356638    137.723840    15.749618    193.720305  5.680764e-07\n",
      "10    2.926407e+08  4.476628e+07  3.422734e+06  1.764328e+05    4568.940966    238.554581    30.754780    378.283792  1.109301e-06\n",
      "11    2.878038e+08  4.882309e+07  4.139907e+06  2.369848e+05    6785.865119    389.188643    55.886652    687.405820  2.015788e-06\n",
      "12    2.830468e+08  5.273356e+07  4.911061e+06  3.091732e+05    9694.011991    604.827202    95.797113   1178.304490  3.455327e-06\n",
      "13    2.783685e+08  5.650143e+07  5.732916e+06  3.937305e+05   13409.604383    902.895960   156.464432   1924.512510  5.643550e-06\n",
      "14    2.737674e+08  6.013033e+07  6.602309e+06  4.913274e+05   18053.317376   1303.018061   245.373196   3018.090311  8.850419e-06\n",
      "15    2.692425e+08  6.362384e+07  7.516185e+06  6.025754e+05   23749.448212   1826.963374   371.691053   4571.799948  1.340661e-05\n",
      "16    2.647923e+08  6.698543e+07  8.471600e+06  7.280292e+05   30625.140964   2498.577655   546.440483   6721.217941  1.970968e-05\n",
      "17    2.604156e+08  7.021852e+07  9.465717e+06  8.681892e+05   38809.663345   3343.694767   782.664111   9626.768563  2.823008e-05\n",
      "18    2.561113e+08  7.332644e+07  1.049580e+07  1.023504e+06   48433.733152   4390.034816  1095.582283  13475.662078  3.951680e-05\n",
      "19    2.518782e+08  7.631243e+07  1.155921e+07  1.194372e+06   59628.891927   5667.090746  1502.741882  18483.725144  5.420272e-05\n",
      "20    2.477150e+08  7.917968e+07  1.265341e+07  1.381144e+06   72526.923505   7206.005678  2024.155529  24897.113005  7.300971e-05\n",
      "21    2.436206e+08  8.193130e+07  1.377595e+07  1.584127e+06   87259.315238   9039.443034  2682.430508  32993.895249  9.675317e-05\n",
      "22    2.395940e+08  8.457032e+07  1.492448e+07  1.803583e+06  103956.759765  11201.451248  3502.886898  43085.508847  1.263464e-04\n",
      "23    2.356338e+08  8.709973e+07  1.609674e+07  2.039733e+06  122748.695276  13727.324683  4513.664543  55518.073879  1.628043e-04\n",
      "24    2.317391e+08  8.952241e+07  1.729054e+07  2.292759e+06  143762.882324  16653.462166  5745.818608  70673.568875  2.072472e-04\n",
      "25    2.279088e+08  9.184122e+07  1.850378e+07  2.562806e+06  167125.015299  20017.224404  7233.403580  88970.864028  2.609032e-04, 11:            healthy    mesalamine      remicade        humira        entyvio       skyrizi       rinvoq        failure  failure_rate\n",
      "Year                                                                                                                               \n",
      "1     3.400000e+08  1.011000e+06  0.000000e+00  0.000000e+00       0.000000      0.000000     0.000000       0.000000  0.000000e+00\n",
      "2     3.343803e+08  6.567295e+06  6.301320e+04  3.966628e+02       1.268567      0.022766     0.000130       0.004171  1.223196e-11\n",
      "3     3.288535e+08  1.193964e+07  2.152916e+05  2.580167e+03      15.615716      0.540717     0.006033       0.193059  5.661358e-10\n",
      "4     3.234180e+08  1.713259e+07  4.523572e+05  7.971611e+03      70.102871      3.578651     0.059246       1.895877  5.559577e-09\n",
      "5     3.180724e+08  2.215062e+07  7.698807e+05  1.790271e+04     205.039755     13.812258     0.303414       9.709264  2.847200e-08\n",
      "6     3.128151e+08  2.699809e+07  1.163677e+06  3.361924e+04     471.971330     39.464661     1.081638      34.612411  1.014994e-07\n",
      "7     3.076447e+08  3.167926e+07  1.629703e+06  5.628441e+04     931.859965     93.022202     3.058955      97.886569  2.870481e-07\n",
      "8     3.025598e+08  3.619831e+07  2.164049e+06  8.698211e+04    1653.446427    191.790005     7.364644     235.668596  6.910880e-07\n",
      "9     2.975589e+08  4.055932e+07  2.762942e+06  1.267201e+05    2711.774553    358.305926    15.749618     503.987786  1.477922e-06\n",
      "10    2.926407e+08  4.476628e+07  3.422734e+06  1.764328e+05    4186.865743    620.629803    30.754780     984.152954  2.885986e-06\n",
      "11    2.878038e+08  4.882309e+07  4.139907e+06  2.369848e+05    6162.530464   1012.523298    55.886652    1788.372864  5.244326e-06\n",
      "12    2.830468e+08  5.273356e+07  4.911061e+06  3.091732e+05    8725.305008   1573.534185    95.797113    3065.507615  8.989468e-06\n",
      "13    2.783685e+08  5.650143e+07  5.732916e+06  3.937305e+05   11963.502724   2348.997619   156.464432    5006.861814  1.468241e-05\n",
      "14    2.737674e+08  6.013033e+07  6.602309e+06  4.913274e+05   15966.369750   3389.965686   245.373196    7851.942274  2.302548e-05\n",
      "15    2.692425e+08  6.362384e+07  7.516185e+06  6.025754e+05   20823.336141   4753.075445   371.691053   11894.113687  3.487897e-05\n",
      "16    2.647923e+08  6.698543e+07  8.471600e+06  7.280292e+05   26623.353989   6500.364631   546.440483   17486.095457  5.127722e-05\n",
      "17    2.604156e+08  7.021852e+07  9.465717e+06  8.681892e+05   33454.314816   8699.043296   782.664111   25045.251547  7.344412e-05\n",
      "18    2.561113e+08  7.332644e+07  1.049580e+07  1.023504e+06   41402.539179  11421.228789  1095.582283   35058.633049  1.028079e-04\n",
      "19    2.518782e+08  7.631243e+07  1.155921e+07  1.194372e+06   50552.331953  14743.650720  1502.741882   48087.740214  1.410152e-04\n",
      "20    2.477150e+08  7.917968e+07  1.265341e+07  1.381144e+06   60985.597337  18747.331845  2024.155529   64772.976925  1.899440e-04\n",
      "21    2.436206e+08  8.193130e+07  1.377595e+07  1.584127e+06   72781.508102  23517.250170  2682.430508   85837.776258  2.517156e-04\n",
      "22    2.395940e+08  8.457032e+07  1.492448e+07  1.803583e+06   86016.224026  29141.986987  3502.886898  112092.380741  3.287061e-04\n",
      "23    2.356338e+08  8.709973e+07  1.609674e+07  2.039733e+06  100762.654931  35713.365028  4513.664543  144437.265379  4.235560e-04\n",
      "24    2.317391e+08  8.952241e+07  1.729054e+07  2.292759e+06  117090.264058  43326.080431  5745.818608  183866.195448  5.391797e-04\n",
      "25    2.279088e+08  9.184122e+07  1.850378e+07  2.562806e+06  135064.907921  52077.331782  7233.403580  231468.914548  6.787726e-04, 12:            healthy    mesalamine      remicade        humira       entyvio        skyrizi       rinvoq        failure  failure_rate\n",
      "Year                                                                                                                               \n",
      "1     3.400000e+08  1.011000e+06  0.000000e+00  0.000000e+00  0.000000e+00       0.000000     0.000000       0.000000  0.000000e+00\n",
      "2     3.343803e+08  6.567295e+06  6.150440e+04  1.890135e+03  1.655857e+01       0.061183     0.000130       0.011210  3.287328e-11\n",
      "3     3.288535e+08  1.193964e+07  2.056484e+05  1.203502e+04  2.030074e+02       1.453178     0.006033       0.518845  1.521490e-09\n",
      "4     3.234180e+08  1.713259e+07  4.230718e+05  3.641330e+04  9.077085e+02       9.617625     0.059246       5.095170  1.494136e-08\n",
      "5     3.180724e+08  2.215062e+07  7.052176e+05  8.010323e+04  2.644318e+03      37.120443     0.303414      26.093646  7.651849e-08\n",
      "6     3.128151e+08  2.699809e+07  1.044267e+06  1.473720e+05  6.062560e+03     106.061276     1.081638      93.020854  2.727796e-07\n",
      "7     3.076447e+08  3.167926e+07  1.433082e+06  2.417574e+05  1.192213e+04     249.997169     3.058955     263.070155  7.714418e-07\n",
      "8     3.025598e+08  3.619831e+07  1.865149e+06  3.661426e+05  2.106944e+04     515.435638     7.364644     633.359354  1.857299e-06\n",
      "9     2.975589e+08  4.055932e+07  2.334528e+06  5.228239e+05  3.441700e+04     962.947175    15.749618    1354.467174  3.971916e-06\n",
      "10    2.926407e+08  4.476628e+07  2.835808e+06  7.135732e+05  5.292508e+04    1667.942596    30.754780    2644.911063  7.756087e-06\n",
      "11    2.878038e+08  4.882309e+07  3.364065e+06  9.396947e+05  7.758558e+04    2721.156363    55.886652    4806.252073  1.409413e-05\n",
      "12    2.830468e+08  5.273356e+07  3.914820e+06  1.202076e+06  1.094079e+05    4228.873122    95.797113    8238.551715  2.415920e-05\n",
      "13    2.783685e+08  5.650143e+07  4.484003e+06  1.501237e+06  1.494062e+05    6312.931100   156.464432   13455.941127  3.945897e-05\n",
      "14    2.737674e+08  6.013033e+07  5.067924e+06  1.837369e+06  1.985891e+05    9110.532781   245.373196   21102.094866  6.188098e-05\n",
      "15    2.692425e+08  6.362384e+07  5.663235e+06  2.210378e+06  2.579498e+05   12773.890258   371.691053   31965.430542  9.373724e-05\n",
      "16    2.647923e+08  6.698543e+07  6.266908e+06  2.619917e+06  3.284581e+05   17469.729944   546.440483   46993.881549  1.378075e-04\n",
      "17    2.604156e+08  7.021852e+07  6.876207e+06  3.065420e+06  4.110536e+05   23378.678856   782.664111   67309.113538  1.973811e-04\n",
      "18    2.561113e+08  7.332644e+07  7.488662e+06  3.546130e+06  5.066397e+05   30694.552370  1095.582283   94220.076325  2.762963e-04\n",
      "19    2.518782e+08  7.631243e+07  8.102050e+06  4.061124e+06  6.160789e+05   39623.561310  1502.741882  129235.801830  3.789784e-04\n",
      "20    2.477150e+08  7.917968e+07  8.714373e+06  4.609341e+06  7.401886e+05   50383.454334  2024.155529  174077.375490  5.104744e-04\n",
      "21    2.436206e+08  8.193130e+07  9.323837e+06  5.189600e+06  8.797378e+05   63202.609831  2682.430508  230689.023698  6.764856e-04\n",
      "22    2.395940e+08  8.457032e+07  9.928840e+06  5.800620e+06  1.035445e+06   78319.090027  3502.886898  301248.273245  8.833975e-04\n",
      "23    2.356338e+08  8.709973e+07  1.052795e+07  6.441040e+06  1.207975e+06   95979.668513  4513.664543  388175.150709  1.138307e-03\n",
      "24    2.317391e+08  8.952241e+07  1.111990e+07  7.109432e+06  1.397938e+06  116438.841155  5745.818608  494140.400295  1.449045e-03\n",
      "25    2.279088e+08  9.184122e+07  1.170357e+07  7.804315e+06  1.605892e+06  139957.829160  7233.403580  622072.707896  1.824201e-03, 13:            healthy    mesalamine      remicade        humira       entyvio       skyrizi       rinvoq        failure  failure_rate\n",
      "Year                                                                                                                              \n",
      "1     3.400000e+08  1.011000e+06  0.000000e+00  0.000000e+00  0.000000e+00      0.000000     0.000000       0.000000  0.000000e+00\n",
      "2     3.343803e+08  6.567295e+06  6.150440e+04  1.890135e+03  1.657707e+01      0.042686     0.000130       0.007821  2.293484e-11\n",
      "3     3.288535e+08  1.193964e+07  2.056484e+05  1.203502e+04  2.034467e+02      1.013845     0.006033       0.361985  1.061505e-09\n",
      "4     3.234180e+08  1.713259e+07  4.230718e+05  3.641330e+04  9.106161e+02      6.709971     0.059246       3.554769  1.042421e-08\n",
      "5     3.180724e+08  2.215062e+07  7.052176e+05  8.010323e+04  2.655541e+03     25.897984     0.303414      18.204869  5.338499e-08\n",
      "6     3.128151e+08  2.699809e+07  1.044267e+06  1.473720e+05  6.094625e+03     73.996239     1.081638      64.898270  1.903114e-07\n",
      "7     3.076447e+08  3.167926e+07  1.433082e+06  2.417574e+05  1.199771e+04    174.416630     3.058955     183.537317  5.382152e-07\n",
      "8     3.025598e+08  3.619831e+07  1.865149e+06  3.661426e+05  2.122527e+04    359.606259     7.364644     441.878619  1.295790e-06\n",
      "9     2.975589e+08  4.055932e+07  2.334528e+06  5.228239e+05  3.470812e+04    671.823610    15.749618     944.977098  2.771104e-06\n",
      "10    2.926407e+08  4.476628e+07  2.835808e+06  7.135732e+05  5.342934e+04   1163.680881    30.754780    1845.286788  5.411224e-06\n",
      "11    2.878038e+08  4.882309e+07  3.364065e+06  9.396947e+05  7.840826e+04   1898.481184    55.886652    3353.199121  9.833111e-06\n",
      "12    2.830468e+08  5.273356e+07  3.914820e+06  1.202076e+06  1.106864e+05   2950.376597    95.797113    5747.826778  1.685525e-05\n",
      "13    2.783685e+08  5.650143e+07  4.484003e+06  1.501237e+06  1.513148e+05   4404.370535   156.464432    9387.865902  2.752951e-05\n",
      "14    2.737674e+08  6.013033e+07  5.067924e+06  1.837369e+06  2.013435e+05   6356.185662   245.373196   14722.391766  4.317278e-05\n",
      "15    2.692425e+08  6.362384e+07  5.663235e+06  2.210378e+06  2.618117e+05   8912.016459   371.691053   22301.463167  6.539808e-05\n",
      "16    2.647923e+08  6.698543e+07  6.266908e+06  2.619917e+06  3.337397e+05  12188.183682   546.440483   32786.428986  9.614478e-05\n",
      "17    2.604156e+08  7.021852e+07  6.876207e+06  3.065420e+06  4.181216e+05  16310.706179   782.664111   46959.846653  1.377077e-04\n",
      "18    2.561113e+08  7.332644e+07  7.488662e+06  3.546130e+06  5.159195e+05  21414.803979  1095.582283   65734.936970  1.927649e-04\n",
      "19    2.518782e+08  7.631243e+07  8.102050e+06  4.061124e+06  6.280581e+05  27644.345100  1502.741882   90164.512904  2.644035e-04\n",
      "20    2.477150e+08  7.917968e+07  8.714373e+06  4.609341e+06  7.554208e+05  35151.247210  2024.155529  121449.331737  3.561449e-04\n",
      "21    2.436206e+08  8.193130e+07  9.323837e+06  5.189600e+06  8.988455e+05  44094.844068  2682.430508  160945.830486  4.719667e-04\n",
      "22    2.395940e+08  8.457032e+07  9.928840e+06  5.800620e+06  1.059123e+06  54641.225601  3502.886898  210173.213892  6.163239e-04\n",
      "23    2.356338e+08  8.709973e+07  1.052795e+07  6.441040e+06  1.236992e+06  66962.559428  4513.664543  270819.872587  7.941676e-04\n",
      "24    2.317391e+08  8.952241e+07  1.111990e+07  7.109432e+06  1.433141e+06  81236.400807  5745.818608  344749.116474  1.010962e-03\n",
      "25    2.279088e+08  9.184122e+07  1.170357e+07  7.804315e+06  1.648205e+06  97644.997088  7233.403580  434004.214809  1.272699e-03, 14:            healthy    mesalamine      remicade        humira        entyvio        skyrizi       rinvoq        failure  failure_rate\n",
      "Year                                                                                                                                \n",
      "1     3.400000e+08  1.011000e+06  0.000000e+00  0.000000e+00       0.000000       0.000000     0.000000       0.000000  0.000000e+00\n",
      "2     3.343803e+08  6.567295e+06  6.150440e+04  1.897862e+03       8.831238       0.061183     0.000130       0.011210  3.287328e-11\n",
      "3     3.288535e+08  1.193964e+07  2.056484e+05  1.212975e+04     108.270597       1.453178     0.006033       0.518845  1.521490e-09\n",
      "4     3.234180e+08  1.713259e+07  4.230718e+05  3.683690e+04     484.111183       9.617625     0.059246       5.095170  1.494136e-08\n",
      "5     3.180724e+08  2.215062e+07  7.052176e+05  8.133725e+04    1410.303111      37.120443     0.303414      26.093646  7.651849e-08\n",
      "6     3.128151e+08  2.699809e+07  1.044267e+06  1.502012e+05    3233.365526     106.061276     1.081638      93.020854  2.727796e-07\n",
      "7     3.076447e+08  3.167926e+07  1.433082e+06  2.473211e+05    6358.468694     249.997169     3.058955     263.070155  7.714418e-07\n",
      "8     3.025598e+08  3.619831e+07  1.865149e+06  3.759750e+05   11237.036699     515.435638     7.364644     633.359354  1.857299e-06\n",
      "9     2.975589e+08  4.055932e+07  2.334528e+06  5.388852e+05   18355.733671     962.947175    15.749618    1354.467174  3.971916e-06\n",
      "10    2.926407e+08  4.476628e+07  2.835808e+06  7.382716e+05   28226.707853    1667.942596    30.754780    2644.911063  7.756087e-06\n",
      "11    2.878038e+08  4.882309e+07  3.364065e+06  9.759013e+05   41378.978307    2721.156363    55.886652    4806.252073  1.409413e-05\n",
      "12    2.830468e+08  5.273356e+07  3.914820e+06  1.253133e+06   58350.858682    4228.873122    95.797113    8238.551715  2.415920e-05\n",
      "13    2.783685e+08  5.650143e+07  4.484003e+06  1.570960e+06   79683.321338    6312.931100   156.464432   13455.941127  3.945897e-05\n",
      "14    2.737674e+08  6.013033e+07  5.067924e+06  1.930044e+06  105914.213272    9110.532781   245.373196   21102.094866  6.188098e-05\n",
      "15    2.692425e+08  6.362384e+07  5.663235e+06  2.330755e+06  137573.242762   12773.890258   371.691053   31965.430541  9.373724e-05\n",
      "16    2.647923e+08  6.698543e+07  6.266908e+06  2.773198e+06  175177.662575   17469.729944   546.440483   46993.881549  1.378075e-04\n",
      "17    2.604156e+08  7.021852e+07  6.876207e+06  3.257245e+06  219228.581853   23378.678856   782.664111   67309.113538  1.973811e-04\n",
      "18    2.561113e+08  7.332644e+07  7.488662e+06  3.782561e+06  270207.844664   30694.552370  1095.582283   94220.076325  2.762963e-04\n",
      "19    2.518782e+08  7.631243e+07  8.102050e+06  4.348627e+06  328575.418510   39623.561310  1502.741882  129235.801830  3.789784e-04\n",
      "20    2.477150e+08  7.917968e+07  8.714373e+06  4.954762e+06  394767.241008   50383.454334  2024.155529  174077.375490  5.104744e-04\n",
      "21    2.436206e+08  8.193130e+07  9.323837e+06  5.600144e+06  469193.477473   63202.609831  2682.430508  230689.023697  6.764856e-04\n",
      "22    2.395940e+08  8.457032e+07  9.928840e+06  6.283828e+06  552237.146247   78319.090027  3502.886898  301248.273245  8.833975e-04\n",
      "23    2.356338e+08  8.709973e+07  1.052795e+07  7.004762e+06  644253.072454   95979.668513  4513.664543  388175.150709  1.138307e-03\n",
      "24    2.317391e+08  8.952241e+07  1.111990e+07  7.761803e+06  745567.134320  116438.841155  5745.818608  494140.400293  1.449045e-03\n",
      "25    2.279088e+08  9.184122e+07  1.170357e+07  8.553731e+06  856475.769391  139957.829160  7233.403580  622072.707896  1.824201e-03, 15:            healthy    mesalamine      remicade        humira        entyvio       skyrizi       rinvoq        failure  failure_rate\n",
      "Year                                                                                                                               \n",
      "1     3.400000e+08  1.011000e+06  0.000000e+00  0.000000e+00       0.000000      0.000000     0.000000       0.000000  0.000000e+00\n",
      "2     3.343803e+08  6.567295e+06  6.150440e+04  1.897862e+03       8.869655      0.022766     0.000130       0.004171  1.223192e-11\n",
      "3     3.288535e+08  1.193964e+07  2.056484e+05  1.212975e+04     109.183058      0.540717     0.006033       0.193059  5.661358e-10\n",
      "4     3.234180e+08  1.713259e+07  4.230718e+05  3.683690e+04     490.150157      3.578651     0.059246       1.895877  5.559577e-09\n",
      "5     3.180724e+08  2.215062e+07  7.052176e+05  8.133725e+04    1433.611297     13.812258     0.303414       9.709264  2.847200e-08\n",
      "6     3.128151e+08  2.699809e+07  1.044267e+06  1.502012e+05    3299.962142     39.464661     1.081638      34.612411  1.014994e-07\n",
      "7     3.076447e+08  3.167926e+07  1.433082e+06  2.473211e+05    6515.443661     93.022202     3.058955      97.886569  2.870481e-07\n",
      "8     3.025598e+08  3.619831e+07  1.865149e+06  3.759750e+05   11560.682332    191.790005     7.364644     235.668596  6.910880e-07\n",
      "9     2.975589e+08  4.055932e+07  2.334528e+06  5.388852e+05   18960.374920    358.305926    15.749618     503.987786  1.477922e-06\n",
      "10    2.926407e+08  4.476628e+07  2.835808e+06  7.382716e+05   29274.020645    620.629803    30.754780     984.152954  2.885986e-06\n",
      "11    2.878038e+08  4.882309e+07  3.364065e+06  9.759013e+05   43087.611372   1012.523298    55.886652    1788.372864  5.244326e-06\n",
      "12    2.830468e+08  5.273356e+07  3.914820e+06  1.253133e+06   61006.197619   1573.534185    95.797113    3065.507615  8.989468e-06\n",
      "13    2.783685e+08  5.650143e+07  4.484003e+06  1.570960e+06   83647.254820   2348.997619   156.464432    5006.861814  1.468241e-05\n",
      "14    2.737674e+08  6.013033e+07  5.067924e+06  1.930044e+06  111634.780366   3389.965686   245.373196    7851.942274  2.302548e-05\n",
      "15    2.692425e+08  6.362384e+07  5.663235e+06  2.330755e+06  145594.057574   4753.075445   371.691053   11894.113688  3.487897e-05\n",
      "16    2.647923e+08  6.698543e+07  6.266908e+06  2.773198e+06  186147.027888   6500.364631   546.440483   17486.095459  5.127722e-05\n",
      "17    2.604156e+08  7.021852e+07  6.876207e+06  3.257245e+06  233908.217413   8699.043295   782.664111   25045.251548  7.344412e-05\n",
      "18    2.561113e+08  7.332644e+07  7.488662e+06  3.782561e+06  289481.168244  11421.228789  1095.582283   35058.633050  1.028079e-04\n",
      "19    2.518782e+08  7.631243e+07  8.102050e+06  4.348627e+06  353455.329099  14743.650720  1502.741882   48087.740215  1.410152e-04\n",
      "20    2.477150e+08  7.917968e+07  8.714373e+06  4.954762e+06  426403.363496  18747.331845  2024.155529   64772.976925  1.899440e-04\n",
      "21    2.436206e+08  8.193130e+07  9.323837e+06  5.600144e+06  508878.837134  23517.250170  2682.430508   85837.776258  2.517156e-04\n",
      "22    2.395940e+08  8.457032e+07  9.928840e+06  6.283828e+06  601414.249287  29141.986987  3502.886898  112092.380741  3.287061e-04\n",
      "23    2.356338e+08  8.709973e+07  1.052795e+07  7.004762e+06  704519.375939  35713.365028  4513.664543  144437.265379  4.235560e-04\n",
      "24    2.317391e+08  8.952241e+07  1.111990e+07  7.761803e+06  818679.895042  43326.080431  5745.818608  183866.195449  5.391797e-04\n",
      "25    2.279088e+08  9.184122e+07  1.170357e+07  8.553731e+06  944356.266766  52077.331781  7233.403580  231468.914555  6.787726e-04, 16:            healthy    mesalamine      remicade        humira        entyvio       skyrizi       rinvoq        failure  failure_rate\n",
      "Year                                                                                                                               \n",
      "1     3.400000e+08  1.011000e+06  0.000000e+00  0.000000e+00       0.000000      0.000000     0.000000       0.000000  0.000000e+00\n",
      "2     3.343803e+08  6.567295e+06  6.150440e+04  1.900544e+03       6.168211      0.042686     0.000130       0.007821  2.293485e-11\n",
      "3     3.288535e+08  1.193964e+07  2.056484e+05  1.216276e+04      75.701099      1.013845     0.006033       0.361985  1.061505e-09\n",
      "4     3.234180e+08  1.713259e+07  4.230718e+05  3.698508e+04     338.833906      6.709971     0.059246       3.554769  1.042421e-08\n",
      "5     3.180724e+08  2.215062e+07  7.052176e+05  8.177067e+04     988.108202     25.897984     0.303414      18.204869  5.338499e-08\n",
      "6     3.128151e+08  2.699809e+07  1.044267e+06  1.511989e+05    2267.767590     73.996239     1.081638      64.898270  1.903114e-07\n",
      "7     3.076447e+08  3.167926e+07  1.433082e+06  2.492909e+05    4464.263941    174.416630     3.058955     183.537317  5.382152e-07\n",
      "8     3.025598e+08  3.619831e+07  1.865149e+06  3.794701e+05    7897.776071    359.606259     7.364644     441.878619  1.295790e-06\n",
      "9     2.975589e+08  4.055932e+07  2.334528e+06  5.446174e+05   12914.650864    671.823610    15.749618     944.977098  2.771104e-06\n",
      "10    2.926407e+08  4.476628e+07  2.835808e+06  7.471219e+05   19880.684256   1163.680881    30.754780    1845.286788  5.411224e-06\n",
      "11    2.878038e+08  4.882309e+07  3.364065e+06  9.889278e+05   29175.166327   1898.481184    55.886652    3353.199121  9.833111e-06\n",
      "12    2.830468e+08  5.273356e+07  3.914820e+06  1.271577e+06   41185.621043   2950.376597    95.797113    5747.826778  1.685525e-05\n",
      "13    2.783685e+08  5.650143e+07  4.484003e+06  1.596248e+06   56303.176958   4404.370535   156.464432    9387.865902  2.752951e-05\n",
      "14    2.737674e+08  6.013033e+07  5.067924e+06  1.963794e+06   74918.510513   6356.185662   245.373196   14722.391765  4.317278e-05\n",
      "15    2.692425e+08  6.362384e+07  5.663235e+06  2.374772e+06   97418.308456   8912.016459   371.691053   22301.463166  6.539808e-05\n",
      "16    2.647923e+08  6.698543e+07  6.266908e+06  2.829475e+06  124182.200405  12188.183682   546.440483   32786.428986  9.614478e-05\n",
      "17    2.604156e+08  7.021852e+07  6.876207e+06  3.327962e+06  155580.116707  16310.706179   782.664111   46959.846653  1.377077e-04\n",
      "18    2.561113e+08  7.332644e+07  7.488662e+06  3.870079e+06  191970.030562  21414.803979  1095.582283   65734.936970  1.927649e-04\n",
      "19    2.518782e+08  7.631243e+07  8.102050e+06  4.455486e+06  233696.046852  27644.345100  1502.741882   90164.512904  2.644035e-04\n",
      "20    2.477150e+08  7.917968e+07  8.714373e+06  5.083675e+06  281086.803354  35151.247210  2024.155529  121449.331737  3.561449e-04\n",
      "21    2.436206e+08  8.193130e+07  9.323837e+06  5.753991e+06  334454.152939  44094.844068  2682.430508  160945.830486  4.719667e-04\n",
      "22    2.395940e+08  8.457032e+07  9.928840e+06  6.465651e+06  394092.098099  54641.225601  3502.886898  210173.213891  6.163239e-04\n",
      "23    2.356338e+08  8.709973e+07  1.052795e+07  7.217756e+06  460275.951604  66962.559428  4513.664543  270819.872587  7.941676e-04\n",
      "24    2.317391e+08  8.952241e+07  1.111990e+07  8.009311e+06  533261.699421  81236.400807  5745.818608  344749.116472  1.010962e-03\n",
      "25    2.279088e+08  9.184122e+07  1.170357e+07  8.839234e+06  613285.544067  97644.997088  7233.403580  434004.214810  1.272699e-03, 17:            healthy    mesalamine      remicade        humira        entyvio       skyrizi       rinvoq        failure  failure_rate\n",
      "Year                                                                                                                               \n",
      "1     3.400000e+08  1.011000e+06  0.000000e+00  0.000000e+00       0.000000      0.000000     0.000000       0.000000  0.000000e+00\n",
      "2     3.343803e+08  6.567295e+06  6.150440e+04  1.900544e+03       6.188131      0.022766     0.000130       0.004171  1.223192e-11\n",
      "3     3.288535e+08  1.193964e+07  2.056484e+05  1.216276e+04      76.174226      0.540717     0.006033       0.193059  5.661358e-10\n",
      "4     3.234180e+08  1.713259e+07  4.230718e+05  3.698508e+04     341.965226      3.578651     0.059246       1.895877  5.559577e-09\n",
      "5     3.180724e+08  2.215062e+07  7.052176e+05  8.177067e+04    1000.193928     13.812258     0.303414       9.709264  2.847200e-08\n",
      "6     3.128151e+08  2.699809e+07  1.044267e+06  1.511989e+05    2302.299168     39.464661     1.081638      34.612411  1.014994e-07\n",
      "7     3.076447e+08  3.167926e+07  1.433082e+06  2.492909e+05    4545.658368     93.022202     3.058955      97.886569  2.870481e-07\n",
      "8     3.025598e+08  3.619831e+07  1.865149e+06  3.794701e+05    8065.592325    191.790005     7.364644     235.668596  6.910880e-07\n",
      "9     2.975589e+08  4.055932e+07  2.334528e+06  5.446174e+05   13228.168549    358.305926    15.749618     503.987786  1.477922e-06\n",
      "10    2.926407e+08  4.476628e+07  2.835808e+06  7.471219e+05   20423.735334    620.629803    30.754780     984.152954  2.885986e-06\n",
      "11    2.878038e+08  4.882309e+07  3.364065e+06  9.889278e+05   30061.124213   1012.523298    55.886652    1788.372864  5.244326e-06\n",
      "12    2.830468e+08  5.273356e+07  3.914820e+06  1.271577e+06   42562.463455   1573.534185    95.797113    3065.507615  8.989468e-06\n",
      "13    2.783685e+08  5.650143e+07  4.484003e+06  1.596248e+06   58358.549874   2348.997619   156.464432    5006.861814  1.468241e-05\n",
      "14    2.737674e+08  6.013033e+07  5.067924e+06  1.963794e+06   77884.730488   3389.965686   245.373196    7851.942274  2.302548e-05\n",
      "15    2.692425e+08  6.362384e+07  5.663235e+06  2.374772e+06  101577.249471   4753.075445   371.691053   11894.113688  3.487897e-05\n",
      "16    2.647923e+08  6.698543e+07  6.266908e+06  2.829475e+06  129870.019457   6500.364631   546.440483   17486.095458  5.127722e-05\n",
      "17    2.604156e+08  7.021852e+07  6.876207e+06  3.327962e+06  163191.779591   8699.043295   782.664111   25045.251547  7.344412e-05\n",
      "18    2.561113e+08  7.332644e+07  7.488662e+06  3.870079e+06  201963.605752  11421.228789  1095.582283   35058.633050  1.028079e-04\n",
      "19    2.518782e+08  7.631243e+07  8.102050e+06  4.455486e+06  246596.741232  14743.650720  1502.741882   48087.740214  1.410152e-04\n",
      "20    2.477150e+08  7.917968e+07  8.714373e+06  5.083675e+06  297490.718718  18747.331845  2024.155529   64772.976925  1.899440e-04\n",
      "21    2.436206e+08  8.193130e+07  9.323837e+06  5.753991e+06  355031.746838  23517.250170  2682.430508   85837.776258  2.517156e-04\n",
      "22    2.395940e+08  8.457032e+07  9.928840e+06  6.465651e+06  419591.336712  29141.986987  3502.886898  112092.380741  3.287061e-04\n",
      "23    2.356338e+08  8.709973e+07  1.052795e+07  7.217756e+06  491525.146004  35713.365028  4513.664543  144437.265379  4.235560e-04\n",
      "24    2.317391e+08  8.952241e+07  1.111990e+07  8.009311e+06  571172.019797  43326.080431  5745.818608  183866.195449  5.391797e-04\n",
      "25    2.279088e+08  9.184122e+07  1.170357e+07  8.839234e+06  658853.209372  52077.331781  7233.403580  231468.914554  6.787726e-04, 18:            healthy    mesalamine      remicade        humira        entyvio       skyrizi       rinvoq       failure  failure_rate\n",
      "Year                                                                                                                              \n",
      "1     3.400000e+08  1.011000e+06  0.000000e+00  0.000000e+00       0.000000      0.000000     0.000000      0.000000  0.000000e+00\n",
      "2     3.343803e+08  6.567295e+06  6.313312e+04  2.756193e+02       2.404841      0.008751     0.000130      0.001603  4.701638e-12\n",
      "3     3.288535e+08  1.193964e+07  2.160716e+05  1.786161e+03      29.903617      0.207838     0.006033      0.074207  2.176084e-10\n",
      "4     3.234180e+08  1.713259e+07  4.547672e+05  5.498322e+03     135.573709      1.375544     0.059246      0.728728  2.136963e-09\n",
      "5     3.180724e+08  2.215062e+07  7.752931e+05  1.230341e+04     400.392987      5.309087     0.303414      3.731998  1.094392e-08\n",
      "6     3.128151e+08  2.699809e+07  1.173841e+06  2.302105e+04     930.500178     15.169229     1.081638     13.304145  3.901383e-08\n",
      "7     3.076447e+08  3.167926e+07  1.646719e+06  3.840271e+04    1854.612673     35.755409     3.058955     37.625150  1.103341e-07\n",
      "8     3.025598e+08  3.619831e+07  2.190346e+06  5.913512e+04    3321.594653     73.719283     7.364644     90.585117  2.656369e-07\n",
      "9     2.975589e+08  4.055932e+07  2.801252e+06  8.584353e+04    5498.168696    137.723840    15.749618    193.720305  5.680764e-07\n",
      "10    2.926407e+08  4.476628e+07  3.476075e+06  1.190948e+05    8566.764311    238.554581    30.754780    378.283792  1.109301e-06\n",
      "11    2.878038e+08  4.882309e+07  4.211554e+06  1.594006e+05   12723.497098    389.188643    55.886652    687.405820  2.015788e-06\n",
      "12    2.830468e+08  5.273356e+07  5.004532e+06  2.072200e+05   18176.272483    604.827202    95.797113   1178.304490  3.455327e-06\n",
      "13    2.783685e+08  5.650143e+07  5.851951e+06  2.629623e+05   25143.008218    902.895960   156.464432   1924.512510  5.643550e-06\n",
      "14    2.737674e+08  6.013033e+07  6.750850e+06  3.269899e+05   33849.970079   1303.018061   245.373196   3018.090311  8.850419e-06\n",
      "15    2.692425e+08  6.362384e+07  7.698359e+06  3.996207e+05   44530.215398   1826.963374   371.691053   4571.799948  1.340661e-05\n",
      "16    2.647923e+08  6.698543e+07  8.691702e+06  4.811304e+05   57422.139308   2498.577655   546.440483   6721.217941  1.970968e-05\n",
      "17    2.604156e+08  7.021852e+07  9.728193e+06  5.717549e+05   72768.118772   3343.694767   782.664111   9626.768563  2.823008e-05\n",
      "18    2.561113e+08  7.332644e+07  1.080523e+07  6.716928e+05   90813.249660   4390.034816  1095.582283  13475.662078  3.951680e-05\n",
      "19    2.518782e+08  7.631243e+07  1.192030e+07  7.811072e+05  111804.172363   5667.090746  1502.741882  18483.725144  5.420272e-05\n",
      "20    2.477150e+08  7.917968e+07  1.307096e+07  9.001278e+05  135987.981571   7206.005678  2024.155529  24897.113005  7.300971e-05\n",
      "21    2.436206e+08  8.193130e+07  1.425487e+07  1.028853e+06  163611.216071   9039.443034  2682.430508  32993.895249  9.675317e-05\n",
      "22    2.395940e+08  8.457032e+07  1.546975e+07  1.167351e+06  194918.924559  11201.451248  3502.886898  43085.508847  1.263464e-04\n",
      "23    2.356338e+08  8.709973e+07  1.671340e+07  1.315664e+06  230153.803643  13727.324683  4513.664543  55518.073879  1.628043e-04\n",
      "24    2.317391e+08  8.952241e+07  1.798370e+07  1.473807e+06  269555.404357  16653.462166  5745.818608  70673.568875  2.072472e-04\n",
      "25    2.279088e+08  9.184122e+07  1.927858e+07  1.641770e+06  313359.403686  20017.224404  7233.403580  88970.864028  2.609032e-04, 19:            healthy    mesalamine      remicade        humira        entyvio       skyrizi       rinvoq        failure  failure_rate\n",
      "Year                                                                                                                               \n",
      "1     3.400000e+08  1.011000e+06  0.000000e+00  0.000000e+00       0.000000      0.000000     0.000000       0.000000  0.000000e+00\n",
      "2     3.343803e+08  6.567295e+06  6.313312e+04  2.756193e+02       2.370906      0.042686     0.000130       0.007821  2.293490e-11\n",
      "3     3.288535e+08  1.193964e+07  2.160716e+05  1.786161e+03      29.097610      1.013845     0.006033       0.361985  1.061505e-09\n",
      "4     3.234180e+08  1.713259e+07  4.547672e+05  5.498322e+03     130.239283      6.709971     0.059246       3.554769  1.042421e-08\n",
      "5     3.180724e+08  2.215062e+07  7.752931e+05  1.230341e+04     379.804090     25.897984     0.303414      18.204870  5.338499e-08\n",
      "6     3.128151e+08  2.699809e+07  1.173841e+06  2.302105e+04     871.673168     73.996239     1.081638      64.898270  1.903114e-07\n",
      "7     3.076447e+08  3.167926e+07  1.646719e+06  3.840271e+04    1715.951452    174.416630     3.058955     183.537317  5.382152e-07\n",
      "8     3.025598e+08  3.619831e+07  2.190346e+06  5.913512e+04    3035.707677    359.606259     7.364644     441.878619  1.295790e-06\n",
      "9     2.975589e+08  4.055932e+07  2.801252e+06  8.584353e+04    4964.068926    671.823610    15.749618     944.977098  2.771104e-06\n",
      "10    2.926407e+08  4.476628e+07  3.476075e+06  1.190948e+05    7641.638011   1163.680881    30.754780    1845.286788  5.411224e-06\n",
      "11    2.878038e+08  4.882309e+07  4.211554e+06  1.594006e+05   11214.204557   1898.481184    55.886652    3353.199121  9.833111e-06\n",
      "12    2.830468e+08  5.273356e+07  5.004532e+06  2.072200e+05   15830.723088   2950.376597    95.797113    5747.826778  1.685525e-05\n",
      "13    2.783685e+08  5.650143e+07  5.851951e+06  2.629623e+05   21641.533643   4404.370535   156.464432    9387.865902  2.752951e-05\n",
      "14    2.737674e+08  6.013033e+07  6.750850e+06  3.269899e+05   28796.802478   6356.185662   245.373196   14722.391765  4.317278e-05\n",
      "15    2.692425e+08  6.362384e+07  7.698359e+06  3.996207e+05   37445.162313   8912.016459   371.691053   22301.463166  6.539808e-05\n",
      "16    2.647923e+08  6.698543e+07  8.691702e+06  4.811304e+05   47732.533281  12188.183682   546.440483   32786.428985  9.614478e-05\n",
      "17    2.604156e+08  7.021852e+07  9.728193e+06  5.717549e+05   59801.107359  16310.706179   782.664111   46959.846653  1.377077e-04\n",
      "18    2.561113e+08  7.332644e+07  1.080523e+07  6.716928e+05   73788.480497  21414.803979  1095.582283   65734.936970  1.927649e-04\n",
      "19    2.518782e+08  7.631243e+07  1.192030e+07  7.811072e+05   89826.918009  27644.345100  1502.741882   90164.512904  2.644035e-04\n",
      "20    2.477150e+08  7.917968e+07  1.307096e+07  9.001278e+05  108042.740039  35151.247210  2024.155529  121449.331737  3.561449e-04\n",
      "21    2.436206e+08  8.193130e+07  1.425487e+07  1.028853e+06  128555.815036  44094.844068  2682.430508  160945.830486  4.719667e-04\n",
      "22    2.395940e+08  8.457032e+07  1.546975e+07  1.167351e+06  151479.150207  54641.225601  3502.886898  210173.213891  6.163239e-04\n",
      "23    2.356338e+08  8.709973e+07  1.671340e+07  1.315664e+06  176918.568898  66962.559428  4513.664543  270819.872586  7.941676e-04\n",
      "24    2.317391e+08  8.952241e+07  1.798370e+07  1.473807e+06  204972.465715  81236.400807  5745.818608  344749.116471  1.010962e-03\n",
      "25    2.279088e+08  9.184122e+07  1.927858e+07  1.641770e+06  235731.631001  97644.997088  7233.403580  434004.214810  1.272699e-03, 20:            healthy    mesalamine      remicade        humira        entyvio       skyrizi       rinvoq       failure  failure_rate\n",
      "Year                                                                                                                              \n",
      "1     3.400000e+08  1.011000e+06  0.000000e+00  0.000000e+00       0.000000      0.000000     0.000000      0.000000  0.000000e+00\n",
      "2     3.343803e+08  6.567295e+06  6.313312e+04  2.767415e+02       1.282582      0.008751     0.000130      0.001603  4.701639e-12\n",
      "3     3.288535e+08  1.193964e+07  2.160716e+05  1.800116e+03      15.948595      0.207838     0.006033      0.074207  2.176084e-10\n",
      "4     3.234180e+08  1.713259e+07  4.547672e+05  5.561589e+03      72.305978      1.375544     0.059246      0.728728  2.136963e-09\n",
      "5     3.180724e+08  2.215062e+07  7.752931e+05  1.249026e+04     213.542927      5.309087     0.303414      3.731998  1.094392e-08\n",
      "6     3.128151e+08  2.699809e+07  1.173841e+06  2.345528e+04     496.266761     15.169229     1.081638     13.304145  3.901383e-08\n",
      "7     3.076447e+08  3.167926e+07  1.646719e+06  3.926819e+04     989.126759     35.755409     3.058955     37.625150  1.103341e-07\n",
      "8     3.025598e+08  3.619831e+07  2.190346e+06  6.068519e+04    1771.517148     73.719283     7.364644     90.585117  2.656369e-07\n",
      "9     2.975589e+08  4.055932e+07  2.801252e+06  8.840934e+04    2932.356638    137.723840    15.749618    193.720305  5.680764e-07\n",
      "10    2.926407e+08  4.476628e+07  3.476075e+06  1.230927e+05    4568.940966    238.554581    30.754780    378.283792  1.109301e-06\n",
      "11    2.878038e+08  4.882309e+07  4.211554e+06  1.653383e+05    6785.865119    389.188643    55.886652    687.405820  2.015788e-06\n",
      "12    2.830468e+08  5.273356e+07  5.004532e+06  2.157022e+05    9694.011991    604.827202    95.797113   1178.304490  3.455327e-06\n",
      "13    2.783685e+08  5.650143e+07  5.851951e+06  2.746957e+05   13409.604383    902.895960   156.464432   1924.512510  5.643550e-06\n",
      "14    2.737674e+08  6.013033e+07  6.750850e+06  3.427866e+05   18053.317376   1303.018061   245.373196   3018.090311  8.850419e-06\n",
      "15    2.692425e+08  6.362384e+07  7.698359e+06  4.204015e+05   23749.448212   1826.963374   371.691053   4571.799948  1.340661e-05\n",
      "16    2.647923e+08  6.698543e+07  8.691702e+06  5.079274e+05   30625.140964   2498.577655   546.440483   6721.217941  1.970968e-05\n",
      "17    2.604156e+08  7.021852e+07  9.728193e+06  6.057134e+05   38809.663345   3343.694767   782.664111   9626.768563  2.823008e-05\n",
      "18    2.561113e+08  7.332644e+07  1.080523e+07  7.140724e+05   48433.733152   4390.034816  1095.582283  13475.662078  3.951680e-05\n",
      "19    2.518782e+08  7.631243e+07  1.192030e+07  8.332825e+05   59628.891927   5667.090746  1502.741882  18483.725144  5.420272e-05\n",
      "20    2.477150e+08  7.917968e+07  1.307096e+07  9.635888e+05   72526.923505   7206.005678  2024.155529  24897.113005  7.300971e-05\n",
      "21    2.436206e+08  8.193130e+07  1.425487e+07  1.105205e+06   87259.315238   9039.443034  2682.430508  32993.895249  9.675317e-05\n",
      "22    2.395940e+08  8.457032e+07  1.546975e+07  1.258314e+06  103956.759765  11201.451248  3502.886898  43085.508847  1.263464e-04\n",
      "23    2.356338e+08  8.709973e+07  1.671340e+07  1.423069e+06  122748.695276  13727.324683  4513.664543  55518.073879  1.628043e-04\n",
      "24    2.317391e+08  8.952241e+07  1.798370e+07  1.599599e+06  143762.882324  16653.462166  5745.818608  70673.568875  2.072472e-04\n",
      "25    2.279088e+08  9.184122e+07  1.927858e+07  1.788004e+06  167125.015299  20017.224404  7233.403580  88970.864028  2.609032e-04, 21:            healthy    mesalamine      remicade        humira        entyvio       skyrizi       rinvoq        failure  failure_rate\n",
      "Year                                                                                                                               \n",
      "1     3.400000e+08  1.011000e+06  0.000000e+00  0.000000e+00       0.000000      0.000000     0.000000       0.000000  0.000000e+00\n",
      "2     3.343803e+08  6.567295e+06  6.313312e+04  2.767415e+02       1.268567      0.022766     0.000130       0.004171  1.223196e-11\n",
      "3     3.288535e+08  1.193964e+07  2.160716e+05  1.800116e+03      15.615716      0.540717     0.006033       0.193059  5.661358e-10\n",
      "4     3.234180e+08  1.713259e+07  4.547672e+05  5.561589e+03      70.102871      3.578651     0.059246       1.895877  5.559577e-09\n",
      "5     3.180724e+08  2.215062e+07  7.752931e+05  1.249026e+04     205.039755     13.812258     0.303414       9.709264  2.847200e-08\n",
      "6     3.128151e+08  2.699809e+07  1.173841e+06  2.345528e+04     471.971330     39.464661     1.081638      34.612411  1.014994e-07\n",
      "7     3.076447e+08  3.167926e+07  1.646719e+06  3.926819e+04     931.859965     93.022202     3.058955      97.886569  2.870481e-07\n",
      "8     3.025598e+08  3.619831e+07  2.190346e+06  6.068519e+04    1653.446427    191.790005     7.364644     235.668596  6.910880e-07\n",
      "9     2.975589e+08  4.055932e+07  2.801252e+06  8.840934e+04    2711.774553    358.305926    15.749618     503.987786  1.477922e-06\n",
      "10    2.926407e+08  4.476628e+07  3.476075e+06  1.230927e+05    4186.865743    620.629803    30.754780     984.152954  2.885986e-06\n",
      "11    2.878038e+08  4.882309e+07  4.211554e+06  1.653383e+05    6162.530464   1012.523298    55.886652    1788.372864  5.244326e-06\n",
      "12    2.830468e+08  5.273356e+07  5.004532e+06  2.157022e+05    8725.305008   1573.534185    95.797113    3065.507615  8.989468e-06\n",
      "13    2.783685e+08  5.650143e+07  5.851951e+06  2.746957e+05   11963.502724   2348.997619   156.464432    5006.861814  1.468241e-05\n",
      "14    2.737674e+08  6.013033e+07  6.750850e+06  3.427866e+05   15966.369750   3389.965686   245.373196    7851.942274  2.302548e-05\n",
      "15    2.692425e+08  6.362384e+07  7.698359e+06  4.204015e+05   20823.336141   4753.075445   371.691053   11894.113687  3.487897e-05\n",
      "16    2.647923e+08  6.698543e+07  8.691702e+06  5.079274e+05   26623.353989   6500.364631   546.440483   17486.095458  5.127722e-05\n",
      "17    2.604156e+08  7.021852e+07  9.728193e+06  6.057134e+05   33454.314816   8699.043296   782.664111   25045.251547  7.344412e-05\n",
      "18    2.561113e+08  7.332644e+07  1.080523e+07  7.140724e+05   41402.539179  11421.228789  1095.582283   35058.633049  1.028079e-04\n",
      "19    2.518782e+08  7.631243e+07  1.192030e+07  8.332825e+05   50552.331953  14743.650720  1502.741882   48087.740214  1.410152e-04\n",
      "20    2.477150e+08  7.917968e+07  1.307096e+07  9.635888e+05   60985.597337  18747.331845  2024.155529   64772.976925  1.899440e-04\n",
      "21    2.436206e+08  8.193130e+07  1.425487e+07  1.105205e+06   72781.508102  23517.250170  2682.430508   85837.776258  2.517156e-04\n",
      "22    2.395940e+08  8.457032e+07  1.546975e+07  1.258314e+06   86016.224026  29141.986987  3502.886898  112092.380741  3.287061e-04\n",
      "23    2.356338e+08  8.709973e+07  1.671340e+07  1.423069e+06  100762.654931  35713.365028  4513.664543  144437.265379  4.235560e-04\n",
      "24    2.317391e+08  8.952241e+07  1.798370e+07  1.599599e+06  117090.264058  43326.080431  5745.818608  183866.195448  5.391797e-04\n",
      "25    2.279088e+08  9.184122e+07  1.927858e+07  1.788004e+06  135064.907921  52077.331782  7233.403580  231468.914551  6.787726e-04, 22:            healthy    mesalamine      remicade        humira        entyvio       skyrizi       rinvoq        failure  failure_rate\n",
      "Year                                                                                                                               \n",
      "1     3.400000e+08  1.011000e+06  0.000000e+00  0.000000e+00       0.000000      0.000000     0.000000       0.000000  0.000000e+00\n",
      "2     3.343803e+08  6.567295e+06  6.313312e+04  2.718220e+02       6.168211      0.042686     0.000130       0.007821  2.293486e-11\n",
      "3     3.288535e+08  1.193964e+07  2.160716e+05  1.739558e+03      75.701099      1.013845     0.006033       0.361985  1.061505e-09\n",
      "4     3.234180e+08  1.713259e+07  4.547672e+05  5.289727e+03     338.833906      6.709971     0.059246       3.554769  1.042421e-08\n",
      "5     3.180724e+08  2.215062e+07  7.752931e+05  1.169511e+04     988.108202     25.897984     0.303414      18.204869  5.338499e-08\n",
      "6     3.128151e+08  2.699809e+07  1.173841e+06  2.162495e+04    2267.767590     73.996239     1.081638      64.898270  1.903114e-07\n",
      "7     3.076447e+08  3.167926e+07  1.646719e+06  3.565439e+04    4464.263941    174.416630     3.058955     183.537317  5.382152e-07\n",
      "8     3.025598e+08  3.619831e+07  2.190346e+06  5.427305e+04    7897.776071    359.606259     7.364644     441.878619  1.295790e-06\n",
      "9     2.975589e+08  4.055932e+07  2.801252e+06  7.789295e+04   12914.650864    671.823610    15.749618     944.977098  2.771104e-06\n",
      "10    2.926407e+08  4.476628e+07  3.476075e+06  1.068558e+05   19880.684256   1163.680881    30.754780    1845.286788  5.411224e-06\n",
      "11    2.878038e+08  4.882309e+07  4.211554e+06  1.414397e+05   29175.166327   1898.481184    55.886652    3353.199121  9.833111e-06\n",
      "12    2.830468e+08  5.273356e+07  5.004532e+06  1.818651e+05   41185.621043   2950.376597    95.797113    5747.826778  1.685525e-05\n",
      "13    2.783685e+08  5.650143e+07  5.851951e+06  2.283007e+05   56303.176958   4404.370535   156.464432    9387.865902  2.752951e-05\n",
      "14    2.737674e+08  6.013033e+07  6.750850e+06  2.808682e+05   74918.510513   6356.185662   245.373196   14722.391764  4.317278e-05\n",
      "15    2.692425e+08  6.362384e+07  7.698359e+06  3.396476e+05   97418.308456   8912.016459   371.691053   22301.463165  6.539808e-05\n",
      "16    2.647923e+08  6.698543e+07  8.691702e+06  4.046807e+05  124182.200405  12188.183682   546.440483   32786.428985  9.614478e-05\n",
      "17    2.604156e+08  7.021852e+07  9.728193e+06  4.759759e+05  155580.116707  16310.706179   782.664111   46959.846653  1.377077e-04\n",
      "18    2.561113e+08  7.332644e+07  1.080523e+07  5.535113e+05  191970.030562  21414.803979  1095.582283   65734.936970  1.927649e-04\n",
      "19    2.518782e+08  7.631243e+07  1.192030e+07  6.372381e+05  233696.046852  27644.345100  1502.741882   90164.512904  2.644035e-04\n",
      "20    2.477150e+08  7.917968e+07  1.307096e+07  7.270837e+05  281086.803354  35151.247210  2024.155529  121449.331737  3.561449e-04\n",
      "21    2.436206e+08  8.193130e+07  1.425487e+07  8.229545e+05  334454.152939  44094.844069  2682.430508  160945.830485  4.719667e-04\n",
      "22    2.395940e+08  8.457032e+07  1.546975e+07  9.247384e+05  394092.098098  54641.225601  3502.886898  210173.213890  6.163239e-04\n",
      "23    2.356338e+08  8.709973e+07  1.671340e+07  1.032307e+06  460275.951604  66962.559428  4513.664543  270819.872586  7.941676e-04\n",
      "24    2.317391e+08  8.952241e+07  1.798370e+07  1.145518e+06  533261.699420  81236.400807  5745.818608  344749.116468  1.010962e-03\n",
      "25    2.279088e+08  9.184122e+07  1.927858e+07  1.264216e+06  613285.544067  97644.997088  7233.403580  434004.214809  1.272699e-03, 23:            healthy    mesalamine      remicade        humira        entyvio       skyrizi       rinvoq        failure  failure_rate\n",
      "Year                                                                                                                               \n",
      "1     3.400000e+08  1.011000e+06  0.000000e+00  0.000000e+00       0.000000      0.000000     0.000000       0.000000  0.000000e+00\n",
      "2     3.343803e+08  6.567295e+06  6.313312e+04  2.718220e+02       6.188131      0.022766     0.000130       0.004171  1.223192e-11\n",
      "3     3.288535e+08  1.193964e+07  2.160716e+05  1.739558e+03      76.174226      0.540717     0.006033       0.193059  5.661358e-10\n",
      "4     3.234180e+08  1.713259e+07  4.547672e+05  5.289727e+03     341.965226      3.578651     0.059246       1.895877  5.559577e-09\n",
      "5     3.180724e+08  2.215062e+07  7.752931e+05  1.169511e+04    1000.193928     13.812258     0.303414       9.709264  2.847200e-08\n",
      "6     3.128151e+08  2.699809e+07  1.173841e+06  2.162495e+04    2302.299168     39.464661     1.081638      34.612411  1.014994e-07\n",
      "7     3.076447e+08  3.167926e+07  1.646719e+06  3.565439e+04    4545.658368     93.022202     3.058955      97.886569  2.870481e-07\n",
      "8     3.025598e+08  3.619831e+07  2.190346e+06  5.427305e+04    8065.592325    191.790005     7.364644     235.668596  6.910880e-07\n",
      "9     2.975589e+08  4.055932e+07  2.801252e+06  7.789295e+04   13228.168549    358.305926    15.749618     503.987786  1.477922e-06\n",
      "10    2.926407e+08  4.476628e+07  3.476075e+06  1.068558e+05   20423.735334    620.629803    30.754780     984.152954  2.885986e-06\n",
      "11    2.878038e+08  4.882309e+07  4.211554e+06  1.414397e+05   30061.124213   1012.523298    55.886652    1788.372864  5.244326e-06\n",
      "12    2.830468e+08  5.273356e+07  5.004532e+06  1.818651e+05   42562.463455   1573.534185    95.797113    3065.507615  8.989468e-06\n",
      "13    2.783685e+08  5.650143e+07  5.851951e+06  2.283007e+05   58358.549874   2348.997619   156.464432    5006.861814  1.468241e-05\n",
      "14    2.737674e+08  6.013033e+07  6.750850e+06  2.808682e+05   77884.730488   3389.965686   245.373196    7851.942274  2.302548e-05\n",
      "15    2.692425e+08  6.362384e+07  7.698359e+06  3.396476e+05  101577.249470   4753.075445   371.691053   11894.113688  3.487897e-05\n",
      "16    2.647923e+08  6.698543e+07  8.691702e+06  4.046807e+05  129870.019457   6500.364631   546.440483   17486.095458  5.127722e-05\n",
      "17    2.604156e+08  7.021852e+07  9.728193e+06  4.759759e+05  163191.779590   8699.043296   782.664111   25045.251547  7.344412e-05\n",
      "18    2.561113e+08  7.332644e+07  1.080523e+07  5.535113e+05  201963.605752  11421.228789  1095.582283   35058.633049  1.028079e-04\n",
      "19    2.518782e+08  7.631243e+07  1.192030e+07  6.372381e+05  246596.741232  14743.650720  1502.741882   48087.740214  1.410152e-04\n",
      "20    2.477150e+08  7.917968e+07  1.307096e+07  7.270837e+05  297490.718718  18747.331845  2024.155529   64772.976925  1.899440e-04\n",
      "21    2.436206e+08  8.193130e+07  1.425487e+07  8.229545e+05  355031.746838  23517.250170  2682.430508   85837.776258  2.517156e-04\n",
      "22    2.395940e+08  8.457032e+07  1.546975e+07  9.247384e+05  419591.336712  29141.986987  3502.886898  112092.380741  3.287061e-04\n",
      "23    2.356338e+08  8.709973e+07  1.671340e+07  1.032307e+06  491525.146004  35713.365028  4513.664543  144437.265379  4.235560e-04\n",
      "24    2.317391e+08  8.952241e+07  1.798370e+07  1.145518e+06  571172.019797  43326.080431  5745.818608  183866.195448  5.391797e-04\n",
      "25    2.279088e+08  9.184122e+07  1.927858e+07  1.264216e+06  658853.209371  52077.331782  7233.403580  231468.914551  6.787726e-04, 24:            healthy    mesalamine      remicade        humira        entyvio        skyrizi       rinvoq        failure  failure_rate\n",
      "Year                                                                                                                                \n",
      "1     3.400000e+08  1.011000e+06  0.000000e+00  0.000000e+00       0.000000       0.000000     0.000000       0.000000  0.000000e+00\n",
      "2     3.343803e+08  6.512460e+06  1.175025e+05  7.396847e+02       3.394507       0.061183     0.000130       0.011210  3.287332e-11\n",
      "3     3.288535e+08  1.175321e+07  3.994827e+05  4.787350e+03      41.616511       1.453178     0.006033       0.518845  1.521490e-09\n",
      "4     3.234180e+08  1.674279e+07  8.352914e+05  1.471799e+04     186.080236       9.617625     0.059246       5.095170  1.494136e-08\n",
      "5     3.180724e+08  2.149041e+07  1.414746e+06  3.289191e+04     542.085258      37.120443     0.303414      26.093646  7.651849e-08\n",
      "6     3.128151e+08  2.600497e+07  2.128112e+06  6.146585e+04    1242.824874     106.061276     1.081638      93.020854  2.727796e-07\n",
      "7     3.076447e+08  3.029509e+07  2.966089e+06  1.024036e+05    2444.036404     249.997169     3.058955     263.070155  7.714418e-07\n",
      "8     3.025598e+08  3.436908e+07  3.919792e+06  1.574863e+05    4319.235981     515.435638     7.364644     633.359354  1.857299e-06\n",
      "9     2.975589e+08  3.823498e+07  4.980734e+06  2.283219e+05    7055.485130     962.947175    15.749618    1354.467174  3.971916e-06\n",
      "10    2.926407e+08  4.190057e+07  6.140816e+06  3.163551e+05   10849.640831    1667.942596    30.754780    2644.911063  7.756087e-06\n",
      "11    2.878038e+08  4.537335e+07  7.392309e+06  4.228757e+05   15905.044787    2721.156363    55.886652    4806.252073  1.409413e-05\n",
      "12    2.830468e+08  4.866057e+07  8.727840e+06  5.490273e+05   22428.611306    4228.873122    95.797113    8238.551715  2.415920e-05\n",
      "13    2.783685e+08  5.176925e+07  1.014038e+07  6.958159e+05   30628.276639    6312.931100   156.464432   13455.941127  3.945897e-05\n",
      "14    2.737674e+08  5.470616e+07  1.162323e+07  8.641171e+05   40710.775726    9110.532782   245.373196   21102.094864  6.188098e-05\n",
      "15    2.692425e+08  5.747784e+07  1.317000e+07  1.054684e+06   52879.715186   12773.890258   371.691053   31965.430538  9.373724e-05\n",
      "16    2.647923e+08  6.009061e+07  1.477461e+07  1.268155e+06   67333.914052   17469.729944   546.440483   46993.881546  1.378075e-04\n",
      "17    2.604156e+08  6.255059e+07  1.643129e+07  1.505059e+06   84265.986150   23378.678856   782.664111   67309.113536  1.973811e-04\n",
      "18    2.561113e+08  6.486366e+07  1.813453e+07  1.765822e+06  103861.140293   30694.552370  1095.582283   94220.076324  2.762963e-04\n",
      "19    2.518782e+08  6.703552e+07  1.987909e+07  2.050777e+06  126296.176490   39623.561310  1502.741882  129235.801830  3.789784e-04\n",
      "20    2.477150e+08  6.907168e+07  2.166000e+07  2.360165e+06  151738.658263   50383.454334  2024.155529  174077.375490  5.104744e-04\n",
      "21    2.436206e+08  7.097745e+07  2.347253e+07  2.694144e+06  180346.242904   63202.609831  2682.430508  230689.023697  6.764856e-04\n",
      "22    2.395940e+08  7.275796e+07  2.531221e+07  3.052792e+06  212266.153089   78319.090027  3502.886898  301248.273244  8.833975e-04\n",
      "23    2.356338e+08  7.441816e+07  2.717478e+07  3.436115e+06  247634.774725   95979.668513  4513.664543  388175.150708  1.138307e-03\n",
      "24    2.317391e+08  7.596285e+07  2.905621e+07  3.844049e+06  286577.367253  116438.841157  5745.818608  494140.400276  1.449045e-03\n",
      "25    2.279088e+08  7.739663e+07  3.095268e+07  4.276468e+06  329207.873860  139957.829160  7233.403580  622072.707895  1.824201e-03, 25:            healthy    mesalamine      remicade        humira        entyvio       skyrizi       rinvoq       failure  failure_rate\n",
      "Year                                                                                                                              \n",
      "1     3.400000e+08  1.011000e+06  0.000000e+00  0.000000e+00       0.000000      0.000000     0.000000      0.000000  0.000000e+00\n",
      "2     3.343803e+08  6.512460e+06  1.175025e+05  7.396847e+02       3.446939      0.008751     0.000130      0.001603  4.701636e-12\n",
      "3     3.288535e+08  1.175321e+07  3.994827e+05  4.787350e+03      42.861850      0.207838     0.006033      0.074207  2.176084e-10\n",
      "4     3.234180e+08  1.674279e+07  8.352914e+05  1.471799e+04     194.322317      1.375544     0.059246      0.728728  2.136963e-09\n",
      "5     3.180724e+08  2.149041e+07  1.414746e+06  3.289191e+04     573.896615      5.309087     0.303414      3.731998  1.094392e-08\n",
      "6     3.128151e+08  2.600497e+07  2.128112e+06  6.146585e+04    1333.716921     15.169229     1.081638     13.304145  3.901383e-08\n",
      "7     3.076447e+08  3.029509e+07  2.966089e+06  1.024036e+05    2658.278164     35.755409     3.058955     37.625150  1.103341e-07\n",
      "8     3.025598e+08  3.436908e+07  3.919792e+06  1.574863e+05    4760.952336     73.719283     7.364644     90.585117  2.656369e-07\n",
      "9     2.975589e+08  3.823498e+07  4.980734e+06  2.283219e+05    7880.708465    137.723840    15.749618    193.720305  5.680764e-07\n",
      "10    2.926407e+08  4.190057e+07  6.140816e+06  3.163551e+05   12279.028846    238.554581    30.754780    378.283792  1.109301e-06\n",
      "11    2.878038e+08  4.537335e+07  7.392309e+06  4.228757e+05   18237.012507    389.188643    55.886652    687.405820  2.015788e-06\n",
      "12    2.830468e+08  4.866057e+07  8.727840e+06  5.490273e+05   26052.657225    604.827202    95.797113   1178.304490  3.455327e-06\n",
      "13    2.783685e+08  5.176925e+07  1.014038e+07  6.958159e+05   36038.311780    902.895960   156.464432   1924.512510  5.643550e-06\n",
      "14    2.737674e+08  5.470616e+07  1.162323e+07  8.641171e+05   48518.290447   1303.018061   245.373196   3018.090311  8.850419e-06\n",
      "15    2.692425e+08  5.747784e+07  1.317000e+07  1.054684e+06   63826.642070   1826.963374   371.691053   4571.799948  1.340661e-05\n",
      "16    2.647923e+08  6.009061e+07  1.477461e+07  1.268155e+06   82305.066342   2498.577655   546.440483   6721.217941  1.970968e-05\n",
      "17    2.604156e+08  6.255059e+07  1.643129e+07  1.505059e+06  104300.970239   3343.694767   782.664111   9626.768563  2.823008e-05\n",
      "18    2.561113e+08  6.486366e+07  1.813453e+07  1.765822e+06  130165.657847   4390.034816  1095.582283  13475.662078  3.951680e-05\n",
      "19    2.518782e+08  6.703552e+07  1.987909e+07  2.050777e+06  160252.647054   5667.090746  1502.741882  18483.725144  5.420272e-05\n",
      "20    2.477150e+08  6.907168e+07  2.166000e+07  2.360165e+06  194916.106918   7206.005678  2024.155529  24897.113005  7.300971e-05\n",
      "21    2.436206e+08  7.097745e+07  2.347253e+07  2.694144e+06  234509.409701   9039.443034  2682.430508  32993.895249  9.675317e-05\n",
      "22    2.395940e+08  7.275796e+07  2.531221e+07  3.052792e+06  279383.791868  11201.451248  3502.886898  43085.508847  1.263464e-04\n",
      "23    2.356338e+08  7.441816e+07  2.717478e+07  3.436115e+06  329887.118555  13727.324683  4513.664543  55518.073880  1.628043e-04\n",
      "24    2.317391e+08  7.596285e+07  2.905621e+07  3.844049e+06  386362.746244  16653.462166  5745.818608  70673.568875  2.072472e-04\n",
      "25    2.279088e+08  7.739663e+07  3.095268e+07  4.276468e+06  449148.478616  20017.224404  7233.403580  88970.864028  2.609032e-04, 26:            healthy    mesalamine      remicade        humira       entyvio        skyrizi       rinvoq        failure  failure_rate\n",
      "Year                                                                                                                               \n",
      "1     3.400000e+08  1.011000e+06  0.000000e+00  0.000000e+00  0.000000e+00       0.000000     0.000000       0.000000  0.000000e+00\n",
      "2     3.343803e+08  6.512460e+06  1.175025e+05  7.265206e+02  1.655857e+01       0.061183     0.000130       0.011210  3.287327e-11\n",
      "3     3.288535e+08  1.175321e+07  3.994827e+05  4.625960e+03  2.030074e+02       1.453178     0.006033       0.518845  1.521490e-09\n",
      "4     3.234180e+08  1.674279e+07  8.352914e+05  1.399636e+04  9.077085e+02       9.617625     0.059246       5.095170  1.494136e-08\n",
      "5     3.180724e+08  2.149041e+07  1.414746e+06  3.078968e+04  2.644318e+03      37.120443     0.303414      26.093646  7.651849e-08\n",
      "6     3.128151e+08  2.600497e+07  2.128112e+06  5.664611e+04  6.062560e+03     106.061276     1.081638      93.020854  2.727796e-07\n",
      "7     3.076447e+08  3.029509e+07  2.966089e+06  9.292552e+04  1.192213e+04     249.997169     3.058955     263.070155  7.714418e-07\n",
      "8     3.025598e+08  3.436908e+07  3.919792e+06  1.407361e+05  2.106944e+04     515.435638     7.364644     633.359354  1.857299e-06\n",
      "9     2.975589e+08  3.823498e+07  4.980734e+06  2.009604e+05  3.441700e+04     962.947175    15.749618    1354.467174  3.971916e-06\n",
      "10    2.926407e+08  4.190057e+07  6.140816e+06  2.742797e+05  5.292508e+04    1667.942596    30.754780    2644.911063  7.756087e-06\n",
      "11    2.878038e+08  4.537335e+07  7.392309e+06  3.611951e+05  7.758558e+04    2721.156363    55.886652    4806.252073  1.409413e-05\n",
      "12    2.830468e+08  4.866057e+07  8.727840e+06  4.620481e+05  1.094079e+05    4228.873122    95.797113    8238.551715  2.415920e-05\n",
      "13    2.783685e+08  5.176925e+07  1.014038e+07  5.770379e+05  1.494062e+05    6312.931100   156.464432   13455.941127  3.945897e-05\n",
      "14    2.737674e+08  5.470616e+07  1.162323e+07  7.062387e+05  1.985891e+05    9110.532781   245.373196   21102.094866  6.188098e-05\n",
      "15    2.692425e+08  5.747784e+07  1.317000e+07  8.496141e+05  2.579498e+05   12773.890258   371.691053   31965.430541  9.373724e-05\n",
      "16    2.647923e+08  6.009061e+07  1.477461e+07  1.007031e+06  3.284581e+05   17469.729944   546.440483   46993.881549  1.378075e-04\n",
      "17    2.604156e+08  6.255059e+07  1.643129e+07  1.178271e+06  4.110536e+05   23378.678856   782.664111   67309.113538  1.973811e-04\n",
      "18    2.561113e+08  6.486366e+07  1.813453e+07  1.363044e+06  5.066397e+05   30694.552370  1095.582283   94220.076325  2.762963e-04\n",
      "19    2.518782e+08  6.703552e+07  1.987909e+07  1.560994e+06  6.160789e+05   39623.561310  1502.741882  129235.801830  3.789784e-04\n",
      "20    2.477150e+08  6.907168e+07  2.166000e+07  1.771715e+06  7.401886e+05   50383.454334  2024.155529  174077.375490  5.104744e-04\n",
      "21    2.436206e+08  7.097745e+07  2.347253e+07  1.994752e+06  8.797378e+05   63202.609831  2682.430508  230689.023697  6.764856e-04\n",
      "22    2.395940e+08  7.275796e+07  2.531221e+07  2.229613e+06  1.035445e+06   78319.090027  3502.886898  301248.273245  8.833975e-04\n",
      "23    2.356338e+08  7.441816e+07  2.717478e+07  2.475775e+06  1.207975e+06   95979.668513  4513.664543  388175.150709  1.138307e-03\n",
      "24    2.317391e+08  7.596285e+07  2.905621e+07  2.732688e+06  1.397938e+06  116438.841155  5745.818608  494140.400293  1.449045e-03\n",
      "25    2.279088e+08  7.739663e+07  3.095268e+07  2.999783e+06  1.605892e+06  139957.829160  7233.403580  622072.707895  1.824201e-03, 27:            healthy    mesalamine      remicade        humira       entyvio       skyrizi       rinvoq        failure  failure_rate\n",
      "Year                                                                                                                              \n",
      "1     3.400000e+08  1.011000e+06  0.000000e+00  0.000000e+00  0.000000e+00      0.000000     0.000000       0.000000  0.000000e+00\n",
      "2     3.343803e+08  6.512460e+06  1.175025e+05  7.265206e+02  1.657707e+01      0.042686     0.000130       0.007821  2.293484e-11\n",
      "3     3.288535e+08  1.175321e+07  3.994827e+05  4.625960e+03  2.034467e+02      1.013845     0.006033       0.361985  1.061505e-09\n",
      "4     3.234180e+08  1.674279e+07  8.352914e+05  1.399636e+04  9.106161e+02      6.709971     0.059246       3.554769  1.042421e-08\n",
      "5     3.180724e+08  2.149041e+07  1.414746e+06  3.078968e+04  2.655541e+03     25.897984     0.303414      18.204869  5.338499e-08\n",
      "6     3.128151e+08  2.600497e+07  2.128112e+06  5.664611e+04  6.094625e+03     73.996239     1.081638      64.898270  1.903114e-07\n",
      "7     3.076447e+08  3.029509e+07  2.966089e+06  9.292552e+04  1.199771e+04    174.416630     3.058955     183.537317  5.382152e-07\n",
      "8     3.025598e+08  3.436908e+07  3.919792e+06  1.407361e+05  2.122527e+04    359.606259     7.364644     441.878619  1.295790e-06\n",
      "9     2.975589e+08  3.823498e+07  4.980734e+06  2.009604e+05  3.470812e+04    671.823610    15.749618     944.977098  2.771104e-06\n",
      "10    2.926407e+08  4.190057e+07  6.140816e+06  2.742797e+05  5.342934e+04   1163.680881    30.754780    1845.286788  5.411224e-06\n",
      "11    2.878038e+08  4.537335e+07  7.392309e+06  3.611951e+05  7.840826e+04   1898.481184    55.886652    3353.199121  9.833111e-06\n",
      "12    2.830468e+08  4.866057e+07  8.727840e+06  4.620481e+05  1.106864e+05   2950.376597    95.797113    5747.826778  1.685525e-05\n",
      "13    2.783685e+08  5.176925e+07  1.014038e+07  5.770379e+05  1.513148e+05   4404.370535   156.464432    9387.865902  2.752951e-05\n",
      "14    2.737674e+08  5.470616e+07  1.162323e+07  7.062387e+05  2.013435e+05   6356.185662   245.373196   14722.391765  4.317278e-05\n",
      "15    2.692425e+08  5.747784e+07  1.317000e+07  8.496141e+05  2.618117e+05   8912.016459   371.691053   22301.463166  6.539808e-05\n",
      "16    2.647923e+08  6.009061e+07  1.477461e+07  1.007031e+06  3.337397e+05  12188.183682   546.440483   32786.428986  9.614478e-05\n",
      "17    2.604156e+08  6.255059e+07  1.643129e+07  1.178271e+06  4.181216e+05  16310.706179   782.664111   46959.846653  1.377077e-04\n",
      "18    2.561113e+08  6.486366e+07  1.813453e+07  1.363044e+06  5.159195e+05  21414.803979  1095.582283   65734.936970  1.927649e-04\n",
      "19    2.518782e+08  6.703552e+07  1.987909e+07  1.560994e+06  6.280581e+05  27644.345100  1502.741882   90164.512904  2.644035e-04\n",
      "20    2.477150e+08  6.907168e+07  2.166000e+07  1.771715e+06  7.554208e+05  35151.247210  2024.155529  121449.331737  3.561449e-04\n",
      "21    2.436206e+08  7.097745e+07  2.347253e+07  1.994752e+06  8.988455e+05  44094.844068  2682.430508  160945.830486  4.719667e-04\n",
      "22    2.395940e+08  7.275796e+07  2.531221e+07  2.229613e+06  1.059123e+06  54641.225601  3502.886898  210173.213891  6.163239e-04\n",
      "23    2.356338e+08  7.441816e+07  2.717478e+07  2.475775e+06  1.236992e+06  66962.559428  4513.664543  270819.872587  7.941676e-04\n",
      "24    2.317391e+08  7.596285e+07  2.905621e+07  2.732688e+06  1.433141e+06  81236.400807  5745.818608  344749.116472  1.010962e-03\n",
      "25    2.279088e+08  7.739663e+07  3.095268e+07  2.999783e+06  1.648205e+06  97644.997088  7233.403580  434004.214810  1.272699e-03, 28:            healthy    mesalamine      remicade        humira        entyvio       skyrizi       rinvoq       failure  failure_rate\n",
      "Year                                                                                                                              \n",
      "1     3.400000e+08  1.011000e+06  0.000000e+00  0.000000e+00       0.000000      0.000000     0.000000      0.000000  0.000000e+00\n",
      "2     3.343803e+08  6.512460e+06  1.175025e+05  7.407268e+02       2.404841      0.008751     0.000130      0.001603  4.701636e-12\n",
      "3     3.288535e+08  1.175321e+07  3.994827e+05  4.800309e+03      29.903617      0.207838     0.006033      0.074207  2.176084e-10\n",
      "4     3.234180e+08  1.674279e+07  8.352914e+05  1.477674e+04     135.573709      1.375544     0.059246      0.728728  2.136963e-09\n",
      "5     3.180724e+08  2.149041e+07  1.414746e+06  3.306542e+04     400.392987      5.309087     0.303414      3.731998  1.094392e-08\n",
      "6     3.128151e+08  2.600497e+07  2.128112e+06  6.186907e+04     930.500178     15.169229     1.081638     13.304145  3.901383e-08\n",
      "7     3.076447e+08  3.029509e+07  2.966089e+06  1.032073e+05    1854.612673     35.755409     3.058955     37.625150  1.103341e-07\n",
      "8     3.025598e+08  3.436908e+07  3.919792e+06  1.589256e+05    3321.594653     73.719283     7.364644     90.585117  2.656369e-07\n",
      "9     2.975589e+08  3.823498e+07  4.980734e+06  2.307045e+05    5498.168696    137.723840    15.749618    193.720305  5.680764e-07\n",
      "10    2.926407e+08  4.190057e+07  6.140816e+06  3.200674e+05    8566.764311    238.554581    30.754780    378.283792  1.109301e-06\n",
      "11    2.878038e+08  4.537335e+07  7.392309e+06  4.283892e+05   12723.497098    389.188643    55.886652    687.405820  2.015788e-06\n",
      "12    2.830468e+08  4.866057e+07  8.727840e+06  5.569037e+05   18176.272483    604.827202    95.797113   1178.304490  3.455327e-06\n",
      "13    2.783685e+08  5.176925e+07  1.014038e+07  7.067112e+05   25143.008218    902.895960   156.464432   1924.512510  5.643550e-06\n",
      "14    2.737674e+08  5.470616e+07  1.162323e+07  8.787854e+05   33849.970079   1303.018061   245.373196   3018.090311  8.850419e-06\n",
      "15    2.692425e+08  5.747784e+07  1.317000e+07  1.073981e+06   44530.215398   1826.963374   371.691053   4571.799948  1.340661e-05\n",
      "16    2.647923e+08  6.009061e+07  1.477461e+07  1.293038e+06   57422.139308   2498.577655   546.440483   6721.217941  1.970968e-05\n",
      "17    2.604156e+08  6.255059e+07  1.643129e+07  1.536591e+06   72768.118772   3343.694767   782.664111   9626.768563  2.823008e-05\n",
      "18    2.561113e+08  6.486366e+07  1.813453e+07  1.805175e+06   90813.249660   4390.034816  1095.582283  13475.662078  3.951680e-05\n",
      "19    2.518782e+08  6.703552e+07  1.987909e+07  2.099226e+06  111804.172363   5667.090746  1502.741882  18483.725144  5.420272e-05\n",
      "20    2.477150e+08  6.907168e+07  2.166000e+07  2.419093e+06  135987.981571   7206.005678  2024.155529  24897.113005  7.300971e-05\n",
      "21    2.436206e+08  7.097745e+07  2.347253e+07  2.765042e+06  163611.216071   9039.443034  2682.430508  32993.895249  9.675317e-05\n",
      "22    2.395940e+08  7.275796e+07  2.531221e+07  3.137257e+06  194918.924559  11201.451248  3502.886898  43085.508847  1.263464e-04\n",
      "23    2.356338e+08  7.441816e+07  2.717478e+07  3.535848e+06  230153.803643  13727.324683  4513.664543  55518.073880  1.628043e-04\n",
      "24    2.317391e+08  7.596285e+07  2.905621e+07  3.960856e+06  269555.404357  16653.462166  5745.818608  70673.568875  2.072472e-04\n",
      "25    2.279088e+08  7.739663e+07  3.095268e+07  4.412257e+06  313359.403686  20017.224404  7233.403580  88970.864028  2.609032e-04, 29:            healthy    mesalamine      remicade        humira        entyvio       skyrizi       rinvoq        failure  failure_rate\n",
      "Year                                                                                                                               \n",
      "1     3.400000e+08  1.011000e+06  0.000000e+00  0.000000e+00       0.000000      0.000000     0.000000       0.000000  0.000000e+00\n",
      "2     3.343803e+08  6.512460e+06  1.175025e+05  7.407268e+02       2.370906      0.042686     0.000130       0.007821  2.293488e-11\n",
      "3     3.288535e+08  1.175321e+07  3.994827e+05  4.800309e+03      29.097610      1.013845     0.006033       0.361985  1.061505e-09\n",
      "4     3.234180e+08  1.674279e+07  8.352914e+05  1.477674e+04     130.239283      6.709971     0.059246       3.554769  1.042421e-08\n",
      "5     3.180724e+08  2.149041e+07  1.414746e+06  3.306542e+04     379.804090     25.897984     0.303414      18.204870  5.338499e-08\n",
      "6     3.128151e+08  2.600497e+07  2.128112e+06  6.186907e+04     871.673168     73.996239     1.081638      64.898271  1.903114e-07\n",
      "7     3.076447e+08  3.029509e+07  2.966089e+06  1.032073e+05    1715.951452    174.416630     3.058955     183.537318  5.382152e-07\n",
      "8     3.025598e+08  3.436908e+07  3.919792e+06  1.589256e+05    3035.707677    359.606259     7.364644     441.878618  1.295790e-06\n",
      "9     2.975589e+08  3.823498e+07  4.980734e+06  2.307045e+05    4964.068926    671.823611    15.749618     944.977097  2.771104e-06\n",
      "10    2.926407e+08  4.190057e+07  6.140816e+06  3.200674e+05    7641.638011   1163.680881    30.754780    1845.286788  5.411224e-06\n",
      "11    2.878038e+08  4.537335e+07  7.392309e+06  4.283892e+05   11214.204557   1898.481184    55.886652    3353.199118  9.833111e-06\n",
      "12    2.830468e+08  4.866057e+07  8.727840e+06  5.569037e+05   15830.723088   2950.376597    95.797113    5747.826771  1.685525e-05\n",
      "13    2.783685e+08  5.176925e+07  1.014038e+07  7.067112e+05   21641.533643   4404.370535   156.464432    9387.865896  2.752951e-05\n",
      "14    2.737674e+08  5.470616e+07  1.162323e+07  8.787854e+05   28796.802478   6356.185662   245.373196   14722.391762  4.317278e-05\n",
      "15    2.692425e+08  5.747784e+07  1.317000e+07  1.073981e+06   37445.162313   8912.016459   371.691053   22301.463162  6.539808e-05\n",
      "16    2.647923e+08  6.009061e+07  1.477461e+07  1.293038e+06   47732.533280  12188.183683   546.440483   32786.428979  9.614478e-05\n",
      "17    2.604156e+08  6.255059e+07  1.643129e+07  1.536591e+06   59801.107359  16310.706180   782.664111   46959.846644  1.377077e-04\n",
      "18    2.561113e+08  6.486366e+07  1.813453e+07  1.805175e+06   73788.480496  21414.803980  1095.582283   65734.936959  1.927649e-04\n",
      "19    2.518782e+08  6.703552e+07  1.987909e+07  2.099226e+06   89826.918008  27644.345101  1502.741882   90164.512891  2.644035e-04\n",
      "20    2.477150e+08  6.907168e+07  2.166000e+07  2.419093e+06  108042.740038  35151.247211  2024.155529  121449.331723  3.561449e-04\n",
      "21    2.436206e+08  7.097745e+07  2.347253e+07  2.765042e+06  128555.815036  44094.844069  2682.430508  160945.830480  4.719667e-04\n",
      "22    2.395940e+08  7.275796e+07  2.531221e+07  3.137257e+06  151479.150207  54641.225600  3502.886898  210173.213894  6.163239e-04\n",
      "23    2.356338e+08  7.441816e+07  2.717478e+07  3.535848e+06  176918.568897  66962.559428  4513.664543  270819.872583  7.941676e-04\n",
      "24    2.317391e+08  7.596285e+07  2.905621e+07  3.960856e+06  204972.465712  81236.400810  5745.818607  344749.116444  1.010962e-03\n",
      "25    2.279088e+08  7.739663e+07  3.095268e+07  4.412257e+06  235731.630992  97644.997098  7233.403578  434004.214703  1.272699e-03, 30:            healthy    mesalamine      remicade        humira        entyvio        skyrizi       rinvoq        failure  failure_rate\n",
      "Year                                                                                                                                \n",
      "1     3.400000e+08  1.011000e+06  0.000000e+00  0.000000e+00       0.000000       0.000000     0.000000       0.000000  0.000000e+00\n",
      "2     3.343803e+08  6.512460e+06  1.175025e+05  7.396847e+02       3.394507       0.061183     0.000130       0.011210  3.287332e-11\n",
      "3     3.288535e+08  1.175321e+07  3.994827e+05  4.787350e+03      41.616511       1.453178     0.006033       0.518845  1.521490e-09\n",
      "4     3.234180e+08  1.674279e+07  8.352914e+05  1.471799e+04     186.080236       9.617625     0.059246       5.095170  1.494136e-08\n",
      "5     3.180724e+08  2.149041e+07  1.414746e+06  3.289191e+04     542.085258      37.120443     0.303414      26.093646  7.651849e-08\n",
      "6     3.128151e+08  2.600497e+07  2.128112e+06  6.146585e+04    1242.824874     106.061276     1.081638      93.020854  2.727796e-07\n",
      "7     3.076447e+08  3.029509e+07  2.966089e+06  1.024036e+05    2444.036404     249.997169     3.058955     263.070155  7.714418e-07\n",
      "8     3.025598e+08  3.436908e+07  3.919792e+06  1.574863e+05    4319.235981     515.435638     7.364644     633.359354  1.857299e-06\n",
      "9     2.975589e+08  3.823498e+07  4.980734e+06  2.283219e+05    7055.485130     962.947175    15.749618    1354.467174  3.971916e-06\n",
      "10    2.926407e+08  4.190057e+07  6.140816e+06  3.163551e+05   10849.640831    1667.942596    30.754780    2644.911063  7.756087e-06\n",
      "11    2.878038e+08  4.537335e+07  7.392309e+06  4.228757e+05   15905.044787    2721.156363    55.886652    4806.252073  1.409413e-05\n",
      "12    2.830468e+08  4.866057e+07  8.727840e+06  5.490273e+05   22428.611306    4228.873122    95.797113    8238.551715  2.415920e-05\n",
      "13    2.783685e+08  5.176925e+07  1.014038e+07  6.958159e+05   30628.276639    6312.931100   156.464432   13455.941127  3.945897e-05\n",
      "14    2.737674e+08  5.470616e+07  1.162323e+07  8.641171e+05   40710.775726    9110.532782   245.373196   21102.094864  6.188098e-05\n",
      "15    2.692425e+08  5.747784e+07  1.317000e+07  1.054684e+06   52879.715186   12773.890258   371.691053   31965.430538  9.373724e-05\n",
      "16    2.647923e+08  6.009061e+07  1.477461e+07  1.268155e+06   67333.914052   17469.729944   546.440483   46993.881546  1.378075e-04\n",
      "17    2.604156e+08  6.255059e+07  1.643129e+07  1.505059e+06   84265.986150   23378.678856   782.664111   67309.113536  1.973811e-04\n",
      "18    2.561113e+08  6.486366e+07  1.813453e+07  1.765822e+06  103861.140293   30694.552370  1095.582283   94220.076324  2.762963e-04\n",
      "19    2.518782e+08  6.703552e+07  1.987909e+07  2.050777e+06  126296.176490   39623.561310  1502.741882  129235.801830  3.789784e-04\n",
      "20    2.477150e+08  6.907168e+07  2.166000e+07  2.360165e+06  151738.658263   50383.454334  2024.155529  174077.375490  5.104744e-04\n",
      "21    2.436206e+08  7.097745e+07  2.347253e+07  2.694144e+06  180346.242904   63202.609831  2682.430508  230689.023697  6.764856e-04\n",
      "22    2.395940e+08  7.275796e+07  2.531221e+07  3.052792e+06  212266.153089   78319.090027  3502.886898  301248.273244  8.833975e-04\n",
      "23    2.356338e+08  7.441816e+07  2.717478e+07  3.436115e+06  247634.774725   95979.668513  4513.664543  388175.150708  1.138307e-03\n",
      "24    2.317391e+08  7.596285e+07  2.905621e+07  3.844049e+06  286577.367253  116438.841157  5745.818608  494140.400276  1.449045e-03\n",
      "25    2.279088e+08  7.739663e+07  3.095268e+07  4.276468e+06  329207.873860  139957.829160  7233.403580  622072.707895  1.824201e-03, 31:            healthy    mesalamine      remicade        humira        entyvio       skyrizi       rinvoq       failure  failure_rate\n",
      "Year                                                                                                                              \n",
      "1     3.400000e+08  1.011000e+06  0.000000e+00  0.000000e+00       0.000000      0.000000     0.000000      0.000000  0.000000e+00\n",
      "2     3.343803e+08  6.512460e+06  1.175025e+05  7.396847e+02       3.446939      0.008751     0.000130      0.001603  4.701636e-12\n",
      "3     3.288535e+08  1.175321e+07  3.994827e+05  4.787350e+03      42.861850      0.207838     0.006033      0.074207  2.176084e-10\n",
      "4     3.234180e+08  1.674279e+07  8.352914e+05  1.471799e+04     194.322317      1.375544     0.059246      0.728728  2.136963e-09\n",
      "5     3.180724e+08  2.149041e+07  1.414746e+06  3.289191e+04     573.896615      5.309087     0.303414      3.731998  1.094392e-08\n",
      "6     3.128151e+08  2.600497e+07  2.128112e+06  6.146585e+04    1333.716921     15.169229     1.081638     13.304145  3.901383e-08\n",
      "7     3.076447e+08  3.029509e+07  2.966089e+06  1.024036e+05    2658.278164     35.755409     3.058955     37.625150  1.103341e-07\n",
      "8     3.025598e+08  3.436908e+07  3.919792e+06  1.574863e+05    4760.952336     73.719283     7.364644     90.585117  2.656369e-07\n",
      "9     2.975589e+08  3.823498e+07  4.980734e+06  2.283219e+05    7880.708465    137.723840    15.749618    193.720305  5.680764e-07\n",
      "10    2.926407e+08  4.190057e+07  6.140816e+06  3.163551e+05   12279.028846    238.554581    30.754780    378.283792  1.109301e-06\n",
      "11    2.878038e+08  4.537335e+07  7.392309e+06  4.228757e+05   18237.012507    389.188643    55.886652    687.405820  2.015788e-06\n",
      "12    2.830468e+08  4.866057e+07  8.727840e+06  5.490273e+05   26052.657225    604.827202    95.797113   1178.304490  3.455327e-06\n",
      "13    2.783685e+08  5.176925e+07  1.014038e+07  6.958159e+05   36038.311780    902.895960   156.464432   1924.512510  5.643550e-06\n",
      "14    2.737674e+08  5.470616e+07  1.162323e+07  8.641171e+05   48518.290447   1303.018061   245.373196   3018.090311  8.850419e-06\n",
      "15    2.692425e+08  5.747784e+07  1.317000e+07  1.054684e+06   63826.642070   1826.963374   371.691053   4571.799948  1.340661e-05\n",
      "16    2.647923e+08  6.009061e+07  1.477461e+07  1.268155e+06   82305.066342   2498.577655   546.440483   6721.217941  1.970968e-05\n",
      "17    2.604156e+08  6.255059e+07  1.643129e+07  1.505059e+06  104300.970239   3343.694767   782.664111   9626.768563  2.823008e-05\n",
      "18    2.561113e+08  6.486366e+07  1.813453e+07  1.765822e+06  130165.657847   4390.034816  1095.582283  13475.662078  3.951680e-05\n",
      "19    2.518782e+08  6.703552e+07  1.987909e+07  2.050777e+06  160252.647054   5667.090746  1502.741882  18483.725144  5.420272e-05\n",
      "20    2.477150e+08  6.907168e+07  2.166000e+07  2.360165e+06  194916.106918   7206.005678  2024.155529  24897.113005  7.300971e-05\n",
      "21    2.436206e+08  7.097745e+07  2.347253e+07  2.694144e+06  234509.409701   9039.443034  2682.430508  32993.895249  9.675317e-05\n",
      "22    2.395940e+08  7.275796e+07  2.531221e+07  3.052792e+06  279383.791868  11201.451248  3502.886898  43085.508847  1.263464e-04\n",
      "23    2.356338e+08  7.441816e+07  2.717478e+07  3.436115e+06  329887.118555  13727.324683  4513.664543  55518.073880  1.628043e-04\n",
      "24    2.317391e+08  7.596285e+07  2.905621e+07  3.844049e+06  386362.746244  16653.462166  5745.818608  70673.568875  2.072472e-04\n",
      "25    2.279088e+08  7.739663e+07  3.095268e+07  4.276468e+06  449148.478616  20017.224404  7233.403580  88970.864028  2.609032e-04, 32:            healthy    mesalamine      remicade        humira       entyvio        skyrizi       rinvoq        failure  failure_rate\n",
      "Year                                                                                                                               \n",
      "1     3.400000e+08  1.011000e+06  0.000000e+00  0.000000e+00  0.000000e+00       0.000000     0.000000       0.000000  0.000000e+00\n",
      "2     3.343803e+08  6.512460e+06  1.175025e+05  7.265206e+02  1.655857e+01       0.061183     0.000130       0.011210  3.287327e-11\n",
      "3     3.288535e+08  1.175321e+07  3.994827e+05  4.625960e+03  2.030074e+02       1.453178     0.006033       0.518845  1.521490e-09\n",
      "4     3.234180e+08  1.674279e+07  8.352914e+05  1.399636e+04  9.077085e+02       9.617625     0.059246       5.095170  1.494136e-08\n",
      "5     3.180724e+08  2.149041e+07  1.414746e+06  3.078968e+04  2.644318e+03      37.120443     0.303414      26.093646  7.651849e-08\n",
      "6     3.128151e+08  2.600497e+07  2.128112e+06  5.664611e+04  6.062560e+03     106.061276     1.081638      93.020854  2.727796e-07\n",
      "7     3.076447e+08  3.029509e+07  2.966089e+06  9.292552e+04  1.192213e+04     249.997169     3.058955     263.070155  7.714418e-07\n",
      "8     3.025598e+08  3.436908e+07  3.919792e+06  1.407361e+05  2.106944e+04     515.435638     7.364644     633.359354  1.857299e-06\n",
      "9     2.975589e+08  3.823498e+07  4.980734e+06  2.009604e+05  3.441700e+04     962.947175    15.749618    1354.467174  3.971916e-06\n",
      "10    2.926407e+08  4.190057e+07  6.140816e+06  2.742797e+05  5.292508e+04    1667.942596    30.754780    2644.911063  7.756087e-06\n",
      "11    2.878038e+08  4.537335e+07  7.392309e+06  3.611951e+05  7.758558e+04    2721.156363    55.886652    4806.252073  1.409413e-05\n",
      "12    2.830468e+08  4.866057e+07  8.727840e+06  4.620481e+05  1.094079e+05    4228.873122    95.797113    8238.551715  2.415920e-05\n",
      "13    2.783685e+08  5.176925e+07  1.014038e+07  5.770379e+05  1.494062e+05    6312.931100   156.464432   13455.941127  3.945897e-05\n",
      "14    2.737674e+08  5.470616e+07  1.162323e+07  7.062387e+05  1.985891e+05    9110.532781   245.373196   21102.094866  6.188098e-05\n",
      "15    2.692425e+08  5.747784e+07  1.317000e+07  8.496141e+05  2.579498e+05   12773.890258   371.691053   31965.430541  9.373724e-05\n",
      "16    2.647923e+08  6.009061e+07  1.477461e+07  1.007031e+06  3.284581e+05   17469.729944   546.440483   46993.881549  1.378075e-04\n",
      "17    2.604156e+08  6.255059e+07  1.643129e+07  1.178271e+06  4.110536e+05   23378.678856   782.664111   67309.113538  1.973811e-04\n",
      "18    2.561113e+08  6.486366e+07  1.813453e+07  1.363044e+06  5.066397e+05   30694.552370  1095.582283   94220.076325  2.762963e-04\n",
      "19    2.518782e+08  6.703552e+07  1.987909e+07  1.560994e+06  6.160789e+05   39623.561310  1502.741882  129235.801830  3.789784e-04\n",
      "20    2.477150e+08  6.907168e+07  2.166000e+07  1.771715e+06  7.401886e+05   50383.454334  2024.155529  174077.375490  5.104744e-04\n",
      "21    2.436206e+08  7.097745e+07  2.347253e+07  1.994752e+06  8.797378e+05   63202.609831  2682.430508  230689.023697  6.764856e-04\n",
      "22    2.395940e+08  7.275796e+07  2.531221e+07  2.229613e+06  1.035445e+06   78319.090027  3502.886898  301248.273245  8.833975e-04\n",
      "23    2.356338e+08  7.441816e+07  2.717478e+07  2.475775e+06  1.207975e+06   95979.668513  4513.664543  388175.150709  1.138307e-03\n",
      "24    2.317391e+08  7.596285e+07  2.905621e+07  2.732688e+06  1.397938e+06  116438.841155  5745.818608  494140.400293  1.449045e-03\n",
      "25    2.279088e+08  7.739663e+07  3.095268e+07  2.999783e+06  1.605892e+06  139957.829160  7233.403580  622072.707895  1.824201e-03, 33:            healthy    mesalamine      remicade        humira       entyvio       skyrizi       rinvoq        failure  failure_rate\n",
      "Year                                                                                                                              \n",
      "1     3.400000e+08  1.011000e+06  0.000000e+00  0.000000e+00  0.000000e+00      0.000000     0.000000       0.000000  0.000000e+00\n",
      "2     3.343803e+08  6.512460e+06  1.175025e+05  7.265206e+02  1.657707e+01      0.042686     0.000130       0.007821  2.293484e-11\n",
      "3     3.288535e+08  1.175321e+07  3.994827e+05  4.625960e+03  2.034467e+02      1.013845     0.006033       0.361985  1.061505e-09\n",
      "4     3.234180e+08  1.674279e+07  8.352914e+05  1.399636e+04  9.106161e+02      6.709971     0.059246       3.554769  1.042421e-08\n",
      "5     3.180724e+08  2.149041e+07  1.414746e+06  3.078968e+04  2.655541e+03     25.897984     0.303414      18.204869  5.338499e-08\n",
      "6     3.128151e+08  2.600497e+07  2.128112e+06  5.664611e+04  6.094625e+03     73.996239     1.081638      64.898270  1.903114e-07\n",
      "7     3.076447e+08  3.029509e+07  2.966089e+06  9.292552e+04  1.199771e+04    174.416630     3.058955     183.537317  5.382152e-07\n",
      "8     3.025598e+08  3.436908e+07  3.919792e+06  1.407361e+05  2.122527e+04    359.606259     7.364644     441.878619  1.295790e-06\n",
      "9     2.975589e+08  3.823498e+07  4.980734e+06  2.009604e+05  3.470812e+04    671.823610    15.749618     944.977098  2.771104e-06\n",
      "10    2.926407e+08  4.190057e+07  6.140816e+06  2.742797e+05  5.342934e+04   1163.680881    30.754780    1845.286788  5.411224e-06\n",
      "11    2.878038e+08  4.537335e+07  7.392309e+06  3.611951e+05  7.840826e+04   1898.481184    55.886652    3353.199121  9.833111e-06\n",
      "12    2.830468e+08  4.866057e+07  8.727840e+06  4.620481e+05  1.106864e+05   2950.376597    95.797113    5747.826778  1.685525e-05\n",
      "13    2.783685e+08  5.176925e+07  1.014038e+07  5.770379e+05  1.513148e+05   4404.370535   156.464432    9387.865902  2.752951e-05\n",
      "14    2.737674e+08  5.470616e+07  1.162323e+07  7.062387e+05  2.013435e+05   6356.185662   245.373196   14722.391765  4.317278e-05\n",
      "15    2.692425e+08  5.747784e+07  1.317000e+07  8.496141e+05  2.618117e+05   8912.016459   371.691053   22301.463166  6.539808e-05\n",
      "16    2.647923e+08  6.009061e+07  1.477461e+07  1.007031e+06  3.337397e+05  12188.183682   546.440483   32786.428986  9.614478e-05\n",
      "17    2.604156e+08  6.255059e+07  1.643129e+07  1.178271e+06  4.181216e+05  16310.706179   782.664111   46959.846653  1.377077e-04\n",
      "18    2.561113e+08  6.486366e+07  1.813453e+07  1.363044e+06  5.159195e+05  21414.803979  1095.582283   65734.936970  1.927649e-04\n",
      "19    2.518782e+08  6.703552e+07  1.987909e+07  1.560994e+06  6.280581e+05  27644.345100  1502.741882   90164.512904  2.644035e-04\n",
      "20    2.477150e+08  6.907168e+07  2.166000e+07  1.771715e+06  7.554208e+05  35151.247210  2024.155529  121449.331737  3.561449e-04\n",
      "21    2.436206e+08  7.097745e+07  2.347253e+07  1.994752e+06  8.988455e+05  44094.844068  2682.430508  160945.830486  4.719667e-04\n",
      "22    2.395940e+08  7.275796e+07  2.531221e+07  2.229613e+06  1.059123e+06  54641.225601  3502.886898  210173.213891  6.163239e-04\n",
      "23    2.356338e+08  7.441816e+07  2.717478e+07  2.475775e+06  1.236992e+06  66962.559428  4513.664543  270819.872587  7.941676e-04\n",
      "24    2.317391e+08  7.596285e+07  2.905621e+07  2.732688e+06  1.433141e+06  81236.400807  5745.818608  344749.116472  1.010962e-03\n",
      "25    2.279088e+08  7.739663e+07  3.095268e+07  2.999783e+06  1.648205e+06  97644.997088  7233.403580  434004.214810  1.272699e-03, 34:            healthy    mesalamine      remicade        humira        entyvio       skyrizi       rinvoq       failure  failure_rate\n",
      "Year                                                                                                                              \n",
      "1     3.400000e+08  1.011000e+06  0.000000e+00  0.000000e+00       0.000000      0.000000     0.000000      0.000000  0.000000e+00\n",
      "2     3.343803e+08  6.512460e+06  1.175025e+05  7.407268e+02       2.404841      0.008751     0.000130      0.001603  4.701636e-12\n",
      "3     3.288535e+08  1.175321e+07  3.994827e+05  4.800309e+03      29.903617      0.207838     0.006033      0.074207  2.176084e-10\n",
      "4     3.234180e+08  1.674279e+07  8.352914e+05  1.477674e+04     135.573709      1.375544     0.059246      0.728728  2.136963e-09\n",
      "5     3.180724e+08  2.149041e+07  1.414746e+06  3.306542e+04     400.392987      5.309087     0.303414      3.731998  1.094392e-08\n",
      "6     3.128151e+08  2.600497e+07  2.128112e+06  6.186907e+04     930.500178     15.169229     1.081638     13.304145  3.901383e-08\n",
      "7     3.076447e+08  3.029509e+07  2.966089e+06  1.032073e+05    1854.612673     35.755409     3.058955     37.625150  1.103341e-07\n",
      "8     3.025598e+08  3.436908e+07  3.919792e+06  1.589256e+05    3321.594653     73.719283     7.364644     90.585117  2.656369e-07\n",
      "9     2.975589e+08  3.823498e+07  4.980734e+06  2.307045e+05    5498.168696    137.723840    15.749618    193.720305  5.680764e-07\n",
      "10    2.926407e+08  4.190057e+07  6.140816e+06  3.200674e+05    8566.764311    238.554581    30.754780    378.283792  1.109301e-06\n",
      "11    2.878038e+08  4.537335e+07  7.392309e+06  4.283892e+05   12723.497098    389.188643    55.886652    687.405820  2.015788e-06\n",
      "12    2.830468e+08  4.866057e+07  8.727840e+06  5.569037e+05   18176.272483    604.827202    95.797113   1178.304490  3.455327e-06\n",
      "13    2.783685e+08  5.176925e+07  1.014038e+07  7.067112e+05   25143.008218    902.895960   156.464432   1924.512510  5.643550e-06\n",
      "14    2.737674e+08  5.470616e+07  1.162323e+07  8.787854e+05   33849.970079   1303.018061   245.373196   3018.090311  8.850419e-06\n",
      "15    2.692425e+08  5.747784e+07  1.317000e+07  1.073981e+06   44530.215398   1826.963374   371.691053   4571.799948  1.340661e-05\n",
      "16    2.647923e+08  6.009061e+07  1.477461e+07  1.293038e+06   57422.139308   2498.577655   546.440483   6721.217941  1.970968e-05\n",
      "17    2.604156e+08  6.255059e+07  1.643129e+07  1.536591e+06   72768.118772   3343.694767   782.664111   9626.768563  2.823008e-05\n",
      "18    2.561113e+08  6.486366e+07  1.813453e+07  1.805175e+06   90813.249660   4390.034816  1095.582283  13475.662078  3.951680e-05\n",
      "19    2.518782e+08  6.703552e+07  1.987909e+07  2.099226e+06  111804.172363   5667.090746  1502.741882  18483.725144  5.420272e-05\n",
      "20    2.477150e+08  6.907168e+07  2.166000e+07  2.419093e+06  135987.981571   7206.005678  2024.155529  24897.113005  7.300971e-05\n",
      "21    2.436206e+08  7.097745e+07  2.347253e+07  2.765042e+06  163611.216071   9039.443034  2682.430508  32993.895249  9.675317e-05\n",
      "22    2.395940e+08  7.275796e+07  2.531221e+07  3.137257e+06  194918.924559  11201.451248  3502.886898  43085.508847  1.263464e-04\n",
      "23    2.356338e+08  7.441816e+07  2.717478e+07  3.535848e+06  230153.803643  13727.324683  4513.664543  55518.073880  1.628043e-04\n",
      "24    2.317391e+08  7.596285e+07  2.905621e+07  3.960856e+06  269555.404357  16653.462166  5745.818608  70673.568875  2.072472e-04\n",
      "25    2.279088e+08  7.739663e+07  3.095268e+07  4.412257e+06  313359.403686  20017.224404  7233.403580  88970.864028  2.609032e-04, 35:            healthy    mesalamine      remicade        humira        entyvio       skyrizi       rinvoq        failure  failure_rate\n",
      "Year                                                                                                                               \n",
      "1     3.400000e+08  1.011000e+06  0.000000e+00  0.000000e+00       0.000000      0.000000     0.000000       0.000000  0.000000e+00\n",
      "2     3.343803e+08  6.512460e+06  1.175025e+05  7.407268e+02       2.370906      0.042686     0.000130       0.007821  2.293488e-11\n",
      "3     3.288535e+08  1.175321e+07  3.994827e+05  4.800309e+03      29.097610      1.013845     0.006033       0.361985  1.061505e-09\n",
      "4     3.234180e+08  1.674279e+07  8.352914e+05  1.477674e+04     130.239283      6.709971     0.059246       3.554769  1.042421e-08\n",
      "5     3.180724e+08  2.149041e+07  1.414746e+06  3.306542e+04     379.804090     25.897984     0.303414      18.204870  5.338499e-08\n",
      "6     3.128151e+08  2.600497e+07  2.128112e+06  6.186907e+04     871.673168     73.996239     1.081638      64.898271  1.903114e-07\n",
      "7     3.076447e+08  3.029509e+07  2.966089e+06  1.032073e+05    1715.951452    174.416630     3.058955     183.537318  5.382152e-07\n",
      "8     3.025598e+08  3.436908e+07  3.919792e+06  1.589256e+05    3035.707677    359.606259     7.364644     441.878618  1.295790e-06\n",
      "9     2.975589e+08  3.823498e+07  4.980734e+06  2.307045e+05    4964.068926    671.823611    15.749618     944.977097  2.771104e-06\n",
      "10    2.926407e+08  4.190057e+07  6.140816e+06  3.200674e+05    7641.638011   1163.680881    30.754780    1845.286788  5.411224e-06\n",
      "11    2.878038e+08  4.537335e+07  7.392309e+06  4.283892e+05   11214.204557   1898.481184    55.886652    3353.199118  9.833111e-06\n",
      "12    2.830468e+08  4.866057e+07  8.727840e+06  5.569037e+05   15830.723088   2950.376597    95.797113    5747.826771  1.685525e-05\n",
      "13    2.783685e+08  5.176925e+07  1.014038e+07  7.067112e+05   21641.533643   4404.370535   156.464432    9387.865896  2.752951e-05\n",
      "14    2.737674e+08  5.470616e+07  1.162323e+07  8.787854e+05   28796.802478   6356.185662   245.373196   14722.391762  4.317278e-05\n",
      "15    2.692425e+08  5.747784e+07  1.317000e+07  1.073981e+06   37445.162313   8912.016459   371.691053   22301.463162  6.539808e-05\n",
      "16    2.647923e+08  6.009061e+07  1.477461e+07  1.293038e+06   47732.533280  12188.183683   546.440483   32786.428979  9.614478e-05\n",
      "17    2.604156e+08  6.255059e+07  1.643129e+07  1.536591e+06   59801.107359  16310.706180   782.664111   46959.846644  1.377077e-04\n",
      "18    2.561113e+08  6.486366e+07  1.813453e+07  1.805175e+06   73788.480496  21414.803980  1095.582283   65734.936959  1.927649e-04\n",
      "19    2.518782e+08  6.703552e+07  1.987909e+07  2.099226e+06   89826.918008  27644.345101  1502.741882   90164.512891  2.644035e-04\n",
      "20    2.477150e+08  6.907168e+07  2.166000e+07  2.419093e+06  108042.740038  35151.247211  2024.155529  121449.331723  3.561449e-04\n",
      "21    2.436206e+08  7.097745e+07  2.347253e+07  2.765042e+06  128555.815036  44094.844069  2682.430508  160945.830480  4.719667e-04\n",
      "22    2.395940e+08  7.275796e+07  2.531221e+07  3.137257e+06  151479.150207  54641.225600  3502.886898  210173.213894  6.163239e-04\n",
      "23    2.356338e+08  7.441816e+07  2.717478e+07  3.535848e+06  176918.568897  66962.559428  4513.664543  270819.872583  7.941676e-04\n",
      "24    2.317391e+08  7.596285e+07  2.905621e+07  3.960856e+06  204972.465712  81236.400810  5745.818607  344749.116444  1.010962e-03\n",
      "25    2.279088e+08  7.739663e+07  3.095268e+07  4.412257e+06  235731.630992  97644.997098  7233.403578  434004.214703  1.272699e-03, 36:            healthy    mesalamine      remicade        humira       entyvio        skyrizi       rinvoq        failure  failure_rate\n",
      "Year                                                                                                                               \n",
      "1     3.400000e+08  1.011000e+06  0.000000e+00  0.000000e+00  0.000000e+00       0.000000     0.000000       0.000000  0.000000e+00\n",
      "2     3.343803e+08  6.512460e+06  1.146850e+05  3.544003e+03  1.655857e+01       0.061183     0.000130       0.011210  3.287328e-11\n",
      "3     3.288535e+08  1.175321e+07  3.815430e+05  2.256566e+04  2.030074e+02       1.453178     0.006033       0.518845  1.521490e-09\n",
      "4     3.234180e+08  1.674279e+07  7.810128e+05  6.827494e+04  9.077085e+02       9.617625     0.059246       5.095170  1.494136e-08\n",
      "5     3.180724e+08  2.149041e+07  1.295342e+06  1.501936e+05  2.644318e+03      37.120443     0.303414      26.093646  7.651849e-08\n",
      "6     3.128151e+08  2.600497e+07  1.908436e+06  2.763225e+05  6.062560e+03     106.061276     1.081638      93.020854  2.727796e-07\n",
      "7     3.076447e+08  3.029509e+07  2.605720e+06  4.532952e+05  1.192213e+04     249.997169     3.058955     263.070155  7.714418e-07\n",
      "8     3.025598e+08  3.436908e+07  3.374010e+06  6.865174e+05  2.106944e+04     515.435638     7.364644     633.359354  1.857299e-06\n",
      "9     2.975589e+08  3.823498e+07  4.201399e+06  9.802948e+05  3.441700e+04     962.947175    15.749618    1354.467174  3.971916e-06\n",
      "10    2.926407e+08  4.190057e+07  5.077146e+06  1.337950e+06  5.292508e+04    1667.942596    30.754780    2644.911063  7.756087e-06\n",
      "11    2.878038e+08  4.537335e+07  5.991577e+06  1.761928e+06  7.758558e+04    2721.156363    55.886652    4806.252073  1.409413e-05\n",
      "12    2.830468e+08  4.866057e+07  6.935995e+06  2.253893e+06  1.094079e+05    4228.873122    95.797113    8238.551715  2.415920e-05\n",
      "13    2.783685e+08  5.176925e+07  7.902598e+06  2.814819e+06  1.494062e+05    6312.931100   156.464432   13455.941127  3.945897e-05\n",
      "14    2.737674e+08  5.470616e+07  8.884398e+06  3.445067e+06  1.985891e+05    9110.532781   245.373196   21102.094866  6.188098e-05\n",
      "15    2.692425e+08  5.747784e+07  9.875153e+06  4.144459e+06  2.579498e+05   12773.890258   371.691053   31965.430542  9.373724e-05\n",
      "16    2.647923e+08  6.009061e+07  1.086930e+07  4.912345e+06  3.284581e+05   17469.729944   546.440483   46993.881550  1.378075e-04\n",
      "17    2.604156e+08  6.255059e+07  1.186190e+07  5.747663e+06  4.110536e+05   23378.678856   782.664111   67309.113539  1.973811e-04\n",
      "18    2.561113e+08  6.486366e+07  1.284858e+07  6.648993e+06  5.066397e+05   30694.552370  1095.582283   94220.076326  2.762963e-04\n",
      "19    2.518782e+08  6.703552e+07  1.382547e+07  7.614607e+06  6.160789e+05   39623.561310  1502.741882  129235.801831  3.789784e-04\n",
      "20    2.477150e+08  6.907168e+07  1.478920e+07  8.642514e+06  7.401886e+05   50383.454334  2024.155529  174077.375491  5.104744e-04\n",
      "21    2.436206e+08  7.097745e+07  1.573679e+07  9.730499e+06  8.797378e+05   63202.609831  2682.430508  230689.023698  6.764856e-04\n",
      "22    2.395940e+08  7.275796e+07  1.666566e+07  1.087616e+07  1.035445e+06   78319.090027  3502.886898  301248.273246  8.833975e-04\n",
      "23    2.356338e+08  7.441816e+07  1.757361e+07  1.207695e+07  1.207975e+06   95979.668513  4513.664543  388175.150709  1.138307e-03\n",
      "24    2.317391e+08  7.596285e+07  1.845872e+07  1.333018e+07  1.397938e+06  116438.841155  5745.818608  494140.400298  1.449045e-03\n",
      "25    2.279088e+08  7.739663e+07  1.931938e+07  1.463309e+07  1.605892e+06  139957.829159  7233.403580  622072.707898  1.824201e-03, 37:            healthy    mesalamine      remicade        humira       entyvio       skyrizi       rinvoq        failure  failure_rate\n",
      "Year                                                                                                                              \n",
      "1     3.400000e+08  1.011000e+06  0.000000e+00  0.000000e+00  0.000000e+00      0.000000     0.000000       0.000000  0.000000e+00\n",
      "2     3.343803e+08  6.512460e+06  1.146850e+05  3.544003e+03  1.657707e+01      0.042686     0.000130       0.007821  2.293484e-11\n",
      "3     3.288535e+08  1.175321e+07  3.815430e+05  2.256566e+04  2.034467e+02      1.013845     0.006033       0.361985  1.061505e-09\n",
      "4     3.234180e+08  1.674279e+07  7.810128e+05  6.827494e+04  9.106161e+02      6.709971     0.059246       3.554769  1.042421e-08\n",
      "5     3.180724e+08  2.149041e+07  1.295342e+06  1.501936e+05  2.655541e+03     25.897984     0.303414      18.204869  5.338499e-08\n",
      "6     3.128151e+08  2.600497e+07  1.908436e+06  2.763225e+05  6.094625e+03     73.996239     1.081638      64.898270  1.903114e-07\n",
      "7     3.076447e+08  3.029509e+07  2.605720e+06  4.532952e+05  1.199771e+04    174.416630     3.058955     183.537317  5.382152e-07\n",
      "8     3.025598e+08  3.436908e+07  3.374010e+06  6.865174e+05  2.122527e+04    359.606259     7.364644     441.878619  1.295790e-06\n",
      "9     2.975589e+08  3.823498e+07  4.201399e+06  9.802948e+05  3.470812e+04    671.823610    15.749618     944.977098  2.771104e-06\n",
      "10    2.926407e+08  4.190057e+07  5.077146e+06  1.337950e+06  5.342934e+04   1163.680881    30.754780    1845.286788  5.411224e-06\n",
      "11    2.878038e+08  4.537335e+07  5.991577e+06  1.761928e+06  7.840826e+04   1898.481184    55.886652    3353.199121  9.833111e-06\n",
      "12    2.830468e+08  4.866057e+07  6.935995e+06  2.253893e+06  1.106864e+05   2950.376597    95.797113    5747.826778  1.685525e-05\n",
      "13    2.783685e+08  5.176925e+07  7.902598e+06  2.814819e+06  1.513148e+05   4404.370535   156.464432    9387.865903  2.752951e-05\n",
      "14    2.737674e+08  5.470616e+07  8.884398e+06  3.445067e+06  2.013435e+05   6356.185662   245.373196   14722.391766  4.317278e-05\n",
      "15    2.692425e+08  5.747784e+07  9.875153e+06  4.144459e+06  2.618117e+05   8912.016459   371.691053   22301.463167  6.539808e-05\n",
      "16    2.647923e+08  6.009061e+07  1.086930e+07  4.912345e+06  3.337397e+05  12188.183682   546.440483   32786.428986  9.614478e-05\n",
      "17    2.604156e+08  6.255059e+07  1.186190e+07  5.747663e+06  4.181216e+05  16310.706179   782.664111   46959.846653  1.377077e-04\n",
      "18    2.561113e+08  6.486366e+07  1.284858e+07  6.648993e+06  5.159195e+05  21414.803979  1095.582283   65734.936970  1.927649e-04\n",
      "19    2.518782e+08  6.703552e+07  1.382547e+07  7.614607e+06  6.280581e+05  27644.345100  1502.741882   90164.512904  2.644035e-04\n",
      "20    2.477150e+08  6.907168e+07  1.478920e+07  8.642514e+06  7.554208e+05  35151.247210  2024.155529  121449.331737  3.561449e-04\n",
      "21    2.436206e+08  7.097745e+07  1.573679e+07  9.730499e+06  8.988455e+05  44094.844068  2682.430508  160945.830487  4.719667e-04\n",
      "22    2.395940e+08  7.275796e+07  1.666566e+07  1.087616e+07  1.059123e+06  54641.225601  3502.886898  210173.213892  6.163239e-04\n",
      "23    2.356338e+08  7.441816e+07  1.757361e+07  1.207695e+07  1.236992e+06  66962.559428  4513.664543  270819.872587  7.941676e-04\n",
      "24    2.317391e+08  7.596285e+07  1.845872e+07  1.333018e+07  1.433141e+06  81236.400807  5745.818608  344749.116475  1.010962e-03\n",
      "25    2.279088e+08  7.739663e+07  1.931938e+07  1.463309e+07  1.648205e+06  97644.997088  7233.403580  434004.214809  1.272699e-03, 38:            healthy    mesalamine      remicade        humira       entyvio        skyrizi       rinvoq        failure  failure_rate\n",
      "Year                                                                                                                               \n",
      "1     3.400000e+08  1.011000e+06  0.000000e+00  0.000000e+00  0.000000e+00       0.000000     0.000000       0.000000  0.000000e+00\n",
      "2     3.343803e+08  6.512460e+06  1.146850e+05  3.544003e+03  1.655857e+01       0.061183     0.000130       0.011210  3.287328e-11\n",
      "3     3.288535e+08  1.175321e+07  3.815430e+05  2.256566e+04  2.030074e+02       1.453178     0.006033       0.518845  1.521490e-09\n",
      "4     3.234180e+08  1.674279e+07  7.810128e+05  6.827494e+04  9.077085e+02       9.617625     0.059246       5.095170  1.494136e-08\n",
      "5     3.180724e+08  2.149041e+07  1.295342e+06  1.501936e+05  2.644318e+03      37.120443     0.303414      26.093646  7.651849e-08\n",
      "6     3.128151e+08  2.600497e+07  1.908436e+06  2.763225e+05  6.062560e+03     106.061276     1.081638      93.020854  2.727796e-07\n",
      "7     3.076447e+08  3.029509e+07  2.605720e+06  4.532952e+05  1.192213e+04     249.997169     3.058955     263.070155  7.714418e-07\n",
      "8     3.025598e+08  3.436908e+07  3.374010e+06  6.865174e+05  2.106944e+04     515.435638     7.364644     633.359354  1.857299e-06\n",
      "9     2.975589e+08  3.823498e+07  4.201399e+06  9.802948e+05  3.441700e+04     962.947175    15.749618    1354.467174  3.971916e-06\n",
      "10    2.926407e+08  4.190057e+07  5.077146e+06  1.337950e+06  5.292508e+04    1667.942596    30.754780    2644.911063  7.756087e-06\n",
      "11    2.878038e+08  4.537335e+07  5.991577e+06  1.761928e+06  7.758558e+04    2721.156363    55.886652    4806.252073  1.409413e-05\n",
      "12    2.830468e+08  4.866057e+07  6.935995e+06  2.253893e+06  1.094079e+05    4228.873122    95.797113    8238.551715  2.415920e-05\n",
      "13    2.783685e+08  5.176925e+07  7.902598e+06  2.814819e+06  1.494062e+05    6312.931100   156.464432   13455.941127  3.945897e-05\n",
      "14    2.737674e+08  5.470616e+07  8.884398e+06  3.445067e+06  1.985891e+05    9110.532781   245.373196   21102.094866  6.188098e-05\n",
      "15    2.692425e+08  5.747784e+07  9.875153e+06  4.144459e+06  2.579498e+05   12773.890258   371.691053   31965.430542  9.373724e-05\n",
      "16    2.647923e+08  6.009061e+07  1.086930e+07  4.912345e+06  3.284581e+05   17469.729944   546.440483   46993.881550  1.378075e-04\n",
      "17    2.604156e+08  6.255059e+07  1.186190e+07  5.747663e+06  4.110536e+05   23378.678856   782.664111   67309.113539  1.973811e-04\n",
      "18    2.561113e+08  6.486366e+07  1.284858e+07  6.648993e+06  5.066397e+05   30694.552370  1095.582283   94220.076326  2.762963e-04\n",
      "19    2.518782e+08  6.703552e+07  1.382547e+07  7.614607e+06  6.160789e+05   39623.561310  1502.741882  129235.801831  3.789784e-04\n",
      "20    2.477150e+08  6.907168e+07  1.478920e+07  8.642514e+06  7.401886e+05   50383.454334  2024.155529  174077.375491  5.104744e-04\n",
      "21    2.436206e+08  7.097745e+07  1.573679e+07  9.730499e+06  8.797378e+05   63202.609831  2682.430508  230689.023698  6.764856e-04\n",
      "22    2.395940e+08  7.275796e+07  1.666566e+07  1.087616e+07  1.035445e+06   78319.090027  3502.886898  301248.273246  8.833975e-04\n",
      "23    2.356338e+08  7.441816e+07  1.757361e+07  1.207695e+07  1.207975e+06   95979.668513  4513.664543  388175.150709  1.138307e-03\n",
      "24    2.317391e+08  7.596285e+07  1.845872e+07  1.333018e+07  1.397938e+06  116438.841155  5745.818608  494140.400298  1.449045e-03\n",
      "25    2.279088e+08  7.739663e+07  1.931938e+07  1.463309e+07  1.605892e+06  139957.829159  7233.403580  622072.707898  1.824201e-03, 39:            healthy    mesalamine      remicade        humira       entyvio       skyrizi       rinvoq        failure  failure_rate\n",
      "Year                                                                                                                              \n",
      "1     3.400000e+08  1.011000e+06  0.000000e+00  0.000000e+00  0.000000e+00      0.000000     0.000000       0.000000  0.000000e+00\n",
      "2     3.343803e+08  6.512460e+06  1.146850e+05  3.544003e+03  1.657707e+01      0.042686     0.000130       0.007821  2.293484e-11\n",
      "3     3.288535e+08  1.175321e+07  3.815430e+05  2.256566e+04  2.034467e+02      1.013845     0.006033       0.361985  1.061505e-09\n",
      "4     3.234180e+08  1.674279e+07  7.810128e+05  6.827494e+04  9.106161e+02      6.709971     0.059246       3.554769  1.042421e-08\n",
      "5     3.180724e+08  2.149041e+07  1.295342e+06  1.501936e+05  2.655541e+03     25.897984     0.303414      18.204869  5.338499e-08\n",
      "6     3.128151e+08  2.600497e+07  1.908436e+06  2.763225e+05  6.094625e+03     73.996239     1.081638      64.898270  1.903114e-07\n",
      "7     3.076447e+08  3.029509e+07  2.605720e+06  4.532952e+05  1.199771e+04    174.416630     3.058955     183.537317  5.382152e-07\n",
      "8     3.025598e+08  3.436908e+07  3.374010e+06  6.865174e+05  2.122527e+04    359.606259     7.364644     441.878619  1.295790e-06\n",
      "9     2.975589e+08  3.823498e+07  4.201399e+06  9.802948e+05  3.470812e+04    671.823610    15.749618     944.977098  2.771104e-06\n",
      "10    2.926407e+08  4.190057e+07  5.077146e+06  1.337950e+06  5.342934e+04   1163.680881    30.754780    1845.286788  5.411224e-06\n",
      "11    2.878038e+08  4.537335e+07  5.991577e+06  1.761928e+06  7.840826e+04   1898.481184    55.886652    3353.199121  9.833111e-06\n",
      "12    2.830468e+08  4.866057e+07  6.935995e+06  2.253893e+06  1.106864e+05   2950.376597    95.797113    5747.826778  1.685525e-05\n",
      "13    2.783685e+08  5.176925e+07  7.902598e+06  2.814819e+06  1.513148e+05   4404.370535   156.464432    9387.865903  2.752951e-05\n",
      "14    2.737674e+08  5.470616e+07  8.884398e+06  3.445067e+06  2.013435e+05   6356.185662   245.373196   14722.391766  4.317278e-05\n",
      "15    2.692425e+08  5.747784e+07  9.875153e+06  4.144459e+06  2.618117e+05   8912.016459   371.691053   22301.463167  6.539808e-05\n",
      "16    2.647923e+08  6.009061e+07  1.086930e+07  4.912345e+06  3.337397e+05  12188.183682   546.440483   32786.428986  9.614478e-05\n",
      "17    2.604156e+08  6.255059e+07  1.186190e+07  5.747663e+06  4.181216e+05  16310.706179   782.664111   46959.846653  1.377077e-04\n",
      "18    2.561113e+08  6.486366e+07  1.284858e+07  6.648993e+06  5.159195e+05  21414.803979  1095.582283   65734.936970  1.927649e-04\n",
      "19    2.518782e+08  6.703552e+07  1.382547e+07  7.614607e+06  6.280581e+05  27644.345100  1502.741882   90164.512904  2.644035e-04\n",
      "20    2.477150e+08  6.907168e+07  1.478920e+07  8.642514e+06  7.554208e+05  35151.247210  2024.155529  121449.331737  3.561449e-04\n",
      "21    2.436206e+08  7.097745e+07  1.573679e+07  9.730499e+06  8.988455e+05  44094.844068  2682.430508  160945.830487  4.719667e-04\n",
      "22    2.395940e+08  7.275796e+07  1.666566e+07  1.087616e+07  1.059123e+06  54641.225601  3502.886898  210173.213892  6.163239e-04\n",
      "23    2.356338e+08  7.441816e+07  1.757361e+07  1.207695e+07  1.236992e+06  66962.559428  4513.664543  270819.872587  7.941676e-04\n",
      "24    2.317391e+08  7.596285e+07  1.845872e+07  1.333018e+07  1.433141e+06  81236.400807  5745.818608  344749.116475  1.010962e-03\n",
      "25    2.279088e+08  7.739663e+07  1.931938e+07  1.463309e+07  1.648205e+06  97644.997088  7233.403580  434004.214809  1.272699e-03, 40:            healthy    mesalamine      remicade        humira       entyvio       skyrizi       rinvoq        failure  failure_rate\n",
      "Year                                                                                                                              \n",
      "1     3.400000e+08  1.011000e+06  0.000000e+00  0.000000e+00  0.000000e+00      0.000000     0.000000       0.000000  0.000000e+00\n",
      "2     3.343803e+08  6.512460e+06  1.146850e+05  3.549015e+03  1.156540e+01      0.042686     0.000130       0.007821  2.293483e-11\n",
      "3     3.288535e+08  1.175321e+07  3.815430e+05  2.262716e+04  1.419396e+02      1.013845     0.006033       0.361985  1.061505e-09\n",
      "4     3.234180e+08  1.674279e+07  7.810128e+05  6.855024e+04  6.353136e+02      6.709971     0.059246       3.554769  1.042421e-08\n",
      "5     3.180724e+08  2.149041e+07  1.295342e+06  1.509964e+05  1.852703e+03     25.897984     0.303414      18.204869  5.338499e-08\n",
      "6     3.128151e+08  2.600497e+07  1.908436e+06  2.781651e+05  4.252064e+03     73.996239     1.081638      64.898270  1.903114e-07\n",
      "7     3.076447e+08  3.029509e+07  2.605720e+06  4.569224e+05  8.370495e+03    174.416630     3.058955     183.537317  5.382152e-07\n",
      "8     3.025598e+08  3.436908e+07  3.374010e+06  6.929343e+05  1.480833e+04    359.606259     7.364644     441.878619  1.295790e-06\n",
      "9     2.975589e+08  3.823498e+07  4.201399e+06  9.907879e+05  2.421497e+04    671.823610    15.749618     944.977098  2.771104e-06\n",
      "10    2.926407e+08  4.190057e+07  5.077146e+06  1.354103e+06  3.727628e+04   1163.680881    30.754780    1845.286788  5.411224e-06\n",
      "11    2.878038e+08  4.537335e+07  5.991577e+06  1.785632e+06  5.470344e+04   1898.481184    55.886652    3353.199121  9.833111e-06\n",
      "12    2.830468e+08  4.866057e+07  6.935995e+06  2.287356e+06  7.722304e+04   2950.376597    95.797113    5747.826778  1.685525e-05\n",
      "13    2.783685e+08  5.176925e+07  7.902598e+06  2.860565e+06  1.055685e+05   4404.370535   156.464432    9387.865902  2.752951e-05\n",
      "14    2.737674e+08  5.470616e+07  8.884398e+06  3.505938e+06  1.404722e+05   6356.185662   245.373196   14722.391766  4.317278e-05\n",
      "15    2.692425e+08  5.747784e+07  9.875153e+06  4.223611e+06  1.826593e+05   8912.016459   371.691053   22301.463167  6.539808e-05\n",
      "16    2.647923e+08  6.009061e+07  1.086930e+07  5.013243e+06  2.328416e+05  12188.183682   546.440483   32786.428986  9.614478e-05\n",
      "17    2.604156e+08  6.255059e+07  1.186190e+07  5.874072e+06  2.917127e+05  16310.706179   782.664111   46959.846653  1.377077e-04\n",
      "18    2.561113e+08  6.486366e+07  1.284858e+07  6.804969e+06  3.599438e+05  21414.803979  1095.582283   65734.936970  1.927649e-04\n",
      "19    2.518782e+08  6.703552e+07  1.382547e+07  7.804485e+06  4.381801e+05  27644.345100  1502.741882   90164.512904  2.644035e-04\n",
      "20    2.477150e+08  6.907168e+07  1.478920e+07  8.870897e+06  5.270378e+05  35151.247210  2024.155529  121449.331737  3.561449e-04\n",
      "21    2.436206e+08  7.097745e+07  1.573679e+07  1.000224e+07  6.271015e+05  44094.844068  2682.430508  160945.830486  4.719667e-04\n",
      "22    2.395940e+08  7.275796e+07  1.666566e+07  1.119636e+07  7.389227e+05  54641.225601  3502.886898  210173.213892  6.163239e-04\n",
      "23    2.356338e+08  7.441816e+07  1.757361e+07  1.245092e+07  8.630174e+05  66962.559428  4513.664543  270819.872587  7.941676e-04\n",
      "24    2.317391e+08  7.596285e+07  1.845872e+07  1.376346e+07  9.998657e+05  81236.400807  5745.818608  344749.116473  1.010962e-03\n",
      "25    2.279088e+08  7.739663e+07  1.931938e+07  1.513138e+07  1.149910e+06  97644.997088  7233.403580  434004.214810  1.272699e-03, 41:            healthy    mesalamine      remicade        humira       entyvio       skyrizi       rinvoq        failure  failure_rate\n",
      "Year                                                                                                                              \n",
      "1     3.400000e+08  1.011000e+06  0.000000e+00  0.000000e+00  0.000000e+00      0.000000     0.000000       0.000000  0.000000e+00\n",
      "2     3.343803e+08  6.512460e+06  1.146850e+05  3.549015e+03  1.156540e+01      0.042686     0.000130       0.007821  2.293483e-11\n",
      "3     3.288535e+08  1.175321e+07  3.815430e+05  2.262716e+04  1.419396e+02      1.013845     0.006033       0.361985  1.061505e-09\n",
      "4     3.234180e+08  1.674279e+07  7.810128e+05  6.855024e+04  6.353136e+02      6.709971     0.059246       3.554769  1.042421e-08\n",
      "5     3.180724e+08  2.149041e+07  1.295342e+06  1.509964e+05  1.852703e+03     25.897984     0.303414      18.204869  5.338499e-08\n",
      "6     3.128151e+08  2.600497e+07  1.908436e+06  2.781651e+05  4.252064e+03     73.996239     1.081638      64.898270  1.903114e-07\n",
      "7     3.076447e+08  3.029509e+07  2.605720e+06  4.569224e+05  8.370495e+03    174.416630     3.058955     183.537317  5.382152e-07\n",
      "8     3.025598e+08  3.436908e+07  3.374010e+06  6.929343e+05  1.480833e+04    359.606259     7.364644     441.878619  1.295790e-06\n",
      "9     2.975589e+08  3.823498e+07  4.201399e+06  9.907879e+05  2.421497e+04    671.823610    15.749618     944.977098  2.771104e-06\n",
      "10    2.926407e+08  4.190057e+07  5.077146e+06  1.354103e+06  3.727628e+04   1163.680881    30.754780    1845.286788  5.411224e-06\n",
      "11    2.878038e+08  4.537335e+07  5.991577e+06  1.785632e+06  5.470344e+04   1898.481184    55.886652    3353.199121  9.833111e-06\n",
      "12    2.830468e+08  4.866057e+07  6.935995e+06  2.287356e+06  7.722304e+04   2950.376597    95.797113    5747.826778  1.685525e-05\n",
      "13    2.783685e+08  5.176925e+07  7.902598e+06  2.860565e+06  1.055685e+05   4404.370535   156.464432    9387.865902  2.752951e-05\n",
      "14    2.737674e+08  5.470616e+07  8.884398e+06  3.505938e+06  1.404722e+05   6356.185662   245.373196   14722.391766  4.317278e-05\n",
      "15    2.692425e+08  5.747784e+07  9.875153e+06  4.223611e+06  1.826593e+05   8912.016459   371.691053   22301.463167  6.539808e-05\n",
      "16    2.647923e+08  6.009061e+07  1.086930e+07  5.013243e+06  2.328416e+05  12188.183682   546.440483   32786.428986  9.614478e-05\n",
      "17    2.604156e+08  6.255059e+07  1.186190e+07  5.874072e+06  2.917127e+05  16310.706179   782.664111   46959.846653  1.377077e-04\n",
      "18    2.561113e+08  6.486366e+07  1.284858e+07  6.804969e+06  3.599438e+05  21414.803979  1095.582283   65734.936970  1.927649e-04\n",
      "19    2.518782e+08  6.703552e+07  1.382547e+07  7.804485e+06  4.381801e+05  27644.345100  1502.741882   90164.512904  2.644035e-04\n",
      "20    2.477150e+08  6.907168e+07  1.478920e+07  8.870897e+06  5.270378e+05  35151.247210  2024.155529  121449.331737  3.561449e-04\n",
      "21    2.436206e+08  7.097745e+07  1.573679e+07  1.000224e+07  6.271015e+05  44094.844068  2682.430508  160945.830486  4.719667e-04\n",
      "22    2.395940e+08  7.275796e+07  1.666566e+07  1.119636e+07  7.389227e+05  54641.225601  3502.886898  210173.213892  6.163239e-04\n",
      "23    2.356338e+08  7.441816e+07  1.757361e+07  1.245092e+07  8.630174e+05  66962.559428  4513.664543  270819.872587  7.941676e-04\n",
      "24    2.317391e+08  7.596285e+07  1.845872e+07  1.376346e+07  9.998657e+05  81236.400807  5745.818608  344749.116473  1.010962e-03\n",
      "25    2.279088e+08  7.739663e+07  1.931938e+07  1.513138e+07  1.149910e+06  97644.997088  7233.403580  434004.214810  1.272699e-03, 42:            healthy    mesalamine      remicade        humira        entyvio       skyrizi       rinvoq       failure  failure_rate\n",
      "Year                                                                                                                              \n",
      "1     3.400000e+08  1.011000e+06  0.000000e+00  0.000000e+00       0.000000      0.000000     0.000000      0.000000  0.000000e+00\n",
      "2     3.343803e+08  6.512460e+06  1.177265e+05  5.167861e+02       2.404841      0.008751     0.000130      0.001603  4.701636e-12\n",
      "3     3.288535e+08  1.175321e+07  4.009340e+05  3.349053e+03      29.903617      0.207838     0.006033      0.074207  2.176084e-10\n",
      "4     3.234180e+08  1.674279e+07  8.397588e+05  1.030935e+04     135.573709      1.375544     0.059246      0.728728  2.136963e-09\n",
      "5     3.180724e+08  2.149041e+07  1.424742e+06  2.306890e+04     400.392987      5.309087     0.303414      3.731998  1.094392e-08\n",
      "6     3.128151e+08  2.600497e+07  2.146817e+06  4.316447e+04     930.500178     15.169229     1.081638     13.304145  3.901383e-08\n",
      "7     3.076447e+08  3.029509e+07  2.997292e+06  7.200508e+04    1854.612673     35.755409     3.058955     37.625150  1.103341e-07\n",
      "8     3.025598e+08  3.436908e+07  3.967839e+06  1.108783e+05    3321.594653     73.719283     7.364644     90.585117  2.656369e-07\n",
      "9     2.975589e+08  3.823498e+07  5.050482e+06  1.609566e+05    5498.168696    137.723840    15.749618    193.720305  5.680764e-07\n",
      "10    2.926407e+08  4.190057e+07  6.237581e+06  2.233028e+05    8566.764311    238.554581    30.754780    378.283792  1.109301e-06\n",
      "11    2.878038e+08  4.537335e+07  7.521822e+06  2.988762e+05   12723.497098    389.188643    55.886652    687.405820  2.015788e-06\n",
      "12    2.830468e+08  4.866057e+07  8.896207e+06  3.885375e+05   18176.272483    604.827202    95.797113   1178.304490  3.455327e-06\n",
      "13    2.783685e+08  5.176925e+07  1.035404e+07  4.930543e+05   25143.008218    902.895960   156.464432   1924.512510  5.643550e-06\n",
      "14    2.737674e+08  5.470616e+07  1.188891e+07  6.131061e+05   33849.970079   1303.018061   245.373196   3018.090311  8.850419e-06\n",
      "15    2.692425e+08  5.747784e+07  1.349469e+07  7.492888e+05   44530.215398   1826.963374   371.691053   4571.799948  1.340661e-05\n",
      "16    2.647923e+08  6.009061e+07  1.516553e+07  9.021194e+05   57422.139308   2498.577655   546.440483   6721.217941  1.970968e-05\n",
      "17    2.604156e+08  6.255059e+07  1.689584e+07  1.072040e+06   72768.118772   3343.694767   782.664111   9626.768563  2.823008e-05\n",
      "18    2.561113e+08  6.486366e+07  1.868028e+07  1.259424e+06   90813.249660   4390.034816  1095.582283  13475.662078  3.951680e-05\n",
      "19    2.518782e+08  6.703552e+07  2.051374e+07  1.464576e+06  111804.172363   5667.090746  1502.741882  18483.725144  5.420272e-05\n",
      "20    2.477150e+08  6.907168e+07  2.239135e+07  1.687740e+06  135987.981571   7206.005678  2024.155529  24897.113005  7.300971e-05\n",
      "21    2.436206e+08  7.097745e+07  2.430848e+07  1.929099e+06  163611.216071   9039.443034  2682.430508  32993.895249  9.675317e-05\n",
      "22    2.395940e+08  7.275796e+07  2.626069e+07  2.188784e+06  194918.924559  11201.451248  3502.886898  43085.508847  1.263464e-04\n",
      "23    2.356338e+08  7.441816e+07  2.824376e+07  2.466871e+06  230153.803643  13727.324683  4513.664543  55518.073880  1.628043e-04\n",
      "24    2.317391e+08  7.596285e+07  3.025368e+07  2.763388e+06  269555.404357  16653.462166  5745.818608  70673.568875  2.072472e-04\n",
      "25    2.279088e+08  7.739663e+07  3.228662e+07  3.078319e+06  313359.403686  20017.224404  7233.403580  88970.864028  2.609032e-04, 43:            healthy    mesalamine      remicade        humira        entyvio       skyrizi       rinvoq        failure  failure_rate\n",
      "Year                                                                                                                               \n",
      "1     3.400000e+08  1.011000e+06  0.000000e+00  0.000000e+00       0.000000      0.000000     0.000000       0.000000  0.000000e+00\n",
      "2     3.343803e+08  6.512460e+06  1.177265e+05  5.167861e+02       2.370906      0.042686     0.000130       0.007821  2.293488e-11\n",
      "3     3.288535e+08  1.175321e+07  4.009340e+05  3.349053e+03      29.097610      1.013845     0.006033       0.361985  1.061505e-09\n",
      "4     3.234180e+08  1.674279e+07  8.397588e+05  1.030935e+04     130.239283      6.709971     0.059246       3.554769  1.042421e-08\n",
      "5     3.180724e+08  2.149041e+07  1.424742e+06  2.306890e+04     379.804090     25.897984     0.303414      18.204870  5.338499e-08\n",
      "6     3.128151e+08  2.600497e+07  2.146817e+06  4.316447e+04     871.673168     73.996239     1.081638      64.898271  1.903114e-07\n",
      "7     3.076447e+08  3.029509e+07  2.997292e+06  7.200508e+04    1715.951452    174.416630     3.058955     183.537318  5.382152e-07\n",
      "8     3.025598e+08  3.436908e+07  3.967839e+06  1.108783e+05    3035.707677    359.606259     7.364644     441.878618  1.295790e-06\n",
      "9     2.975589e+08  3.823498e+07  5.050482e+06  1.609566e+05    4964.068926    671.823611    15.749618     944.977097  2.771104e-06\n",
      "10    2.926407e+08  4.190057e+07  6.237581e+06  2.233028e+05    7641.638011   1163.680881    30.754780    1845.286788  5.411224e-06\n",
      "11    2.878038e+08  4.537335e+07  7.521822e+06  2.988762e+05   11214.204557   1898.481184    55.886652    3353.199118  9.833111e-06\n",
      "12    2.830468e+08  4.866057e+07  8.896207e+06  3.885375e+05   15830.723088   2950.376597    95.797113    5747.826771  1.685525e-05\n",
      "13    2.783685e+08  5.176925e+07  1.035404e+07  4.930543e+05   21641.533643   4404.370535   156.464432    9387.865896  2.752951e-05\n",
      "14    2.737674e+08  5.470616e+07  1.188891e+07  6.131061e+05   28796.802478   6356.185662   245.373196   14722.391762  4.317278e-05\n",
      "15    2.692425e+08  5.747784e+07  1.349469e+07  7.492888e+05   37445.162313   8912.016459   371.691053   22301.463162  6.539808e-05\n",
      "16    2.647923e+08  6.009061e+07  1.516553e+07  9.021194e+05   47732.533280  12188.183683   546.440483   32786.428979  9.614478e-05\n",
      "17    2.604156e+08  6.255059e+07  1.689584e+07  1.072040e+06   59801.107359  16310.706180   782.664111   46959.846644  1.377077e-04\n",
      "18    2.561113e+08  6.486366e+07  1.868028e+07  1.259424e+06   73788.480496  21414.803980  1095.582283   65734.936959  1.927649e-04\n",
      "19    2.518782e+08  6.703552e+07  2.051374e+07  1.464576e+06   89826.918008  27644.345101  1502.741882   90164.512891  2.644035e-04\n",
      "20    2.477150e+08  6.907168e+07  2.239135e+07  1.687740e+06  108042.740038  35151.247211  2024.155529  121449.331723  3.561449e-04\n",
      "21    2.436206e+08  7.097745e+07  2.430848e+07  1.929099e+06  128555.815036  44094.844069  2682.430508  160945.830480  4.719667e-04\n",
      "22    2.395940e+08  7.275796e+07  2.626069e+07  2.188784e+06  151479.150207  54641.225600  3502.886898  210173.213894  6.163239e-04\n",
      "23    2.356338e+08  7.441816e+07  2.824376e+07  2.466871e+06  176918.568897  66962.559428  4513.664543  270819.872583  7.941676e-04\n",
      "24    2.317391e+08  7.596285e+07  3.025368e+07  2.763388e+06  204972.465712  81236.400810  5745.818607  344749.116444  1.010962e-03\n",
      "25    2.279088e+08  7.739663e+07  3.228662e+07  3.078319e+06  235731.630992  97644.997098  7233.403578  434004.214703  1.272699e-03, 44:            healthy    mesalamine      remicade        humira        entyvio       skyrizi       rinvoq       failure  failure_rate\n",
      "Year                                                                                                                              \n",
      "1     3.400000e+08  1.011000e+06  0.000000e+00  0.000000e+00       0.000000      0.000000     0.000000      0.000000  0.000000e+00\n",
      "2     3.343803e+08  6.512460e+06  1.177265e+05  5.167861e+02       2.404841      0.008751     0.000130      0.001603  4.701636e-12\n",
      "3     3.288535e+08  1.175321e+07  4.009340e+05  3.349053e+03      29.903617      0.207838     0.006033      0.074207  2.176084e-10\n",
      "4     3.234180e+08  1.674279e+07  8.397588e+05  1.030935e+04     135.573709      1.375544     0.059246      0.728728  2.136963e-09\n",
      "5     3.180724e+08  2.149041e+07  1.424742e+06  2.306890e+04     400.392987      5.309087     0.303414      3.731998  1.094392e-08\n",
      "6     3.128151e+08  2.600497e+07  2.146817e+06  4.316447e+04     930.500178     15.169229     1.081638     13.304145  3.901383e-08\n",
      "7     3.076447e+08  3.029509e+07  2.997292e+06  7.200508e+04    1854.612673     35.755409     3.058955     37.625150  1.103341e-07\n",
      "8     3.025598e+08  3.436908e+07  3.967839e+06  1.108783e+05    3321.594653     73.719283     7.364644     90.585117  2.656369e-07\n",
      "9     2.975589e+08  3.823498e+07  5.050482e+06  1.609566e+05    5498.168696    137.723840    15.749618    193.720305  5.680764e-07\n",
      "10    2.926407e+08  4.190057e+07  6.237581e+06  2.233028e+05    8566.764311    238.554581    30.754780    378.283792  1.109301e-06\n",
      "11    2.878038e+08  4.537335e+07  7.521822e+06  2.988762e+05   12723.497098    389.188643    55.886652    687.405820  2.015788e-06\n",
      "12    2.830468e+08  4.866057e+07  8.896207e+06  3.885375e+05   18176.272483    604.827202    95.797113   1178.304490  3.455327e-06\n",
      "13    2.783685e+08  5.176925e+07  1.035404e+07  4.930543e+05   25143.008218    902.895960   156.464432   1924.512510  5.643550e-06\n",
      "14    2.737674e+08  5.470616e+07  1.188891e+07  6.131061e+05   33849.970079   1303.018061   245.373196   3018.090311  8.850419e-06\n",
      "15    2.692425e+08  5.747784e+07  1.349469e+07  7.492888e+05   44530.215398   1826.963374   371.691053   4571.799948  1.340661e-05\n",
      "16    2.647923e+08  6.009061e+07  1.516553e+07  9.021194e+05   57422.139308   2498.577655   546.440483   6721.217941  1.970968e-05\n",
      "17    2.604156e+08  6.255059e+07  1.689584e+07  1.072040e+06   72768.118772   3343.694767   782.664111   9626.768563  2.823008e-05\n",
      "18    2.561113e+08  6.486366e+07  1.868028e+07  1.259424e+06   90813.249660   4390.034816  1095.582283  13475.662078  3.951680e-05\n",
      "19    2.518782e+08  6.703552e+07  2.051374e+07  1.464576e+06  111804.172363   5667.090746  1502.741882  18483.725144  5.420272e-05\n",
      "20    2.477150e+08  6.907168e+07  2.239135e+07  1.687740e+06  135987.981571   7206.005678  2024.155529  24897.113005  7.300971e-05\n",
      "21    2.436206e+08  7.097745e+07  2.430848e+07  1.929099e+06  163611.216071   9039.443034  2682.430508  32993.895249  9.675317e-05\n",
      "22    2.395940e+08  7.275796e+07  2.626069e+07  2.188784e+06  194918.924559  11201.451248  3502.886898  43085.508847  1.263464e-04\n",
      "23    2.356338e+08  7.441816e+07  2.824376e+07  2.466871e+06  230153.803643  13727.324683  4513.664543  55518.073880  1.628043e-04\n",
      "24    2.317391e+08  7.596285e+07  3.025368e+07  2.763388e+06  269555.404357  16653.462166  5745.818608  70673.568875  2.072472e-04\n",
      "25    2.279088e+08  7.739663e+07  3.228662e+07  3.078319e+06  313359.403686  20017.224404  7233.403580  88970.864028  2.609032e-04, 45:            healthy    mesalamine      remicade        humira        entyvio       skyrizi       rinvoq        failure  failure_rate\n",
      "Year                                                                                                                               \n",
      "1     3.400000e+08  1.011000e+06  0.000000e+00  0.000000e+00       0.000000      0.000000     0.000000       0.000000  0.000000e+00\n",
      "2     3.343803e+08  6.512460e+06  1.177265e+05  5.167861e+02       2.370906      0.042686     0.000130       0.007821  2.293488e-11\n",
      "3     3.288535e+08  1.175321e+07  4.009340e+05  3.349053e+03      29.097610      1.013845     0.006033       0.361985  1.061505e-09\n",
      "4     3.234180e+08  1.674279e+07  8.397588e+05  1.030935e+04     130.239283      6.709971     0.059246       3.554769  1.042421e-08\n",
      "5     3.180724e+08  2.149041e+07  1.424742e+06  2.306890e+04     379.804090     25.897984     0.303414      18.204870  5.338499e-08\n",
      "6     3.128151e+08  2.600497e+07  2.146817e+06  4.316447e+04     871.673168     73.996239     1.081638      64.898271  1.903114e-07\n",
      "7     3.076447e+08  3.029509e+07  2.997292e+06  7.200508e+04    1715.951452    174.416630     3.058955     183.537318  5.382152e-07\n",
      "8     3.025598e+08  3.436908e+07  3.967839e+06  1.108783e+05    3035.707677    359.606259     7.364644     441.878618  1.295790e-06\n",
      "9     2.975589e+08  3.823498e+07  5.050482e+06  1.609566e+05    4964.068926    671.823611    15.749618     944.977097  2.771104e-06\n",
      "10    2.926407e+08  4.190057e+07  6.237581e+06  2.233028e+05    7641.638011   1163.680881    30.754780    1845.286788  5.411224e-06\n",
      "11    2.878038e+08  4.537335e+07  7.521822e+06  2.988762e+05   11214.204557   1898.481184    55.886652    3353.199118  9.833111e-06\n",
      "12    2.830468e+08  4.866057e+07  8.896207e+06  3.885375e+05   15830.723088   2950.376597    95.797113    5747.826771  1.685525e-05\n",
      "13    2.783685e+08  5.176925e+07  1.035404e+07  4.930543e+05   21641.533643   4404.370535   156.464432    9387.865896  2.752951e-05\n",
      "14    2.737674e+08  5.470616e+07  1.188891e+07  6.131061e+05   28796.802478   6356.185662   245.373196   14722.391762  4.317278e-05\n",
      "15    2.692425e+08  5.747784e+07  1.349469e+07  7.492888e+05   37445.162313   8912.016459   371.691053   22301.463162  6.539808e-05\n",
      "16    2.647923e+08  6.009061e+07  1.516553e+07  9.021194e+05   47732.533280  12188.183683   546.440483   32786.428979  9.614478e-05\n",
      "17    2.604156e+08  6.255059e+07  1.689584e+07  1.072040e+06   59801.107359  16310.706180   782.664111   46959.846644  1.377077e-04\n",
      "18    2.561113e+08  6.486366e+07  1.868028e+07  1.259424e+06   73788.480496  21414.803980  1095.582283   65734.936959  1.927649e-04\n",
      "19    2.518782e+08  6.703552e+07  2.051374e+07  1.464576e+06   89826.918008  27644.345101  1502.741882   90164.512891  2.644035e-04\n",
      "20    2.477150e+08  6.907168e+07  2.239135e+07  1.687740e+06  108042.740038  35151.247211  2024.155529  121449.331723  3.561449e-04\n",
      "21    2.436206e+08  7.097745e+07  2.430848e+07  1.929099e+06  128555.815036  44094.844069  2682.430508  160945.830480  4.719667e-04\n",
      "22    2.395940e+08  7.275796e+07  2.626069e+07  2.188784e+06  151479.150207  54641.225600  3502.886898  210173.213894  6.163239e-04\n",
      "23    2.356338e+08  7.441816e+07  2.824376e+07  2.466871e+06  176918.568897  66962.559428  4513.664543  270819.872583  7.941676e-04\n",
      "24    2.317391e+08  7.596285e+07  3.025368e+07  2.763388e+06  204972.465712  81236.400810  5745.818607  344749.116444  1.010962e-03\n",
      "25    2.279088e+08  7.739663e+07  3.228662e+07  3.078319e+06  235731.630992  97644.997098  7233.403578  434004.214703  1.272699e-03, 46:            healthy    mesalamine      remicade        humira       entyvio       skyrizi       rinvoq        failure  failure_rate\n",
      "Year                                                                                                                              \n",
      "1     3.400000e+08  1.011000e+06  0.000000e+00  0.000000e+00  0.000000e+00      0.000000     0.000000       0.000000  0.000000e+00\n",
      "2     3.343803e+08  6.512460e+06  1.177265e+05  5.075916e+02  1.156540e+01      0.042686     0.000130       0.007821  2.293485e-11\n",
      "3     3.288535e+08  1.175321e+07  4.009340e+05  3.236211e+03  1.419396e+02      1.013845     0.006033       0.361985  1.061505e-09\n",
      "4     3.234180e+08  1.674279e+07  8.397588e+05  9.804279e+03  6.353136e+02      6.709971     0.059246       3.554769  1.042421e-08\n",
      "5     3.180724e+08  2.149041e+07  1.424742e+06  2.159600e+04  1.852703e+03     25.897984     0.303414      18.204869  5.338499e-08\n",
      "6     3.128151e+08  2.600497e+07  2.146817e+06  3.978407e+04  4.252064e+03     73.996239     1.081638      64.898270  1.903114e-07\n",
      "7     3.076447e+08  3.029509e+07  2.997292e+06  6.535053e+04  8.370495e+03    174.416630     3.058955     183.537317  5.382152e-07\n",
      "8     3.025598e+08  3.436908e+07  3.967839e+06  9.910572e+04  1.480833e+04    359.606259     7.364644     441.878619  1.295790e-06\n",
      "9     2.975589e+08  3.823498e+07  5.050482e+06  1.417057e+05  2.421497e+04    671.823610    15.749618     944.977098  2.771104e-06\n",
      "10    2.926407e+08  4.190057e+07  6.237581e+06  1.936682e+05  3.727628e+04   1163.680881    30.754780    1845.286788  5.411224e-06\n",
      "11    2.878038e+08  4.537335e+07  7.521822e+06  2.553870e+05  5.470344e+04   1898.481184    55.886652    3353.199121  9.833111e-06\n",
      "12    2.830468e+08  4.866057e+07  8.896207e+06  3.271452e+05  7.722304e+04   2950.376597    95.797113    5747.826778  1.685525e-05\n",
      "13    2.783685e+08  5.176925e+07  1.035404e+07  4.091274e+05  1.055685e+05   4404.370535   156.464432    9387.865902  2.752951e-05\n",
      "14    2.737674e+08  5.470616e+07  1.188891e+07  5.014307e+05  1.404722e+05   6356.185662   245.373196   14722.391765  4.317278e-05\n",
      "15    2.692425e+08  5.747784e+07  1.349469e+07  6.040746e+05  1.826593e+05   8912.016459   371.691053   22301.463166  6.539808e-05\n",
      "16    2.647923e+08  6.009061e+07  1.516553e+07  7.170103e+05  2.328416e+05  12188.183682   546.440483   32786.428985  9.614478e-05\n",
      "17    2.604156e+08  6.255059e+07  1.689584e+07  8.401289e+05  2.917127e+05  16310.706179   782.664111   46959.846653  1.377077e-04\n",
      "18    2.561113e+08  6.486366e+07  1.868028e+07  9.732688e+05  3.599438e+05  21414.803979  1095.582283   65734.936970  1.927649e-04\n",
      "19    2.518782e+08  6.703552e+07  2.051374e+07  1.116223e+06  4.381801e+05  27644.345100  1502.741882   90164.512904  2.644035e-04\n",
      "20    2.477150e+08  6.907168e+07  2.239135e+07  1.268745e+06  5.270378e+05  35151.247210  2024.155529  121449.331737  3.561449e-04\n",
      "21    2.436206e+08  7.097745e+07  2.430848e+07  1.430553e+06  6.271015e+05  44094.844068  2682.430508  160945.830486  4.719667e-04\n",
      "22    2.395940e+08  7.275796e+07  2.626069e+07  1.601340e+06  7.389227e+05  54641.225601  3502.886898  210173.213891  6.163239e-04\n",
      "23    2.356338e+08  7.441816e+07  2.824376e+07  1.780772e+06  8.630174e+05  66962.559428  4513.664543  270819.872586  7.941676e-04\n",
      "24    2.317391e+08  7.596285e+07  3.025368e+07  1.968495e+06  9.998657e+05  81236.400807  5745.818608  344749.116471  1.010962e-03\n",
      "25    2.279088e+08  7.739663e+07  3.228662e+07  2.164140e+06  1.149910e+06  97644.997088  7233.403580  434004.214810  1.272699e-03, 47:            healthy    mesalamine      remicade        humira       entyvio       skyrizi       rinvoq        failure  failure_rate\n",
      "Year                                                                                                                              \n",
      "1     3.400000e+08  1.011000e+06  0.000000e+00  0.000000e+00  0.000000e+00      0.000000     0.000000       0.000000  0.000000e+00\n",
      "2     3.343803e+08  6.512460e+06  1.177265e+05  5.075916e+02  1.156540e+01      0.042686     0.000130       0.007821  2.293485e-11\n",
      "3     3.288535e+08  1.175321e+07  4.009340e+05  3.236211e+03  1.419396e+02      1.013845     0.006033       0.361985  1.061505e-09\n",
      "4     3.234180e+08  1.674279e+07  8.397588e+05  9.804279e+03  6.353136e+02      6.709971     0.059246       3.554769  1.042421e-08\n",
      "5     3.180724e+08  2.149041e+07  1.424742e+06  2.159600e+04  1.852703e+03     25.897984     0.303414      18.204869  5.338499e-08\n",
      "6     3.128151e+08  2.600497e+07  2.146817e+06  3.978407e+04  4.252064e+03     73.996239     1.081638      64.898270  1.903114e-07\n",
      "7     3.076447e+08  3.029509e+07  2.997292e+06  6.535053e+04  8.370495e+03    174.416630     3.058955     183.537317  5.382152e-07\n",
      "8     3.025598e+08  3.436908e+07  3.967839e+06  9.910572e+04  1.480833e+04    359.606259     7.364644     441.878619  1.295790e-06\n",
      "9     2.975589e+08  3.823498e+07  5.050482e+06  1.417057e+05  2.421497e+04    671.823610    15.749618     944.977098  2.771104e-06\n",
      "10    2.926407e+08  4.190057e+07  6.237581e+06  1.936682e+05  3.727628e+04   1163.680881    30.754780    1845.286788  5.411224e-06\n",
      "11    2.878038e+08  4.537335e+07  7.521822e+06  2.553870e+05  5.470344e+04   1898.481184    55.886652    3353.199121  9.833111e-06\n",
      "12    2.830468e+08  4.866057e+07  8.896207e+06  3.271452e+05  7.722304e+04   2950.376597    95.797113    5747.826778  1.685525e-05\n",
      "13    2.783685e+08  5.176925e+07  1.035404e+07  4.091274e+05  1.055685e+05   4404.370535   156.464432    9387.865902  2.752951e-05\n",
      "14    2.737674e+08  5.470616e+07  1.188891e+07  5.014307e+05  1.404722e+05   6356.185662   245.373196   14722.391765  4.317278e-05\n",
      "15    2.692425e+08  5.747784e+07  1.349469e+07  6.040746e+05  1.826593e+05   8912.016459   371.691053   22301.463166  6.539808e-05\n",
      "16    2.647923e+08  6.009061e+07  1.516553e+07  7.170103e+05  2.328416e+05  12188.183682   546.440483   32786.428985  9.614478e-05\n",
      "17    2.604156e+08  6.255059e+07  1.689584e+07  8.401289e+05  2.917127e+05  16310.706179   782.664111   46959.846653  1.377077e-04\n",
      "18    2.561113e+08  6.486366e+07  1.868028e+07  9.732688e+05  3.599438e+05  21414.803979  1095.582283   65734.936970  1.927649e-04\n",
      "19    2.518782e+08  6.703552e+07  2.051374e+07  1.116223e+06  4.381801e+05  27644.345100  1502.741882   90164.512904  2.644035e-04\n",
      "20    2.477150e+08  6.907168e+07  2.239135e+07  1.268745e+06  5.270378e+05  35151.247210  2024.155529  121449.331737  3.561449e-04\n",
      "21    2.436206e+08  7.097745e+07  2.430848e+07  1.430553e+06  6.271015e+05  44094.844068  2682.430508  160945.830486  4.719667e-04\n",
      "22    2.395940e+08  7.275796e+07  2.626069e+07  1.601340e+06  7.389227e+05  54641.225601  3502.886898  210173.213891  6.163239e-04\n",
      "23    2.356338e+08  7.441816e+07  2.824376e+07  1.780772e+06  8.630174e+05  66962.559428  4513.664543  270819.872586  7.941676e-04\n",
      "24    2.317391e+08  7.596285e+07  3.025368e+07  1.968495e+06  9.998657e+05  81236.400807  5745.818608  344749.116471  1.010962e-03\n",
      "25    2.279088e+08  7.739663e+07  3.228662e+07  2.164140e+06  1.149910e+06  97644.997088  7233.403580  434004.214810  1.272699e-03, 48:            healthy    mesalamine      remicade        humira        entyvio        skyrizi       rinvoq        failure  failure_rate\n",
      "Year                                                                                                                                \n",
      "1     3.400000e+08  1.011000e+06  0.000000e+00  0.000000e+00       0.000000       0.000000     0.000000       0.000000  0.000000e+00\n",
      "2     3.343803e+08  6.567295e+06  6.301320e+04  3.944985e+02       3.394507       0.061183     0.000130       0.011210  3.287334e-11\n",
      "3     3.288535e+08  1.193964e+07  2.152916e+05  2.553254e+03      41.616511       1.453178     0.006033       0.518845  1.521490e-09\n",
      "4     3.234180e+08  1.713259e+07  4.523572e+05  7.849595e+03     186.080236       9.617625     0.059246       5.095170  1.494136e-08\n",
      "5     3.180724e+08  2.215062e+07  7.698807e+05  1.754235e+04     542.085258      37.120443     0.303414      26.093646  7.651849e-08\n",
      "6     3.128151e+08  2.699809e+07  1.163677e+06  3.278179e+04    1242.824874     106.061276     1.081638      93.020854  2.727796e-07\n",
      "7     3.076447e+08  3.167926e+07  1.629703e+06  5.461526e+04    2444.036404     249.997169     3.058955     263.070155  7.714418e-07\n",
      "8     3.025598e+08  3.619831e+07  2.164049e+06  8.399268e+04    4319.235981     515.435638     7.364644     633.359354  1.857299e-06\n",
      "9     2.975589e+08  4.055932e+07  2.762942e+06  1.217717e+05    7055.485130     962.947175    15.749618    1354.467174  3.971916e-06\n",
      "10    2.926407e+08  4.476628e+07  3.422734e+06  1.687227e+05   10849.640831    1667.942596    30.754780    2644.911063  7.756087e-06\n",
      "11    2.878038e+08  4.882309e+07  4.139907e+06  2.255337e+05   15905.044787    2721.156363    55.886652    4806.252073  1.409413e-05\n",
      "12    2.830468e+08  5.273356e+07  4.911061e+06  2.928146e+05   22428.611306    4228.873122    95.797113    8238.551715  2.415920e-05\n",
      "13    2.783685e+08  5.650143e+07  5.732916e+06  3.711018e+05   30628.276639    6312.931100   156.464432   13455.941127  3.945897e-05\n",
      "14    2.737674e+08  6.013033e+07  6.602309e+06  4.608625e+05   40710.775726    9110.532781   245.373196   21102.094866  6.188098e-05\n",
      "15    2.692425e+08  6.362384e+07  7.516185e+06  5.624982e+05   52879.715187   12773.890258   371.691053   31965.430541  9.373724e-05\n",
      "16    2.647923e+08  6.698543e+07  8.471600e+06  6.763493e+05   67333.914052   17469.729944   546.440483   46993.881549  1.378075e-04\n",
      "17    2.604156e+08  7.021852e+07  9.465717e+06  8.026979e+05   84265.986150   23378.678856   782.664111   67309.113538  1.973811e-04\n",
      "18    2.561113e+08  7.332644e+07  1.049580e+07  9.417718e+05  103861.140293   30694.552370  1095.582283   94220.076325  2.762963e-04\n",
      "19    2.518782e+08  7.631243e+07  1.155921e+07  1.093748e+06  126296.176490   39623.561310  1502.741882  129235.801830  3.789784e-04\n",
      "20    2.477150e+08  7.917968e+07  1.265341e+07  1.258755e+06  151738.658263   50383.454334  2024.155529  174077.375490  5.104744e-04\n",
      "21    2.436206e+08  8.193130e+07  1.377595e+07  1.436877e+06  180346.242904   63202.609831  2682.430508  230689.023697  6.764856e-04\n",
      "22    2.395940e+08  8.457032e+07  1.492448e+07  1.628156e+06  212266.153089   78319.090027  3502.886898  301248.273245  8.833975e-04\n",
      "23    2.356338e+08  8.709973e+07  1.609674e+07  1.832594e+06  247634.774725   95979.668513  4513.664543  388175.150709  1.138307e-03\n",
      "24    2.317391e+08  8.952241e+07  1.729054e+07  2.050159e+06  286577.367254  116438.841155  5745.818608  494140.400294  1.449045e-03\n",
      "25    2.279088e+08  9.184122e+07  1.850378e+07  2.280783e+06  329207.873860  139957.829160  7233.403580  622072.707896  1.824201e-03, 49:            healthy    mesalamine      remicade        humira        entyvio       skyrizi       rinvoq       failure  failure_rate\n",
      "Year                                                                                                                              \n",
      "1     3.400000e+08  1.011000e+06  0.000000e+00  0.000000e+00       0.000000      0.000000     0.000000      0.000000  0.000000e+00\n",
      "2     3.343803e+08  6.567295e+06  6.301320e+04  3.944985e+02       3.446939      0.008751     0.000130      0.001603  4.701638e-12\n",
      "3     3.288535e+08  1.193964e+07  2.152916e+05  2.553254e+03      42.861850      0.207838     0.006033      0.074207  2.176084e-10\n",
      "4     3.234180e+08  1.713259e+07  4.523572e+05  7.849595e+03     194.322317      1.375544     0.059246      0.728728  2.136963e-09\n",
      "5     3.180724e+08  2.215062e+07  7.698807e+05  1.754235e+04     573.896615      5.309087     0.303414      3.731998  1.094392e-08\n",
      "6     3.128151e+08  2.699809e+07  1.163677e+06  3.278179e+04    1333.716921     15.169229     1.081638     13.304145  3.901383e-08\n",
      "7     3.076447e+08  3.167926e+07  1.629703e+06  5.461526e+04    2658.278164     35.755409     3.058955     37.625150  1.103341e-07\n",
      "8     3.025598e+08  3.619831e+07  2.164049e+06  8.399268e+04    4760.952336     73.719283     7.364644     90.585117  2.656369e-07\n",
      "9     2.975589e+08  4.055932e+07  2.762942e+06  1.217717e+05    7880.708465    137.723840    15.749618    193.720305  5.680764e-07\n",
      "10    2.926407e+08  4.476628e+07  3.422734e+06  1.687227e+05   12279.028846    238.554581    30.754780    378.283792  1.109301e-06\n",
      "11    2.878038e+08  4.882309e+07  4.139907e+06  2.255337e+05   18237.012507    389.188643    55.886652    687.405820  2.015788e-06\n",
      "12    2.830468e+08  5.273356e+07  4.911061e+06  2.928146e+05   26052.657225    604.827202    95.797113   1178.304490  3.455327e-06\n",
      "13    2.783685e+08  5.650143e+07  5.732916e+06  3.711018e+05   36038.311780    902.895960   156.464432   1924.512510  5.643550e-06\n",
      "14    2.737674e+08  6.013033e+07  6.602309e+06  4.608625e+05   48518.290447   1303.018061   245.373196   3018.090311  8.850419e-06\n",
      "15    2.692425e+08  6.362384e+07  7.516185e+06  5.624982e+05   63826.642070   1826.963374   371.691053   4571.799948  1.340661e-05\n",
      "16    2.647923e+08  6.698543e+07  8.471600e+06  6.763493e+05   82305.066342   2498.577655   546.440483   6721.217941  1.970968e-05\n",
      "17    2.604156e+08  7.021852e+07  9.465717e+06  8.026979e+05  104300.970239   3343.694767   782.664111   9626.768563  2.823008e-05\n",
      "18    2.561113e+08  7.332644e+07  1.049580e+07  9.417718e+05  130165.657847   4390.034816  1095.582283  13475.662078  3.951680e-05\n",
      "19    2.518782e+08  7.631243e+07  1.155921e+07  1.093748e+06  160252.647054   5667.090746  1502.741882  18483.725144  5.420272e-05\n",
      "20    2.477150e+08  7.917968e+07  1.265341e+07  1.258755e+06  194916.106918   7206.005678  2024.155529  24897.113005  7.300971e-05\n",
      "21    2.436206e+08  8.193130e+07  1.377595e+07  1.436877e+06  234509.409701   9039.443034  2682.430508  32993.895249  9.675317e-05\n",
      "22    2.395940e+08  8.457032e+07  1.492448e+07  1.628156e+06  279383.791868  11201.451248  3502.886898  43085.508847  1.263464e-04\n",
      "23    2.356338e+08  8.709973e+07  1.609674e+07  1.832594e+06  329887.118555  13727.324683  4513.664543  55518.073880  1.628043e-04\n",
      "24    2.317391e+08  8.952241e+07  1.729054e+07  2.050159e+06  386362.746244  16653.462166  5745.818608  70673.568875  2.072472e-04\n",
      "25    2.279088e+08  9.184122e+07  1.850378e+07  2.280783e+06  449148.478616  20017.224404  7233.403580  88970.864028  2.609032e-04, 50:            healthy    mesalamine      remicade        humira        entyvio        skyrizi       rinvoq        failure  failure_rate\n",
      "Year                                                                                                                                \n",
      "1     3.400000e+08  1.011000e+06  0.000000e+00  0.000000e+00       0.000000       0.000000     0.000000       0.000000  0.000000e+00\n",
      "2     3.343803e+08  6.567295e+06  6.301320e+04  3.890618e+02       8.831238       0.061183     0.000130       0.011210  3.287329e-11\n",
      "3     3.288535e+08  1.193964e+07  2.152916e+05  2.486599e+03     108.270597       1.453178     0.006033       0.518845  1.521490e-09\n",
      "4     3.234180e+08  1.713259e+07  4.523572e+05  7.551564e+03     484.111183       9.617625     0.059246       5.095170  1.494136e-08\n",
      "5     3.180724e+08  2.215062e+07  7.698807e+05  1.667414e+04    1410.303111      37.120443     0.303414      26.093646  7.651849e-08\n",
      "6     3.128151e+08  2.699809e+07  1.163677e+06  3.079125e+04    3233.365526     106.061276     1.081638      93.020854  2.727796e-07\n",
      "7     3.076447e+08  3.167926e+07  1.629703e+06  5.070083e+04    6358.468694     249.997169     3.058955     263.070155  7.714418e-07\n",
      "8     3.025598e+08  3.619831e+07  2.164049e+06  7.707488e+04   11237.036699     515.435638     7.364644     633.359354  1.857299e-06\n",
      "9     2.975589e+08  4.055932e+07  2.762942e+06  1.104715e+05   18355.733671     962.947175    15.749618    1354.467174  3.971916e-06\n",
      "10    2.926407e+08  4.476628e+07  3.422734e+06  1.513457e+05   28226.707853    1667.942596    30.754780    2644.911063  7.756087e-06\n",
      "11    2.878038e+08  4.882309e+07  4.139907e+06  2.000598e+05   41378.978307    2721.156363    55.886652    4806.252073  1.409413e-05\n",
      "12    2.830468e+08  5.273356e+07  4.911061e+06  2.568923e+05   58350.858682    4228.873122    95.797113    8238.551715  2.415920e-05\n",
      "13    2.783685e+08  5.650143e+07  5.732916e+06  3.220468e+05   79683.321338    6312.931100   156.464432   13455.941127  3.945897e-05\n",
      "14    2.737674e+08  6.013033e+07  6.602309e+06  3.956590e+05  105914.213272    9110.532781   245.373196   21102.094865  6.188098e-05\n",
      "15    2.692425e+08  6.362384e+07  7.516185e+06  4.778047e+05  137573.242762   12773.890258   371.691053   31965.430540  9.373724e-05\n",
      "16    2.647923e+08  6.698543e+07  8.471600e+06  5.685056e+05  175177.662575   17469.729944   546.440483   46993.881547  1.378075e-04\n",
      "17    2.604156e+08  7.021852e+07  9.465717e+06  6.677353e+05  219228.581853   23378.678856   782.664111   67309.113537  1.973811e-04\n",
      "18    2.561113e+08  7.332644e+07  1.049580e+07  7.754251e+05  270207.844664   30694.552370  1095.582283   94220.076324  2.762963e-04\n",
      "19    2.518782e+08  7.631243e+07  1.155921e+07  8.914686e+05  328575.418510   39623.561310  1502.741882  129235.801830  3.789784e-04\n",
      "20    2.477150e+08  7.917968e+07  1.265341e+07  1.015726e+06  394767.241008   50383.454334  2024.155529  174077.375490  5.104744e-04\n",
      "21    2.436206e+08  8.193130e+07  1.377595e+07  1.148030e+06  469193.477473   63202.609831  2682.430508  230689.023697  6.764856e-04\n",
      "22    2.395940e+08  8.457032e+07  1.492448e+07  1.288185e+06  552237.146247   78319.090027  3502.886898  301248.273245  8.833975e-04\n",
      "23    2.356338e+08  8.709973e+07  1.609674e+07  1.435976e+06  644253.072454   95979.668513  4513.664543  388175.150708  1.138307e-03\n",
      "24    2.317391e+08  8.952241e+07  1.729054e+07  1.591170e+06  745567.134319  116438.841156  5745.818608  494140.400285  1.449045e-03\n",
      "25    2.279088e+08  9.184122e+07  1.850378e+07  1.753515e+06  856475.769391  139957.829160  7233.403580  622072.707893  1.824201e-03}\n"
     ]
    }
   ],
   "source": [
    "print(results)"
   ]
  },
  {
   "cell_type": "markdown",
   "metadata": {},
   "source": [
    "### Print Dataframes"
   ]
  },
  {
   "cell_type": "code",
   "execution_count": 91,
   "metadata": {},
   "outputs": [
    {
     "data": {
      "text/html": [
       "<div>\n",
       "<style scoped>\n",
       "    .dataframe tbody tr th:only-of-type {\n",
       "        vertical-align: middle;\n",
       "    }\n",
       "\n",
       "    .dataframe tbody tr th {\n",
       "        vertical-align: top;\n",
       "    }\n",
       "\n",
       "    .dataframe thead th {\n",
       "        text-align: right;\n",
       "    }\n",
       "</style>\n",
       "<table border=\"1\" class=\"dataframe\">\n",
       "  <thead>\n",
       "    <tr style=\"text-align: right;\">\n",
       "      <th></th>\n",
       "      <th>healthy</th>\n",
       "      <th>mesalamine</th>\n",
       "      <th>remicade</th>\n",
       "      <th>humira</th>\n",
       "      <th>entyvio</th>\n",
       "      <th>skyrizi</th>\n",
       "      <th>rinvoq</th>\n",
       "      <th>failure</th>\n",
       "      <th>failure_rate</th>\n",
       "    </tr>\n",
       "    <tr>\n",
       "      <th>Year</th>\n",
       "      <th></th>\n",
       "      <th></th>\n",
       "      <th></th>\n",
       "      <th></th>\n",
       "      <th></th>\n",
       "      <th></th>\n",
       "      <th></th>\n",
       "      <th></th>\n",
       "      <th></th>\n",
       "    </tr>\n",
       "  </thead>\n",
       "  <tbody>\n",
       "    <tr>\n",
       "      <th>21</th>\n",
       "      <td>2.436206e+08</td>\n",
       "      <td>8.193130e+07</td>\n",
       "      <td>1.251868e+07</td>\n",
       "      <td>2.694144e+06</td>\n",
       "      <td>180346.242904</td>\n",
       "      <td>63202.609831</td>\n",
       "      <td>2682.430508</td>\n",
       "      <td>230689.023697</td>\n",
       "      <td>0.000676</td>\n",
       "    </tr>\n",
       "    <tr>\n",
       "      <th>22</th>\n",
       "      <td>2.395940e+08</td>\n",
       "      <td>8.457032e+07</td>\n",
       "      <td>1.349985e+07</td>\n",
       "      <td>3.052792e+06</td>\n",
       "      <td>212266.153089</td>\n",
       "      <td>78319.090027</td>\n",
       "      <td>3502.886898</td>\n",
       "      <td>301248.273245</td>\n",
       "      <td>0.000883</td>\n",
       "    </tr>\n",
       "    <tr>\n",
       "      <th>23</th>\n",
       "      <td>2.356338e+08</td>\n",
       "      <td>8.709973e+07</td>\n",
       "      <td>1.449322e+07</td>\n",
       "      <td>3.436115e+06</td>\n",
       "      <td>247634.774725</td>\n",
       "      <td>95979.668513</td>\n",
       "      <td>4513.664543</td>\n",
       "      <td>388175.150709</td>\n",
       "      <td>0.001138</td>\n",
       "    </tr>\n",
       "    <tr>\n",
       "      <th>24</th>\n",
       "      <td>2.317391e+08</td>\n",
       "      <td>8.952241e+07</td>\n",
       "      <td>1.549665e+07</td>\n",
       "      <td>3.844049e+06</td>\n",
       "      <td>286577.367254</td>\n",
       "      <td>116438.841156</td>\n",
       "      <td>5745.818608</td>\n",
       "      <td>494140.400286</td>\n",
       "      <td>0.001449</td>\n",
       "    </tr>\n",
       "    <tr>\n",
       "      <th>25</th>\n",
       "      <td>2.279088e+08</td>\n",
       "      <td>9.184122e+07</td>\n",
       "      <td>1.650810e+07</td>\n",
       "      <td>4.276468e+06</td>\n",
       "      <td>329207.873860</td>\n",
       "      <td>139957.829160</td>\n",
       "      <td>7233.403580</td>\n",
       "      <td>622072.707893</td>\n",
       "      <td>0.001824</td>\n",
       "    </tr>\n",
       "  </tbody>\n",
       "</table>\n",
       "</div>"
      ],
      "text/plain": [
       "           healthy    mesalamine      remicade        humira        entyvio        skyrizi       rinvoq        failure  failure_rate\n",
       "Year                                                                                                                                \n",
       "21    2.436206e+08  8.193130e+07  1.251868e+07  2.694144e+06  180346.242904   63202.609831  2682.430508  230689.023697      0.000676\n",
       "22    2.395940e+08  8.457032e+07  1.349985e+07  3.052792e+06  212266.153089   78319.090027  3502.886898  301248.273245      0.000883\n",
       "23    2.356338e+08  8.709973e+07  1.449322e+07  3.436115e+06  247634.774725   95979.668513  4513.664543  388175.150709      0.001138\n",
       "24    2.317391e+08  8.952241e+07  1.549665e+07  3.844049e+06  286577.367254  116438.841156  5745.818608  494140.400286      0.001449\n",
       "25    2.279088e+08  9.184122e+07  1.650810e+07  4.276468e+06  329207.873860  139957.829160  7233.403580  622072.707893      0.001824"
      ]
     },
     "execution_count": 91,
     "metadata": {},
     "output_type": "execute_result"
    }
   ],
   "source": [
    "# print first data frame\n",
    "df0 = results[0]\n",
    "df0.tail(5)"
   ]
  },
  {
   "cell_type": "code",
   "execution_count": 92,
   "metadata": {},
   "outputs": [
    {
     "data": {
      "text/html": [
       "<div>\n",
       "<style scoped>\n",
       "    .dataframe tbody tr th:only-of-type {\n",
       "        vertical-align: middle;\n",
       "    }\n",
       "\n",
       "    .dataframe tbody tr th {\n",
       "        vertical-align: top;\n",
       "    }\n",
       "\n",
       "    .dataframe thead th {\n",
       "        text-align: right;\n",
       "    }\n",
       "</style>\n",
       "<table border=\"1\" class=\"dataframe\">\n",
       "  <thead>\n",
       "    <tr style=\"text-align: right;\">\n",
       "      <th></th>\n",
       "      <th>healthy</th>\n",
       "      <th>mesalamine</th>\n",
       "      <th>remicade</th>\n",
       "      <th>humira</th>\n",
       "      <th>entyvio</th>\n",
       "      <th>skyrizi</th>\n",
       "      <th>rinvoq</th>\n",
       "      <th>failure</th>\n",
       "      <th>failure_rate</th>\n",
       "    </tr>\n",
       "    <tr>\n",
       "      <th>Year</th>\n",
       "      <th></th>\n",
       "      <th></th>\n",
       "      <th></th>\n",
       "      <th></th>\n",
       "      <th></th>\n",
       "      <th></th>\n",
       "      <th></th>\n",
       "      <th></th>\n",
       "      <th></th>\n",
       "    </tr>\n",
       "  </thead>\n",
       "  <tbody>\n",
       "    <tr>\n",
       "      <th>21</th>\n",
       "      <td>2.436206e+08</td>\n",
       "      <td>8.193130e+07</td>\n",
       "      <td>1.251868e+07</td>\n",
       "      <td>2.694144e+06</td>\n",
       "      <td>234509.409701</td>\n",
       "      <td>9039.443034</td>\n",
       "      <td>2682.430508</td>\n",
       "      <td>32993.895249</td>\n",
       "      <td>0.000097</td>\n",
       "    </tr>\n",
       "    <tr>\n",
       "      <th>22</th>\n",
       "      <td>2.395940e+08</td>\n",
       "      <td>8.457032e+07</td>\n",
       "      <td>1.349985e+07</td>\n",
       "      <td>3.052792e+06</td>\n",
       "      <td>279383.791868</td>\n",
       "      <td>11201.451248</td>\n",
       "      <td>3502.886898</td>\n",
       "      <td>43085.508847</td>\n",
       "      <td>0.000126</td>\n",
       "    </tr>\n",
       "    <tr>\n",
       "      <th>23</th>\n",
       "      <td>2.356338e+08</td>\n",
       "      <td>8.709973e+07</td>\n",
       "      <td>1.449322e+07</td>\n",
       "      <td>3.436115e+06</td>\n",
       "      <td>329887.118555</td>\n",
       "      <td>13727.324683</td>\n",
       "      <td>4513.664543</td>\n",
       "      <td>55518.073880</td>\n",
       "      <td>0.000163</td>\n",
       "    </tr>\n",
       "    <tr>\n",
       "      <th>24</th>\n",
       "      <td>2.317391e+08</td>\n",
       "      <td>8.952241e+07</td>\n",
       "      <td>1.549665e+07</td>\n",
       "      <td>3.844049e+06</td>\n",
       "      <td>386362.746244</td>\n",
       "      <td>16653.462166</td>\n",
       "      <td>5745.818608</td>\n",
       "      <td>70673.568875</td>\n",
       "      <td>0.000207</td>\n",
       "    </tr>\n",
       "    <tr>\n",
       "      <th>25</th>\n",
       "      <td>2.279088e+08</td>\n",
       "      <td>9.184122e+07</td>\n",
       "      <td>1.650810e+07</td>\n",
       "      <td>4.276468e+06</td>\n",
       "      <td>449148.478616</td>\n",
       "      <td>20017.224404</td>\n",
       "      <td>7233.403580</td>\n",
       "      <td>88970.864028</td>\n",
       "      <td>0.000261</td>\n",
       "    </tr>\n",
       "  </tbody>\n",
       "</table>\n",
       "</div>"
      ],
      "text/plain": [
       "           healthy    mesalamine      remicade        humira        entyvio       skyrizi       rinvoq       failure  failure_rate\n",
       "Year                                                                                                                              \n",
       "21    2.436206e+08  8.193130e+07  1.251868e+07  2.694144e+06  234509.409701   9039.443034  2682.430508  32993.895249      0.000097\n",
       "22    2.395940e+08  8.457032e+07  1.349985e+07  3.052792e+06  279383.791868  11201.451248  3502.886898  43085.508847      0.000126\n",
       "23    2.356338e+08  8.709973e+07  1.449322e+07  3.436115e+06  329887.118555  13727.324683  4513.664543  55518.073880      0.000163\n",
       "24    2.317391e+08  8.952241e+07  1.549665e+07  3.844049e+06  386362.746244  16653.462166  5745.818608  70673.568875      0.000207\n",
       "25    2.279088e+08  9.184122e+07  1.650810e+07  4.276468e+06  449148.478616  20017.224404  7233.403580  88970.864028      0.000261"
      ]
     },
     "execution_count": 92,
     "metadata": {},
     "output_type": "execute_result"
    }
   ],
   "source": [
    "df1 = results[1]\n",
    "df1.tail(5)"
   ]
  },
  {
   "cell_type": "code",
   "execution_count": 93,
   "metadata": {},
   "outputs": [
    {
     "data": {
      "text/html": [
       "<div>\n",
       "<style scoped>\n",
       "    .dataframe tbody tr th:only-of-type {\n",
       "        vertical-align: middle;\n",
       "    }\n",
       "\n",
       "    .dataframe tbody tr th {\n",
       "        vertical-align: top;\n",
       "    }\n",
       "\n",
       "    .dataframe thead th {\n",
       "        text-align: right;\n",
       "    }\n",
       "</style>\n",
       "<table border=\"1\" class=\"dataframe\">\n",
       "  <thead>\n",
       "    <tr style=\"text-align: right;\">\n",
       "      <th></th>\n",
       "      <th>healthy</th>\n",
       "      <th>mesalamine</th>\n",
       "      <th>remicade</th>\n",
       "      <th>humira</th>\n",
       "      <th>entyvio</th>\n",
       "      <th>skyrizi</th>\n",
       "      <th>rinvoq</th>\n",
       "      <th>failure</th>\n",
       "      <th>failure_rate</th>\n",
       "    </tr>\n",
       "    <tr>\n",
       "      <th>Year</th>\n",
       "      <th></th>\n",
       "      <th></th>\n",
       "      <th></th>\n",
       "      <th></th>\n",
       "      <th></th>\n",
       "      <th></th>\n",
       "      <th></th>\n",
       "      <th></th>\n",
       "      <th></th>\n",
       "    </tr>\n",
       "  </thead>\n",
       "  <tbody>\n",
       "    <tr>\n",
       "      <th>21</th>\n",
       "      <td>2.436206e+08</td>\n",
       "      <td>8.193130e+07</td>\n",
       "      <td>1.251868e+07</td>\n",
       "      <td>1.994752e+06</td>\n",
       "      <td>8.797378e+05</td>\n",
       "      <td>63202.609831</td>\n",
       "      <td>2682.430508</td>\n",
       "      <td>230689.023697</td>\n",
       "      <td>0.000676</td>\n",
       "    </tr>\n",
       "    <tr>\n",
       "      <th>22</th>\n",
       "      <td>2.395940e+08</td>\n",
       "      <td>8.457032e+07</td>\n",
       "      <td>1.349985e+07</td>\n",
       "      <td>2.229613e+06</td>\n",
       "      <td>1.035445e+06</td>\n",
       "      <td>78319.090027</td>\n",
       "      <td>3502.886898</td>\n",
       "      <td>301248.273245</td>\n",
       "      <td>0.000883</td>\n",
       "    </tr>\n",
       "    <tr>\n",
       "      <th>23</th>\n",
       "      <td>2.356338e+08</td>\n",
       "      <td>8.709973e+07</td>\n",
       "      <td>1.449322e+07</td>\n",
       "      <td>2.475775e+06</td>\n",
       "      <td>1.207975e+06</td>\n",
       "      <td>95979.668513</td>\n",
       "      <td>4513.664543</td>\n",
       "      <td>388175.150709</td>\n",
       "      <td>0.001138</td>\n",
       "    </tr>\n",
       "    <tr>\n",
       "      <th>24</th>\n",
       "      <td>2.317391e+08</td>\n",
       "      <td>8.952241e+07</td>\n",
       "      <td>1.549665e+07</td>\n",
       "      <td>2.732688e+06</td>\n",
       "      <td>1.397938e+06</td>\n",
       "      <td>116438.841156</td>\n",
       "      <td>5745.818608</td>\n",
       "      <td>494140.400290</td>\n",
       "      <td>0.001449</td>\n",
       "    </tr>\n",
       "    <tr>\n",
       "      <th>25</th>\n",
       "      <td>2.279088e+08</td>\n",
       "      <td>9.184122e+07</td>\n",
       "      <td>1.650810e+07</td>\n",
       "      <td>2.999783e+06</td>\n",
       "      <td>1.605892e+06</td>\n",
       "      <td>139957.829160</td>\n",
       "      <td>7233.403580</td>\n",
       "      <td>622072.707895</td>\n",
       "      <td>0.001824</td>\n",
       "    </tr>\n",
       "  </tbody>\n",
       "</table>\n",
       "</div>"
      ],
      "text/plain": [
       "           healthy    mesalamine      remicade        humira       entyvio        skyrizi       rinvoq        failure  failure_rate\n",
       "Year                                                                                                                               \n",
       "21    2.436206e+08  8.193130e+07  1.251868e+07  1.994752e+06  8.797378e+05   63202.609831  2682.430508  230689.023697      0.000676\n",
       "22    2.395940e+08  8.457032e+07  1.349985e+07  2.229613e+06  1.035445e+06   78319.090027  3502.886898  301248.273245      0.000883\n",
       "23    2.356338e+08  8.709973e+07  1.449322e+07  2.475775e+06  1.207975e+06   95979.668513  4513.664543  388175.150709      0.001138\n",
       "24    2.317391e+08  8.952241e+07  1.549665e+07  2.732688e+06  1.397938e+06  116438.841156  5745.818608  494140.400290      0.001449\n",
       "25    2.279088e+08  9.184122e+07  1.650810e+07  2.999783e+06  1.605892e+06  139957.829160  7233.403580  622072.707895      0.001824"
      ]
     },
     "execution_count": 93,
     "metadata": {},
     "output_type": "execute_result"
    }
   ],
   "source": [
    "df2 = results[2]\n",
    "df2.tail(5)"
   ]
  },
  {
   "cell_type": "code",
   "execution_count": 94,
   "metadata": {},
   "outputs": [
    {
     "data": {
      "text/html": [
       "<div>\n",
       "<style scoped>\n",
       "    .dataframe tbody tr th:only-of-type {\n",
       "        vertical-align: middle;\n",
       "    }\n",
       "\n",
       "    .dataframe tbody tr th {\n",
       "        vertical-align: top;\n",
       "    }\n",
       "\n",
       "    .dataframe thead th {\n",
       "        text-align: right;\n",
       "    }\n",
       "</style>\n",
       "<table border=\"1\" class=\"dataframe\">\n",
       "  <thead>\n",
       "    <tr style=\"text-align: right;\">\n",
       "      <th></th>\n",
       "      <th>healthy</th>\n",
       "      <th>mesalamine</th>\n",
       "      <th>remicade</th>\n",
       "      <th>humira</th>\n",
       "      <th>entyvio</th>\n",
       "      <th>skyrizi</th>\n",
       "      <th>rinvoq</th>\n",
       "      <th>failure</th>\n",
       "      <th>failure_rate</th>\n",
       "    </tr>\n",
       "    <tr>\n",
       "      <th>Year</th>\n",
       "      <th></th>\n",
       "      <th></th>\n",
       "      <th></th>\n",
       "      <th></th>\n",
       "      <th></th>\n",
       "      <th></th>\n",
       "      <th></th>\n",
       "      <th></th>\n",
       "      <th></th>\n",
       "    </tr>\n",
       "  </thead>\n",
       "  <tbody>\n",
       "    <tr>\n",
       "      <th>21</th>\n",
       "      <td>2.436206e+08</td>\n",
       "      <td>8.193130e+07</td>\n",
       "      <td>1.251868e+07</td>\n",
       "      <td>1.994752e+06</td>\n",
       "      <td>8.988455e+05</td>\n",
       "      <td>44094.844068</td>\n",
       "      <td>2682.430508</td>\n",
       "      <td>160945.830486</td>\n",
       "      <td>0.000472</td>\n",
       "    </tr>\n",
       "    <tr>\n",
       "      <th>22</th>\n",
       "      <td>2.395940e+08</td>\n",
       "      <td>8.457032e+07</td>\n",
       "      <td>1.349985e+07</td>\n",
       "      <td>2.229613e+06</td>\n",
       "      <td>1.059123e+06</td>\n",
       "      <td>54641.225601</td>\n",
       "      <td>3502.886898</td>\n",
       "      <td>210173.213891</td>\n",
       "      <td>0.000616</td>\n",
       "    </tr>\n",
       "    <tr>\n",
       "      <th>23</th>\n",
       "      <td>2.356338e+08</td>\n",
       "      <td>8.709973e+07</td>\n",
       "      <td>1.449322e+07</td>\n",
       "      <td>2.475775e+06</td>\n",
       "      <td>1.236992e+06</td>\n",
       "      <td>66962.559428</td>\n",
       "      <td>4513.664543</td>\n",
       "      <td>270819.872587</td>\n",
       "      <td>0.000794</td>\n",
       "    </tr>\n",
       "    <tr>\n",
       "      <th>24</th>\n",
       "      <td>2.317391e+08</td>\n",
       "      <td>8.952241e+07</td>\n",
       "      <td>1.549665e+07</td>\n",
       "      <td>2.732688e+06</td>\n",
       "      <td>1.433141e+06</td>\n",
       "      <td>81236.400807</td>\n",
       "      <td>5745.818608</td>\n",
       "      <td>344749.116472</td>\n",
       "      <td>0.001011</td>\n",
       "    </tr>\n",
       "    <tr>\n",
       "      <th>25</th>\n",
       "      <td>2.279088e+08</td>\n",
       "      <td>9.184122e+07</td>\n",
       "      <td>1.650810e+07</td>\n",
       "      <td>2.999783e+06</td>\n",
       "      <td>1.648205e+06</td>\n",
       "      <td>97644.997088</td>\n",
       "      <td>7233.403580</td>\n",
       "      <td>434004.214810</td>\n",
       "      <td>0.001273</td>\n",
       "    </tr>\n",
       "  </tbody>\n",
       "</table>\n",
       "</div>"
      ],
      "text/plain": [
       "           healthy    mesalamine      remicade        humira       entyvio       skyrizi       rinvoq        failure  failure_rate\n",
       "Year                                                                                                                              \n",
       "21    2.436206e+08  8.193130e+07  1.251868e+07  1.994752e+06  8.988455e+05  44094.844068  2682.430508  160945.830486      0.000472\n",
       "22    2.395940e+08  8.457032e+07  1.349985e+07  2.229613e+06  1.059123e+06  54641.225601  3502.886898  210173.213891      0.000616\n",
       "23    2.356338e+08  8.709973e+07  1.449322e+07  2.475775e+06  1.236992e+06  66962.559428  4513.664543  270819.872587      0.000794\n",
       "24    2.317391e+08  8.952241e+07  1.549665e+07  2.732688e+06  1.433141e+06  81236.400807  5745.818608  344749.116472      0.001011\n",
       "25    2.279088e+08  9.184122e+07  1.650810e+07  2.999783e+06  1.648205e+06  97644.997088  7233.403580  434004.214810      0.001273"
      ]
     },
     "execution_count": 94,
     "metadata": {},
     "output_type": "execute_result"
    }
   ],
   "source": [
    "df3 = results[3]\n",
    "df3.tail(5)"
   ]
  },
  {
   "cell_type": "code",
   "execution_count": 95,
   "metadata": {},
   "outputs": [
    {
     "data": {
      "text/html": [
       "<div>\n",
       "<style scoped>\n",
       "    .dataframe tbody tr th:only-of-type {\n",
       "        vertical-align: middle;\n",
       "    }\n",
       "\n",
       "    .dataframe tbody tr th {\n",
       "        vertical-align: top;\n",
       "    }\n",
       "\n",
       "    .dataframe thead th {\n",
       "        text-align: right;\n",
       "    }\n",
       "</style>\n",
       "<table border=\"1\" class=\"dataframe\">\n",
       "  <thead>\n",
       "    <tr style=\"text-align: right;\">\n",
       "      <th></th>\n",
       "      <th>healthy</th>\n",
       "      <th>mesalamine</th>\n",
       "      <th>remicade</th>\n",
       "      <th>humira</th>\n",
       "      <th>entyvio</th>\n",
       "      <th>skyrizi</th>\n",
       "      <th>rinvoq</th>\n",
       "      <th>failure</th>\n",
       "      <th>failure_rate</th>\n",
       "    </tr>\n",
       "    <tr>\n",
       "      <th>Year</th>\n",
       "      <th></th>\n",
       "      <th></th>\n",
       "      <th></th>\n",
       "      <th></th>\n",
       "      <th></th>\n",
       "      <th></th>\n",
       "      <th></th>\n",
       "      <th></th>\n",
       "      <th></th>\n",
       "    </tr>\n",
       "  </thead>\n",
       "  <tbody>\n",
       "    <tr>\n",
       "      <th>21</th>\n",
       "      <td>2.436206e+08</td>\n",
       "      <td>8.193130e+07</td>\n",
       "      <td>1.251868e+07</td>\n",
       "      <td>2.765042e+06</td>\n",
       "      <td>163611.216071</td>\n",
       "      <td>9039.443034</td>\n",
       "      <td>2682.430508</td>\n",
       "      <td>32993.895249</td>\n",
       "      <td>0.000097</td>\n",
       "    </tr>\n",
       "    <tr>\n",
       "      <th>22</th>\n",
       "      <td>2.395940e+08</td>\n",
       "      <td>8.457032e+07</td>\n",
       "      <td>1.349985e+07</td>\n",
       "      <td>3.137257e+06</td>\n",
       "      <td>194918.924559</td>\n",
       "      <td>11201.451248</td>\n",
       "      <td>3502.886898</td>\n",
       "      <td>43085.508847</td>\n",
       "      <td>0.000126</td>\n",
       "    </tr>\n",
       "    <tr>\n",
       "      <th>23</th>\n",
       "      <td>2.356338e+08</td>\n",
       "      <td>8.709973e+07</td>\n",
       "      <td>1.449322e+07</td>\n",
       "      <td>3.535848e+06</td>\n",
       "      <td>230153.803643</td>\n",
       "      <td>13727.324683</td>\n",
       "      <td>4513.664543</td>\n",
       "      <td>55518.073880</td>\n",
       "      <td>0.000163</td>\n",
       "    </tr>\n",
       "    <tr>\n",
       "      <th>24</th>\n",
       "      <td>2.317391e+08</td>\n",
       "      <td>8.952241e+07</td>\n",
       "      <td>1.549665e+07</td>\n",
       "      <td>3.960856e+06</td>\n",
       "      <td>269555.404357</td>\n",
       "      <td>16653.462166</td>\n",
       "      <td>5745.818608</td>\n",
       "      <td>70673.568875</td>\n",
       "      <td>0.000207</td>\n",
       "    </tr>\n",
       "    <tr>\n",
       "      <th>25</th>\n",
       "      <td>2.279088e+08</td>\n",
       "      <td>9.184122e+07</td>\n",
       "      <td>1.650810e+07</td>\n",
       "      <td>4.412257e+06</td>\n",
       "      <td>313359.403686</td>\n",
       "      <td>20017.224404</td>\n",
       "      <td>7233.403580</td>\n",
       "      <td>88970.864028</td>\n",
       "      <td>0.000261</td>\n",
       "    </tr>\n",
       "  </tbody>\n",
       "</table>\n",
       "</div>"
      ],
      "text/plain": [
       "           healthy    mesalamine      remicade        humira        entyvio       skyrizi       rinvoq       failure  failure_rate\n",
       "Year                                                                                                                              \n",
       "21    2.436206e+08  8.193130e+07  1.251868e+07  2.765042e+06  163611.216071   9039.443034  2682.430508  32993.895249      0.000097\n",
       "22    2.395940e+08  8.457032e+07  1.349985e+07  3.137257e+06  194918.924559  11201.451248  3502.886898  43085.508847      0.000126\n",
       "23    2.356338e+08  8.709973e+07  1.449322e+07  3.535848e+06  230153.803643  13727.324683  4513.664543  55518.073880      0.000163\n",
       "24    2.317391e+08  8.952241e+07  1.549665e+07  3.960856e+06  269555.404357  16653.462166  5745.818608  70673.568875      0.000207\n",
       "25    2.279088e+08  9.184122e+07  1.650810e+07  4.412257e+06  313359.403686  20017.224404  7233.403580  88970.864028      0.000261"
      ]
     },
     "execution_count": 95,
     "metadata": {},
     "output_type": "execute_result"
    }
   ],
   "source": [
    "df4 = results[4]\n",
    "df4.tail(5)"
   ]
  },
  {
   "cell_type": "code",
   "execution_count": 96,
   "metadata": {},
   "outputs": [
    {
     "data": {
      "text/html": [
       "<div>\n",
       "<style scoped>\n",
       "    .dataframe tbody tr th:only-of-type {\n",
       "        vertical-align: middle;\n",
       "    }\n",
       "\n",
       "    .dataframe tbody tr th {\n",
       "        vertical-align: top;\n",
       "    }\n",
       "\n",
       "    .dataframe thead th {\n",
       "        text-align: right;\n",
       "    }\n",
       "</style>\n",
       "<table border=\"1\" class=\"dataframe\">\n",
       "  <thead>\n",
       "    <tr style=\"text-align: right;\">\n",
       "      <th></th>\n",
       "      <th>healthy</th>\n",
       "      <th>mesalamine</th>\n",
       "      <th>remicade</th>\n",
       "      <th>humira</th>\n",
       "      <th>entyvio</th>\n",
       "      <th>skyrizi</th>\n",
       "      <th>rinvoq</th>\n",
       "      <th>failure</th>\n",
       "      <th>failure_rate</th>\n",
       "    </tr>\n",
       "    <tr>\n",
       "      <th>Year</th>\n",
       "      <th></th>\n",
       "      <th></th>\n",
       "      <th></th>\n",
       "      <th></th>\n",
       "      <th></th>\n",
       "      <th></th>\n",
       "      <th></th>\n",
       "      <th></th>\n",
       "      <th></th>\n",
       "    </tr>\n",
       "  </thead>\n",
       "  <tbody>\n",
       "    <tr>\n",
       "      <th>21</th>\n",
       "      <td>2.436206e+08</td>\n",
       "      <td>8.193130e+07</td>\n",
       "      <td>1.251868e+07</td>\n",
       "      <td>2.765042e+06</td>\n",
       "      <td>128555.815036</td>\n",
       "      <td>44094.844069</td>\n",
       "      <td>2682.430508</td>\n",
       "      <td>160945.830485</td>\n",
       "      <td>0.000472</td>\n",
       "    </tr>\n",
       "    <tr>\n",
       "      <th>22</th>\n",
       "      <td>2.395940e+08</td>\n",
       "      <td>8.457032e+07</td>\n",
       "      <td>1.349985e+07</td>\n",
       "      <td>3.137257e+06</td>\n",
       "      <td>151479.150207</td>\n",
       "      <td>54641.225601</td>\n",
       "      <td>3502.886898</td>\n",
       "      <td>210173.213890</td>\n",
       "      <td>0.000616</td>\n",
       "    </tr>\n",
       "    <tr>\n",
       "      <th>23</th>\n",
       "      <td>2.356338e+08</td>\n",
       "      <td>8.709973e+07</td>\n",
       "      <td>1.449322e+07</td>\n",
       "      <td>3.535848e+06</td>\n",
       "      <td>176918.568898</td>\n",
       "      <td>66962.559428</td>\n",
       "      <td>4513.664543</td>\n",
       "      <td>270819.872586</td>\n",
       "      <td>0.000794</td>\n",
       "    </tr>\n",
       "    <tr>\n",
       "      <th>24</th>\n",
       "      <td>2.317391e+08</td>\n",
       "      <td>8.952241e+07</td>\n",
       "      <td>1.549665e+07</td>\n",
       "      <td>3.960856e+06</td>\n",
       "      <td>204972.465715</td>\n",
       "      <td>81236.400808</td>\n",
       "      <td>5745.818608</td>\n",
       "      <td>344749.116467</td>\n",
       "      <td>0.001011</td>\n",
       "    </tr>\n",
       "    <tr>\n",
       "      <th>25</th>\n",
       "      <td>2.279088e+08</td>\n",
       "      <td>9.184122e+07</td>\n",
       "      <td>1.650810e+07</td>\n",
       "      <td>4.412257e+06</td>\n",
       "      <td>235731.631000</td>\n",
       "      <td>97644.997089</td>\n",
       "      <td>7233.403580</td>\n",
       "      <td>434004.214801</td>\n",
       "      <td>0.001273</td>\n",
       "    </tr>\n",
       "  </tbody>\n",
       "</table>\n",
       "</div>"
      ],
      "text/plain": [
       "           healthy    mesalamine      remicade        humira        entyvio       skyrizi       rinvoq        failure  failure_rate\n",
       "Year                                                                                                                               \n",
       "21    2.436206e+08  8.193130e+07  1.251868e+07  2.765042e+06  128555.815036  44094.844069  2682.430508  160945.830485      0.000472\n",
       "22    2.395940e+08  8.457032e+07  1.349985e+07  3.137257e+06  151479.150207  54641.225601  3502.886898  210173.213890      0.000616\n",
       "23    2.356338e+08  8.709973e+07  1.449322e+07  3.535848e+06  176918.568898  66962.559428  4513.664543  270819.872586      0.000794\n",
       "24    2.317391e+08  8.952241e+07  1.549665e+07  3.960856e+06  204972.465715  81236.400808  5745.818608  344749.116467      0.001011\n",
       "25    2.279088e+08  9.184122e+07  1.650810e+07  4.412257e+06  235731.631000  97644.997089  7233.403580  434004.214801      0.001273"
      ]
     },
     "execution_count": 96,
     "metadata": {},
     "output_type": "execute_result"
    }
   ],
   "source": [
    "df5 = results[5]\n",
    "df5.tail(5)"
   ]
  },
  {
   "cell_type": "code",
   "execution_count": 97,
   "metadata": {},
   "outputs": [
    {
     "data": {
      "text/html": [
       "<div>\n",
       "<style scoped>\n",
       "    .dataframe tbody tr th:only-of-type {\n",
       "        vertical-align: middle;\n",
       "    }\n",
       "\n",
       "    .dataframe tbody tr th {\n",
       "        vertical-align: top;\n",
       "    }\n",
       "\n",
       "    .dataframe thead th {\n",
       "        text-align: right;\n",
       "    }\n",
       "</style>\n",
       "<table border=\"1\" class=\"dataframe\">\n",
       "  <thead>\n",
       "    <tr style=\"text-align: right;\">\n",
       "      <th></th>\n",
       "      <th>healthy</th>\n",
       "      <th>mesalamine</th>\n",
       "      <th>remicade</th>\n",
       "      <th>humira</th>\n",
       "      <th>entyvio</th>\n",
       "      <th>skyrizi</th>\n",
       "      <th>rinvoq</th>\n",
       "      <th>failure</th>\n",
       "      <th>failure_rate</th>\n",
       "    </tr>\n",
       "    <tr>\n",
       "      <th>Year</th>\n",
       "      <th></th>\n",
       "      <th></th>\n",
       "      <th></th>\n",
       "      <th></th>\n",
       "      <th></th>\n",
       "      <th></th>\n",
       "      <th></th>\n",
       "      <th></th>\n",
       "      <th></th>\n",
       "    </tr>\n",
       "  </thead>\n",
       "  <tbody>\n",
       "    <tr>\n",
       "      <th>21</th>\n",
       "      <td>2.436206e+08</td>\n",
       "      <td>8.193130e+07</td>\n",
       "      <td>1.377595e+07</td>\n",
       "      <td>1.436877e+06</td>\n",
       "      <td>180346.242904</td>\n",
       "      <td>63202.609831</td>\n",
       "      <td>2682.430508</td>\n",
       "      <td>230689.023697</td>\n",
       "      <td>0.000676</td>\n",
       "    </tr>\n",
       "    <tr>\n",
       "      <th>22</th>\n",
       "      <td>2.395940e+08</td>\n",
       "      <td>8.457032e+07</td>\n",
       "      <td>1.492448e+07</td>\n",
       "      <td>1.628156e+06</td>\n",
       "      <td>212266.153089</td>\n",
       "      <td>78319.090027</td>\n",
       "      <td>3502.886898</td>\n",
       "      <td>301248.273245</td>\n",
       "      <td>0.000883</td>\n",
       "    </tr>\n",
       "    <tr>\n",
       "      <th>23</th>\n",
       "      <td>2.356338e+08</td>\n",
       "      <td>8.709973e+07</td>\n",
       "      <td>1.609674e+07</td>\n",
       "      <td>1.832594e+06</td>\n",
       "      <td>247634.774725</td>\n",
       "      <td>95979.668513</td>\n",
       "      <td>4513.664543</td>\n",
       "      <td>388175.150709</td>\n",
       "      <td>0.001138</td>\n",
       "    </tr>\n",
       "    <tr>\n",
       "      <th>24</th>\n",
       "      <td>2.317391e+08</td>\n",
       "      <td>8.952241e+07</td>\n",
       "      <td>1.729054e+07</td>\n",
       "      <td>2.050159e+06</td>\n",
       "      <td>286577.367254</td>\n",
       "      <td>116438.841155</td>\n",
       "      <td>5745.818608</td>\n",
       "      <td>494140.400294</td>\n",
       "      <td>0.001449</td>\n",
       "    </tr>\n",
       "    <tr>\n",
       "      <th>25</th>\n",
       "      <td>2.279088e+08</td>\n",
       "      <td>9.184122e+07</td>\n",
       "      <td>1.850378e+07</td>\n",
       "      <td>2.280783e+06</td>\n",
       "      <td>329207.873860</td>\n",
       "      <td>139957.829160</td>\n",
       "      <td>7233.403580</td>\n",
       "      <td>622072.707896</td>\n",
       "      <td>0.001824</td>\n",
       "    </tr>\n",
       "  </tbody>\n",
       "</table>\n",
       "</div>"
      ],
      "text/plain": [
       "           healthy    mesalamine      remicade        humira        entyvio        skyrizi       rinvoq        failure  failure_rate\n",
       "Year                                                                                                                                \n",
       "21    2.436206e+08  8.193130e+07  1.377595e+07  1.436877e+06  180346.242904   63202.609831  2682.430508  230689.023697      0.000676\n",
       "22    2.395940e+08  8.457032e+07  1.492448e+07  1.628156e+06  212266.153089   78319.090027  3502.886898  301248.273245      0.000883\n",
       "23    2.356338e+08  8.709973e+07  1.609674e+07  1.832594e+06  247634.774725   95979.668513  4513.664543  388175.150709      0.001138\n",
       "24    2.317391e+08  8.952241e+07  1.729054e+07  2.050159e+06  286577.367254  116438.841155  5745.818608  494140.400294      0.001449\n",
       "25    2.279088e+08  9.184122e+07  1.850378e+07  2.280783e+06  329207.873860  139957.829160  7233.403580  622072.707896      0.001824"
      ]
     },
     "execution_count": 97,
     "metadata": {},
     "output_type": "execute_result"
    }
   ],
   "source": [
    "df6 = results[6]\n",
    "df6.tail(5)"
   ]
  },
  {
   "cell_type": "code",
   "execution_count": 98,
   "metadata": {},
   "outputs": [
    {
     "data": {
      "text/html": [
       "<div>\n",
       "<style scoped>\n",
       "    .dataframe tbody tr th:only-of-type {\n",
       "        vertical-align: middle;\n",
       "    }\n",
       "\n",
       "    .dataframe tbody tr th {\n",
       "        vertical-align: top;\n",
       "    }\n",
       "\n",
       "    .dataframe thead th {\n",
       "        text-align: right;\n",
       "    }\n",
       "</style>\n",
       "<table border=\"1\" class=\"dataframe\">\n",
       "  <thead>\n",
       "    <tr style=\"text-align: right;\">\n",
       "      <th></th>\n",
       "      <th>healthy</th>\n",
       "      <th>mesalamine</th>\n",
       "      <th>remicade</th>\n",
       "      <th>humira</th>\n",
       "      <th>entyvio</th>\n",
       "      <th>skyrizi</th>\n",
       "      <th>rinvoq</th>\n",
       "      <th>failure</th>\n",
       "      <th>failure_rate</th>\n",
       "    </tr>\n",
       "    <tr>\n",
       "      <th>Year</th>\n",
       "      <th></th>\n",
       "      <th></th>\n",
       "      <th></th>\n",
       "      <th></th>\n",
       "      <th></th>\n",
       "      <th></th>\n",
       "      <th></th>\n",
       "      <th></th>\n",
       "      <th></th>\n",
       "    </tr>\n",
       "  </thead>\n",
       "  <tbody>\n",
       "    <tr>\n",
       "      <th>21</th>\n",
       "      <td>2.436206e+08</td>\n",
       "      <td>8.193130e+07</td>\n",
       "      <td>1.377595e+07</td>\n",
       "      <td>1.436877e+06</td>\n",
       "      <td>234509.409701</td>\n",
       "      <td>9039.443034</td>\n",
       "      <td>2682.430508</td>\n",
       "      <td>32993.895249</td>\n",
       "      <td>0.000097</td>\n",
       "    </tr>\n",
       "    <tr>\n",
       "      <th>22</th>\n",
       "      <td>2.395940e+08</td>\n",
       "      <td>8.457032e+07</td>\n",
       "      <td>1.492448e+07</td>\n",
       "      <td>1.628156e+06</td>\n",
       "      <td>279383.791868</td>\n",
       "      <td>11201.451248</td>\n",
       "      <td>3502.886898</td>\n",
       "      <td>43085.508847</td>\n",
       "      <td>0.000126</td>\n",
       "    </tr>\n",
       "    <tr>\n",
       "      <th>23</th>\n",
       "      <td>2.356338e+08</td>\n",
       "      <td>8.709973e+07</td>\n",
       "      <td>1.609674e+07</td>\n",
       "      <td>1.832594e+06</td>\n",
       "      <td>329887.118555</td>\n",
       "      <td>13727.324683</td>\n",
       "      <td>4513.664543</td>\n",
       "      <td>55518.073880</td>\n",
       "      <td>0.000163</td>\n",
       "    </tr>\n",
       "    <tr>\n",
       "      <th>24</th>\n",
       "      <td>2.317391e+08</td>\n",
       "      <td>8.952241e+07</td>\n",
       "      <td>1.729054e+07</td>\n",
       "      <td>2.050159e+06</td>\n",
       "      <td>386362.746244</td>\n",
       "      <td>16653.462166</td>\n",
       "      <td>5745.818608</td>\n",
       "      <td>70673.568875</td>\n",
       "      <td>0.000207</td>\n",
       "    </tr>\n",
       "    <tr>\n",
       "      <th>25</th>\n",
       "      <td>2.279088e+08</td>\n",
       "      <td>9.184122e+07</td>\n",
       "      <td>1.850378e+07</td>\n",
       "      <td>2.280783e+06</td>\n",
       "      <td>449148.478616</td>\n",
       "      <td>20017.224404</td>\n",
       "      <td>7233.403580</td>\n",
       "      <td>88970.864028</td>\n",
       "      <td>0.000261</td>\n",
       "    </tr>\n",
       "  </tbody>\n",
       "</table>\n",
       "</div>"
      ],
      "text/plain": [
       "           healthy    mesalamine      remicade        humira        entyvio       skyrizi       rinvoq       failure  failure_rate\n",
       "Year                                                                                                                              \n",
       "21    2.436206e+08  8.193130e+07  1.377595e+07  1.436877e+06  234509.409701   9039.443034  2682.430508  32993.895249      0.000097\n",
       "22    2.395940e+08  8.457032e+07  1.492448e+07  1.628156e+06  279383.791868  11201.451248  3502.886898  43085.508847      0.000126\n",
       "23    2.356338e+08  8.709973e+07  1.609674e+07  1.832594e+06  329887.118555  13727.324683  4513.664543  55518.073880      0.000163\n",
       "24    2.317391e+08  8.952241e+07  1.729054e+07  2.050159e+06  386362.746244  16653.462166  5745.818608  70673.568875      0.000207\n",
       "25    2.279088e+08  9.184122e+07  1.850378e+07  2.280783e+06  449148.478616  20017.224404  7233.403580  88970.864028      0.000261"
      ]
     },
     "execution_count": 98,
     "metadata": {},
     "output_type": "execute_result"
    }
   ],
   "source": [
    "df7 = results[7]\n",
    "df7.tail(5)"
   ]
  },
  {
   "cell_type": "code",
   "execution_count": 99,
   "metadata": {},
   "outputs": [
    {
     "data": {
      "text/html": [
       "<div>\n",
       "<style scoped>\n",
       "    .dataframe tbody tr th:only-of-type {\n",
       "        vertical-align: middle;\n",
       "    }\n",
       "\n",
       "    .dataframe tbody tr th {\n",
       "        vertical-align: top;\n",
       "    }\n",
       "\n",
       "    .dataframe thead th {\n",
       "        text-align: right;\n",
       "    }\n",
       "</style>\n",
       "<table border=\"1\" class=\"dataframe\">\n",
       "  <thead>\n",
       "    <tr style=\"text-align: right;\">\n",
       "      <th></th>\n",
       "      <th>healthy</th>\n",
       "      <th>mesalamine</th>\n",
       "      <th>remicade</th>\n",
       "      <th>humira</th>\n",
       "      <th>entyvio</th>\n",
       "      <th>skyrizi</th>\n",
       "      <th>rinvoq</th>\n",
       "      <th>failure</th>\n",
       "      <th>failure_rate</th>\n",
       "    </tr>\n",
       "    <tr>\n",
       "      <th>Year</th>\n",
       "      <th></th>\n",
       "      <th></th>\n",
       "      <th></th>\n",
       "      <th></th>\n",
       "      <th></th>\n",
       "      <th></th>\n",
       "      <th></th>\n",
       "      <th></th>\n",
       "      <th></th>\n",
       "    </tr>\n",
       "  </thead>\n",
       "  <tbody>\n",
       "    <tr>\n",
       "      <th>21</th>\n",
       "      <td>2.436206e+08</td>\n",
       "      <td>8.193130e+07</td>\n",
       "      <td>1.377595e+07</td>\n",
       "      <td>1.148030e+06</td>\n",
       "      <td>469193.477473</td>\n",
       "      <td>63202.609831</td>\n",
       "      <td>2682.430508</td>\n",
       "      <td>230689.023697</td>\n",
       "      <td>0.000676</td>\n",
       "    </tr>\n",
       "    <tr>\n",
       "      <th>22</th>\n",
       "      <td>2.395940e+08</td>\n",
       "      <td>8.457032e+07</td>\n",
       "      <td>1.492448e+07</td>\n",
       "      <td>1.288185e+06</td>\n",
       "      <td>552237.146247</td>\n",
       "      <td>78319.090027</td>\n",
       "      <td>3502.886898</td>\n",
       "      <td>301248.273245</td>\n",
       "      <td>0.000883</td>\n",
       "    </tr>\n",
       "    <tr>\n",
       "      <th>23</th>\n",
       "      <td>2.356338e+08</td>\n",
       "      <td>8.709973e+07</td>\n",
       "      <td>1.609674e+07</td>\n",
       "      <td>1.435976e+06</td>\n",
       "      <td>644253.072454</td>\n",
       "      <td>95979.668513</td>\n",
       "      <td>4513.664543</td>\n",
       "      <td>388175.150708</td>\n",
       "      <td>0.001138</td>\n",
       "    </tr>\n",
       "    <tr>\n",
       "      <th>24</th>\n",
       "      <td>2.317391e+08</td>\n",
       "      <td>8.952241e+07</td>\n",
       "      <td>1.729054e+07</td>\n",
       "      <td>1.591170e+06</td>\n",
       "      <td>745567.134319</td>\n",
       "      <td>116438.841156</td>\n",
       "      <td>5745.818608</td>\n",
       "      <td>494140.400285</td>\n",
       "      <td>0.001449</td>\n",
       "    </tr>\n",
       "    <tr>\n",
       "      <th>25</th>\n",
       "      <td>2.279088e+08</td>\n",
       "      <td>9.184122e+07</td>\n",
       "      <td>1.850378e+07</td>\n",
       "      <td>1.753515e+06</td>\n",
       "      <td>856475.769391</td>\n",
       "      <td>139957.829160</td>\n",
       "      <td>7233.403580</td>\n",
       "      <td>622072.707893</td>\n",
       "      <td>0.001824</td>\n",
       "    </tr>\n",
       "  </tbody>\n",
       "</table>\n",
       "</div>"
      ],
      "text/plain": [
       "           healthy    mesalamine      remicade        humira        entyvio        skyrizi       rinvoq        failure  failure_rate\n",
       "Year                                                                                                                                \n",
       "21    2.436206e+08  8.193130e+07  1.377595e+07  1.148030e+06  469193.477473   63202.609831  2682.430508  230689.023697      0.000676\n",
       "22    2.395940e+08  8.457032e+07  1.492448e+07  1.288185e+06  552237.146247   78319.090027  3502.886898  301248.273245      0.000883\n",
       "23    2.356338e+08  8.709973e+07  1.609674e+07  1.435976e+06  644253.072454   95979.668513  4513.664543  388175.150708      0.001138\n",
       "24    2.317391e+08  8.952241e+07  1.729054e+07  1.591170e+06  745567.134319  116438.841156  5745.818608  494140.400285      0.001449\n",
       "25    2.279088e+08  9.184122e+07  1.850378e+07  1.753515e+06  856475.769391  139957.829160  7233.403580  622072.707893      0.001824"
      ]
     },
     "execution_count": 99,
     "metadata": {},
     "output_type": "execute_result"
    }
   ],
   "source": [
    "df8 = results[8]\n",
    "df8.tail(5)"
   ]
  },
  {
   "cell_type": "code",
   "execution_count": 100,
   "metadata": {},
   "outputs": [
    {
     "data": {
      "text/html": [
       "<div>\n",
       "<style scoped>\n",
       "    .dataframe tbody tr th:only-of-type {\n",
       "        vertical-align: middle;\n",
       "    }\n",
       "\n",
       "    .dataframe tbody tr th {\n",
       "        vertical-align: top;\n",
       "    }\n",
       "\n",
       "    .dataframe thead th {\n",
       "        text-align: right;\n",
       "    }\n",
       "</style>\n",
       "<table border=\"1\" class=\"dataframe\">\n",
       "  <thead>\n",
       "    <tr style=\"text-align: right;\">\n",
       "      <th></th>\n",
       "      <th>healthy</th>\n",
       "      <th>mesalamine</th>\n",
       "      <th>remicade</th>\n",
       "      <th>humira</th>\n",
       "      <th>entyvio</th>\n",
       "      <th>skyrizi</th>\n",
       "      <th>rinvoq</th>\n",
       "      <th>failure</th>\n",
       "      <th>failure_rate</th>\n",
       "    </tr>\n",
       "    <tr>\n",
       "      <th>Year</th>\n",
       "      <th></th>\n",
       "      <th></th>\n",
       "      <th></th>\n",
       "      <th></th>\n",
       "      <th></th>\n",
       "      <th></th>\n",
       "      <th></th>\n",
       "      <th></th>\n",
       "      <th></th>\n",
       "    </tr>\n",
       "  </thead>\n",
       "  <tbody>\n",
       "    <tr>\n",
       "      <th>21</th>\n",
       "      <td>2.436206e+08</td>\n",
       "      <td>8.193130e+07</td>\n",
       "      <td>1.377595e+07</td>\n",
       "      <td>1.148030e+06</td>\n",
       "      <td>508878.837134</td>\n",
       "      <td>23517.250170</td>\n",
       "      <td>2682.430508</td>\n",
       "      <td>85837.776258</td>\n",
       "      <td>0.000252</td>\n",
       "    </tr>\n",
       "    <tr>\n",
       "      <th>22</th>\n",
       "      <td>2.395940e+08</td>\n",
       "      <td>8.457032e+07</td>\n",
       "      <td>1.492448e+07</td>\n",
       "      <td>1.288185e+06</td>\n",
       "      <td>601414.249287</td>\n",
       "      <td>29141.986987</td>\n",
       "      <td>3502.886898</td>\n",
       "      <td>112092.380741</td>\n",
       "      <td>0.000329</td>\n",
       "    </tr>\n",
       "    <tr>\n",
       "      <th>23</th>\n",
       "      <td>2.356338e+08</td>\n",
       "      <td>8.709973e+07</td>\n",
       "      <td>1.609674e+07</td>\n",
       "      <td>1.435976e+06</td>\n",
       "      <td>704519.375939</td>\n",
       "      <td>35713.365028</td>\n",
       "      <td>4513.664543</td>\n",
       "      <td>144437.265379</td>\n",
       "      <td>0.000424</td>\n",
       "    </tr>\n",
       "    <tr>\n",
       "      <th>24</th>\n",
       "      <td>2.317391e+08</td>\n",
       "      <td>8.952241e+07</td>\n",
       "      <td>1.729054e+07</td>\n",
       "      <td>1.591170e+06</td>\n",
       "      <td>818679.895042</td>\n",
       "      <td>43326.080431</td>\n",
       "      <td>5745.818608</td>\n",
       "      <td>183866.195448</td>\n",
       "      <td>0.000539</td>\n",
       "    </tr>\n",
       "    <tr>\n",
       "      <th>25</th>\n",
       "      <td>2.279088e+08</td>\n",
       "      <td>9.184122e+07</td>\n",
       "      <td>1.850378e+07</td>\n",
       "      <td>1.753515e+06</td>\n",
       "      <td>944356.266765</td>\n",
       "      <td>52077.331782</td>\n",
       "      <td>7233.403580</td>\n",
       "      <td>231468.914552</td>\n",
       "      <td>0.000679</td>\n",
       "    </tr>\n",
       "  </tbody>\n",
       "</table>\n",
       "</div>"
      ],
      "text/plain": [
       "           healthy    mesalamine      remicade        humira        entyvio       skyrizi       rinvoq        failure  failure_rate\n",
       "Year                                                                                                                               \n",
       "21    2.436206e+08  8.193130e+07  1.377595e+07  1.148030e+06  508878.837134  23517.250170  2682.430508   85837.776258      0.000252\n",
       "22    2.395940e+08  8.457032e+07  1.492448e+07  1.288185e+06  601414.249287  29141.986987  3502.886898  112092.380741      0.000329\n",
       "23    2.356338e+08  8.709973e+07  1.609674e+07  1.435976e+06  704519.375939  35713.365028  4513.664543  144437.265379      0.000424\n",
       "24    2.317391e+08  8.952241e+07  1.729054e+07  1.591170e+06  818679.895042  43326.080431  5745.818608  183866.195448      0.000539\n",
       "25    2.279088e+08  9.184122e+07  1.850378e+07  1.753515e+06  944356.266765  52077.331782  7233.403580  231468.914552      0.000679"
      ]
     },
     "execution_count": 100,
     "metadata": {},
     "output_type": "execute_result"
    }
   ],
   "source": [
    "df9 = results[9]\n",
    "df9.tail(5)"
   ]
  },
  {
   "cell_type": "code",
   "execution_count": 101,
   "metadata": {},
   "outputs": [
    {
     "data": {
      "text/html": [
       "<div>\n",
       "<style scoped>\n",
       "    .dataframe tbody tr th:only-of-type {\n",
       "        vertical-align: middle;\n",
       "    }\n",
       "\n",
       "    .dataframe tbody tr th {\n",
       "        vertical-align: top;\n",
       "    }\n",
       "\n",
       "    .dataframe thead th {\n",
       "        text-align: right;\n",
       "    }\n",
       "</style>\n",
       "<table border=\"1\" class=\"dataframe\">\n",
       "  <thead>\n",
       "    <tr style=\"text-align: right;\">\n",
       "      <th></th>\n",
       "      <th>healthy</th>\n",
       "      <th>mesalamine</th>\n",
       "      <th>remicade</th>\n",
       "      <th>humira</th>\n",
       "      <th>entyvio</th>\n",
       "      <th>skyrizi</th>\n",
       "      <th>rinvoq</th>\n",
       "      <th>failure</th>\n",
       "      <th>failure_rate</th>\n",
       "    </tr>\n",
       "    <tr>\n",
       "      <th>Year</th>\n",
       "      <th></th>\n",
       "      <th></th>\n",
       "      <th></th>\n",
       "      <th></th>\n",
       "      <th></th>\n",
       "      <th></th>\n",
       "      <th></th>\n",
       "      <th></th>\n",
       "      <th></th>\n",
       "    </tr>\n",
       "  </thead>\n",
       "  <tbody>\n",
       "    <tr>\n",
       "      <th>21</th>\n",
       "      <td>2.436206e+08</td>\n",
       "      <td>8.193130e+07</td>\n",
       "      <td>1.377595e+07</td>\n",
       "      <td>1.584127e+06</td>\n",
       "      <td>87259.315238</td>\n",
       "      <td>9039.443034</td>\n",
       "      <td>2682.430508</td>\n",
       "      <td>32993.895249</td>\n",
       "      <td>0.000097</td>\n",
       "    </tr>\n",
       "    <tr>\n",
       "      <th>22</th>\n",
       "      <td>2.395940e+08</td>\n",
       "      <td>8.457032e+07</td>\n",
       "      <td>1.492448e+07</td>\n",
       "      <td>1.803583e+06</td>\n",
       "      <td>103956.759765</td>\n",
       "      <td>11201.451248</td>\n",
       "      <td>3502.886898</td>\n",
       "      <td>43085.508847</td>\n",
       "      <td>0.000126</td>\n",
       "    </tr>\n",
       "    <tr>\n",
       "      <th>23</th>\n",
       "      <td>2.356338e+08</td>\n",
       "      <td>8.709973e+07</td>\n",
       "      <td>1.609674e+07</td>\n",
       "      <td>2.039733e+06</td>\n",
       "      <td>122748.695276</td>\n",
       "      <td>13727.324683</td>\n",
       "      <td>4513.664543</td>\n",
       "      <td>55518.073879</td>\n",
       "      <td>0.000163</td>\n",
       "    </tr>\n",
       "    <tr>\n",
       "      <th>24</th>\n",
       "      <td>2.317391e+08</td>\n",
       "      <td>8.952241e+07</td>\n",
       "      <td>1.729054e+07</td>\n",
       "      <td>2.292759e+06</td>\n",
       "      <td>143762.882324</td>\n",
       "      <td>16653.462166</td>\n",
       "      <td>5745.818608</td>\n",
       "      <td>70673.568875</td>\n",
       "      <td>0.000207</td>\n",
       "    </tr>\n",
       "    <tr>\n",
       "      <th>25</th>\n",
       "      <td>2.279088e+08</td>\n",
       "      <td>9.184122e+07</td>\n",
       "      <td>1.850378e+07</td>\n",
       "      <td>2.562806e+06</td>\n",
       "      <td>167125.015299</td>\n",
       "      <td>20017.224404</td>\n",
       "      <td>7233.403580</td>\n",
       "      <td>88970.864028</td>\n",
       "      <td>0.000261</td>\n",
       "    </tr>\n",
       "  </tbody>\n",
       "</table>\n",
       "</div>"
      ],
      "text/plain": [
       "           healthy    mesalamine      remicade        humira        entyvio       skyrizi       rinvoq       failure  failure_rate\n",
       "Year                                                                                                                              \n",
       "21    2.436206e+08  8.193130e+07  1.377595e+07  1.584127e+06   87259.315238   9039.443034  2682.430508  32993.895249      0.000097\n",
       "22    2.395940e+08  8.457032e+07  1.492448e+07  1.803583e+06  103956.759765  11201.451248  3502.886898  43085.508847      0.000126\n",
       "23    2.356338e+08  8.709973e+07  1.609674e+07  2.039733e+06  122748.695276  13727.324683  4513.664543  55518.073879      0.000163\n",
       "24    2.317391e+08  8.952241e+07  1.729054e+07  2.292759e+06  143762.882324  16653.462166  5745.818608  70673.568875      0.000207\n",
       "25    2.279088e+08  9.184122e+07  1.850378e+07  2.562806e+06  167125.015299  20017.224404  7233.403580  88970.864028      0.000261"
      ]
     },
     "execution_count": 101,
     "metadata": {},
     "output_type": "execute_result"
    }
   ],
   "source": [
    "df10 = results[10]\n",
    "df10.tail(5)"
   ]
  },
  {
   "cell_type": "code",
   "execution_count": 102,
   "metadata": {},
   "outputs": [
    {
     "data": {
      "text/html": [
       "<div>\n",
       "<style scoped>\n",
       "    .dataframe tbody tr th:only-of-type {\n",
       "        vertical-align: middle;\n",
       "    }\n",
       "\n",
       "    .dataframe tbody tr th {\n",
       "        vertical-align: top;\n",
       "    }\n",
       "\n",
       "    .dataframe thead th {\n",
       "        text-align: right;\n",
       "    }\n",
       "</style>\n",
       "<table border=\"1\" class=\"dataframe\">\n",
       "  <thead>\n",
       "    <tr style=\"text-align: right;\">\n",
       "      <th></th>\n",
       "      <th>healthy</th>\n",
       "      <th>mesalamine</th>\n",
       "      <th>remicade</th>\n",
       "      <th>humira</th>\n",
       "      <th>entyvio</th>\n",
       "      <th>skyrizi</th>\n",
       "      <th>rinvoq</th>\n",
       "      <th>failure</th>\n",
       "      <th>failure_rate</th>\n",
       "    </tr>\n",
       "    <tr>\n",
       "      <th>Year</th>\n",
       "      <th></th>\n",
       "      <th></th>\n",
       "      <th></th>\n",
       "      <th></th>\n",
       "      <th></th>\n",
       "      <th></th>\n",
       "      <th></th>\n",
       "      <th></th>\n",
       "      <th></th>\n",
       "    </tr>\n",
       "  </thead>\n",
       "  <tbody>\n",
       "    <tr>\n",
       "      <th>21</th>\n",
       "      <td>2.436206e+08</td>\n",
       "      <td>8.193130e+07</td>\n",
       "      <td>1.377595e+07</td>\n",
       "      <td>1.584127e+06</td>\n",
       "      <td>72781.508102</td>\n",
       "      <td>23517.250170</td>\n",
       "      <td>2682.430508</td>\n",
       "      <td>85837.776258</td>\n",
       "      <td>0.000252</td>\n",
       "    </tr>\n",
       "    <tr>\n",
       "      <th>22</th>\n",
       "      <td>2.395940e+08</td>\n",
       "      <td>8.457032e+07</td>\n",
       "      <td>1.492448e+07</td>\n",
       "      <td>1.803583e+06</td>\n",
       "      <td>86016.224026</td>\n",
       "      <td>29141.986987</td>\n",
       "      <td>3502.886898</td>\n",
       "      <td>112092.380741</td>\n",
       "      <td>0.000329</td>\n",
       "    </tr>\n",
       "    <tr>\n",
       "      <th>23</th>\n",
       "      <td>2.356338e+08</td>\n",
       "      <td>8.709973e+07</td>\n",
       "      <td>1.609674e+07</td>\n",
       "      <td>2.039733e+06</td>\n",
       "      <td>100762.654931</td>\n",
       "      <td>35713.365028</td>\n",
       "      <td>4513.664543</td>\n",
       "      <td>144437.265379</td>\n",
       "      <td>0.000424</td>\n",
       "    </tr>\n",
       "    <tr>\n",
       "      <th>24</th>\n",
       "      <td>2.317391e+08</td>\n",
       "      <td>8.952241e+07</td>\n",
       "      <td>1.729054e+07</td>\n",
       "      <td>2.292759e+06</td>\n",
       "      <td>117090.264058</td>\n",
       "      <td>43326.080431</td>\n",
       "      <td>5745.818608</td>\n",
       "      <td>183866.195448</td>\n",
       "      <td>0.000539</td>\n",
       "    </tr>\n",
       "    <tr>\n",
       "      <th>25</th>\n",
       "      <td>2.279088e+08</td>\n",
       "      <td>9.184122e+07</td>\n",
       "      <td>1.850378e+07</td>\n",
       "      <td>2.562806e+06</td>\n",
       "      <td>135064.907921</td>\n",
       "      <td>52077.331782</td>\n",
       "      <td>7233.403580</td>\n",
       "      <td>231468.914548</td>\n",
       "      <td>0.000679</td>\n",
       "    </tr>\n",
       "  </tbody>\n",
       "</table>\n",
       "</div>"
      ],
      "text/plain": [
       "           healthy    mesalamine      remicade        humira        entyvio       skyrizi       rinvoq        failure  failure_rate\n",
       "Year                                                                                                                               \n",
       "21    2.436206e+08  8.193130e+07  1.377595e+07  1.584127e+06   72781.508102  23517.250170  2682.430508   85837.776258      0.000252\n",
       "22    2.395940e+08  8.457032e+07  1.492448e+07  1.803583e+06   86016.224026  29141.986987  3502.886898  112092.380741      0.000329\n",
       "23    2.356338e+08  8.709973e+07  1.609674e+07  2.039733e+06  100762.654931  35713.365028  4513.664543  144437.265379      0.000424\n",
       "24    2.317391e+08  8.952241e+07  1.729054e+07  2.292759e+06  117090.264058  43326.080431  5745.818608  183866.195448      0.000539\n",
       "25    2.279088e+08  9.184122e+07  1.850378e+07  2.562806e+06  135064.907921  52077.331782  7233.403580  231468.914548      0.000679"
      ]
     },
     "execution_count": 102,
     "metadata": {},
     "output_type": "execute_result"
    }
   ],
   "source": [
    "df11 = results[11]\n",
    "df11.tail(5)"
   ]
  },
  {
   "cell_type": "code",
   "execution_count": 103,
   "metadata": {},
   "outputs": [
    {
     "data": {
      "text/html": [
       "<div>\n",
       "<style scoped>\n",
       "    .dataframe tbody tr th:only-of-type {\n",
       "        vertical-align: middle;\n",
       "    }\n",
       "\n",
       "    .dataframe tbody tr th {\n",
       "        vertical-align: top;\n",
       "    }\n",
       "\n",
       "    .dataframe thead th {\n",
       "        text-align: right;\n",
       "    }\n",
       "</style>\n",
       "<table border=\"1\" class=\"dataframe\">\n",
       "  <thead>\n",
       "    <tr style=\"text-align: right;\">\n",
       "      <th></th>\n",
       "      <th>healthy</th>\n",
       "      <th>mesalamine</th>\n",
       "      <th>remicade</th>\n",
       "      <th>humira</th>\n",
       "      <th>entyvio</th>\n",
       "      <th>skyrizi</th>\n",
       "      <th>rinvoq</th>\n",
       "      <th>failure</th>\n",
       "      <th>failure_rate</th>\n",
       "    </tr>\n",
       "    <tr>\n",
       "      <th>Year</th>\n",
       "      <th></th>\n",
       "      <th></th>\n",
       "      <th></th>\n",
       "      <th></th>\n",
       "      <th></th>\n",
       "      <th></th>\n",
       "      <th></th>\n",
       "      <th></th>\n",
       "      <th></th>\n",
       "    </tr>\n",
       "  </thead>\n",
       "  <tbody>\n",
       "    <tr>\n",
       "      <th>21</th>\n",
       "      <td>2.436206e+08</td>\n",
       "      <td>8.193130e+07</td>\n",
       "      <td>9.323837e+06</td>\n",
       "      <td>5.189600e+06</td>\n",
       "      <td>8.797378e+05</td>\n",
       "      <td>63202.609831</td>\n",
       "      <td>2682.430508</td>\n",
       "      <td>230689.023698</td>\n",
       "      <td>0.000676</td>\n",
       "    </tr>\n",
       "    <tr>\n",
       "      <th>22</th>\n",
       "      <td>2.395940e+08</td>\n",
       "      <td>8.457032e+07</td>\n",
       "      <td>9.928840e+06</td>\n",
       "      <td>5.800620e+06</td>\n",
       "      <td>1.035445e+06</td>\n",
       "      <td>78319.090027</td>\n",
       "      <td>3502.886898</td>\n",
       "      <td>301248.273245</td>\n",
       "      <td>0.000883</td>\n",
       "    </tr>\n",
       "    <tr>\n",
       "      <th>23</th>\n",
       "      <td>2.356338e+08</td>\n",
       "      <td>8.709973e+07</td>\n",
       "      <td>1.052795e+07</td>\n",
       "      <td>6.441040e+06</td>\n",
       "      <td>1.207975e+06</td>\n",
       "      <td>95979.668513</td>\n",
       "      <td>4513.664543</td>\n",
       "      <td>388175.150709</td>\n",
       "      <td>0.001138</td>\n",
       "    </tr>\n",
       "    <tr>\n",
       "      <th>24</th>\n",
       "      <td>2.317391e+08</td>\n",
       "      <td>8.952241e+07</td>\n",
       "      <td>1.111990e+07</td>\n",
       "      <td>7.109432e+06</td>\n",
       "      <td>1.397938e+06</td>\n",
       "      <td>116438.841155</td>\n",
       "      <td>5745.818608</td>\n",
       "      <td>494140.400295</td>\n",
       "      <td>0.001449</td>\n",
       "    </tr>\n",
       "    <tr>\n",
       "      <th>25</th>\n",
       "      <td>2.279088e+08</td>\n",
       "      <td>9.184122e+07</td>\n",
       "      <td>1.170357e+07</td>\n",
       "      <td>7.804315e+06</td>\n",
       "      <td>1.605892e+06</td>\n",
       "      <td>139957.829160</td>\n",
       "      <td>7233.403580</td>\n",
       "      <td>622072.707896</td>\n",
       "      <td>0.001824</td>\n",
       "    </tr>\n",
       "  </tbody>\n",
       "</table>\n",
       "</div>"
      ],
      "text/plain": [
       "           healthy    mesalamine      remicade        humira       entyvio        skyrizi       rinvoq        failure  failure_rate\n",
       "Year                                                                                                                               \n",
       "21    2.436206e+08  8.193130e+07  9.323837e+06  5.189600e+06  8.797378e+05   63202.609831  2682.430508  230689.023698      0.000676\n",
       "22    2.395940e+08  8.457032e+07  9.928840e+06  5.800620e+06  1.035445e+06   78319.090027  3502.886898  301248.273245      0.000883\n",
       "23    2.356338e+08  8.709973e+07  1.052795e+07  6.441040e+06  1.207975e+06   95979.668513  4513.664543  388175.150709      0.001138\n",
       "24    2.317391e+08  8.952241e+07  1.111990e+07  7.109432e+06  1.397938e+06  116438.841155  5745.818608  494140.400295      0.001449\n",
       "25    2.279088e+08  9.184122e+07  1.170357e+07  7.804315e+06  1.605892e+06  139957.829160  7233.403580  622072.707896      0.001824"
      ]
     },
     "execution_count": 103,
     "metadata": {},
     "output_type": "execute_result"
    }
   ],
   "source": [
    "df12 = results[12]\n",
    "df12.tail(5)"
   ]
  },
  {
   "cell_type": "code",
   "execution_count": 104,
   "metadata": {},
   "outputs": [
    {
     "data": {
      "text/html": [
       "<div>\n",
       "<style scoped>\n",
       "    .dataframe tbody tr th:only-of-type {\n",
       "        vertical-align: middle;\n",
       "    }\n",
       "\n",
       "    .dataframe tbody tr th {\n",
       "        vertical-align: top;\n",
       "    }\n",
       "\n",
       "    .dataframe thead th {\n",
       "        text-align: right;\n",
       "    }\n",
       "</style>\n",
       "<table border=\"1\" class=\"dataframe\">\n",
       "  <thead>\n",
       "    <tr style=\"text-align: right;\">\n",
       "      <th></th>\n",
       "      <th>healthy</th>\n",
       "      <th>mesalamine</th>\n",
       "      <th>remicade</th>\n",
       "      <th>humira</th>\n",
       "      <th>entyvio</th>\n",
       "      <th>skyrizi</th>\n",
       "      <th>rinvoq</th>\n",
       "      <th>failure</th>\n",
       "      <th>failure_rate</th>\n",
       "    </tr>\n",
       "    <tr>\n",
       "      <th>Year</th>\n",
       "      <th></th>\n",
       "      <th></th>\n",
       "      <th></th>\n",
       "      <th></th>\n",
       "      <th></th>\n",
       "      <th></th>\n",
       "      <th></th>\n",
       "      <th></th>\n",
       "      <th></th>\n",
       "    </tr>\n",
       "  </thead>\n",
       "  <tbody>\n",
       "    <tr>\n",
       "      <th>21</th>\n",
       "      <td>2.436206e+08</td>\n",
       "      <td>8.193130e+07</td>\n",
       "      <td>9.323837e+06</td>\n",
       "      <td>5.189600e+06</td>\n",
       "      <td>8.988455e+05</td>\n",
       "      <td>44094.844068</td>\n",
       "      <td>2682.430508</td>\n",
       "      <td>160945.830486</td>\n",
       "      <td>0.000472</td>\n",
       "    </tr>\n",
       "    <tr>\n",
       "      <th>22</th>\n",
       "      <td>2.395940e+08</td>\n",
       "      <td>8.457032e+07</td>\n",
       "      <td>9.928840e+06</td>\n",
       "      <td>5.800620e+06</td>\n",
       "      <td>1.059123e+06</td>\n",
       "      <td>54641.225601</td>\n",
       "      <td>3502.886898</td>\n",
       "      <td>210173.213892</td>\n",
       "      <td>0.000616</td>\n",
       "    </tr>\n",
       "    <tr>\n",
       "      <th>23</th>\n",
       "      <td>2.356338e+08</td>\n",
       "      <td>8.709973e+07</td>\n",
       "      <td>1.052795e+07</td>\n",
       "      <td>6.441040e+06</td>\n",
       "      <td>1.236992e+06</td>\n",
       "      <td>66962.559428</td>\n",
       "      <td>4513.664543</td>\n",
       "      <td>270819.872587</td>\n",
       "      <td>0.000794</td>\n",
       "    </tr>\n",
       "    <tr>\n",
       "      <th>24</th>\n",
       "      <td>2.317391e+08</td>\n",
       "      <td>8.952241e+07</td>\n",
       "      <td>1.111990e+07</td>\n",
       "      <td>7.109432e+06</td>\n",
       "      <td>1.433141e+06</td>\n",
       "      <td>81236.400807</td>\n",
       "      <td>5745.818608</td>\n",
       "      <td>344749.116474</td>\n",
       "      <td>0.001011</td>\n",
       "    </tr>\n",
       "    <tr>\n",
       "      <th>25</th>\n",
       "      <td>2.279088e+08</td>\n",
       "      <td>9.184122e+07</td>\n",
       "      <td>1.170357e+07</td>\n",
       "      <td>7.804315e+06</td>\n",
       "      <td>1.648205e+06</td>\n",
       "      <td>97644.997088</td>\n",
       "      <td>7233.403580</td>\n",
       "      <td>434004.214809</td>\n",
       "      <td>0.001273</td>\n",
       "    </tr>\n",
       "  </tbody>\n",
       "</table>\n",
       "</div>"
      ],
      "text/plain": [
       "           healthy    mesalamine      remicade        humira       entyvio       skyrizi       rinvoq        failure  failure_rate\n",
       "Year                                                                                                                              \n",
       "21    2.436206e+08  8.193130e+07  9.323837e+06  5.189600e+06  8.988455e+05  44094.844068  2682.430508  160945.830486      0.000472\n",
       "22    2.395940e+08  8.457032e+07  9.928840e+06  5.800620e+06  1.059123e+06  54641.225601  3502.886898  210173.213892      0.000616\n",
       "23    2.356338e+08  8.709973e+07  1.052795e+07  6.441040e+06  1.236992e+06  66962.559428  4513.664543  270819.872587      0.000794\n",
       "24    2.317391e+08  8.952241e+07  1.111990e+07  7.109432e+06  1.433141e+06  81236.400807  5745.818608  344749.116474      0.001011\n",
       "25    2.279088e+08  9.184122e+07  1.170357e+07  7.804315e+06  1.648205e+06  97644.997088  7233.403580  434004.214809      0.001273"
      ]
     },
     "execution_count": 104,
     "metadata": {},
     "output_type": "execute_result"
    }
   ],
   "source": [
    "df13 = results[13]\n",
    "df13.tail(5)"
   ]
  },
  {
   "cell_type": "code",
   "execution_count": 105,
   "metadata": {},
   "outputs": [
    {
     "data": {
      "text/html": [
       "<div>\n",
       "<style scoped>\n",
       "    .dataframe tbody tr th:only-of-type {\n",
       "        vertical-align: middle;\n",
       "    }\n",
       "\n",
       "    .dataframe tbody tr th {\n",
       "        vertical-align: top;\n",
       "    }\n",
       "\n",
       "    .dataframe thead th {\n",
       "        text-align: right;\n",
       "    }\n",
       "</style>\n",
       "<table border=\"1\" class=\"dataframe\">\n",
       "  <thead>\n",
       "    <tr style=\"text-align: right;\">\n",
       "      <th></th>\n",
       "      <th>healthy</th>\n",
       "      <th>mesalamine</th>\n",
       "      <th>remicade</th>\n",
       "      <th>humira</th>\n",
       "      <th>entyvio</th>\n",
       "      <th>skyrizi</th>\n",
       "      <th>rinvoq</th>\n",
       "      <th>failure</th>\n",
       "      <th>failure_rate</th>\n",
       "    </tr>\n",
       "    <tr>\n",
       "      <th>Year</th>\n",
       "      <th></th>\n",
       "      <th></th>\n",
       "      <th></th>\n",
       "      <th></th>\n",
       "      <th></th>\n",
       "      <th></th>\n",
       "      <th></th>\n",
       "      <th></th>\n",
       "      <th></th>\n",
       "    </tr>\n",
       "  </thead>\n",
       "  <tbody>\n",
       "    <tr>\n",
       "      <th>21</th>\n",
       "      <td>2.436206e+08</td>\n",
       "      <td>8.193130e+07</td>\n",
       "      <td>9.323837e+06</td>\n",
       "      <td>5.600144e+06</td>\n",
       "      <td>469193.477473</td>\n",
       "      <td>63202.609831</td>\n",
       "      <td>2682.430508</td>\n",
       "      <td>230689.023697</td>\n",
       "      <td>0.000676</td>\n",
       "    </tr>\n",
       "    <tr>\n",
       "      <th>22</th>\n",
       "      <td>2.395940e+08</td>\n",
       "      <td>8.457032e+07</td>\n",
       "      <td>9.928840e+06</td>\n",
       "      <td>6.283828e+06</td>\n",
       "      <td>552237.146247</td>\n",
       "      <td>78319.090027</td>\n",
       "      <td>3502.886898</td>\n",
       "      <td>301248.273245</td>\n",
       "      <td>0.000883</td>\n",
       "    </tr>\n",
       "    <tr>\n",
       "      <th>23</th>\n",
       "      <td>2.356338e+08</td>\n",
       "      <td>8.709973e+07</td>\n",
       "      <td>1.052795e+07</td>\n",
       "      <td>7.004762e+06</td>\n",
       "      <td>644253.072454</td>\n",
       "      <td>95979.668513</td>\n",
       "      <td>4513.664543</td>\n",
       "      <td>388175.150709</td>\n",
       "      <td>0.001138</td>\n",
       "    </tr>\n",
       "    <tr>\n",
       "      <th>24</th>\n",
       "      <td>2.317391e+08</td>\n",
       "      <td>8.952241e+07</td>\n",
       "      <td>1.111990e+07</td>\n",
       "      <td>7.761803e+06</td>\n",
       "      <td>745567.134320</td>\n",
       "      <td>116438.841155</td>\n",
       "      <td>5745.818608</td>\n",
       "      <td>494140.400293</td>\n",
       "      <td>0.001449</td>\n",
       "    </tr>\n",
       "    <tr>\n",
       "      <th>25</th>\n",
       "      <td>2.279088e+08</td>\n",
       "      <td>9.184122e+07</td>\n",
       "      <td>1.170357e+07</td>\n",
       "      <td>8.553731e+06</td>\n",
       "      <td>856475.769391</td>\n",
       "      <td>139957.829160</td>\n",
       "      <td>7233.403580</td>\n",
       "      <td>622072.707896</td>\n",
       "      <td>0.001824</td>\n",
       "    </tr>\n",
       "  </tbody>\n",
       "</table>\n",
       "</div>"
      ],
      "text/plain": [
       "           healthy    mesalamine      remicade        humira        entyvio        skyrizi       rinvoq        failure  failure_rate\n",
       "Year                                                                                                                                \n",
       "21    2.436206e+08  8.193130e+07  9.323837e+06  5.600144e+06  469193.477473   63202.609831  2682.430508  230689.023697      0.000676\n",
       "22    2.395940e+08  8.457032e+07  9.928840e+06  6.283828e+06  552237.146247   78319.090027  3502.886898  301248.273245      0.000883\n",
       "23    2.356338e+08  8.709973e+07  1.052795e+07  7.004762e+06  644253.072454   95979.668513  4513.664543  388175.150709      0.001138\n",
       "24    2.317391e+08  8.952241e+07  1.111990e+07  7.761803e+06  745567.134320  116438.841155  5745.818608  494140.400293      0.001449\n",
       "25    2.279088e+08  9.184122e+07  1.170357e+07  8.553731e+06  856475.769391  139957.829160  7233.403580  622072.707896      0.001824"
      ]
     },
     "execution_count": 105,
     "metadata": {},
     "output_type": "execute_result"
    }
   ],
   "source": [
    "df14 = results[14]\n",
    "df14.tail(5)"
   ]
  },
  {
   "cell_type": "code",
   "execution_count": 106,
   "metadata": {},
   "outputs": [
    {
     "data": {
      "text/html": [
       "<div>\n",
       "<style scoped>\n",
       "    .dataframe tbody tr th:only-of-type {\n",
       "        vertical-align: middle;\n",
       "    }\n",
       "\n",
       "    .dataframe tbody tr th {\n",
       "        vertical-align: top;\n",
       "    }\n",
       "\n",
       "    .dataframe thead th {\n",
       "        text-align: right;\n",
       "    }\n",
       "</style>\n",
       "<table border=\"1\" class=\"dataframe\">\n",
       "  <thead>\n",
       "    <tr style=\"text-align: right;\">\n",
       "      <th></th>\n",
       "      <th>healthy</th>\n",
       "      <th>mesalamine</th>\n",
       "      <th>remicade</th>\n",
       "      <th>humira</th>\n",
       "      <th>entyvio</th>\n",
       "      <th>skyrizi</th>\n",
       "      <th>rinvoq</th>\n",
       "      <th>failure</th>\n",
       "      <th>failure_rate</th>\n",
       "    </tr>\n",
       "    <tr>\n",
       "      <th>Year</th>\n",
       "      <th></th>\n",
       "      <th></th>\n",
       "      <th></th>\n",
       "      <th></th>\n",
       "      <th></th>\n",
       "      <th></th>\n",
       "      <th></th>\n",
       "      <th></th>\n",
       "      <th></th>\n",
       "    </tr>\n",
       "  </thead>\n",
       "  <tbody>\n",
       "    <tr>\n",
       "      <th>21</th>\n",
       "      <td>2.436206e+08</td>\n",
       "      <td>8.193130e+07</td>\n",
       "      <td>9.323837e+06</td>\n",
       "      <td>5.600144e+06</td>\n",
       "      <td>508878.837134</td>\n",
       "      <td>23517.250170</td>\n",
       "      <td>2682.430508</td>\n",
       "      <td>85837.776258</td>\n",
       "      <td>0.000252</td>\n",
       "    </tr>\n",
       "    <tr>\n",
       "      <th>22</th>\n",
       "      <td>2.395940e+08</td>\n",
       "      <td>8.457032e+07</td>\n",
       "      <td>9.928840e+06</td>\n",
       "      <td>6.283828e+06</td>\n",
       "      <td>601414.249287</td>\n",
       "      <td>29141.986987</td>\n",
       "      <td>3502.886898</td>\n",
       "      <td>112092.380741</td>\n",
       "      <td>0.000329</td>\n",
       "    </tr>\n",
       "    <tr>\n",
       "      <th>23</th>\n",
       "      <td>2.356338e+08</td>\n",
       "      <td>8.709973e+07</td>\n",
       "      <td>1.052795e+07</td>\n",
       "      <td>7.004762e+06</td>\n",
       "      <td>704519.375939</td>\n",
       "      <td>35713.365028</td>\n",
       "      <td>4513.664543</td>\n",
       "      <td>144437.265379</td>\n",
       "      <td>0.000424</td>\n",
       "    </tr>\n",
       "    <tr>\n",
       "      <th>24</th>\n",
       "      <td>2.317391e+08</td>\n",
       "      <td>8.952241e+07</td>\n",
       "      <td>1.111990e+07</td>\n",
       "      <td>7.761803e+06</td>\n",
       "      <td>818679.895042</td>\n",
       "      <td>43326.080431</td>\n",
       "      <td>5745.818608</td>\n",
       "      <td>183866.195449</td>\n",
       "      <td>0.000539</td>\n",
       "    </tr>\n",
       "    <tr>\n",
       "      <th>25</th>\n",
       "      <td>2.279088e+08</td>\n",
       "      <td>9.184122e+07</td>\n",
       "      <td>1.170357e+07</td>\n",
       "      <td>8.553731e+06</td>\n",
       "      <td>944356.266766</td>\n",
       "      <td>52077.331781</td>\n",
       "      <td>7233.403580</td>\n",
       "      <td>231468.914555</td>\n",
       "      <td>0.000679</td>\n",
       "    </tr>\n",
       "  </tbody>\n",
       "</table>\n",
       "</div>"
      ],
      "text/plain": [
       "           healthy    mesalamine      remicade        humira        entyvio       skyrizi       rinvoq        failure  failure_rate\n",
       "Year                                                                                                                               \n",
       "21    2.436206e+08  8.193130e+07  9.323837e+06  5.600144e+06  508878.837134  23517.250170  2682.430508   85837.776258      0.000252\n",
       "22    2.395940e+08  8.457032e+07  9.928840e+06  6.283828e+06  601414.249287  29141.986987  3502.886898  112092.380741      0.000329\n",
       "23    2.356338e+08  8.709973e+07  1.052795e+07  7.004762e+06  704519.375939  35713.365028  4513.664543  144437.265379      0.000424\n",
       "24    2.317391e+08  8.952241e+07  1.111990e+07  7.761803e+06  818679.895042  43326.080431  5745.818608  183866.195449      0.000539\n",
       "25    2.279088e+08  9.184122e+07  1.170357e+07  8.553731e+06  944356.266766  52077.331781  7233.403580  231468.914555      0.000679"
      ]
     },
     "execution_count": 106,
     "metadata": {},
     "output_type": "execute_result"
    }
   ],
   "source": [
    "df15 = results[15]\n",
    "df15.tail(5)"
   ]
  },
  {
   "cell_type": "code",
   "execution_count": 107,
   "metadata": {},
   "outputs": [
    {
     "data": {
      "text/html": [
       "<div>\n",
       "<style scoped>\n",
       "    .dataframe tbody tr th:only-of-type {\n",
       "        vertical-align: middle;\n",
       "    }\n",
       "\n",
       "    .dataframe tbody tr th {\n",
       "        vertical-align: top;\n",
       "    }\n",
       "\n",
       "    .dataframe thead th {\n",
       "        text-align: right;\n",
       "    }\n",
       "</style>\n",
       "<table border=\"1\" class=\"dataframe\">\n",
       "  <thead>\n",
       "    <tr style=\"text-align: right;\">\n",
       "      <th></th>\n",
       "      <th>healthy</th>\n",
       "      <th>mesalamine</th>\n",
       "      <th>remicade</th>\n",
       "      <th>humira</th>\n",
       "      <th>entyvio</th>\n",
       "      <th>skyrizi</th>\n",
       "      <th>rinvoq</th>\n",
       "      <th>failure</th>\n",
       "      <th>failure_rate</th>\n",
       "    </tr>\n",
       "    <tr>\n",
       "      <th>Year</th>\n",
       "      <th></th>\n",
       "      <th></th>\n",
       "      <th></th>\n",
       "      <th></th>\n",
       "      <th></th>\n",
       "      <th></th>\n",
       "      <th></th>\n",
       "      <th></th>\n",
       "      <th></th>\n",
       "    </tr>\n",
       "  </thead>\n",
       "  <tbody>\n",
       "    <tr>\n",
       "      <th>21</th>\n",
       "      <td>2.436206e+08</td>\n",
       "      <td>8.193130e+07</td>\n",
       "      <td>9.323837e+06</td>\n",
       "      <td>5.753991e+06</td>\n",
       "      <td>334454.152939</td>\n",
       "      <td>44094.844068</td>\n",
       "      <td>2682.430508</td>\n",
       "      <td>160945.830486</td>\n",
       "      <td>0.000472</td>\n",
       "    </tr>\n",
       "    <tr>\n",
       "      <th>22</th>\n",
       "      <td>2.395940e+08</td>\n",
       "      <td>8.457032e+07</td>\n",
       "      <td>9.928840e+06</td>\n",
       "      <td>6.465651e+06</td>\n",
       "      <td>394092.098099</td>\n",
       "      <td>54641.225601</td>\n",
       "      <td>3502.886898</td>\n",
       "      <td>210173.213891</td>\n",
       "      <td>0.000616</td>\n",
       "    </tr>\n",
       "    <tr>\n",
       "      <th>23</th>\n",
       "      <td>2.356338e+08</td>\n",
       "      <td>8.709973e+07</td>\n",
       "      <td>1.052795e+07</td>\n",
       "      <td>7.217756e+06</td>\n",
       "      <td>460275.951604</td>\n",
       "      <td>66962.559428</td>\n",
       "      <td>4513.664543</td>\n",
       "      <td>270819.872587</td>\n",
       "      <td>0.000794</td>\n",
       "    </tr>\n",
       "    <tr>\n",
       "      <th>24</th>\n",
       "      <td>2.317391e+08</td>\n",
       "      <td>8.952241e+07</td>\n",
       "      <td>1.111990e+07</td>\n",
       "      <td>8.009311e+06</td>\n",
       "      <td>533261.699421</td>\n",
       "      <td>81236.400807</td>\n",
       "      <td>5745.818608</td>\n",
       "      <td>344749.116472</td>\n",
       "      <td>0.001011</td>\n",
       "    </tr>\n",
       "    <tr>\n",
       "      <th>25</th>\n",
       "      <td>2.279088e+08</td>\n",
       "      <td>9.184122e+07</td>\n",
       "      <td>1.170357e+07</td>\n",
       "      <td>8.839234e+06</td>\n",
       "      <td>613285.544067</td>\n",
       "      <td>97644.997088</td>\n",
       "      <td>7233.403580</td>\n",
       "      <td>434004.214810</td>\n",
       "      <td>0.001273</td>\n",
       "    </tr>\n",
       "  </tbody>\n",
       "</table>\n",
       "</div>"
      ],
      "text/plain": [
       "           healthy    mesalamine      remicade        humira        entyvio       skyrizi       rinvoq        failure  failure_rate\n",
       "Year                                                                                                                               \n",
       "21    2.436206e+08  8.193130e+07  9.323837e+06  5.753991e+06  334454.152939  44094.844068  2682.430508  160945.830486      0.000472\n",
       "22    2.395940e+08  8.457032e+07  9.928840e+06  6.465651e+06  394092.098099  54641.225601  3502.886898  210173.213891      0.000616\n",
       "23    2.356338e+08  8.709973e+07  1.052795e+07  7.217756e+06  460275.951604  66962.559428  4513.664543  270819.872587      0.000794\n",
       "24    2.317391e+08  8.952241e+07  1.111990e+07  8.009311e+06  533261.699421  81236.400807  5745.818608  344749.116472      0.001011\n",
       "25    2.279088e+08  9.184122e+07  1.170357e+07  8.839234e+06  613285.544067  97644.997088  7233.403580  434004.214810      0.001273"
      ]
     },
     "execution_count": 107,
     "metadata": {},
     "output_type": "execute_result"
    }
   ],
   "source": [
    "df16 = results[16]\n",
    "df16.tail(5)"
   ]
  },
  {
   "cell_type": "code",
   "execution_count": 108,
   "metadata": {},
   "outputs": [
    {
     "data": {
      "text/html": [
       "<div>\n",
       "<style scoped>\n",
       "    .dataframe tbody tr th:only-of-type {\n",
       "        vertical-align: middle;\n",
       "    }\n",
       "\n",
       "    .dataframe tbody tr th {\n",
       "        vertical-align: top;\n",
       "    }\n",
       "\n",
       "    .dataframe thead th {\n",
       "        text-align: right;\n",
       "    }\n",
       "</style>\n",
       "<table border=\"1\" class=\"dataframe\">\n",
       "  <thead>\n",
       "    <tr style=\"text-align: right;\">\n",
       "      <th></th>\n",
       "      <th>healthy</th>\n",
       "      <th>mesalamine</th>\n",
       "      <th>remicade</th>\n",
       "      <th>humira</th>\n",
       "      <th>entyvio</th>\n",
       "      <th>skyrizi</th>\n",
       "      <th>rinvoq</th>\n",
       "      <th>failure</th>\n",
       "      <th>failure_rate</th>\n",
       "    </tr>\n",
       "    <tr>\n",
       "      <th>Year</th>\n",
       "      <th></th>\n",
       "      <th></th>\n",
       "      <th></th>\n",
       "      <th></th>\n",
       "      <th></th>\n",
       "      <th></th>\n",
       "      <th></th>\n",
       "      <th></th>\n",
       "      <th></th>\n",
       "    </tr>\n",
       "  </thead>\n",
       "  <tbody>\n",
       "    <tr>\n",
       "      <th>21</th>\n",
       "      <td>2.436206e+08</td>\n",
       "      <td>8.193130e+07</td>\n",
       "      <td>9.323837e+06</td>\n",
       "      <td>5.753991e+06</td>\n",
       "      <td>355031.746838</td>\n",
       "      <td>23517.250170</td>\n",
       "      <td>2682.430508</td>\n",
       "      <td>85837.776258</td>\n",
       "      <td>0.000252</td>\n",
       "    </tr>\n",
       "    <tr>\n",
       "      <th>22</th>\n",
       "      <td>2.395940e+08</td>\n",
       "      <td>8.457032e+07</td>\n",
       "      <td>9.928840e+06</td>\n",
       "      <td>6.465651e+06</td>\n",
       "      <td>419591.336712</td>\n",
       "      <td>29141.986987</td>\n",
       "      <td>3502.886898</td>\n",
       "      <td>112092.380741</td>\n",
       "      <td>0.000329</td>\n",
       "    </tr>\n",
       "    <tr>\n",
       "      <th>23</th>\n",
       "      <td>2.356338e+08</td>\n",
       "      <td>8.709973e+07</td>\n",
       "      <td>1.052795e+07</td>\n",
       "      <td>7.217756e+06</td>\n",
       "      <td>491525.146004</td>\n",
       "      <td>35713.365028</td>\n",
       "      <td>4513.664543</td>\n",
       "      <td>144437.265379</td>\n",
       "      <td>0.000424</td>\n",
       "    </tr>\n",
       "    <tr>\n",
       "      <th>24</th>\n",
       "      <td>2.317391e+08</td>\n",
       "      <td>8.952241e+07</td>\n",
       "      <td>1.111990e+07</td>\n",
       "      <td>8.009311e+06</td>\n",
       "      <td>571172.019797</td>\n",
       "      <td>43326.080431</td>\n",
       "      <td>5745.818608</td>\n",
       "      <td>183866.195449</td>\n",
       "      <td>0.000539</td>\n",
       "    </tr>\n",
       "    <tr>\n",
       "      <th>25</th>\n",
       "      <td>2.279088e+08</td>\n",
       "      <td>9.184122e+07</td>\n",
       "      <td>1.170357e+07</td>\n",
       "      <td>8.839234e+06</td>\n",
       "      <td>658853.209372</td>\n",
       "      <td>52077.331781</td>\n",
       "      <td>7233.403580</td>\n",
       "      <td>231468.914554</td>\n",
       "      <td>0.000679</td>\n",
       "    </tr>\n",
       "  </tbody>\n",
       "</table>\n",
       "</div>"
      ],
      "text/plain": [
       "           healthy    mesalamine      remicade        humira        entyvio       skyrizi       rinvoq        failure  failure_rate\n",
       "Year                                                                                                                               \n",
       "21    2.436206e+08  8.193130e+07  9.323837e+06  5.753991e+06  355031.746838  23517.250170  2682.430508   85837.776258      0.000252\n",
       "22    2.395940e+08  8.457032e+07  9.928840e+06  6.465651e+06  419591.336712  29141.986987  3502.886898  112092.380741      0.000329\n",
       "23    2.356338e+08  8.709973e+07  1.052795e+07  7.217756e+06  491525.146004  35713.365028  4513.664543  144437.265379      0.000424\n",
       "24    2.317391e+08  8.952241e+07  1.111990e+07  8.009311e+06  571172.019797  43326.080431  5745.818608  183866.195449      0.000539\n",
       "25    2.279088e+08  9.184122e+07  1.170357e+07  8.839234e+06  658853.209372  52077.331781  7233.403580  231468.914554      0.000679"
      ]
     },
     "execution_count": 108,
     "metadata": {},
     "output_type": "execute_result"
    }
   ],
   "source": [
    "df17 = results[17]\n",
    "df17.tail(5)"
   ]
  },
  {
   "cell_type": "code",
   "execution_count": 109,
   "metadata": {},
   "outputs": [
    {
     "data": {
      "text/html": [
       "<div>\n",
       "<style scoped>\n",
       "    .dataframe tbody tr th:only-of-type {\n",
       "        vertical-align: middle;\n",
       "    }\n",
       "\n",
       "    .dataframe tbody tr th {\n",
       "        vertical-align: top;\n",
       "    }\n",
       "\n",
       "    .dataframe thead th {\n",
       "        text-align: right;\n",
       "    }\n",
       "</style>\n",
       "<table border=\"1\" class=\"dataframe\">\n",
       "  <thead>\n",
       "    <tr style=\"text-align: right;\">\n",
       "      <th></th>\n",
       "      <th>healthy</th>\n",
       "      <th>mesalamine</th>\n",
       "      <th>remicade</th>\n",
       "      <th>humira</th>\n",
       "      <th>entyvio</th>\n",
       "      <th>skyrizi</th>\n",
       "      <th>rinvoq</th>\n",
       "      <th>failure</th>\n",
       "      <th>failure_rate</th>\n",
       "    </tr>\n",
       "    <tr>\n",
       "      <th>Year</th>\n",
       "      <th></th>\n",
       "      <th></th>\n",
       "      <th></th>\n",
       "      <th></th>\n",
       "      <th></th>\n",
       "      <th></th>\n",
       "      <th></th>\n",
       "      <th></th>\n",
       "      <th></th>\n",
       "    </tr>\n",
       "  </thead>\n",
       "  <tbody>\n",
       "    <tr>\n",
       "      <th>21</th>\n",
       "      <td>2.436206e+08</td>\n",
       "      <td>8.193130e+07</td>\n",
       "      <td>1.425487e+07</td>\n",
       "      <td>1.028853e+06</td>\n",
       "      <td>163611.216071</td>\n",
       "      <td>9039.443034</td>\n",
       "      <td>2682.430508</td>\n",
       "      <td>32993.895249</td>\n",
       "      <td>0.000097</td>\n",
       "    </tr>\n",
       "    <tr>\n",
       "      <th>22</th>\n",
       "      <td>2.395940e+08</td>\n",
       "      <td>8.457032e+07</td>\n",
       "      <td>1.546975e+07</td>\n",
       "      <td>1.167351e+06</td>\n",
       "      <td>194918.924559</td>\n",
       "      <td>11201.451248</td>\n",
       "      <td>3502.886898</td>\n",
       "      <td>43085.508847</td>\n",
       "      <td>0.000126</td>\n",
       "    </tr>\n",
       "    <tr>\n",
       "      <th>23</th>\n",
       "      <td>2.356338e+08</td>\n",
       "      <td>8.709973e+07</td>\n",
       "      <td>1.671340e+07</td>\n",
       "      <td>1.315664e+06</td>\n",
       "      <td>230153.803643</td>\n",
       "      <td>13727.324683</td>\n",
       "      <td>4513.664543</td>\n",
       "      <td>55518.073879</td>\n",
       "      <td>0.000163</td>\n",
       "    </tr>\n",
       "    <tr>\n",
       "      <th>24</th>\n",
       "      <td>2.317391e+08</td>\n",
       "      <td>8.952241e+07</td>\n",
       "      <td>1.798370e+07</td>\n",
       "      <td>1.473807e+06</td>\n",
       "      <td>269555.404357</td>\n",
       "      <td>16653.462166</td>\n",
       "      <td>5745.818608</td>\n",
       "      <td>70673.568875</td>\n",
       "      <td>0.000207</td>\n",
       "    </tr>\n",
       "    <tr>\n",
       "      <th>25</th>\n",
       "      <td>2.279088e+08</td>\n",
       "      <td>9.184122e+07</td>\n",
       "      <td>1.927858e+07</td>\n",
       "      <td>1.641770e+06</td>\n",
       "      <td>313359.403686</td>\n",
       "      <td>20017.224404</td>\n",
       "      <td>7233.403580</td>\n",
       "      <td>88970.864028</td>\n",
       "      <td>0.000261</td>\n",
       "    </tr>\n",
       "  </tbody>\n",
       "</table>\n",
       "</div>"
      ],
      "text/plain": [
       "           healthy    mesalamine      remicade        humira        entyvio       skyrizi       rinvoq       failure  failure_rate\n",
       "Year                                                                                                                              \n",
       "21    2.436206e+08  8.193130e+07  1.425487e+07  1.028853e+06  163611.216071   9039.443034  2682.430508  32993.895249      0.000097\n",
       "22    2.395940e+08  8.457032e+07  1.546975e+07  1.167351e+06  194918.924559  11201.451248  3502.886898  43085.508847      0.000126\n",
       "23    2.356338e+08  8.709973e+07  1.671340e+07  1.315664e+06  230153.803643  13727.324683  4513.664543  55518.073879      0.000163\n",
       "24    2.317391e+08  8.952241e+07  1.798370e+07  1.473807e+06  269555.404357  16653.462166  5745.818608  70673.568875      0.000207\n",
       "25    2.279088e+08  9.184122e+07  1.927858e+07  1.641770e+06  313359.403686  20017.224404  7233.403580  88970.864028      0.000261"
      ]
     },
     "execution_count": 109,
     "metadata": {},
     "output_type": "execute_result"
    }
   ],
   "source": [
    "df18 = results[18]\n",
    "df18.tail(5)"
   ]
  },
  {
   "cell_type": "code",
   "execution_count": 110,
   "metadata": {},
   "outputs": [
    {
     "data": {
      "text/html": [
       "<div>\n",
       "<style scoped>\n",
       "    .dataframe tbody tr th:only-of-type {\n",
       "        vertical-align: middle;\n",
       "    }\n",
       "\n",
       "    .dataframe tbody tr th {\n",
       "        vertical-align: top;\n",
       "    }\n",
       "\n",
       "    .dataframe thead th {\n",
       "        text-align: right;\n",
       "    }\n",
       "</style>\n",
       "<table border=\"1\" class=\"dataframe\">\n",
       "  <thead>\n",
       "    <tr style=\"text-align: right;\">\n",
       "      <th></th>\n",
       "      <th>healthy</th>\n",
       "      <th>mesalamine</th>\n",
       "      <th>remicade</th>\n",
       "      <th>humira</th>\n",
       "      <th>entyvio</th>\n",
       "      <th>skyrizi</th>\n",
       "      <th>rinvoq</th>\n",
       "      <th>failure</th>\n",
       "      <th>failure_rate</th>\n",
       "    </tr>\n",
       "    <tr>\n",
       "      <th>Year</th>\n",
       "      <th></th>\n",
       "      <th></th>\n",
       "      <th></th>\n",
       "      <th></th>\n",
       "      <th></th>\n",
       "      <th></th>\n",
       "      <th></th>\n",
       "      <th></th>\n",
       "      <th></th>\n",
       "    </tr>\n",
       "  </thead>\n",
       "  <tbody>\n",
       "    <tr>\n",
       "      <th>21</th>\n",
       "      <td>2.436206e+08</td>\n",
       "      <td>8.193130e+07</td>\n",
       "      <td>1.425487e+07</td>\n",
       "      <td>1.028853e+06</td>\n",
       "      <td>128555.815036</td>\n",
       "      <td>44094.844068</td>\n",
       "      <td>2682.430508</td>\n",
       "      <td>160945.830486</td>\n",
       "      <td>0.000472</td>\n",
       "    </tr>\n",
       "    <tr>\n",
       "      <th>22</th>\n",
       "      <td>2.395940e+08</td>\n",
       "      <td>8.457032e+07</td>\n",
       "      <td>1.546975e+07</td>\n",
       "      <td>1.167351e+06</td>\n",
       "      <td>151479.150207</td>\n",
       "      <td>54641.225601</td>\n",
       "      <td>3502.886898</td>\n",
       "      <td>210173.213891</td>\n",
       "      <td>0.000616</td>\n",
       "    </tr>\n",
       "    <tr>\n",
       "      <th>23</th>\n",
       "      <td>2.356338e+08</td>\n",
       "      <td>8.709973e+07</td>\n",
       "      <td>1.671340e+07</td>\n",
       "      <td>1.315664e+06</td>\n",
       "      <td>176918.568898</td>\n",
       "      <td>66962.559428</td>\n",
       "      <td>4513.664543</td>\n",
       "      <td>270819.872586</td>\n",
       "      <td>0.000794</td>\n",
       "    </tr>\n",
       "    <tr>\n",
       "      <th>24</th>\n",
       "      <td>2.317391e+08</td>\n",
       "      <td>8.952241e+07</td>\n",
       "      <td>1.798370e+07</td>\n",
       "      <td>1.473807e+06</td>\n",
       "      <td>204972.465715</td>\n",
       "      <td>81236.400807</td>\n",
       "      <td>5745.818608</td>\n",
       "      <td>344749.116471</td>\n",
       "      <td>0.001011</td>\n",
       "    </tr>\n",
       "    <tr>\n",
       "      <th>25</th>\n",
       "      <td>2.279088e+08</td>\n",
       "      <td>9.184122e+07</td>\n",
       "      <td>1.927858e+07</td>\n",
       "      <td>1.641770e+06</td>\n",
       "      <td>235731.631001</td>\n",
       "      <td>97644.997088</td>\n",
       "      <td>7233.403580</td>\n",
       "      <td>434004.214810</td>\n",
       "      <td>0.001273</td>\n",
       "    </tr>\n",
       "  </tbody>\n",
       "</table>\n",
       "</div>"
      ],
      "text/plain": [
       "           healthy    mesalamine      remicade        humira        entyvio       skyrizi       rinvoq        failure  failure_rate\n",
       "Year                                                                                                                               \n",
       "21    2.436206e+08  8.193130e+07  1.425487e+07  1.028853e+06  128555.815036  44094.844068  2682.430508  160945.830486      0.000472\n",
       "22    2.395940e+08  8.457032e+07  1.546975e+07  1.167351e+06  151479.150207  54641.225601  3502.886898  210173.213891      0.000616\n",
       "23    2.356338e+08  8.709973e+07  1.671340e+07  1.315664e+06  176918.568898  66962.559428  4513.664543  270819.872586      0.000794\n",
       "24    2.317391e+08  8.952241e+07  1.798370e+07  1.473807e+06  204972.465715  81236.400807  5745.818608  344749.116471      0.001011\n",
       "25    2.279088e+08  9.184122e+07  1.927858e+07  1.641770e+06  235731.631001  97644.997088  7233.403580  434004.214810      0.001273"
      ]
     },
     "execution_count": 110,
     "metadata": {},
     "output_type": "execute_result"
    }
   ],
   "source": [
    "df19 = results[19]\n",
    "df19.tail(5)"
   ]
  },
  {
   "cell_type": "code",
   "execution_count": 111,
   "metadata": {},
   "outputs": [
    {
     "data": {
      "text/html": [
       "<div>\n",
       "<style scoped>\n",
       "    .dataframe tbody tr th:only-of-type {\n",
       "        vertical-align: middle;\n",
       "    }\n",
       "\n",
       "    .dataframe tbody tr th {\n",
       "        vertical-align: top;\n",
       "    }\n",
       "\n",
       "    .dataframe thead th {\n",
       "        text-align: right;\n",
       "    }\n",
       "</style>\n",
       "<table border=\"1\" class=\"dataframe\">\n",
       "  <thead>\n",
       "    <tr style=\"text-align: right;\">\n",
       "      <th></th>\n",
       "      <th>healthy</th>\n",
       "      <th>mesalamine</th>\n",
       "      <th>remicade</th>\n",
       "      <th>humira</th>\n",
       "      <th>entyvio</th>\n",
       "      <th>skyrizi</th>\n",
       "      <th>rinvoq</th>\n",
       "      <th>failure</th>\n",
       "      <th>failure_rate</th>\n",
       "    </tr>\n",
       "    <tr>\n",
       "      <th>Year</th>\n",
       "      <th></th>\n",
       "      <th></th>\n",
       "      <th></th>\n",
       "      <th></th>\n",
       "      <th></th>\n",
       "      <th></th>\n",
       "      <th></th>\n",
       "      <th></th>\n",
       "      <th></th>\n",
       "    </tr>\n",
       "  </thead>\n",
       "  <tbody>\n",
       "    <tr>\n",
       "      <th>21</th>\n",
       "      <td>2.436206e+08</td>\n",
       "      <td>8.193130e+07</td>\n",
       "      <td>1.425487e+07</td>\n",
       "      <td>1.105205e+06</td>\n",
       "      <td>87259.315238</td>\n",
       "      <td>9039.443034</td>\n",
       "      <td>2682.430508</td>\n",
       "      <td>32993.895249</td>\n",
       "      <td>0.000097</td>\n",
       "    </tr>\n",
       "    <tr>\n",
       "      <th>22</th>\n",
       "      <td>2.395940e+08</td>\n",
       "      <td>8.457032e+07</td>\n",
       "      <td>1.546975e+07</td>\n",
       "      <td>1.258314e+06</td>\n",
       "      <td>103956.759765</td>\n",
       "      <td>11201.451248</td>\n",
       "      <td>3502.886898</td>\n",
       "      <td>43085.508847</td>\n",
       "      <td>0.000126</td>\n",
       "    </tr>\n",
       "    <tr>\n",
       "      <th>23</th>\n",
       "      <td>2.356338e+08</td>\n",
       "      <td>8.709973e+07</td>\n",
       "      <td>1.671340e+07</td>\n",
       "      <td>1.423069e+06</td>\n",
       "      <td>122748.695276</td>\n",
       "      <td>13727.324683</td>\n",
       "      <td>4513.664543</td>\n",
       "      <td>55518.073879</td>\n",
       "      <td>0.000163</td>\n",
       "    </tr>\n",
       "    <tr>\n",
       "      <th>24</th>\n",
       "      <td>2.317391e+08</td>\n",
       "      <td>8.952241e+07</td>\n",
       "      <td>1.798370e+07</td>\n",
       "      <td>1.599599e+06</td>\n",
       "      <td>143762.882324</td>\n",
       "      <td>16653.462166</td>\n",
       "      <td>5745.818608</td>\n",
       "      <td>70673.568875</td>\n",
       "      <td>0.000207</td>\n",
       "    </tr>\n",
       "    <tr>\n",
       "      <th>25</th>\n",
       "      <td>2.279088e+08</td>\n",
       "      <td>9.184122e+07</td>\n",
       "      <td>1.927858e+07</td>\n",
       "      <td>1.788004e+06</td>\n",
       "      <td>167125.015299</td>\n",
       "      <td>20017.224404</td>\n",
       "      <td>7233.403580</td>\n",
       "      <td>88970.864028</td>\n",
       "      <td>0.000261</td>\n",
       "    </tr>\n",
       "  </tbody>\n",
       "</table>\n",
       "</div>"
      ],
      "text/plain": [
       "           healthy    mesalamine      remicade        humira        entyvio       skyrizi       rinvoq       failure  failure_rate\n",
       "Year                                                                                                                              \n",
       "21    2.436206e+08  8.193130e+07  1.425487e+07  1.105205e+06   87259.315238   9039.443034  2682.430508  32993.895249      0.000097\n",
       "22    2.395940e+08  8.457032e+07  1.546975e+07  1.258314e+06  103956.759765  11201.451248  3502.886898  43085.508847      0.000126\n",
       "23    2.356338e+08  8.709973e+07  1.671340e+07  1.423069e+06  122748.695276  13727.324683  4513.664543  55518.073879      0.000163\n",
       "24    2.317391e+08  8.952241e+07  1.798370e+07  1.599599e+06  143762.882324  16653.462166  5745.818608  70673.568875      0.000207\n",
       "25    2.279088e+08  9.184122e+07  1.927858e+07  1.788004e+06  167125.015299  20017.224404  7233.403580  88970.864028      0.000261"
      ]
     },
     "execution_count": 111,
     "metadata": {},
     "output_type": "execute_result"
    }
   ],
   "source": [
    "df20 = results[20]\n",
    "df20.tail(5)"
   ]
  },
  {
   "cell_type": "code",
   "execution_count": 112,
   "metadata": {},
   "outputs": [
    {
     "data": {
      "text/html": [
       "<div>\n",
       "<style scoped>\n",
       "    .dataframe tbody tr th:only-of-type {\n",
       "        vertical-align: middle;\n",
       "    }\n",
       "\n",
       "    .dataframe tbody tr th {\n",
       "        vertical-align: top;\n",
       "    }\n",
       "\n",
       "    .dataframe thead th {\n",
       "        text-align: right;\n",
       "    }\n",
       "</style>\n",
       "<table border=\"1\" class=\"dataframe\">\n",
       "  <thead>\n",
       "    <tr style=\"text-align: right;\">\n",
       "      <th></th>\n",
       "      <th>healthy</th>\n",
       "      <th>mesalamine</th>\n",
       "      <th>remicade</th>\n",
       "      <th>humira</th>\n",
       "      <th>entyvio</th>\n",
       "      <th>skyrizi</th>\n",
       "      <th>rinvoq</th>\n",
       "      <th>failure</th>\n",
       "      <th>failure_rate</th>\n",
       "    </tr>\n",
       "    <tr>\n",
       "      <th>Year</th>\n",
       "      <th></th>\n",
       "      <th></th>\n",
       "      <th></th>\n",
       "      <th></th>\n",
       "      <th></th>\n",
       "      <th></th>\n",
       "      <th></th>\n",
       "      <th></th>\n",
       "      <th></th>\n",
       "    </tr>\n",
       "  </thead>\n",
       "  <tbody>\n",
       "    <tr>\n",
       "      <th>21</th>\n",
       "      <td>2.436206e+08</td>\n",
       "      <td>8.193130e+07</td>\n",
       "      <td>1.425487e+07</td>\n",
       "      <td>1.105205e+06</td>\n",
       "      <td>72781.508102</td>\n",
       "      <td>23517.250170</td>\n",
       "      <td>2682.430508</td>\n",
       "      <td>85837.776258</td>\n",
       "      <td>0.000252</td>\n",
       "    </tr>\n",
       "    <tr>\n",
       "      <th>22</th>\n",
       "      <td>2.395940e+08</td>\n",
       "      <td>8.457032e+07</td>\n",
       "      <td>1.546975e+07</td>\n",
       "      <td>1.258314e+06</td>\n",
       "      <td>86016.224026</td>\n",
       "      <td>29141.986987</td>\n",
       "      <td>3502.886898</td>\n",
       "      <td>112092.380741</td>\n",
       "      <td>0.000329</td>\n",
       "    </tr>\n",
       "    <tr>\n",
       "      <th>23</th>\n",
       "      <td>2.356338e+08</td>\n",
       "      <td>8.709973e+07</td>\n",
       "      <td>1.671340e+07</td>\n",
       "      <td>1.423069e+06</td>\n",
       "      <td>100762.654931</td>\n",
       "      <td>35713.365028</td>\n",
       "      <td>4513.664543</td>\n",
       "      <td>144437.265379</td>\n",
       "      <td>0.000424</td>\n",
       "    </tr>\n",
       "    <tr>\n",
       "      <th>24</th>\n",
       "      <td>2.317391e+08</td>\n",
       "      <td>8.952241e+07</td>\n",
       "      <td>1.798370e+07</td>\n",
       "      <td>1.599599e+06</td>\n",
       "      <td>117090.264058</td>\n",
       "      <td>43326.080431</td>\n",
       "      <td>5745.818608</td>\n",
       "      <td>183866.195448</td>\n",
       "      <td>0.000539</td>\n",
       "    </tr>\n",
       "    <tr>\n",
       "      <th>25</th>\n",
       "      <td>2.279088e+08</td>\n",
       "      <td>9.184122e+07</td>\n",
       "      <td>1.927858e+07</td>\n",
       "      <td>1.788004e+06</td>\n",
       "      <td>135064.907921</td>\n",
       "      <td>52077.331782</td>\n",
       "      <td>7233.403580</td>\n",
       "      <td>231468.914551</td>\n",
       "      <td>0.000679</td>\n",
       "    </tr>\n",
       "  </tbody>\n",
       "</table>\n",
       "</div>"
      ],
      "text/plain": [
       "           healthy    mesalamine      remicade        humira        entyvio       skyrizi       rinvoq        failure  failure_rate\n",
       "Year                                                                                                                               \n",
       "21    2.436206e+08  8.193130e+07  1.425487e+07  1.105205e+06   72781.508102  23517.250170  2682.430508   85837.776258      0.000252\n",
       "22    2.395940e+08  8.457032e+07  1.546975e+07  1.258314e+06   86016.224026  29141.986987  3502.886898  112092.380741      0.000329\n",
       "23    2.356338e+08  8.709973e+07  1.671340e+07  1.423069e+06  100762.654931  35713.365028  4513.664543  144437.265379      0.000424\n",
       "24    2.317391e+08  8.952241e+07  1.798370e+07  1.599599e+06  117090.264058  43326.080431  5745.818608  183866.195448      0.000539\n",
       "25    2.279088e+08  9.184122e+07  1.927858e+07  1.788004e+06  135064.907921  52077.331782  7233.403580  231468.914551      0.000679"
      ]
     },
     "execution_count": 112,
     "metadata": {},
     "output_type": "execute_result"
    }
   ],
   "source": [
    "df21 = results[21]\n",
    "df21.tail(5)"
   ]
  },
  {
   "cell_type": "code",
   "execution_count": 113,
   "metadata": {},
   "outputs": [
    {
     "data": {
      "text/html": [
       "<div>\n",
       "<style scoped>\n",
       "    .dataframe tbody tr th:only-of-type {\n",
       "        vertical-align: middle;\n",
       "    }\n",
       "\n",
       "    .dataframe tbody tr th {\n",
       "        vertical-align: top;\n",
       "    }\n",
       "\n",
       "    .dataframe thead th {\n",
       "        text-align: right;\n",
       "    }\n",
       "</style>\n",
       "<table border=\"1\" class=\"dataframe\">\n",
       "  <thead>\n",
       "    <tr style=\"text-align: right;\">\n",
       "      <th></th>\n",
       "      <th>healthy</th>\n",
       "      <th>mesalamine</th>\n",
       "      <th>remicade</th>\n",
       "      <th>humira</th>\n",
       "      <th>entyvio</th>\n",
       "      <th>skyrizi</th>\n",
       "      <th>rinvoq</th>\n",
       "      <th>failure</th>\n",
       "      <th>failure_rate</th>\n",
       "    </tr>\n",
       "    <tr>\n",
       "      <th>Year</th>\n",
       "      <th></th>\n",
       "      <th></th>\n",
       "      <th></th>\n",
       "      <th></th>\n",
       "      <th></th>\n",
       "      <th></th>\n",
       "      <th></th>\n",
       "      <th></th>\n",
       "      <th></th>\n",
       "    </tr>\n",
       "  </thead>\n",
       "  <tbody>\n",
       "    <tr>\n",
       "      <th>21</th>\n",
       "      <td>2.436206e+08</td>\n",
       "      <td>8.193130e+07</td>\n",
       "      <td>1.425487e+07</td>\n",
       "      <td>8.229545e+05</td>\n",
       "      <td>334454.152939</td>\n",
       "      <td>44094.844069</td>\n",
       "      <td>2682.430508</td>\n",
       "      <td>160945.830485</td>\n",
       "      <td>0.000472</td>\n",
       "    </tr>\n",
       "    <tr>\n",
       "      <th>22</th>\n",
       "      <td>2.395940e+08</td>\n",
       "      <td>8.457032e+07</td>\n",
       "      <td>1.546975e+07</td>\n",
       "      <td>9.247384e+05</td>\n",
       "      <td>394092.098098</td>\n",
       "      <td>54641.225601</td>\n",
       "      <td>3502.886898</td>\n",
       "      <td>210173.213890</td>\n",
       "      <td>0.000616</td>\n",
       "    </tr>\n",
       "    <tr>\n",
       "      <th>23</th>\n",
       "      <td>2.356338e+08</td>\n",
       "      <td>8.709973e+07</td>\n",
       "      <td>1.671340e+07</td>\n",
       "      <td>1.032307e+06</td>\n",
       "      <td>460275.951604</td>\n",
       "      <td>66962.559428</td>\n",
       "      <td>4513.664543</td>\n",
       "      <td>270819.872586</td>\n",
       "      <td>0.000794</td>\n",
       "    </tr>\n",
       "    <tr>\n",
       "      <th>24</th>\n",
       "      <td>2.317391e+08</td>\n",
       "      <td>8.952241e+07</td>\n",
       "      <td>1.798370e+07</td>\n",
       "      <td>1.145518e+06</td>\n",
       "      <td>533261.699420</td>\n",
       "      <td>81236.400807</td>\n",
       "      <td>5745.818608</td>\n",
       "      <td>344749.116468</td>\n",
       "      <td>0.001011</td>\n",
       "    </tr>\n",
       "    <tr>\n",
       "      <th>25</th>\n",
       "      <td>2.279088e+08</td>\n",
       "      <td>9.184122e+07</td>\n",
       "      <td>1.927858e+07</td>\n",
       "      <td>1.264216e+06</td>\n",
       "      <td>613285.544067</td>\n",
       "      <td>97644.997088</td>\n",
       "      <td>7233.403580</td>\n",
       "      <td>434004.214809</td>\n",
       "      <td>0.001273</td>\n",
       "    </tr>\n",
       "  </tbody>\n",
       "</table>\n",
       "</div>"
      ],
      "text/plain": [
       "           healthy    mesalamine      remicade        humira        entyvio       skyrizi       rinvoq        failure  failure_rate\n",
       "Year                                                                                                                               \n",
       "21    2.436206e+08  8.193130e+07  1.425487e+07  8.229545e+05  334454.152939  44094.844069  2682.430508  160945.830485      0.000472\n",
       "22    2.395940e+08  8.457032e+07  1.546975e+07  9.247384e+05  394092.098098  54641.225601  3502.886898  210173.213890      0.000616\n",
       "23    2.356338e+08  8.709973e+07  1.671340e+07  1.032307e+06  460275.951604  66962.559428  4513.664543  270819.872586      0.000794\n",
       "24    2.317391e+08  8.952241e+07  1.798370e+07  1.145518e+06  533261.699420  81236.400807  5745.818608  344749.116468      0.001011\n",
       "25    2.279088e+08  9.184122e+07  1.927858e+07  1.264216e+06  613285.544067  97644.997088  7233.403580  434004.214809      0.001273"
      ]
     },
     "execution_count": 113,
     "metadata": {},
     "output_type": "execute_result"
    }
   ],
   "source": [
    "df22 = results[22]\n",
    "df22.tail(5)"
   ]
  },
  {
   "cell_type": "code",
   "execution_count": 114,
   "metadata": {},
   "outputs": [
    {
     "data": {
      "text/html": [
       "<div>\n",
       "<style scoped>\n",
       "    .dataframe tbody tr th:only-of-type {\n",
       "        vertical-align: middle;\n",
       "    }\n",
       "\n",
       "    .dataframe tbody tr th {\n",
       "        vertical-align: top;\n",
       "    }\n",
       "\n",
       "    .dataframe thead th {\n",
       "        text-align: right;\n",
       "    }\n",
       "</style>\n",
       "<table border=\"1\" class=\"dataframe\">\n",
       "  <thead>\n",
       "    <tr style=\"text-align: right;\">\n",
       "      <th></th>\n",
       "      <th>healthy</th>\n",
       "      <th>mesalamine</th>\n",
       "      <th>remicade</th>\n",
       "      <th>humira</th>\n",
       "      <th>entyvio</th>\n",
       "      <th>skyrizi</th>\n",
       "      <th>rinvoq</th>\n",
       "      <th>failure</th>\n",
       "      <th>failure_rate</th>\n",
       "    </tr>\n",
       "    <tr>\n",
       "      <th>Year</th>\n",
       "      <th></th>\n",
       "      <th></th>\n",
       "      <th></th>\n",
       "      <th></th>\n",
       "      <th></th>\n",
       "      <th></th>\n",
       "      <th></th>\n",
       "      <th></th>\n",
       "      <th></th>\n",
       "    </tr>\n",
       "  </thead>\n",
       "  <tbody>\n",
       "    <tr>\n",
       "      <th>21</th>\n",
       "      <td>2.436206e+08</td>\n",
       "      <td>8.193130e+07</td>\n",
       "      <td>1.425487e+07</td>\n",
       "      <td>8.229545e+05</td>\n",
       "      <td>355031.746838</td>\n",
       "      <td>23517.250170</td>\n",
       "      <td>2682.430508</td>\n",
       "      <td>85837.776258</td>\n",
       "      <td>0.000252</td>\n",
       "    </tr>\n",
       "    <tr>\n",
       "      <th>22</th>\n",
       "      <td>2.395940e+08</td>\n",
       "      <td>8.457032e+07</td>\n",
       "      <td>1.546975e+07</td>\n",
       "      <td>9.247384e+05</td>\n",
       "      <td>419591.336712</td>\n",
       "      <td>29141.986987</td>\n",
       "      <td>3502.886898</td>\n",
       "      <td>112092.380741</td>\n",
       "      <td>0.000329</td>\n",
       "    </tr>\n",
       "    <tr>\n",
       "      <th>23</th>\n",
       "      <td>2.356338e+08</td>\n",
       "      <td>8.709973e+07</td>\n",
       "      <td>1.671340e+07</td>\n",
       "      <td>1.032307e+06</td>\n",
       "      <td>491525.146004</td>\n",
       "      <td>35713.365028</td>\n",
       "      <td>4513.664543</td>\n",
       "      <td>144437.265379</td>\n",
       "      <td>0.000424</td>\n",
       "    </tr>\n",
       "    <tr>\n",
       "      <th>24</th>\n",
       "      <td>2.317391e+08</td>\n",
       "      <td>8.952241e+07</td>\n",
       "      <td>1.798370e+07</td>\n",
       "      <td>1.145518e+06</td>\n",
       "      <td>571172.019797</td>\n",
       "      <td>43326.080431</td>\n",
       "      <td>5745.818608</td>\n",
       "      <td>183866.195448</td>\n",
       "      <td>0.000539</td>\n",
       "    </tr>\n",
       "    <tr>\n",
       "      <th>25</th>\n",
       "      <td>2.279088e+08</td>\n",
       "      <td>9.184122e+07</td>\n",
       "      <td>1.927858e+07</td>\n",
       "      <td>1.264216e+06</td>\n",
       "      <td>658853.209371</td>\n",
       "      <td>52077.331782</td>\n",
       "      <td>7233.403580</td>\n",
       "      <td>231468.914551</td>\n",
       "      <td>0.000679</td>\n",
       "    </tr>\n",
       "  </tbody>\n",
       "</table>\n",
       "</div>"
      ],
      "text/plain": [
       "           healthy    mesalamine      remicade        humira        entyvio       skyrizi       rinvoq        failure  failure_rate\n",
       "Year                                                                                                                               \n",
       "21    2.436206e+08  8.193130e+07  1.425487e+07  8.229545e+05  355031.746838  23517.250170  2682.430508   85837.776258      0.000252\n",
       "22    2.395940e+08  8.457032e+07  1.546975e+07  9.247384e+05  419591.336712  29141.986987  3502.886898  112092.380741      0.000329\n",
       "23    2.356338e+08  8.709973e+07  1.671340e+07  1.032307e+06  491525.146004  35713.365028  4513.664543  144437.265379      0.000424\n",
       "24    2.317391e+08  8.952241e+07  1.798370e+07  1.145518e+06  571172.019797  43326.080431  5745.818608  183866.195448      0.000539\n",
       "25    2.279088e+08  9.184122e+07  1.927858e+07  1.264216e+06  658853.209371  52077.331782  7233.403580  231468.914551      0.000679"
      ]
     },
     "execution_count": 114,
     "metadata": {},
     "output_type": "execute_result"
    }
   ],
   "source": [
    "df23 = results[23]\n",
    "df23.tail(5)"
   ]
  },
  {
   "cell_type": "code",
   "execution_count": 115,
   "metadata": {},
   "outputs": [
    {
     "data": {
      "text/html": [
       "<div>\n",
       "<style scoped>\n",
       "    .dataframe tbody tr th:only-of-type {\n",
       "        vertical-align: middle;\n",
       "    }\n",
       "\n",
       "    .dataframe tbody tr th {\n",
       "        vertical-align: top;\n",
       "    }\n",
       "\n",
       "    .dataframe thead th {\n",
       "        text-align: right;\n",
       "    }\n",
       "</style>\n",
       "<table border=\"1\" class=\"dataframe\">\n",
       "  <thead>\n",
       "    <tr style=\"text-align: right;\">\n",
       "      <th></th>\n",
       "      <th>healthy</th>\n",
       "      <th>mesalamine</th>\n",
       "      <th>remicade</th>\n",
       "      <th>humira</th>\n",
       "      <th>entyvio</th>\n",
       "      <th>skyrizi</th>\n",
       "      <th>rinvoq</th>\n",
       "      <th>failure</th>\n",
       "      <th>failure_rate</th>\n",
       "    </tr>\n",
       "    <tr>\n",
       "      <th>Year</th>\n",
       "      <th></th>\n",
       "      <th></th>\n",
       "      <th></th>\n",
       "      <th></th>\n",
       "      <th></th>\n",
       "      <th></th>\n",
       "      <th></th>\n",
       "      <th></th>\n",
       "      <th></th>\n",
       "    </tr>\n",
       "  </thead>\n",
       "  <tbody>\n",
       "    <tr>\n",
       "      <th>21</th>\n",
       "      <td>2.436206e+08</td>\n",
       "      <td>7.097745e+07</td>\n",
       "      <td>2.347253e+07</td>\n",
       "      <td>2.694144e+06</td>\n",
       "      <td>180346.242904</td>\n",
       "      <td>63202.609831</td>\n",
       "      <td>2682.430508</td>\n",
       "      <td>230689.023697</td>\n",
       "      <td>0.000676</td>\n",
       "    </tr>\n",
       "    <tr>\n",
       "      <th>22</th>\n",
       "      <td>2.395940e+08</td>\n",
       "      <td>7.275796e+07</td>\n",
       "      <td>2.531221e+07</td>\n",
       "      <td>3.052792e+06</td>\n",
       "      <td>212266.153089</td>\n",
       "      <td>78319.090027</td>\n",
       "      <td>3502.886898</td>\n",
       "      <td>301248.273244</td>\n",
       "      <td>0.000883</td>\n",
       "    </tr>\n",
       "    <tr>\n",
       "      <th>23</th>\n",
       "      <td>2.356338e+08</td>\n",
       "      <td>7.441816e+07</td>\n",
       "      <td>2.717478e+07</td>\n",
       "      <td>3.436115e+06</td>\n",
       "      <td>247634.774725</td>\n",
       "      <td>95979.668513</td>\n",
       "      <td>4513.664543</td>\n",
       "      <td>388175.150708</td>\n",
       "      <td>0.001138</td>\n",
       "    </tr>\n",
       "    <tr>\n",
       "      <th>24</th>\n",
       "      <td>2.317391e+08</td>\n",
       "      <td>7.596285e+07</td>\n",
       "      <td>2.905621e+07</td>\n",
       "      <td>3.844049e+06</td>\n",
       "      <td>286577.367253</td>\n",
       "      <td>116438.841157</td>\n",
       "      <td>5745.818608</td>\n",
       "      <td>494140.400276</td>\n",
       "      <td>0.001449</td>\n",
       "    </tr>\n",
       "    <tr>\n",
       "      <th>25</th>\n",
       "      <td>2.279088e+08</td>\n",
       "      <td>7.739663e+07</td>\n",
       "      <td>3.095268e+07</td>\n",
       "      <td>4.276468e+06</td>\n",
       "      <td>329207.873860</td>\n",
       "      <td>139957.829160</td>\n",
       "      <td>7233.403580</td>\n",
       "      <td>622072.707895</td>\n",
       "      <td>0.001824</td>\n",
       "    </tr>\n",
       "  </tbody>\n",
       "</table>\n",
       "</div>"
      ],
      "text/plain": [
       "           healthy    mesalamine      remicade        humira        entyvio        skyrizi       rinvoq        failure  failure_rate\n",
       "Year                                                                                                                                \n",
       "21    2.436206e+08  7.097745e+07  2.347253e+07  2.694144e+06  180346.242904   63202.609831  2682.430508  230689.023697      0.000676\n",
       "22    2.395940e+08  7.275796e+07  2.531221e+07  3.052792e+06  212266.153089   78319.090027  3502.886898  301248.273244      0.000883\n",
       "23    2.356338e+08  7.441816e+07  2.717478e+07  3.436115e+06  247634.774725   95979.668513  4513.664543  388175.150708      0.001138\n",
       "24    2.317391e+08  7.596285e+07  2.905621e+07  3.844049e+06  286577.367253  116438.841157  5745.818608  494140.400276      0.001449\n",
       "25    2.279088e+08  7.739663e+07  3.095268e+07  4.276468e+06  329207.873860  139957.829160  7233.403580  622072.707895      0.001824"
      ]
     },
     "execution_count": 115,
     "metadata": {},
     "output_type": "execute_result"
    }
   ],
   "source": [
    "df24 = results[24]\n",
    "df24.tail(5)"
   ]
  },
  {
   "cell_type": "markdown",
   "metadata": {},
   "source": [
    "## Failure Rates of Each Treatment"
   ]
  },
  {
   "cell_type": "code",
   "execution_count": 116,
   "metadata": {},
   "outputs": [
    {
     "data": {
      "text/html": [
       "<div>\n",
       "<style scoped>\n",
       "    .dataframe tbody tr th:only-of-type {\n",
       "        vertical-align: middle;\n",
       "    }\n",
       "\n",
       "    .dataframe tbody tr th {\n",
       "        vertical-align: top;\n",
       "    }\n",
       "\n",
       "    .dataframe thead th {\n",
       "        text-align: right;\n",
       "    }\n",
       "</style>\n",
       "<table border=\"1\" class=\"dataframe\">\n",
       "  <thead>\n",
       "    <tr style=\"text-align: right;\">\n",
       "      <th></th>\n",
       "      <th>0</th>\n",
       "      <th>1</th>\n",
       "      <th>2</th>\n",
       "      <th>3</th>\n",
       "      <th>4</th>\n",
       "      <th>5</th>\n",
       "      <th>6</th>\n",
       "      <th>7</th>\n",
       "      <th>8</th>\n",
       "      <th>9</th>\n",
       "      <th>...</th>\n",
       "      <th>41</th>\n",
       "      <th>42</th>\n",
       "      <th>43</th>\n",
       "      <th>44</th>\n",
       "      <th>45</th>\n",
       "      <th>46</th>\n",
       "      <th>47</th>\n",
       "      <th>48</th>\n",
       "      <th>49</th>\n",
       "      <th>50</th>\n",
       "    </tr>\n",
       "    <tr>\n",
       "      <th>Year</th>\n",
       "      <th></th>\n",
       "      <th></th>\n",
       "      <th></th>\n",
       "      <th></th>\n",
       "      <th></th>\n",
       "      <th></th>\n",
       "      <th></th>\n",
       "      <th></th>\n",
       "      <th></th>\n",
       "      <th></th>\n",
       "      <th></th>\n",
       "      <th></th>\n",
       "      <th></th>\n",
       "      <th></th>\n",
       "      <th></th>\n",
       "      <th></th>\n",
       "      <th></th>\n",
       "      <th></th>\n",
       "      <th></th>\n",
       "      <th></th>\n",
       "      <th></th>\n",
       "    </tr>\n",
       "  </thead>\n",
       "  <tbody>\n",
       "    <tr>\n",
       "      <th>21</th>\n",
       "      <td>230689.023697</td>\n",
       "      <td>32993.895249</td>\n",
       "      <td>230689.023697</td>\n",
       "      <td>160945.830486</td>\n",
       "      <td>32993.895249</td>\n",
       "      <td>160945.830485</td>\n",
       "      <td>230689.023697</td>\n",
       "      <td>32993.895249</td>\n",
       "      <td>230689.023697</td>\n",
       "      <td>85837.776258</td>\n",
       "      <td>...</td>\n",
       "      <td>160945.830486</td>\n",
       "      <td>32993.895249</td>\n",
       "      <td>160945.830480</td>\n",
       "      <td>32993.895249</td>\n",
       "      <td>160945.830480</td>\n",
       "      <td>160945.830486</td>\n",
       "      <td>160945.830486</td>\n",
       "      <td>230689.023697</td>\n",
       "      <td>32993.895249</td>\n",
       "      <td>230689.023697</td>\n",
       "    </tr>\n",
       "    <tr>\n",
       "      <th>22</th>\n",
       "      <td>301248.273245</td>\n",
       "      <td>43085.508847</td>\n",
       "      <td>301248.273245</td>\n",
       "      <td>210173.213891</td>\n",
       "      <td>43085.508847</td>\n",
       "      <td>210173.213890</td>\n",
       "      <td>301248.273245</td>\n",
       "      <td>43085.508847</td>\n",
       "      <td>301248.273245</td>\n",
       "      <td>112092.380741</td>\n",
       "      <td>...</td>\n",
       "      <td>210173.213892</td>\n",
       "      <td>43085.508847</td>\n",
       "      <td>210173.213894</td>\n",
       "      <td>43085.508847</td>\n",
       "      <td>210173.213894</td>\n",
       "      <td>210173.213891</td>\n",
       "      <td>210173.213891</td>\n",
       "      <td>301248.273245</td>\n",
       "      <td>43085.508847</td>\n",
       "      <td>301248.273245</td>\n",
       "    </tr>\n",
       "    <tr>\n",
       "      <th>23</th>\n",
       "      <td>388175.150709</td>\n",
       "      <td>55518.073880</td>\n",
       "      <td>388175.150709</td>\n",
       "      <td>270819.872587</td>\n",
       "      <td>55518.073880</td>\n",
       "      <td>270819.872586</td>\n",
       "      <td>388175.150709</td>\n",
       "      <td>55518.073880</td>\n",
       "      <td>388175.150708</td>\n",
       "      <td>144437.265379</td>\n",
       "      <td>...</td>\n",
       "      <td>270819.872587</td>\n",
       "      <td>55518.073880</td>\n",
       "      <td>270819.872583</td>\n",
       "      <td>55518.073880</td>\n",
       "      <td>270819.872583</td>\n",
       "      <td>270819.872586</td>\n",
       "      <td>270819.872586</td>\n",
       "      <td>388175.150709</td>\n",
       "      <td>55518.073880</td>\n",
       "      <td>388175.150708</td>\n",
       "    </tr>\n",
       "    <tr>\n",
       "      <th>24</th>\n",
       "      <td>494140.400286</td>\n",
       "      <td>70673.568875</td>\n",
       "      <td>494140.400290</td>\n",
       "      <td>344749.116472</td>\n",
       "      <td>70673.568875</td>\n",
       "      <td>344749.116467</td>\n",
       "      <td>494140.400294</td>\n",
       "      <td>70673.568875</td>\n",
       "      <td>494140.400285</td>\n",
       "      <td>183866.195448</td>\n",
       "      <td>...</td>\n",
       "      <td>344749.116473</td>\n",
       "      <td>70673.568875</td>\n",
       "      <td>344749.116444</td>\n",
       "      <td>70673.568875</td>\n",
       "      <td>344749.116444</td>\n",
       "      <td>344749.116471</td>\n",
       "      <td>344749.116471</td>\n",
       "      <td>494140.400294</td>\n",
       "      <td>70673.568875</td>\n",
       "      <td>494140.400285</td>\n",
       "    </tr>\n",
       "    <tr>\n",
       "      <th>25</th>\n",
       "      <td>622072.707893</td>\n",
       "      <td>88970.864028</td>\n",
       "      <td>622072.707895</td>\n",
       "      <td>434004.214810</td>\n",
       "      <td>88970.864028</td>\n",
       "      <td>434004.214801</td>\n",
       "      <td>622072.707896</td>\n",
       "      <td>88970.864028</td>\n",
       "      <td>622072.707893</td>\n",
       "      <td>231468.914552</td>\n",
       "      <td>...</td>\n",
       "      <td>434004.214810</td>\n",
       "      <td>88970.864028</td>\n",
       "      <td>434004.214703</td>\n",
       "      <td>88970.864028</td>\n",
       "      <td>434004.214703</td>\n",
       "      <td>434004.214810</td>\n",
       "      <td>434004.214810</td>\n",
       "      <td>622072.707896</td>\n",
       "      <td>88970.864028</td>\n",
       "      <td>622072.707893</td>\n",
       "    </tr>\n",
       "  </tbody>\n",
       "</table>\n",
       "<p>5 rows × 51 columns</p>\n",
       "</div>"
      ],
      "text/plain": [
       "                 0             1              2              3             4              5              6             7              8              9   ...             41            42             43            44             45             46             47             48            49             50\n",
       "Year                                                                                                                                                     ...                                                                                                                                                   \n",
       "21    230689.023697  32993.895249  230689.023697  160945.830486  32993.895249  160945.830485  230689.023697  32993.895249  230689.023697   85837.776258  ...  160945.830486  32993.895249  160945.830480  32993.895249  160945.830480  160945.830486  160945.830486  230689.023697  32993.895249  230689.023697\n",
       "22    301248.273245  43085.508847  301248.273245  210173.213891  43085.508847  210173.213890  301248.273245  43085.508847  301248.273245  112092.380741  ...  210173.213892  43085.508847  210173.213894  43085.508847  210173.213894  210173.213891  210173.213891  301248.273245  43085.508847  301248.273245\n",
       "23    388175.150709  55518.073880  388175.150709  270819.872587  55518.073880  270819.872586  388175.150709  55518.073880  388175.150708  144437.265379  ...  270819.872587  55518.073880  270819.872583  55518.073880  270819.872583  270819.872586  270819.872586  388175.150709  55518.073880  388175.150708\n",
       "24    494140.400286  70673.568875  494140.400290  344749.116472  70673.568875  344749.116467  494140.400294  70673.568875  494140.400285  183866.195448  ...  344749.116473  70673.568875  344749.116444  70673.568875  344749.116444  344749.116471  344749.116471  494140.400294  70673.568875  494140.400285\n",
       "25    622072.707893  88970.864028  622072.707895  434004.214810  88970.864028  434004.214801  622072.707896  88970.864028  622072.707893  231468.914552  ...  434004.214810  88970.864028  434004.214703  88970.864028  434004.214703  434004.214810  434004.214810  622072.707896  88970.864028  622072.707893\n",
       "\n",
       "[5 rows x 51 columns]"
      ]
     },
     "execution_count": 116,
     "metadata": {},
     "output_type": "execute_result"
    }
   ],
   "source": [
    "failure_df = pd.DataFrame()\n",
    "\n",
    "for key, df in results.items():\n",
    "    failure_df[key] = df['failure']\n",
    "\n",
    "failure_df.tail(5)"
   ]
  },
  {
   "cell_type": "markdown",
   "metadata": {},
   "source": [
    "### Plot the failure of each treatment after 25 years"
   ]
  },
  {
   "cell_type": "code",
   "execution_count": 117,
   "metadata": {},
   "outputs": [
    {
     "data": {
      "application/vnd.plotly.v1+json": {
       "config": {
        "plotlyServerURL": "https://plot.ly"
       },
       "data": [
        {
         "alignmentgroup": "True",
         "hovertemplate": "Treatment Plan=%{x}<br>Number of People who Failed Treatment=%{y}<br>Failures=%{marker.color}<extra></extra>",
         "legendgroup": "",
         "marker": {
          "color": [
           622072.7078934722,
           88970.8640281288,
           622072.707894603,
           434004.21480999666,
           88970.86402811953,
           434004.2148008975,
           622072.7078957695,
           88970.8640280888,
           622072.7078933396,
           231468.91455193402,
           88970.86402804602,
           231468.91454845725,
           622072.7078963979,
           434004.21480937325,
           622072.7078957107,
           231468.91455503774,
           434004.21480978985,
           231468.914554489,
           88970.8640280561,
           434004.21481000975,
           88970.86402802252,
           231468.91455121787,
           434004.2148086223,
           231468.91455096734,
           622072.707894682,
           88970.86402813869,
           622072.7078954768,
           434004.2148097198,
           88970.8640281389,
           434004.2147032248,
           622072.707894682,
           88970.86402813869,
           622072.7078954768,
           434004.2148097198,
           88970.8640281389,
           434004.2147032248,
           622072.7078977553,
           434004.2148093316,
           622072.7078977553,
           434004.2148093316,
           434004.2148095386,
           434004.2148095386,
           88970.8640281395,
           434004.21470322413,
           88970.8640281395,
           434004.21470322413,
           434004.2148101135,
           434004.2148101135,
           622072.7078957695,
           88970.8640280888,
           622072.7078933396
          ],
          "coloraxis": "coloraxis",
          "pattern": {
           "shape": ""
          }
         },
         "name": "",
         "offsetgroup": "",
         "orientation": "v",
         "showlegend": false,
         "textposition": "auto",
         "type": "bar",
         "x": [
          0,
          1,
          2,
          3,
          4,
          5,
          6,
          7,
          8,
          9,
          10,
          11,
          12,
          13,
          14,
          15,
          16,
          17,
          18,
          19,
          20,
          21,
          22,
          23,
          24,
          25,
          26,
          27,
          28,
          29,
          30,
          31,
          32,
          33,
          34,
          35,
          36,
          37,
          38,
          39,
          40,
          41,
          42,
          43,
          44,
          45,
          46,
          47,
          48,
          49,
          50
         ],
         "xaxis": "x",
         "y": [
          622072.7078934722,
          88970.8640281288,
          622072.707894603,
          434004.21480999666,
          88970.86402811953,
          434004.2148008975,
          622072.7078957695,
          88970.8640280888,
          622072.7078933396,
          231468.91455193402,
          88970.86402804602,
          231468.91454845725,
          622072.7078963979,
          434004.21480937325,
          622072.7078957107,
          231468.91455503774,
          434004.21480978985,
          231468.914554489,
          88970.8640280561,
          434004.21481000975,
          88970.86402802252,
          231468.91455121787,
          434004.2148086223,
          231468.91455096734,
          622072.707894682,
          88970.86402813869,
          622072.7078954768,
          434004.2148097198,
          88970.8640281389,
          434004.2147032248,
          622072.707894682,
          88970.86402813869,
          622072.7078954768,
          434004.2148097198,
          88970.8640281389,
          434004.2147032248,
          622072.7078977553,
          434004.2148093316,
          622072.7078977553,
          434004.2148093316,
          434004.2148095386,
          434004.2148095386,
          88970.8640281395,
          434004.21470322413,
          88970.8640281395,
          434004.21470322413,
          434004.2148101135,
          434004.2148101135,
          622072.7078957695,
          88970.8640280888,
          622072.7078933396
         ],
         "yaxis": "y"
        }
       ],
       "layout": {
        "barmode": "relative",
        "coloraxis": {
         "colorbar": {
          "title": {
           "text": "Failures"
          }
         },
         "colorscale": [
          [
           0,
           "#440154"
          ],
          [
           0.1111111111111111,
           "#482878"
          ],
          [
           0.2222222222222222,
           "#3e4989"
          ],
          [
           0.3333333333333333,
           "#31688e"
          ],
          [
           0.4444444444444444,
           "#26828e"
          ],
          [
           0.5555555555555556,
           "#1f9e89"
          ],
          [
           0.6666666666666666,
           "#35b779"
          ],
          [
           0.7777777777777778,
           "#6ece58"
          ],
          [
           0.8888888888888888,
           "#b5de2b"
          ],
          [
           1,
           "#fde725"
          ]
         ]
        },
        "legend": {
         "tracegroupgap": 0
        },
        "template": {
         "data": {
          "bar": [
           {
            "error_x": {
             "color": "#2a3f5f"
            },
            "error_y": {
             "color": "#2a3f5f"
            },
            "marker": {
             "line": {
              "color": "#E5ECF6",
              "width": 0.5
             },
             "pattern": {
              "fillmode": "overlay",
              "size": 10,
              "solidity": 0.2
             }
            },
            "type": "bar"
           }
          ],
          "barpolar": [
           {
            "marker": {
             "line": {
              "color": "#E5ECF6",
              "width": 0.5
             },
             "pattern": {
              "fillmode": "overlay",
              "size": 10,
              "solidity": 0.2
             }
            },
            "type": "barpolar"
           }
          ],
          "carpet": [
           {
            "aaxis": {
             "endlinecolor": "#2a3f5f",
             "gridcolor": "white",
             "linecolor": "white",
             "minorgridcolor": "white",
             "startlinecolor": "#2a3f5f"
            },
            "baxis": {
             "endlinecolor": "#2a3f5f",
             "gridcolor": "white",
             "linecolor": "white",
             "minorgridcolor": "white",
             "startlinecolor": "#2a3f5f"
            },
            "type": "carpet"
           }
          ],
          "choropleth": [
           {
            "colorbar": {
             "outlinewidth": 0,
             "ticks": ""
            },
            "type": "choropleth"
           }
          ],
          "contour": [
           {
            "colorbar": {
             "outlinewidth": 0,
             "ticks": ""
            },
            "colorscale": [
             [
              0,
              "#0d0887"
             ],
             [
              0.1111111111111111,
              "#46039f"
             ],
             [
              0.2222222222222222,
              "#7201a8"
             ],
             [
              0.3333333333333333,
              "#9c179e"
             ],
             [
              0.4444444444444444,
              "#bd3786"
             ],
             [
              0.5555555555555556,
              "#d8576b"
             ],
             [
              0.6666666666666666,
              "#ed7953"
             ],
             [
              0.7777777777777778,
              "#fb9f3a"
             ],
             [
              0.8888888888888888,
              "#fdca26"
             ],
             [
              1,
              "#f0f921"
             ]
            ],
            "type": "contour"
           }
          ],
          "contourcarpet": [
           {
            "colorbar": {
             "outlinewidth": 0,
             "ticks": ""
            },
            "type": "contourcarpet"
           }
          ],
          "heatmap": [
           {
            "colorbar": {
             "outlinewidth": 0,
             "ticks": ""
            },
            "colorscale": [
             [
              0,
              "#0d0887"
             ],
             [
              0.1111111111111111,
              "#46039f"
             ],
             [
              0.2222222222222222,
              "#7201a8"
             ],
             [
              0.3333333333333333,
              "#9c179e"
             ],
             [
              0.4444444444444444,
              "#bd3786"
             ],
             [
              0.5555555555555556,
              "#d8576b"
             ],
             [
              0.6666666666666666,
              "#ed7953"
             ],
             [
              0.7777777777777778,
              "#fb9f3a"
             ],
             [
              0.8888888888888888,
              "#fdca26"
             ],
             [
              1,
              "#f0f921"
             ]
            ],
            "type": "heatmap"
           }
          ],
          "heatmapgl": [
           {
            "colorbar": {
             "outlinewidth": 0,
             "ticks": ""
            },
            "colorscale": [
             [
              0,
              "#0d0887"
             ],
             [
              0.1111111111111111,
              "#46039f"
             ],
             [
              0.2222222222222222,
              "#7201a8"
             ],
             [
              0.3333333333333333,
              "#9c179e"
             ],
             [
              0.4444444444444444,
              "#bd3786"
             ],
             [
              0.5555555555555556,
              "#d8576b"
             ],
             [
              0.6666666666666666,
              "#ed7953"
             ],
             [
              0.7777777777777778,
              "#fb9f3a"
             ],
             [
              0.8888888888888888,
              "#fdca26"
             ],
             [
              1,
              "#f0f921"
             ]
            ],
            "type": "heatmapgl"
           }
          ],
          "histogram": [
           {
            "marker": {
             "pattern": {
              "fillmode": "overlay",
              "size": 10,
              "solidity": 0.2
             }
            },
            "type": "histogram"
           }
          ],
          "histogram2d": [
           {
            "colorbar": {
             "outlinewidth": 0,
             "ticks": ""
            },
            "colorscale": [
             [
              0,
              "#0d0887"
             ],
             [
              0.1111111111111111,
              "#46039f"
             ],
             [
              0.2222222222222222,
              "#7201a8"
             ],
             [
              0.3333333333333333,
              "#9c179e"
             ],
             [
              0.4444444444444444,
              "#bd3786"
             ],
             [
              0.5555555555555556,
              "#d8576b"
             ],
             [
              0.6666666666666666,
              "#ed7953"
             ],
             [
              0.7777777777777778,
              "#fb9f3a"
             ],
             [
              0.8888888888888888,
              "#fdca26"
             ],
             [
              1,
              "#f0f921"
             ]
            ],
            "type": "histogram2d"
           }
          ],
          "histogram2dcontour": [
           {
            "colorbar": {
             "outlinewidth": 0,
             "ticks": ""
            },
            "colorscale": [
             [
              0,
              "#0d0887"
             ],
             [
              0.1111111111111111,
              "#46039f"
             ],
             [
              0.2222222222222222,
              "#7201a8"
             ],
             [
              0.3333333333333333,
              "#9c179e"
             ],
             [
              0.4444444444444444,
              "#bd3786"
             ],
             [
              0.5555555555555556,
              "#d8576b"
             ],
             [
              0.6666666666666666,
              "#ed7953"
             ],
             [
              0.7777777777777778,
              "#fb9f3a"
             ],
             [
              0.8888888888888888,
              "#fdca26"
             ],
             [
              1,
              "#f0f921"
             ]
            ],
            "type": "histogram2dcontour"
           }
          ],
          "mesh3d": [
           {
            "colorbar": {
             "outlinewidth": 0,
             "ticks": ""
            },
            "type": "mesh3d"
           }
          ],
          "parcoords": [
           {
            "line": {
             "colorbar": {
              "outlinewidth": 0,
              "ticks": ""
             }
            },
            "type": "parcoords"
           }
          ],
          "pie": [
           {
            "automargin": true,
            "type": "pie"
           }
          ],
          "scatter": [
           {
            "fillpattern": {
             "fillmode": "overlay",
             "size": 10,
             "solidity": 0.2
            },
            "type": "scatter"
           }
          ],
          "scatter3d": [
           {
            "line": {
             "colorbar": {
              "outlinewidth": 0,
              "ticks": ""
             }
            },
            "marker": {
             "colorbar": {
              "outlinewidth": 0,
              "ticks": ""
             }
            },
            "type": "scatter3d"
           }
          ],
          "scattercarpet": [
           {
            "marker": {
             "colorbar": {
              "outlinewidth": 0,
              "ticks": ""
             }
            },
            "type": "scattercarpet"
           }
          ],
          "scattergeo": [
           {
            "marker": {
             "colorbar": {
              "outlinewidth": 0,
              "ticks": ""
             }
            },
            "type": "scattergeo"
           }
          ],
          "scattergl": [
           {
            "marker": {
             "colorbar": {
              "outlinewidth": 0,
              "ticks": ""
             }
            },
            "type": "scattergl"
           }
          ],
          "scattermapbox": [
           {
            "marker": {
             "colorbar": {
              "outlinewidth": 0,
              "ticks": ""
             }
            },
            "type": "scattermapbox"
           }
          ],
          "scatterpolar": [
           {
            "marker": {
             "colorbar": {
              "outlinewidth": 0,
              "ticks": ""
             }
            },
            "type": "scatterpolar"
           }
          ],
          "scatterpolargl": [
           {
            "marker": {
             "colorbar": {
              "outlinewidth": 0,
              "ticks": ""
             }
            },
            "type": "scatterpolargl"
           }
          ],
          "scatterternary": [
           {
            "marker": {
             "colorbar": {
              "outlinewidth": 0,
              "ticks": ""
             }
            },
            "type": "scatterternary"
           }
          ],
          "surface": [
           {
            "colorbar": {
             "outlinewidth": 0,
             "ticks": ""
            },
            "colorscale": [
             [
              0,
              "#0d0887"
             ],
             [
              0.1111111111111111,
              "#46039f"
             ],
             [
              0.2222222222222222,
              "#7201a8"
             ],
             [
              0.3333333333333333,
              "#9c179e"
             ],
             [
              0.4444444444444444,
              "#bd3786"
             ],
             [
              0.5555555555555556,
              "#d8576b"
             ],
             [
              0.6666666666666666,
              "#ed7953"
             ],
             [
              0.7777777777777778,
              "#fb9f3a"
             ],
             [
              0.8888888888888888,
              "#fdca26"
             ],
             [
              1,
              "#f0f921"
             ]
            ],
            "type": "surface"
           }
          ],
          "table": [
           {
            "cells": {
             "fill": {
              "color": "#EBF0F8"
             },
             "line": {
              "color": "white"
             }
            },
            "header": {
             "fill": {
              "color": "#C8D4E3"
             },
             "line": {
              "color": "white"
             }
            },
            "type": "table"
           }
          ]
         },
         "layout": {
          "annotationdefaults": {
           "arrowcolor": "#2a3f5f",
           "arrowhead": 0,
           "arrowwidth": 1
          },
          "autotypenumbers": "strict",
          "coloraxis": {
           "colorbar": {
            "outlinewidth": 0,
            "ticks": ""
           }
          },
          "colorscale": {
           "diverging": [
            [
             0,
             "#8e0152"
            ],
            [
             0.1,
             "#c51b7d"
            ],
            [
             0.2,
             "#de77ae"
            ],
            [
             0.3,
             "#f1b6da"
            ],
            [
             0.4,
             "#fde0ef"
            ],
            [
             0.5,
             "#f7f7f7"
            ],
            [
             0.6,
             "#e6f5d0"
            ],
            [
             0.7,
             "#b8e186"
            ],
            [
             0.8,
             "#7fbc41"
            ],
            [
             0.9,
             "#4d9221"
            ],
            [
             1,
             "#276419"
            ]
           ],
           "sequential": [
            [
             0,
             "#0d0887"
            ],
            [
             0.1111111111111111,
             "#46039f"
            ],
            [
             0.2222222222222222,
             "#7201a8"
            ],
            [
             0.3333333333333333,
             "#9c179e"
            ],
            [
             0.4444444444444444,
             "#bd3786"
            ],
            [
             0.5555555555555556,
             "#d8576b"
            ],
            [
             0.6666666666666666,
             "#ed7953"
            ],
            [
             0.7777777777777778,
             "#fb9f3a"
            ],
            [
             0.8888888888888888,
             "#fdca26"
            ],
            [
             1,
             "#f0f921"
            ]
           ],
           "sequentialminus": [
            [
             0,
             "#0d0887"
            ],
            [
             0.1111111111111111,
             "#46039f"
            ],
            [
             0.2222222222222222,
             "#7201a8"
            ],
            [
             0.3333333333333333,
             "#9c179e"
            ],
            [
             0.4444444444444444,
             "#bd3786"
            ],
            [
             0.5555555555555556,
             "#d8576b"
            ],
            [
             0.6666666666666666,
             "#ed7953"
            ],
            [
             0.7777777777777778,
             "#fb9f3a"
            ],
            [
             0.8888888888888888,
             "#fdca26"
            ],
            [
             1,
             "#f0f921"
            ]
           ]
          },
          "colorway": [
           "#636efa",
           "#EF553B",
           "#00cc96",
           "#ab63fa",
           "#FFA15A",
           "#19d3f3",
           "#FF6692",
           "#B6E880",
           "#FF97FF",
           "#FECB52"
          ],
          "font": {
           "color": "#2a3f5f"
          },
          "geo": {
           "bgcolor": "white",
           "lakecolor": "white",
           "landcolor": "#E5ECF6",
           "showlakes": true,
           "showland": true,
           "subunitcolor": "white"
          },
          "hoverlabel": {
           "align": "left"
          },
          "hovermode": "closest",
          "mapbox": {
           "style": "light"
          },
          "paper_bgcolor": "white",
          "plot_bgcolor": "#E5ECF6",
          "polar": {
           "angularaxis": {
            "gridcolor": "white",
            "linecolor": "white",
            "ticks": ""
           },
           "bgcolor": "#E5ECF6",
           "radialaxis": {
            "gridcolor": "white",
            "linecolor": "white",
            "ticks": ""
           }
          },
          "scene": {
           "xaxis": {
            "backgroundcolor": "#E5ECF6",
            "gridcolor": "white",
            "gridwidth": 2,
            "linecolor": "white",
            "showbackground": true,
            "ticks": "",
            "zerolinecolor": "white"
           },
           "yaxis": {
            "backgroundcolor": "#E5ECF6",
            "gridcolor": "white",
            "gridwidth": 2,
            "linecolor": "white",
            "showbackground": true,
            "ticks": "",
            "zerolinecolor": "white"
           },
           "zaxis": {
            "backgroundcolor": "#E5ECF6",
            "gridcolor": "white",
            "gridwidth": 2,
            "linecolor": "white",
            "showbackground": true,
            "ticks": "",
            "zerolinecolor": "white"
           }
          },
          "shapedefaults": {
           "line": {
            "color": "#2a3f5f"
           }
          },
          "ternary": {
           "aaxis": {
            "gridcolor": "white",
            "linecolor": "white",
            "ticks": ""
           },
           "baxis": {
            "gridcolor": "white",
            "linecolor": "white",
            "ticks": ""
           },
           "bgcolor": "#E5ECF6",
           "caxis": {
            "gridcolor": "white",
            "linecolor": "white",
            "ticks": ""
           }
          },
          "title": {
           "x": 0.05
          },
          "xaxis": {
           "automargin": true,
           "gridcolor": "white",
           "linecolor": "white",
           "ticks": "",
           "title": {
            "standoff": 15
           },
           "zerolinecolor": "white",
           "zerolinewidth": 2
          },
          "yaxis": {
           "automargin": true,
           "gridcolor": "white",
           "linecolor": "white",
           "ticks": "",
           "title": {
            "standoff": 15
           },
           "zerolinecolor": "white",
           "zerolinewidth": 2
          }
         }
        },
        "title": {
         "text": "Cumulative Failures at 25 Years Per Trial"
        },
        "xaxis": {
         "anchor": "y",
         "domain": [
          0,
          1
         ],
         "title": {
          "text": "Treatment Plan"
         }
        },
        "yaxis": {
         "anchor": "x",
         "domain": [
          0,
          1
         ],
         "title": {
          "text": "Number of People who Failed Treatment"
         }
        }
       }
      }
     },
     "metadata": {},
     "output_type": "display_data"
    }
   ],
   "source": [
    "# Select the row for the 25th year\n",
    "failures_at_25_years = failure_df.loc[25]\n",
    "\n",
    "# Create the plot\n",
    "fail_plot = px.bar(failures_at_25_years, x=failures_at_25_years.index, y=failures_at_25_years.values,\n",
    "                   color=failures_at_25_years.values, color_continuous_scale='viridis', title='Cumulative Failures at 25 Years Per Trial',\n",
    "                   labels={'index':'Treatment Plan', 'y':'Number of People who Failed Treatment', 'color': 'Failures'})\n",
    "fail_plot.show()"
   ]
  },
  {
   "cell_type": "markdown",
   "metadata": {},
   "source": [
    "### Find top performers"
   ]
  },
  {
   "cell_type": "code",
   "execution_count": 118,
   "metadata": {},
   "outputs": [
    {
     "name": "stdout",
     "output_type": "stream",
     "text": [
      "Treatment Plan: 1, Failure Rate: ('mesalamine', 'remicade', 'humira', 'entyvio', 'rinvoq', 'skyrizi')\n",
      "Treatment Plan: 4, Failure Rate: ('mesalamine', 'remicade', 'humira', 'rinvoq', 'entyvio', 'skyrizi')\n",
      "Treatment Plan: 7, Failure Rate: ('mesalamine', 'remicade', 'entyvio', 'humira', 'rinvoq', 'skyrizi')\n",
      "Treatment Plan: 10, Failure Rate: ('mesalamine', 'remicade', 'entyvio', 'rinvoq', 'humira', 'skyrizi')\n",
      "Treatment Plan: 18, Failure Rate: ('mesalamine', 'remicade', 'rinvoq', 'humira', 'entyvio', 'skyrizi')\n",
      "Treatment Plan: 20, Failure Rate: ('mesalamine', 'remicade', 'rinvoq', 'entyvio', 'humira', 'skyrizi')\n",
      "Treatment Plan: 25, Failure Rate: ('mesalamine', 'humira', 'remicade', 'entyvio', 'rinvoq', 'skyrizi')\n",
      "Treatment Plan: 28, Failure Rate: ('mesalamine', 'humira', 'remicade', 'rinvoq', 'entyvio', 'skyrizi')\n",
      "Treatment Plan: 31, Failure Rate: ('mesalamine', 'humira', 'entyvio', 'remicade', 'rinvoq', 'skyrizi')\n",
      "Treatment Plan: 34, Failure Rate: ('mesalamine', 'humira', 'entyvio', 'rinvoq', 'remicade', 'skyrizi')\n",
      "Treatment Plan: 42, Failure Rate: ('mesalamine', 'humira', 'rinvoq', 'remicade', 'entyvio', 'skyrizi')\n",
      "Treatment Plan: 44, Failure Rate: ('mesalamine', 'humira', 'rinvoq', 'entyvio', 'remicade', 'skyrizi')\n",
      "Treatment Plan: 49, Failure Rate: ('mesalamine', 'entyvio', 'remicade', 'humira', 'rinvoq', 'skyrizi')\n"
     ]
    },
    {
     "data": {
      "application/vnd.plotly.v1+json": {
       "config": {
        "plotlyServerURL": "https://plot.ly"
       },
       "data": [
        {
         "alignmentgroup": "True",
         "hovertemplate": "Treatment=%{marker.color}<br>Number of People who Failed Treatment=%{y}<extra></extra>",
         "legendgroup": "",
         "marker": {
          "color": [
           1,
           4,
           7,
           10,
           18,
           20,
           25,
           28,
           31,
           34,
           42,
           44,
           49
          ],
          "coloraxis": "coloraxis",
          "pattern": {
           "shape": ""
          }
         },
         "name": "",
         "offsetgroup": "",
         "orientation": "v",
         "showlegend": false,
         "text": [
          1,
          4,
          7,
          10,
          18,
          20,
          25,
          28,
          31,
          34,
          42,
          44,
          49
         ],
         "textposition": "outside",
         "texttemplate": "%{text:.2s}",
         "type": "bar",
         "x": [
          1,
          4,
          7,
          10,
          18,
          20,
          25,
          28,
          31,
          34,
          42,
          44,
          49
         ],
         "xaxis": "x",
         "y": [
          88970.8640281288,
          88970.86402811953,
          88970.8640280888,
          88970.86402804602,
          88970.8640280561,
          88970.86402802252,
          88970.86402813869,
          88970.8640281389,
          88970.86402813869,
          88970.8640281389,
          88970.8640281395,
          88970.8640281395,
          88970.8640280888
         ],
         "yaxis": "y"
        }
       ],
       "layout": {
        "barmode": "relative",
        "coloraxis": {
         "colorbar": {
          "title": {
           "text": "Treatment"
          }
         },
         "colorscale": [
          [
           0,
           "#440154"
          ],
          [
           0.1111111111111111,
           "#482878"
          ],
          [
           0.2222222222222222,
           "#3e4989"
          ],
          [
           0.3333333333333333,
           "#31688e"
          ],
          [
           0.4444444444444444,
           "#26828e"
          ],
          [
           0.5555555555555556,
           "#1f9e89"
          ],
          [
           0.6666666666666666,
           "#35b779"
          ],
          [
           0.7777777777777778,
           "#6ece58"
          ],
          [
           0.8888888888888888,
           "#b5de2b"
          ],
          [
           1,
           "#fde725"
          ]
         ]
        },
        "height": 600,
        "legend": {
         "tracegroupgap": 0
        },
        "template": {
         "data": {
          "bar": [
           {
            "error_x": {
             "color": "#2a3f5f"
            },
            "error_y": {
             "color": "#2a3f5f"
            },
            "marker": {
             "line": {
              "color": "#E5ECF6",
              "width": 0.5
             },
             "pattern": {
              "fillmode": "overlay",
              "size": 10,
              "solidity": 0.2
             }
            },
            "type": "bar"
           }
          ],
          "barpolar": [
           {
            "marker": {
             "line": {
              "color": "#E5ECF6",
              "width": 0.5
             },
             "pattern": {
              "fillmode": "overlay",
              "size": 10,
              "solidity": 0.2
             }
            },
            "type": "barpolar"
           }
          ],
          "carpet": [
           {
            "aaxis": {
             "endlinecolor": "#2a3f5f",
             "gridcolor": "white",
             "linecolor": "white",
             "minorgridcolor": "white",
             "startlinecolor": "#2a3f5f"
            },
            "baxis": {
             "endlinecolor": "#2a3f5f",
             "gridcolor": "white",
             "linecolor": "white",
             "minorgridcolor": "white",
             "startlinecolor": "#2a3f5f"
            },
            "type": "carpet"
           }
          ],
          "choropleth": [
           {
            "colorbar": {
             "outlinewidth": 0,
             "ticks": ""
            },
            "type": "choropleth"
           }
          ],
          "contour": [
           {
            "colorbar": {
             "outlinewidth": 0,
             "ticks": ""
            },
            "colorscale": [
             [
              0,
              "#0d0887"
             ],
             [
              0.1111111111111111,
              "#46039f"
             ],
             [
              0.2222222222222222,
              "#7201a8"
             ],
             [
              0.3333333333333333,
              "#9c179e"
             ],
             [
              0.4444444444444444,
              "#bd3786"
             ],
             [
              0.5555555555555556,
              "#d8576b"
             ],
             [
              0.6666666666666666,
              "#ed7953"
             ],
             [
              0.7777777777777778,
              "#fb9f3a"
             ],
             [
              0.8888888888888888,
              "#fdca26"
             ],
             [
              1,
              "#f0f921"
             ]
            ],
            "type": "contour"
           }
          ],
          "contourcarpet": [
           {
            "colorbar": {
             "outlinewidth": 0,
             "ticks": ""
            },
            "type": "contourcarpet"
           }
          ],
          "heatmap": [
           {
            "colorbar": {
             "outlinewidth": 0,
             "ticks": ""
            },
            "colorscale": [
             [
              0,
              "#0d0887"
             ],
             [
              0.1111111111111111,
              "#46039f"
             ],
             [
              0.2222222222222222,
              "#7201a8"
             ],
             [
              0.3333333333333333,
              "#9c179e"
             ],
             [
              0.4444444444444444,
              "#bd3786"
             ],
             [
              0.5555555555555556,
              "#d8576b"
             ],
             [
              0.6666666666666666,
              "#ed7953"
             ],
             [
              0.7777777777777778,
              "#fb9f3a"
             ],
             [
              0.8888888888888888,
              "#fdca26"
             ],
             [
              1,
              "#f0f921"
             ]
            ],
            "type": "heatmap"
           }
          ],
          "heatmapgl": [
           {
            "colorbar": {
             "outlinewidth": 0,
             "ticks": ""
            },
            "colorscale": [
             [
              0,
              "#0d0887"
             ],
             [
              0.1111111111111111,
              "#46039f"
             ],
             [
              0.2222222222222222,
              "#7201a8"
             ],
             [
              0.3333333333333333,
              "#9c179e"
             ],
             [
              0.4444444444444444,
              "#bd3786"
             ],
             [
              0.5555555555555556,
              "#d8576b"
             ],
             [
              0.6666666666666666,
              "#ed7953"
             ],
             [
              0.7777777777777778,
              "#fb9f3a"
             ],
             [
              0.8888888888888888,
              "#fdca26"
             ],
             [
              1,
              "#f0f921"
             ]
            ],
            "type": "heatmapgl"
           }
          ],
          "histogram": [
           {
            "marker": {
             "pattern": {
              "fillmode": "overlay",
              "size": 10,
              "solidity": 0.2
             }
            },
            "type": "histogram"
           }
          ],
          "histogram2d": [
           {
            "colorbar": {
             "outlinewidth": 0,
             "ticks": ""
            },
            "colorscale": [
             [
              0,
              "#0d0887"
             ],
             [
              0.1111111111111111,
              "#46039f"
             ],
             [
              0.2222222222222222,
              "#7201a8"
             ],
             [
              0.3333333333333333,
              "#9c179e"
             ],
             [
              0.4444444444444444,
              "#bd3786"
             ],
             [
              0.5555555555555556,
              "#d8576b"
             ],
             [
              0.6666666666666666,
              "#ed7953"
             ],
             [
              0.7777777777777778,
              "#fb9f3a"
             ],
             [
              0.8888888888888888,
              "#fdca26"
             ],
             [
              1,
              "#f0f921"
             ]
            ],
            "type": "histogram2d"
           }
          ],
          "histogram2dcontour": [
           {
            "colorbar": {
             "outlinewidth": 0,
             "ticks": ""
            },
            "colorscale": [
             [
              0,
              "#0d0887"
             ],
             [
              0.1111111111111111,
              "#46039f"
             ],
             [
              0.2222222222222222,
              "#7201a8"
             ],
             [
              0.3333333333333333,
              "#9c179e"
             ],
             [
              0.4444444444444444,
              "#bd3786"
             ],
             [
              0.5555555555555556,
              "#d8576b"
             ],
             [
              0.6666666666666666,
              "#ed7953"
             ],
             [
              0.7777777777777778,
              "#fb9f3a"
             ],
             [
              0.8888888888888888,
              "#fdca26"
             ],
             [
              1,
              "#f0f921"
             ]
            ],
            "type": "histogram2dcontour"
           }
          ],
          "mesh3d": [
           {
            "colorbar": {
             "outlinewidth": 0,
             "ticks": ""
            },
            "type": "mesh3d"
           }
          ],
          "parcoords": [
           {
            "line": {
             "colorbar": {
              "outlinewidth": 0,
              "ticks": ""
             }
            },
            "type": "parcoords"
           }
          ],
          "pie": [
           {
            "automargin": true,
            "type": "pie"
           }
          ],
          "scatter": [
           {
            "fillpattern": {
             "fillmode": "overlay",
             "size": 10,
             "solidity": 0.2
            },
            "type": "scatter"
           }
          ],
          "scatter3d": [
           {
            "line": {
             "colorbar": {
              "outlinewidth": 0,
              "ticks": ""
             }
            },
            "marker": {
             "colorbar": {
              "outlinewidth": 0,
              "ticks": ""
             }
            },
            "type": "scatter3d"
           }
          ],
          "scattercarpet": [
           {
            "marker": {
             "colorbar": {
              "outlinewidth": 0,
              "ticks": ""
             }
            },
            "type": "scattercarpet"
           }
          ],
          "scattergeo": [
           {
            "marker": {
             "colorbar": {
              "outlinewidth": 0,
              "ticks": ""
             }
            },
            "type": "scattergeo"
           }
          ],
          "scattergl": [
           {
            "marker": {
             "colorbar": {
              "outlinewidth": 0,
              "ticks": ""
             }
            },
            "type": "scattergl"
           }
          ],
          "scattermapbox": [
           {
            "marker": {
             "colorbar": {
              "outlinewidth": 0,
              "ticks": ""
             }
            },
            "type": "scattermapbox"
           }
          ],
          "scatterpolar": [
           {
            "marker": {
             "colorbar": {
              "outlinewidth": 0,
              "ticks": ""
             }
            },
            "type": "scatterpolar"
           }
          ],
          "scatterpolargl": [
           {
            "marker": {
             "colorbar": {
              "outlinewidth": 0,
              "ticks": ""
             }
            },
            "type": "scatterpolargl"
           }
          ],
          "scatterternary": [
           {
            "marker": {
             "colorbar": {
              "outlinewidth": 0,
              "ticks": ""
             }
            },
            "type": "scatterternary"
           }
          ],
          "surface": [
           {
            "colorbar": {
             "outlinewidth": 0,
             "ticks": ""
            },
            "colorscale": [
             [
              0,
              "#0d0887"
             ],
             [
              0.1111111111111111,
              "#46039f"
             ],
             [
              0.2222222222222222,
              "#7201a8"
             ],
             [
              0.3333333333333333,
              "#9c179e"
             ],
             [
              0.4444444444444444,
              "#bd3786"
             ],
             [
              0.5555555555555556,
              "#d8576b"
             ],
             [
              0.6666666666666666,
              "#ed7953"
             ],
             [
              0.7777777777777778,
              "#fb9f3a"
             ],
             [
              0.8888888888888888,
              "#fdca26"
             ],
             [
              1,
              "#f0f921"
             ]
            ],
            "type": "surface"
           }
          ],
          "table": [
           {
            "cells": {
             "fill": {
              "color": "#EBF0F8"
             },
             "line": {
              "color": "white"
             }
            },
            "header": {
             "fill": {
              "color": "#C8D4E3"
             },
             "line": {
              "color": "white"
             }
            },
            "type": "table"
           }
          ]
         },
         "layout": {
          "annotationdefaults": {
           "arrowcolor": "#2a3f5f",
           "arrowhead": 0,
           "arrowwidth": 1
          },
          "autotypenumbers": "strict",
          "coloraxis": {
           "colorbar": {
            "outlinewidth": 0,
            "ticks": ""
           }
          },
          "colorscale": {
           "diverging": [
            [
             0,
             "#8e0152"
            ],
            [
             0.1,
             "#c51b7d"
            ],
            [
             0.2,
             "#de77ae"
            ],
            [
             0.3,
             "#f1b6da"
            ],
            [
             0.4,
             "#fde0ef"
            ],
            [
             0.5,
             "#f7f7f7"
            ],
            [
             0.6,
             "#e6f5d0"
            ],
            [
             0.7,
             "#b8e186"
            ],
            [
             0.8,
             "#7fbc41"
            ],
            [
             0.9,
             "#4d9221"
            ],
            [
             1,
             "#276419"
            ]
           ],
           "sequential": [
            [
             0,
             "#0d0887"
            ],
            [
             0.1111111111111111,
             "#46039f"
            ],
            [
             0.2222222222222222,
             "#7201a8"
            ],
            [
             0.3333333333333333,
             "#9c179e"
            ],
            [
             0.4444444444444444,
             "#bd3786"
            ],
            [
             0.5555555555555556,
             "#d8576b"
            ],
            [
             0.6666666666666666,
             "#ed7953"
            ],
            [
             0.7777777777777778,
             "#fb9f3a"
            ],
            [
             0.8888888888888888,
             "#fdca26"
            ],
            [
             1,
             "#f0f921"
            ]
           ],
           "sequentialminus": [
            [
             0,
             "#0d0887"
            ],
            [
             0.1111111111111111,
             "#46039f"
            ],
            [
             0.2222222222222222,
             "#7201a8"
            ],
            [
             0.3333333333333333,
             "#9c179e"
            ],
            [
             0.4444444444444444,
             "#bd3786"
            ],
            [
             0.5555555555555556,
             "#d8576b"
            ],
            [
             0.6666666666666666,
             "#ed7953"
            ],
            [
             0.7777777777777778,
             "#fb9f3a"
            ],
            [
             0.8888888888888888,
             "#fdca26"
            ],
            [
             1,
             "#f0f921"
            ]
           ]
          },
          "colorway": [
           "#636efa",
           "#EF553B",
           "#00cc96",
           "#ab63fa",
           "#FFA15A",
           "#19d3f3",
           "#FF6692",
           "#B6E880",
           "#FF97FF",
           "#FECB52"
          ],
          "font": {
           "color": "#2a3f5f"
          },
          "geo": {
           "bgcolor": "white",
           "lakecolor": "white",
           "landcolor": "#E5ECF6",
           "showlakes": true,
           "showland": true,
           "subunitcolor": "white"
          },
          "hoverlabel": {
           "align": "left"
          },
          "hovermode": "closest",
          "mapbox": {
           "style": "light"
          },
          "paper_bgcolor": "white",
          "plot_bgcolor": "#E5ECF6",
          "polar": {
           "angularaxis": {
            "gridcolor": "white",
            "linecolor": "white",
            "ticks": ""
           },
           "bgcolor": "#E5ECF6",
           "radialaxis": {
            "gridcolor": "white",
            "linecolor": "white",
            "ticks": ""
           }
          },
          "scene": {
           "xaxis": {
            "backgroundcolor": "#E5ECF6",
            "gridcolor": "white",
            "gridwidth": 2,
            "linecolor": "white",
            "showbackground": true,
            "ticks": "",
            "zerolinecolor": "white"
           },
           "yaxis": {
            "backgroundcolor": "#E5ECF6",
            "gridcolor": "white",
            "gridwidth": 2,
            "linecolor": "white",
            "showbackground": true,
            "ticks": "",
            "zerolinecolor": "white"
           },
           "zaxis": {
            "backgroundcolor": "#E5ECF6",
            "gridcolor": "white",
            "gridwidth": 2,
            "linecolor": "white",
            "showbackground": true,
            "ticks": "",
            "zerolinecolor": "white"
           }
          },
          "shapedefaults": {
           "line": {
            "color": "#2a3f5f"
           }
          },
          "ternary": {
           "aaxis": {
            "gridcolor": "white",
            "linecolor": "white",
            "ticks": ""
           },
           "baxis": {
            "gridcolor": "white",
            "linecolor": "white",
            "ticks": ""
           },
           "bgcolor": "#E5ECF6",
           "caxis": {
            "gridcolor": "white",
            "linecolor": "white",
            "ticks": ""
           }
          },
          "title": {
           "x": 0.05
          },
          "xaxis": {
           "automargin": true,
           "gridcolor": "white",
           "linecolor": "white",
           "ticks": "",
           "title": {
            "standoff": 15
           },
           "zerolinecolor": "white",
           "zerolinewidth": 2
          },
          "yaxis": {
           "automargin": true,
           "gridcolor": "white",
           "linecolor": "white",
           "ticks": "",
           "title": {
            "standoff": 15
           },
           "zerolinecolor": "white",
           "zerolinewidth": 2
          }
         }
        },
        "title": {
         "text": "Cumulative Failures of Best Performers"
        },
        "xaxis": {
         "anchor": "y",
         "domain": [
          0,
          1
         ],
         "title": {
          "text": "Treatment"
         }
        },
        "yaxis": {
         "anchor": "x",
         "domain": [
          0,
          1
         ],
         "title": {
          "text": "Number of People who Failed Treatment"
         }
        }
       }
      }
     },
     "metadata": {},
     "output_type": "display_data"
    }
   ],
   "source": [
    "# Filter the failures under 100k\n",
    "best_performers = failures_at_25_years[failures_at_25_years < 100000]\n",
    "\n",
    "best_performing = {key: value for key, value in treatments.items() if key in best_performers.index}\n",
    "for treatment, failure_rate in best_performing.items():\n",
    "    print(f'Treatment Plan: {treatment}, Failure Rate: {failure_rate}')\n",
    "\n",
    "# Create the plot\n",
    "# Create the plot\n",
    "fail_plot = px.bar(best_performers, x=best_performers.index, y=best_performers.values,\n",
    "                   color=best_performers.index, color_continuous_scale= 'viridis', title='Cumulative Failures of Best Performers',\n",
    "                   labels={'index':'Treatment', 'y':'Number of People who Failed Treatment'},\n",
    "                   text=best_performers.index)\n",
    "fail_plot.update_traces(texttemplate='%{text:.2s}', textposition='outside')\n",
    "fail_plot.update_layout(height=600) \n",
    "fail_plot.show()"
   ]
  },
  {
   "cell_type": "markdown",
   "metadata": {},
   "source": [
    "### Find Bottom Performers"
   ]
  },
  {
   "cell_type": "code",
   "execution_count": 119,
   "metadata": {},
   "outputs": [
    {
     "name": "stdout",
     "output_type": "stream",
     "text": [
      "Treatment Plan: 0, Failure Rate: ('mesalamine', 'remicade', 'humira', 'entyvio', 'skyrizi', 'rinvoq')\n",
      "Treatment Plan: 2, Failure Rate: ('mesalamine', 'remicade', 'humira', 'skyrizi', 'entyvio', 'rinvoq')\n",
      "Treatment Plan: 6, Failure Rate: ('mesalamine', 'remicade', 'entyvio', 'humira', 'skyrizi', 'rinvoq')\n",
      "Treatment Plan: 8, Failure Rate: ('mesalamine', 'remicade', 'entyvio', 'skyrizi', 'humira', 'rinvoq')\n",
      "Treatment Plan: 12, Failure Rate: ('mesalamine', 'remicade', 'skyrizi', 'humira', 'entyvio', 'rinvoq')\n",
      "Treatment Plan: 14, Failure Rate: ('mesalamine', 'remicade', 'skyrizi', 'entyvio', 'humira', 'rinvoq')\n",
      "Treatment Plan: 24, Failure Rate: ('mesalamine', 'humira', 'remicade', 'entyvio', 'skyrizi', 'rinvoq')\n",
      "Treatment Plan: 26, Failure Rate: ('mesalamine', 'humira', 'remicade', 'skyrizi', 'entyvio', 'rinvoq')\n",
      "Treatment Plan: 30, Failure Rate: ('mesalamine', 'humira', 'entyvio', 'remicade', 'skyrizi', 'rinvoq')\n",
      "Treatment Plan: 32, Failure Rate: ('mesalamine', 'humira', 'entyvio', 'skyrizi', 'remicade', 'rinvoq')\n",
      "Treatment Plan: 36, Failure Rate: ('mesalamine', 'humira', 'skyrizi', 'remicade', 'entyvio', 'rinvoq')\n",
      "Treatment Plan: 38, Failure Rate: ('mesalamine', 'humira', 'skyrizi', 'entyvio', 'remicade', 'rinvoq')\n",
      "Treatment Plan: 48, Failure Rate: ('mesalamine', 'entyvio', 'remicade', 'humira', 'skyrizi', 'rinvoq')\n",
      "Treatment Plan: 50, Failure Rate: ('mesalamine', 'entyvio', 'remicade', 'skyrizi', 'humira', 'rinvoq')\n"
     ]
    },
    {
     "data": {
      "application/vnd.plotly.v1+json": {
       "config": {
        "plotlyServerURL": "https://plot.ly"
       },
       "data": [
        {
         "alignmentgroup": "True",
         "hovertemplate": "Treatment=%{marker.color}<br>Number of People who Failed Treatment=%{y}<extra></extra>",
         "legendgroup": "",
         "marker": {
          "color": [
           0,
           2,
           6,
           8,
           12,
           14,
           24,
           26,
           30,
           32,
           36,
           38,
           48,
           50
          ],
          "coloraxis": "coloraxis",
          "pattern": {
           "shape": ""
          }
         },
         "name": "",
         "offsetgroup": "",
         "orientation": "v",
         "showlegend": false,
         "text": [
          0,
          2,
          6,
          8,
          12,
          14,
          24,
          26,
          30,
          32,
          36,
          38,
          48,
          50
         ],
         "textposition": "outside",
         "type": "bar",
         "x": [
          0,
          2,
          6,
          8,
          12,
          14,
          24,
          26,
          30,
          32,
          36,
          38,
          48,
          50
         ],
         "xaxis": "x",
         "y": [
          622072.7078934722,
          622072.707894603,
          622072.7078957695,
          622072.7078933396,
          622072.7078963979,
          622072.7078957107,
          622072.707894682,
          622072.7078954768,
          622072.707894682,
          622072.7078954768,
          622072.7078977553,
          622072.7078977553,
          622072.7078957695,
          622072.7078933396
         ],
         "yaxis": "y"
        }
       ],
       "layout": {
        "barmode": "relative",
        "coloraxis": {
         "colorbar": {
          "title": {
           "text": "Treatment"
          }
         },
         "colorscale": [
          [
           0,
           "#440154"
          ],
          [
           0.1111111111111111,
           "#482878"
          ],
          [
           0.2222222222222222,
           "#3e4989"
          ],
          [
           0.3333333333333333,
           "#31688e"
          ],
          [
           0.4444444444444444,
           "#26828e"
          ],
          [
           0.5555555555555556,
           "#1f9e89"
          ],
          [
           0.6666666666666666,
           "#35b779"
          ],
          [
           0.7777777777777778,
           "#6ece58"
          ],
          [
           0.8888888888888888,
           "#b5de2b"
          ],
          [
           1,
           "#fde725"
          ]
         ]
        },
        "height": 600,
        "legend": {
         "tracegroupgap": 0
        },
        "template": {
         "data": {
          "bar": [
           {
            "error_x": {
             "color": "#2a3f5f"
            },
            "error_y": {
             "color": "#2a3f5f"
            },
            "marker": {
             "line": {
              "color": "#E5ECF6",
              "width": 0.5
             },
             "pattern": {
              "fillmode": "overlay",
              "size": 10,
              "solidity": 0.2
             }
            },
            "type": "bar"
           }
          ],
          "barpolar": [
           {
            "marker": {
             "line": {
              "color": "#E5ECF6",
              "width": 0.5
             },
             "pattern": {
              "fillmode": "overlay",
              "size": 10,
              "solidity": 0.2
             }
            },
            "type": "barpolar"
           }
          ],
          "carpet": [
           {
            "aaxis": {
             "endlinecolor": "#2a3f5f",
             "gridcolor": "white",
             "linecolor": "white",
             "minorgridcolor": "white",
             "startlinecolor": "#2a3f5f"
            },
            "baxis": {
             "endlinecolor": "#2a3f5f",
             "gridcolor": "white",
             "linecolor": "white",
             "minorgridcolor": "white",
             "startlinecolor": "#2a3f5f"
            },
            "type": "carpet"
           }
          ],
          "choropleth": [
           {
            "colorbar": {
             "outlinewidth": 0,
             "ticks": ""
            },
            "type": "choropleth"
           }
          ],
          "contour": [
           {
            "colorbar": {
             "outlinewidth": 0,
             "ticks": ""
            },
            "colorscale": [
             [
              0,
              "#0d0887"
             ],
             [
              0.1111111111111111,
              "#46039f"
             ],
             [
              0.2222222222222222,
              "#7201a8"
             ],
             [
              0.3333333333333333,
              "#9c179e"
             ],
             [
              0.4444444444444444,
              "#bd3786"
             ],
             [
              0.5555555555555556,
              "#d8576b"
             ],
             [
              0.6666666666666666,
              "#ed7953"
             ],
             [
              0.7777777777777778,
              "#fb9f3a"
             ],
             [
              0.8888888888888888,
              "#fdca26"
             ],
             [
              1,
              "#f0f921"
             ]
            ],
            "type": "contour"
           }
          ],
          "contourcarpet": [
           {
            "colorbar": {
             "outlinewidth": 0,
             "ticks": ""
            },
            "type": "contourcarpet"
           }
          ],
          "heatmap": [
           {
            "colorbar": {
             "outlinewidth": 0,
             "ticks": ""
            },
            "colorscale": [
             [
              0,
              "#0d0887"
             ],
             [
              0.1111111111111111,
              "#46039f"
             ],
             [
              0.2222222222222222,
              "#7201a8"
             ],
             [
              0.3333333333333333,
              "#9c179e"
             ],
             [
              0.4444444444444444,
              "#bd3786"
             ],
             [
              0.5555555555555556,
              "#d8576b"
             ],
             [
              0.6666666666666666,
              "#ed7953"
             ],
             [
              0.7777777777777778,
              "#fb9f3a"
             ],
             [
              0.8888888888888888,
              "#fdca26"
             ],
             [
              1,
              "#f0f921"
             ]
            ],
            "type": "heatmap"
           }
          ],
          "heatmapgl": [
           {
            "colorbar": {
             "outlinewidth": 0,
             "ticks": ""
            },
            "colorscale": [
             [
              0,
              "#0d0887"
             ],
             [
              0.1111111111111111,
              "#46039f"
             ],
             [
              0.2222222222222222,
              "#7201a8"
             ],
             [
              0.3333333333333333,
              "#9c179e"
             ],
             [
              0.4444444444444444,
              "#bd3786"
             ],
             [
              0.5555555555555556,
              "#d8576b"
             ],
             [
              0.6666666666666666,
              "#ed7953"
             ],
             [
              0.7777777777777778,
              "#fb9f3a"
             ],
             [
              0.8888888888888888,
              "#fdca26"
             ],
             [
              1,
              "#f0f921"
             ]
            ],
            "type": "heatmapgl"
           }
          ],
          "histogram": [
           {
            "marker": {
             "pattern": {
              "fillmode": "overlay",
              "size": 10,
              "solidity": 0.2
             }
            },
            "type": "histogram"
           }
          ],
          "histogram2d": [
           {
            "colorbar": {
             "outlinewidth": 0,
             "ticks": ""
            },
            "colorscale": [
             [
              0,
              "#0d0887"
             ],
             [
              0.1111111111111111,
              "#46039f"
             ],
             [
              0.2222222222222222,
              "#7201a8"
             ],
             [
              0.3333333333333333,
              "#9c179e"
             ],
             [
              0.4444444444444444,
              "#bd3786"
             ],
             [
              0.5555555555555556,
              "#d8576b"
             ],
             [
              0.6666666666666666,
              "#ed7953"
             ],
             [
              0.7777777777777778,
              "#fb9f3a"
             ],
             [
              0.8888888888888888,
              "#fdca26"
             ],
             [
              1,
              "#f0f921"
             ]
            ],
            "type": "histogram2d"
           }
          ],
          "histogram2dcontour": [
           {
            "colorbar": {
             "outlinewidth": 0,
             "ticks": ""
            },
            "colorscale": [
             [
              0,
              "#0d0887"
             ],
             [
              0.1111111111111111,
              "#46039f"
             ],
             [
              0.2222222222222222,
              "#7201a8"
             ],
             [
              0.3333333333333333,
              "#9c179e"
             ],
             [
              0.4444444444444444,
              "#bd3786"
             ],
             [
              0.5555555555555556,
              "#d8576b"
             ],
             [
              0.6666666666666666,
              "#ed7953"
             ],
             [
              0.7777777777777778,
              "#fb9f3a"
             ],
             [
              0.8888888888888888,
              "#fdca26"
             ],
             [
              1,
              "#f0f921"
             ]
            ],
            "type": "histogram2dcontour"
           }
          ],
          "mesh3d": [
           {
            "colorbar": {
             "outlinewidth": 0,
             "ticks": ""
            },
            "type": "mesh3d"
           }
          ],
          "parcoords": [
           {
            "line": {
             "colorbar": {
              "outlinewidth": 0,
              "ticks": ""
             }
            },
            "type": "parcoords"
           }
          ],
          "pie": [
           {
            "automargin": true,
            "type": "pie"
           }
          ],
          "scatter": [
           {
            "fillpattern": {
             "fillmode": "overlay",
             "size": 10,
             "solidity": 0.2
            },
            "type": "scatter"
           }
          ],
          "scatter3d": [
           {
            "line": {
             "colorbar": {
              "outlinewidth": 0,
              "ticks": ""
             }
            },
            "marker": {
             "colorbar": {
              "outlinewidth": 0,
              "ticks": ""
             }
            },
            "type": "scatter3d"
           }
          ],
          "scattercarpet": [
           {
            "marker": {
             "colorbar": {
              "outlinewidth": 0,
              "ticks": ""
             }
            },
            "type": "scattercarpet"
           }
          ],
          "scattergeo": [
           {
            "marker": {
             "colorbar": {
              "outlinewidth": 0,
              "ticks": ""
             }
            },
            "type": "scattergeo"
           }
          ],
          "scattergl": [
           {
            "marker": {
             "colorbar": {
              "outlinewidth": 0,
              "ticks": ""
             }
            },
            "type": "scattergl"
           }
          ],
          "scattermapbox": [
           {
            "marker": {
             "colorbar": {
              "outlinewidth": 0,
              "ticks": ""
             }
            },
            "type": "scattermapbox"
           }
          ],
          "scatterpolar": [
           {
            "marker": {
             "colorbar": {
              "outlinewidth": 0,
              "ticks": ""
             }
            },
            "type": "scatterpolar"
           }
          ],
          "scatterpolargl": [
           {
            "marker": {
             "colorbar": {
              "outlinewidth": 0,
              "ticks": ""
             }
            },
            "type": "scatterpolargl"
           }
          ],
          "scatterternary": [
           {
            "marker": {
             "colorbar": {
              "outlinewidth": 0,
              "ticks": ""
             }
            },
            "type": "scatterternary"
           }
          ],
          "surface": [
           {
            "colorbar": {
             "outlinewidth": 0,
             "ticks": ""
            },
            "colorscale": [
             [
              0,
              "#0d0887"
             ],
             [
              0.1111111111111111,
              "#46039f"
             ],
             [
              0.2222222222222222,
              "#7201a8"
             ],
             [
              0.3333333333333333,
              "#9c179e"
             ],
             [
              0.4444444444444444,
              "#bd3786"
             ],
             [
              0.5555555555555556,
              "#d8576b"
             ],
             [
              0.6666666666666666,
              "#ed7953"
             ],
             [
              0.7777777777777778,
              "#fb9f3a"
             ],
             [
              0.8888888888888888,
              "#fdca26"
             ],
             [
              1,
              "#f0f921"
             ]
            ],
            "type": "surface"
           }
          ],
          "table": [
           {
            "cells": {
             "fill": {
              "color": "#EBF0F8"
             },
             "line": {
              "color": "white"
             }
            },
            "header": {
             "fill": {
              "color": "#C8D4E3"
             },
             "line": {
              "color": "white"
             }
            },
            "type": "table"
           }
          ]
         },
         "layout": {
          "annotationdefaults": {
           "arrowcolor": "#2a3f5f",
           "arrowhead": 0,
           "arrowwidth": 1
          },
          "autotypenumbers": "strict",
          "coloraxis": {
           "colorbar": {
            "outlinewidth": 0,
            "ticks": ""
           }
          },
          "colorscale": {
           "diverging": [
            [
             0,
             "#8e0152"
            ],
            [
             0.1,
             "#c51b7d"
            ],
            [
             0.2,
             "#de77ae"
            ],
            [
             0.3,
             "#f1b6da"
            ],
            [
             0.4,
             "#fde0ef"
            ],
            [
             0.5,
             "#f7f7f7"
            ],
            [
             0.6,
             "#e6f5d0"
            ],
            [
             0.7,
             "#b8e186"
            ],
            [
             0.8,
             "#7fbc41"
            ],
            [
             0.9,
             "#4d9221"
            ],
            [
             1,
             "#276419"
            ]
           ],
           "sequential": [
            [
             0,
             "#0d0887"
            ],
            [
             0.1111111111111111,
             "#46039f"
            ],
            [
             0.2222222222222222,
             "#7201a8"
            ],
            [
             0.3333333333333333,
             "#9c179e"
            ],
            [
             0.4444444444444444,
             "#bd3786"
            ],
            [
             0.5555555555555556,
             "#d8576b"
            ],
            [
             0.6666666666666666,
             "#ed7953"
            ],
            [
             0.7777777777777778,
             "#fb9f3a"
            ],
            [
             0.8888888888888888,
             "#fdca26"
            ],
            [
             1,
             "#f0f921"
            ]
           ],
           "sequentialminus": [
            [
             0,
             "#0d0887"
            ],
            [
             0.1111111111111111,
             "#46039f"
            ],
            [
             0.2222222222222222,
             "#7201a8"
            ],
            [
             0.3333333333333333,
             "#9c179e"
            ],
            [
             0.4444444444444444,
             "#bd3786"
            ],
            [
             0.5555555555555556,
             "#d8576b"
            ],
            [
             0.6666666666666666,
             "#ed7953"
            ],
            [
             0.7777777777777778,
             "#fb9f3a"
            ],
            [
             0.8888888888888888,
             "#fdca26"
            ],
            [
             1,
             "#f0f921"
            ]
           ]
          },
          "colorway": [
           "#636efa",
           "#EF553B",
           "#00cc96",
           "#ab63fa",
           "#FFA15A",
           "#19d3f3",
           "#FF6692",
           "#B6E880",
           "#FF97FF",
           "#FECB52"
          ],
          "font": {
           "color": "#2a3f5f"
          },
          "geo": {
           "bgcolor": "white",
           "lakecolor": "white",
           "landcolor": "#E5ECF6",
           "showlakes": true,
           "showland": true,
           "subunitcolor": "white"
          },
          "hoverlabel": {
           "align": "left"
          },
          "hovermode": "closest",
          "mapbox": {
           "style": "light"
          },
          "paper_bgcolor": "white",
          "plot_bgcolor": "#E5ECF6",
          "polar": {
           "angularaxis": {
            "gridcolor": "white",
            "linecolor": "white",
            "ticks": ""
           },
           "bgcolor": "#E5ECF6",
           "radialaxis": {
            "gridcolor": "white",
            "linecolor": "white",
            "ticks": ""
           }
          },
          "scene": {
           "xaxis": {
            "backgroundcolor": "#E5ECF6",
            "gridcolor": "white",
            "gridwidth": 2,
            "linecolor": "white",
            "showbackground": true,
            "ticks": "",
            "zerolinecolor": "white"
           },
           "yaxis": {
            "backgroundcolor": "#E5ECF6",
            "gridcolor": "white",
            "gridwidth": 2,
            "linecolor": "white",
            "showbackground": true,
            "ticks": "",
            "zerolinecolor": "white"
           },
           "zaxis": {
            "backgroundcolor": "#E5ECF6",
            "gridcolor": "white",
            "gridwidth": 2,
            "linecolor": "white",
            "showbackground": true,
            "ticks": "",
            "zerolinecolor": "white"
           }
          },
          "shapedefaults": {
           "line": {
            "color": "#2a3f5f"
           }
          },
          "ternary": {
           "aaxis": {
            "gridcolor": "white",
            "linecolor": "white",
            "ticks": ""
           },
           "baxis": {
            "gridcolor": "white",
            "linecolor": "white",
            "ticks": ""
           },
           "bgcolor": "#E5ECF6",
           "caxis": {
            "gridcolor": "white",
            "linecolor": "white",
            "ticks": ""
           }
          },
          "title": {
           "x": 0.05
          },
          "xaxis": {
           "automargin": true,
           "gridcolor": "white",
           "linecolor": "white",
           "ticks": "",
           "title": {
            "standoff": 15
           },
           "zerolinecolor": "white",
           "zerolinewidth": 2
          },
          "yaxis": {
           "automargin": true,
           "gridcolor": "white",
           "linecolor": "white",
           "ticks": "",
           "title": {
            "standoff": 15
           },
           "zerolinecolor": "white",
           "zerolinewidth": 2
          }
         }
        },
        "title": {
         "text": "Cumulative Failures of Worst Performers"
        },
        "xaxis": {
         "anchor": "y",
         "domain": [
          0,
          1
         ],
         "title": {
          "text": "Treatment"
         }
        },
        "yaxis": {
         "anchor": "x",
         "domain": [
          0,
          1
         ],
         "title": {
          "text": "Number of People who Failed Treatment"
         }
        }
       }
      }
     },
     "metadata": {},
     "output_type": "display_data"
    }
   ],
   "source": [
    "# Filter the failures above 500k\n",
    "worst_performers = failures_at_25_years[failures_at_25_years > 500000]\n",
    "\n",
    "worst_performing = {key: value for key, value in treatments.items() if key in worst_performers.index}\n",
    "for treatment, failure_rate in worst_performing.items():\n",
    "    print(f'Treatment Plan: {treatment}, Failure Rate: {failure_rate}')\n",
    "\n",
    "# Plot\n",
    "fail_plot = px.bar(worst_performers, x=worst_performers.index, y=worst_performers.values,\n",
    "                   color=worst_performers.index, color_continuous_scale= 'viridis', title='Cumulative Failures of Worst Performers',\n",
    "                   labels={'index':'Treatment', 'y':'Number of People who Failed Treatment'},\n",
    "                   text=worst_performers.index)\n",
    "fail_plot.update_traces(textposition='outside')\n",
    "fail_plot.update_layout(height=600)\n",
    "fail_plot.show()"
   ]
  },
  {
   "cell_type": "markdown",
   "metadata": {},
   "source": [
    "### Find Middle Performers"
   ]
  },
  {
   "cell_type": "code",
   "execution_count": 120,
   "metadata": {},
   "outputs": [
    {
     "name": "stdout",
     "output_type": "stream",
     "text": [
      "Treatment Plan: 3, Failure Rate: ('mesalamine', 'remicade', 'humira', 'skyrizi', 'rinvoq', 'entyvio')\n",
      "Treatment Plan: 5, Failure Rate: ('mesalamine', 'remicade', 'humira', 'rinvoq', 'skyrizi', 'entyvio')\n",
      "Treatment Plan: 9, Failure Rate: ('mesalamine', 'remicade', 'entyvio', 'skyrizi', 'rinvoq', 'humira')\n",
      "Treatment Plan: 11, Failure Rate: ('mesalamine', 'remicade', 'entyvio', 'rinvoq', 'skyrizi', 'humira')\n",
      "Treatment Plan: 13, Failure Rate: ('mesalamine', 'remicade', 'skyrizi', 'humira', 'rinvoq', 'entyvio')\n",
      "Treatment Plan: 15, Failure Rate: ('mesalamine', 'remicade', 'skyrizi', 'entyvio', 'rinvoq', 'humira')\n",
      "Treatment Plan: 16, Failure Rate: ('mesalamine', 'remicade', 'skyrizi', 'rinvoq', 'humira', 'entyvio')\n",
      "Treatment Plan: 17, Failure Rate: ('mesalamine', 'remicade', 'skyrizi', 'rinvoq', 'entyvio', 'humira')\n",
      "Treatment Plan: 19, Failure Rate: ('mesalamine', 'remicade', 'rinvoq', 'humira', 'skyrizi', 'entyvio')\n",
      "Treatment Plan: 21, Failure Rate: ('mesalamine', 'remicade', 'rinvoq', 'entyvio', 'skyrizi', 'humira')\n",
      "Treatment Plan: 22, Failure Rate: ('mesalamine', 'remicade', 'rinvoq', 'skyrizi', 'humira', 'entyvio')\n",
      "Treatment Plan: 23, Failure Rate: ('mesalamine', 'remicade', 'rinvoq', 'skyrizi', 'entyvio', 'humira')\n",
      "Treatment Plan: 27, Failure Rate: ('mesalamine', 'humira', 'remicade', 'skyrizi', 'rinvoq', 'entyvio')\n",
      "Treatment Plan: 29, Failure Rate: ('mesalamine', 'humira', 'remicade', 'rinvoq', 'skyrizi', 'entyvio')\n",
      "Treatment Plan: 33, Failure Rate: ('mesalamine', 'humira', 'entyvio', 'skyrizi', 'rinvoq', 'remicade')\n",
      "Treatment Plan: 35, Failure Rate: ('mesalamine', 'humira', 'entyvio', 'rinvoq', 'skyrizi', 'remicade')\n",
      "Treatment Plan: 37, Failure Rate: ('mesalamine', 'humira', 'skyrizi', 'remicade', 'rinvoq', 'entyvio')\n",
      "Treatment Plan: 39, Failure Rate: ('mesalamine', 'humira', 'skyrizi', 'entyvio', 'rinvoq', 'remicade')\n",
      "Treatment Plan: 40, Failure Rate: ('mesalamine', 'humira', 'skyrizi', 'rinvoq', 'remicade', 'entyvio')\n",
      "Treatment Plan: 41, Failure Rate: ('mesalamine', 'humira', 'skyrizi', 'rinvoq', 'entyvio', 'remicade')\n",
      "Treatment Plan: 43, Failure Rate: ('mesalamine', 'humira', 'rinvoq', 'remicade', 'skyrizi', 'entyvio')\n",
      "Treatment Plan: 45, Failure Rate: ('mesalamine', 'humira', 'rinvoq', 'entyvio', 'skyrizi', 'remicade')\n",
      "Treatment Plan: 46, Failure Rate: ('mesalamine', 'humira', 'rinvoq', 'skyrizi', 'remicade', 'entyvio')\n",
      "Treatment Plan: 47, Failure Rate: ('mesalamine', 'humira', 'rinvoq', 'skyrizi', 'entyvio', 'remicade')\n"
     ]
    },
    {
     "data": {
      "application/vnd.plotly.v1+json": {
       "config": {
        "plotlyServerURL": "https://plot.ly"
       },
       "data": [
        {
         "alignmentgroup": "True",
         "hovertemplate": "Treatment=%{marker.color}<br>Number of People who Failed Treatment=%{y}<extra></extra>",
         "legendgroup": "",
         "marker": {
          "color": [
           3,
           5,
           9,
           11,
           13,
           15,
           16,
           17,
           19,
           21,
           22,
           23,
           27,
           29,
           33,
           35,
           37,
           39,
           40,
           41,
           43,
           45,
           46,
           47
          ],
          "coloraxis": "coloraxis",
          "pattern": {
           "shape": ""
          }
         },
         "name": "",
         "offsetgroup": "",
         "orientation": "v",
         "showlegend": false,
         "text": [
          3,
          5,
          9,
          11,
          13,
          15,
          16,
          17,
          19,
          21,
          22,
          23,
          27,
          29,
          33,
          35,
          37,
          39,
          40,
          41,
          43,
          45,
          46,
          47
         ],
         "textposition": "outside",
         "type": "bar",
         "x": [
          3,
          5,
          9,
          11,
          13,
          15,
          16,
          17,
          19,
          21,
          22,
          23,
          27,
          29,
          33,
          35,
          37,
          39,
          40,
          41,
          43,
          45,
          46,
          47
         ],
         "xaxis": "x",
         "y": [
          434004.21480999666,
          434004.2148008975,
          231468.91455193402,
          231468.91454845725,
          434004.21480937325,
          231468.91455503774,
          434004.21480978985,
          231468.914554489,
          434004.21481000975,
          231468.91455121787,
          434004.2148086223,
          231468.91455096734,
          434004.2148097198,
          434004.2147032248,
          434004.2148097198,
          434004.2147032248,
          434004.2148093316,
          434004.2148093316,
          434004.2148095386,
          434004.2148095386,
          434004.21470322413,
          434004.21470322413,
          434004.2148101135,
          434004.2148101135
         ],
         "yaxis": "y"
        }
       ],
       "layout": {
        "barmode": "relative",
        "coloraxis": {
         "colorbar": {
          "title": {
           "text": "Treatment"
          }
         },
         "colorscale": [
          [
           0,
           "#440154"
          ],
          [
           0.1111111111111111,
           "#482878"
          ],
          [
           0.2222222222222222,
           "#3e4989"
          ],
          [
           0.3333333333333333,
           "#31688e"
          ],
          [
           0.4444444444444444,
           "#26828e"
          ],
          [
           0.5555555555555556,
           "#1f9e89"
          ],
          [
           0.6666666666666666,
           "#35b779"
          ],
          [
           0.7777777777777778,
           "#6ece58"
          ],
          [
           0.8888888888888888,
           "#b5de2b"
          ],
          [
           1,
           "#fde725"
          ]
         ]
        },
        "height": 600,
        "legend": {
         "tracegroupgap": 0
        },
        "template": {
         "data": {
          "bar": [
           {
            "error_x": {
             "color": "#2a3f5f"
            },
            "error_y": {
             "color": "#2a3f5f"
            },
            "marker": {
             "line": {
              "color": "#E5ECF6",
              "width": 0.5
             },
             "pattern": {
              "fillmode": "overlay",
              "size": 10,
              "solidity": 0.2
             }
            },
            "type": "bar"
           }
          ],
          "barpolar": [
           {
            "marker": {
             "line": {
              "color": "#E5ECF6",
              "width": 0.5
             },
             "pattern": {
              "fillmode": "overlay",
              "size": 10,
              "solidity": 0.2
             }
            },
            "type": "barpolar"
           }
          ],
          "carpet": [
           {
            "aaxis": {
             "endlinecolor": "#2a3f5f",
             "gridcolor": "white",
             "linecolor": "white",
             "minorgridcolor": "white",
             "startlinecolor": "#2a3f5f"
            },
            "baxis": {
             "endlinecolor": "#2a3f5f",
             "gridcolor": "white",
             "linecolor": "white",
             "minorgridcolor": "white",
             "startlinecolor": "#2a3f5f"
            },
            "type": "carpet"
           }
          ],
          "choropleth": [
           {
            "colorbar": {
             "outlinewidth": 0,
             "ticks": ""
            },
            "type": "choropleth"
           }
          ],
          "contour": [
           {
            "colorbar": {
             "outlinewidth": 0,
             "ticks": ""
            },
            "colorscale": [
             [
              0,
              "#0d0887"
             ],
             [
              0.1111111111111111,
              "#46039f"
             ],
             [
              0.2222222222222222,
              "#7201a8"
             ],
             [
              0.3333333333333333,
              "#9c179e"
             ],
             [
              0.4444444444444444,
              "#bd3786"
             ],
             [
              0.5555555555555556,
              "#d8576b"
             ],
             [
              0.6666666666666666,
              "#ed7953"
             ],
             [
              0.7777777777777778,
              "#fb9f3a"
             ],
             [
              0.8888888888888888,
              "#fdca26"
             ],
             [
              1,
              "#f0f921"
             ]
            ],
            "type": "contour"
           }
          ],
          "contourcarpet": [
           {
            "colorbar": {
             "outlinewidth": 0,
             "ticks": ""
            },
            "type": "contourcarpet"
           }
          ],
          "heatmap": [
           {
            "colorbar": {
             "outlinewidth": 0,
             "ticks": ""
            },
            "colorscale": [
             [
              0,
              "#0d0887"
             ],
             [
              0.1111111111111111,
              "#46039f"
             ],
             [
              0.2222222222222222,
              "#7201a8"
             ],
             [
              0.3333333333333333,
              "#9c179e"
             ],
             [
              0.4444444444444444,
              "#bd3786"
             ],
             [
              0.5555555555555556,
              "#d8576b"
             ],
             [
              0.6666666666666666,
              "#ed7953"
             ],
             [
              0.7777777777777778,
              "#fb9f3a"
             ],
             [
              0.8888888888888888,
              "#fdca26"
             ],
             [
              1,
              "#f0f921"
             ]
            ],
            "type": "heatmap"
           }
          ],
          "heatmapgl": [
           {
            "colorbar": {
             "outlinewidth": 0,
             "ticks": ""
            },
            "colorscale": [
             [
              0,
              "#0d0887"
             ],
             [
              0.1111111111111111,
              "#46039f"
             ],
             [
              0.2222222222222222,
              "#7201a8"
             ],
             [
              0.3333333333333333,
              "#9c179e"
             ],
             [
              0.4444444444444444,
              "#bd3786"
             ],
             [
              0.5555555555555556,
              "#d8576b"
             ],
             [
              0.6666666666666666,
              "#ed7953"
             ],
             [
              0.7777777777777778,
              "#fb9f3a"
             ],
             [
              0.8888888888888888,
              "#fdca26"
             ],
             [
              1,
              "#f0f921"
             ]
            ],
            "type": "heatmapgl"
           }
          ],
          "histogram": [
           {
            "marker": {
             "pattern": {
              "fillmode": "overlay",
              "size": 10,
              "solidity": 0.2
             }
            },
            "type": "histogram"
           }
          ],
          "histogram2d": [
           {
            "colorbar": {
             "outlinewidth": 0,
             "ticks": ""
            },
            "colorscale": [
             [
              0,
              "#0d0887"
             ],
             [
              0.1111111111111111,
              "#46039f"
             ],
             [
              0.2222222222222222,
              "#7201a8"
             ],
             [
              0.3333333333333333,
              "#9c179e"
             ],
             [
              0.4444444444444444,
              "#bd3786"
             ],
             [
              0.5555555555555556,
              "#d8576b"
             ],
             [
              0.6666666666666666,
              "#ed7953"
             ],
             [
              0.7777777777777778,
              "#fb9f3a"
             ],
             [
              0.8888888888888888,
              "#fdca26"
             ],
             [
              1,
              "#f0f921"
             ]
            ],
            "type": "histogram2d"
           }
          ],
          "histogram2dcontour": [
           {
            "colorbar": {
             "outlinewidth": 0,
             "ticks": ""
            },
            "colorscale": [
             [
              0,
              "#0d0887"
             ],
             [
              0.1111111111111111,
              "#46039f"
             ],
             [
              0.2222222222222222,
              "#7201a8"
             ],
             [
              0.3333333333333333,
              "#9c179e"
             ],
             [
              0.4444444444444444,
              "#bd3786"
             ],
             [
              0.5555555555555556,
              "#d8576b"
             ],
             [
              0.6666666666666666,
              "#ed7953"
             ],
             [
              0.7777777777777778,
              "#fb9f3a"
             ],
             [
              0.8888888888888888,
              "#fdca26"
             ],
             [
              1,
              "#f0f921"
             ]
            ],
            "type": "histogram2dcontour"
           }
          ],
          "mesh3d": [
           {
            "colorbar": {
             "outlinewidth": 0,
             "ticks": ""
            },
            "type": "mesh3d"
           }
          ],
          "parcoords": [
           {
            "line": {
             "colorbar": {
              "outlinewidth": 0,
              "ticks": ""
             }
            },
            "type": "parcoords"
           }
          ],
          "pie": [
           {
            "automargin": true,
            "type": "pie"
           }
          ],
          "scatter": [
           {
            "fillpattern": {
             "fillmode": "overlay",
             "size": 10,
             "solidity": 0.2
            },
            "type": "scatter"
           }
          ],
          "scatter3d": [
           {
            "line": {
             "colorbar": {
              "outlinewidth": 0,
              "ticks": ""
             }
            },
            "marker": {
             "colorbar": {
              "outlinewidth": 0,
              "ticks": ""
             }
            },
            "type": "scatter3d"
           }
          ],
          "scattercarpet": [
           {
            "marker": {
             "colorbar": {
              "outlinewidth": 0,
              "ticks": ""
             }
            },
            "type": "scattercarpet"
           }
          ],
          "scattergeo": [
           {
            "marker": {
             "colorbar": {
              "outlinewidth": 0,
              "ticks": ""
             }
            },
            "type": "scattergeo"
           }
          ],
          "scattergl": [
           {
            "marker": {
             "colorbar": {
              "outlinewidth": 0,
              "ticks": ""
             }
            },
            "type": "scattergl"
           }
          ],
          "scattermapbox": [
           {
            "marker": {
             "colorbar": {
              "outlinewidth": 0,
              "ticks": ""
             }
            },
            "type": "scattermapbox"
           }
          ],
          "scatterpolar": [
           {
            "marker": {
             "colorbar": {
              "outlinewidth": 0,
              "ticks": ""
             }
            },
            "type": "scatterpolar"
           }
          ],
          "scatterpolargl": [
           {
            "marker": {
             "colorbar": {
              "outlinewidth": 0,
              "ticks": ""
             }
            },
            "type": "scatterpolargl"
           }
          ],
          "scatterternary": [
           {
            "marker": {
             "colorbar": {
              "outlinewidth": 0,
              "ticks": ""
             }
            },
            "type": "scatterternary"
           }
          ],
          "surface": [
           {
            "colorbar": {
             "outlinewidth": 0,
             "ticks": ""
            },
            "colorscale": [
             [
              0,
              "#0d0887"
             ],
             [
              0.1111111111111111,
              "#46039f"
             ],
             [
              0.2222222222222222,
              "#7201a8"
             ],
             [
              0.3333333333333333,
              "#9c179e"
             ],
             [
              0.4444444444444444,
              "#bd3786"
             ],
             [
              0.5555555555555556,
              "#d8576b"
             ],
             [
              0.6666666666666666,
              "#ed7953"
             ],
             [
              0.7777777777777778,
              "#fb9f3a"
             ],
             [
              0.8888888888888888,
              "#fdca26"
             ],
             [
              1,
              "#f0f921"
             ]
            ],
            "type": "surface"
           }
          ],
          "table": [
           {
            "cells": {
             "fill": {
              "color": "#EBF0F8"
             },
             "line": {
              "color": "white"
             }
            },
            "header": {
             "fill": {
              "color": "#C8D4E3"
             },
             "line": {
              "color": "white"
             }
            },
            "type": "table"
           }
          ]
         },
         "layout": {
          "annotationdefaults": {
           "arrowcolor": "#2a3f5f",
           "arrowhead": 0,
           "arrowwidth": 1
          },
          "autotypenumbers": "strict",
          "coloraxis": {
           "colorbar": {
            "outlinewidth": 0,
            "ticks": ""
           }
          },
          "colorscale": {
           "diverging": [
            [
             0,
             "#8e0152"
            ],
            [
             0.1,
             "#c51b7d"
            ],
            [
             0.2,
             "#de77ae"
            ],
            [
             0.3,
             "#f1b6da"
            ],
            [
             0.4,
             "#fde0ef"
            ],
            [
             0.5,
             "#f7f7f7"
            ],
            [
             0.6,
             "#e6f5d0"
            ],
            [
             0.7,
             "#b8e186"
            ],
            [
             0.8,
             "#7fbc41"
            ],
            [
             0.9,
             "#4d9221"
            ],
            [
             1,
             "#276419"
            ]
           ],
           "sequential": [
            [
             0,
             "#0d0887"
            ],
            [
             0.1111111111111111,
             "#46039f"
            ],
            [
             0.2222222222222222,
             "#7201a8"
            ],
            [
             0.3333333333333333,
             "#9c179e"
            ],
            [
             0.4444444444444444,
             "#bd3786"
            ],
            [
             0.5555555555555556,
             "#d8576b"
            ],
            [
             0.6666666666666666,
             "#ed7953"
            ],
            [
             0.7777777777777778,
             "#fb9f3a"
            ],
            [
             0.8888888888888888,
             "#fdca26"
            ],
            [
             1,
             "#f0f921"
            ]
           ],
           "sequentialminus": [
            [
             0,
             "#0d0887"
            ],
            [
             0.1111111111111111,
             "#46039f"
            ],
            [
             0.2222222222222222,
             "#7201a8"
            ],
            [
             0.3333333333333333,
             "#9c179e"
            ],
            [
             0.4444444444444444,
             "#bd3786"
            ],
            [
             0.5555555555555556,
             "#d8576b"
            ],
            [
             0.6666666666666666,
             "#ed7953"
            ],
            [
             0.7777777777777778,
             "#fb9f3a"
            ],
            [
             0.8888888888888888,
             "#fdca26"
            ],
            [
             1,
             "#f0f921"
            ]
           ]
          },
          "colorway": [
           "#636efa",
           "#EF553B",
           "#00cc96",
           "#ab63fa",
           "#FFA15A",
           "#19d3f3",
           "#FF6692",
           "#B6E880",
           "#FF97FF",
           "#FECB52"
          ],
          "font": {
           "color": "#2a3f5f"
          },
          "geo": {
           "bgcolor": "white",
           "lakecolor": "white",
           "landcolor": "#E5ECF6",
           "showlakes": true,
           "showland": true,
           "subunitcolor": "white"
          },
          "hoverlabel": {
           "align": "left"
          },
          "hovermode": "closest",
          "mapbox": {
           "style": "light"
          },
          "paper_bgcolor": "white",
          "plot_bgcolor": "#E5ECF6",
          "polar": {
           "angularaxis": {
            "gridcolor": "white",
            "linecolor": "white",
            "ticks": ""
           },
           "bgcolor": "#E5ECF6",
           "radialaxis": {
            "gridcolor": "white",
            "linecolor": "white",
            "ticks": ""
           }
          },
          "scene": {
           "xaxis": {
            "backgroundcolor": "#E5ECF6",
            "gridcolor": "white",
            "gridwidth": 2,
            "linecolor": "white",
            "showbackground": true,
            "ticks": "",
            "zerolinecolor": "white"
           },
           "yaxis": {
            "backgroundcolor": "#E5ECF6",
            "gridcolor": "white",
            "gridwidth": 2,
            "linecolor": "white",
            "showbackground": true,
            "ticks": "",
            "zerolinecolor": "white"
           },
           "zaxis": {
            "backgroundcolor": "#E5ECF6",
            "gridcolor": "white",
            "gridwidth": 2,
            "linecolor": "white",
            "showbackground": true,
            "ticks": "",
            "zerolinecolor": "white"
           }
          },
          "shapedefaults": {
           "line": {
            "color": "#2a3f5f"
           }
          },
          "ternary": {
           "aaxis": {
            "gridcolor": "white",
            "linecolor": "white",
            "ticks": ""
           },
           "baxis": {
            "gridcolor": "white",
            "linecolor": "white",
            "ticks": ""
           },
           "bgcolor": "#E5ECF6",
           "caxis": {
            "gridcolor": "white",
            "linecolor": "white",
            "ticks": ""
           }
          },
          "title": {
           "x": 0.05
          },
          "xaxis": {
           "automargin": true,
           "gridcolor": "white",
           "linecolor": "white",
           "ticks": "",
           "title": {
            "standoff": 15
           },
           "zerolinecolor": "white",
           "zerolinewidth": 2
          },
          "yaxis": {
           "automargin": true,
           "gridcolor": "white",
           "linecolor": "white",
           "ticks": "",
           "title": {
            "standoff": 15
           },
           "zerolinecolor": "white",
           "zerolinewidth": 2
          }
         }
        },
        "title": {
         "text": "Cumulative Failures of Middle Performers"
        },
        "xaxis": {
         "anchor": "y",
         "domain": [
          0,
          1
         ],
         "title": {
          "text": "Treatment"
         }
        },
        "yaxis": {
         "anchor": "x",
         "domain": [
          0,
          1
         ],
         "title": {
          "text": "Number of People who Failed Treatment"
         }
        }
       }
      }
     },
     "metadata": {},
     "output_type": "display_data"
    }
   ],
   "source": [
    "# Filter the failures under above 100K but below 500K\n",
    "failures_in_between = failures_at_25_years[(failures_at_25_years < 500000) & (failures_at_25_years > 100000)]\n",
    "\n",
    "treatments_in_between = {key: value for key, value in treatments.items() if key in failures_in_between.index}\n",
    "for treatment, failure_rate in treatments_in_between.items():\n",
    "    print(f'Treatment Plan: {treatment}, Failure Rate: {failure_rate}')\n",
    "\n",
    "# Create the plot\n",
    "fail_plot = px.bar(failures_in_between, x=failures_in_between.index, y=failures_in_between.values,\n",
    "                   color=failures_in_between.index, color_continuous_scale= 'viridis', title='Cumulative Failures of Middle Performers',\n",
    "                   labels={'index':'Treatment', 'y':'Number of People who Failed Treatment'},\n",
    "                   text=failures_in_between.index)\n",
    "fail_plot.update_traces(textposition='outside')\n",
    "fail_plot.update_layout(height=600)\n",
    "fail_plot.show()"
   ]
  },
  {
   "cell_type": "markdown",
   "metadata": {},
   "source": [
    "### Plot All Performers"
   ]
  },
  {
   "cell_type": "code",
   "execution_count": 121,
   "metadata": {},
   "outputs": [
    {
     "data": {
      "application/vnd.plotly.v1+json": {
       "config": {
        "plotlyServerURL": "https://plot.ly"
       },
       "data": [
        {
         "hovertemplate": "Treatment Category=Worst Performers<br>Year=%{x}<br>Failure Rate=%{y}<extra></extra>",
         "legendgroup": "Worst Performers",
         "line": {
          "color": "#636efa",
          "dash": "solid"
         },
         "marker": {
          "symbol": "circle"
         },
         "mode": "lines",
         "name": "Worst Performers",
         "orientation": "v",
         "showlegend": true,
         "type": "scatter",
         "x": [
          1,
          2,
          3,
          4,
          5,
          6,
          7,
          8,
          9,
          10,
          11,
          12,
          13,
          14,
          15,
          16,
          17,
          18,
          19,
          20,
          21,
          22,
          23,
          24,
          25
         ],
         "xaxis": "x",
         "y": [
          0,
          3.2873333237363674e-11,
          1.5214899786120486e-9,
          1.4941364317115687e-8,
          7.651848851731348e-8,
          2.727796297284671e-7,
          7.714418446298915e-7,
          0.0000018572988953412305,
          0.000003971916371545447,
          0.000007756087232931063,
          0.000014094126210246766,
          0.000024159196374669086,
          0.00003945896503919471,
          0.00006188097998432046,
          0.0000937372417316249,
          0.0001378075239438096,
          0.00019738106259546242,
          0.0002762962963782189,
          0.00037897839609185384,
          0.0005104743702991074,
          0.0006764855787568811,
          0.000883397524552607,
          0.0011383068308896468,
          0.0014490453395513943,
          0.0018242012952469926
         ],
         "yaxis": "y"
        },
        {
         "hovertemplate": "Treatment Category=Best Performers<br>Year=%{x}<br>Failure Rate=%{y}<extra></extra>",
         "legendgroup": "Best Performers",
         "line": {
          "color": "#EF553B",
          "dash": "solid"
         },
         "marker": {
          "symbol": "circle"
         },
         "mode": "lines",
         "name": "Best Performers",
         "orientation": "v",
         "showlegend": true,
         "type": "scatter",
         "x": [
          1,
          2,
          3,
          4,
          5,
          6,
          7,
          8,
          9,
          10,
          11,
          12,
          13,
          14,
          15,
          16,
          17,
          18,
          19,
          20,
          21,
          22,
          23,
          24,
          25
         ],
         "xaxis": "x",
         "y": [
          0,
          4.701638788526639e-12,
          2.1760844125043597e-10,
          2.1369625781115143e-9,
          1.0943923351233599e-8,
          3.9013830788795376e-8,
          1.1033412440854709e-7,
          2.6563693448287663e-7,
          5.680764108185256e-7,
          0.0000011093008485239733,
          0.000002015787818686072,
          0.0000034553269235977627,
          0.000005643549650298159,
          0.000008850419227355855,
          0.000013406605499494778,
          0.000019709680746089324,
          0.00002823008220467473,
          0.00003951679587386142,
          0.00005420272408892443,
          0.00007300970644657883,
          0.00009675316998201665,
          0.00012634639013678185,
          0.00016280434906660053,
          0.00020724718227580386,
          0.0002609032084833885
         ],
         "yaxis": "y"
        },
        {
         "hovertemplate": "Treatment Category=Middle Performers 1<br>Year=%{x}<br>Failure Rate=%{y}<extra></extra>",
         "legendgroup": "Middle Performers 1",
         "line": {
          "color": "#00cc96",
          "dash": "solid"
         },
         "marker": {
          "symbol": "circle"
         },
         "mode": "lines",
         "name": "Middle Performers 1",
         "orientation": "v",
         "showlegend": true,
         "type": "scatter",
         "x": [
          1,
          2,
          3,
          4,
          5,
          6,
          7,
          8,
          9,
          10,
          11,
          12,
          13,
          14,
          15,
          16,
          17,
          18,
          19,
          20,
          21,
          22,
          23,
          24,
          25
         ],
         "xaxis": "x",
         "y": [
          0,
          2.2934848908824527e-11,
          1.0615046169522777e-9,
          1.0424207649421561e-8,
          5.338499197403128e-8,
          1.9031136960095111e-7,
          5.38215240203391e-7,
          0.0000012957899267283772,
          0.0000027711044453386933,
          0.00000541122365098086,
          0.000009833111309573069,
          0.000016855253284733892,
          0.00002752951049168638,
          0.00004317277672923114,
          0.00006539807562229307,
          0.00009614478414354816,
          0.00013770771808788073,
          0.00019276485793739566,
          0.00026440353215699807,
          0.00035614490951098066,
          0.00047196668285226924,
          0.0006163238543365832,
          0.0007941675564322432,
          0.0010109618647831965,
          0.0012726985780810492
         ],
         "yaxis": "y"
        },
        {
         "hovertemplate": "Treatment Category=Middle Performers 2<br>Year=%{x}<br>Failure Rate=%{y}<extra></extra>",
         "legendgroup": "Middle Performers 2",
         "line": {
          "color": "#ab63fa",
          "dash": "solid"
         },
         "marker": {
          "symbol": "circle"
         },
         "mode": "lines",
         "name": "Middle Performers 2",
         "orientation": "v",
         "showlegend": true,
         "type": "scatter",
         "x": [
          1,
          2,
          3,
          4,
          5,
          6,
          7,
          8,
          9,
          10,
          11,
          12,
          13,
          14,
          15,
          16,
          17,
          18,
          19,
          20,
          21,
          22,
          23,
          24,
          25
         ],
         "xaxis": "x",
         "y": [
          0,
          1.2231919367575577e-11,
          5.661357926970344e-10,
          5.559577432870954e-9,
          2.8471995715183534e-8,
          1.0149939718973668e-7,
          2.870481282820405e-7,
          6.910879603932508e-7,
          0.0000014779223707870316,
          0.000002885985947335156,
          0.000005244326031914463,
          0.000008989468418695001,
          0.00001468240559380364,
          0.00002302548091904895,
          0.00003487897366261539,
          0.000051277218207141955,
          0.00007344411631027716,
          0.00010280792422953926,
          0.00014101521714625947,
          0.00018994395173497304,
          0.0002517155641846094,
          0.0003287060556439335,
          0.0004235560300955646,
          0.0005391796612087517,
          0.0006787725749372718
         ],
         "yaxis": "y"
        }
       ],
       "layout": {
        "legend": {
         "title": {
          "text": "Treatment Category"
         },
         "tracegroupgap": 0
        },
        "template": {
         "data": {
          "bar": [
           {
            "error_x": {
             "color": "#2a3f5f"
            },
            "error_y": {
             "color": "#2a3f5f"
            },
            "marker": {
             "line": {
              "color": "#E5ECF6",
              "width": 0.5
             },
             "pattern": {
              "fillmode": "overlay",
              "size": 10,
              "solidity": 0.2
             }
            },
            "type": "bar"
           }
          ],
          "barpolar": [
           {
            "marker": {
             "line": {
              "color": "#E5ECF6",
              "width": 0.5
             },
             "pattern": {
              "fillmode": "overlay",
              "size": 10,
              "solidity": 0.2
             }
            },
            "type": "barpolar"
           }
          ],
          "carpet": [
           {
            "aaxis": {
             "endlinecolor": "#2a3f5f",
             "gridcolor": "white",
             "linecolor": "white",
             "minorgridcolor": "white",
             "startlinecolor": "#2a3f5f"
            },
            "baxis": {
             "endlinecolor": "#2a3f5f",
             "gridcolor": "white",
             "linecolor": "white",
             "minorgridcolor": "white",
             "startlinecolor": "#2a3f5f"
            },
            "type": "carpet"
           }
          ],
          "choropleth": [
           {
            "colorbar": {
             "outlinewidth": 0,
             "ticks": ""
            },
            "type": "choropleth"
           }
          ],
          "contour": [
           {
            "colorbar": {
             "outlinewidth": 0,
             "ticks": ""
            },
            "colorscale": [
             [
              0,
              "#0d0887"
             ],
             [
              0.1111111111111111,
              "#46039f"
             ],
             [
              0.2222222222222222,
              "#7201a8"
             ],
             [
              0.3333333333333333,
              "#9c179e"
             ],
             [
              0.4444444444444444,
              "#bd3786"
             ],
             [
              0.5555555555555556,
              "#d8576b"
             ],
             [
              0.6666666666666666,
              "#ed7953"
             ],
             [
              0.7777777777777778,
              "#fb9f3a"
             ],
             [
              0.8888888888888888,
              "#fdca26"
             ],
             [
              1,
              "#f0f921"
             ]
            ],
            "type": "contour"
           }
          ],
          "contourcarpet": [
           {
            "colorbar": {
             "outlinewidth": 0,
             "ticks": ""
            },
            "type": "contourcarpet"
           }
          ],
          "heatmap": [
           {
            "colorbar": {
             "outlinewidth": 0,
             "ticks": ""
            },
            "colorscale": [
             [
              0,
              "#0d0887"
             ],
             [
              0.1111111111111111,
              "#46039f"
             ],
             [
              0.2222222222222222,
              "#7201a8"
             ],
             [
              0.3333333333333333,
              "#9c179e"
             ],
             [
              0.4444444444444444,
              "#bd3786"
             ],
             [
              0.5555555555555556,
              "#d8576b"
             ],
             [
              0.6666666666666666,
              "#ed7953"
             ],
             [
              0.7777777777777778,
              "#fb9f3a"
             ],
             [
              0.8888888888888888,
              "#fdca26"
             ],
             [
              1,
              "#f0f921"
             ]
            ],
            "type": "heatmap"
           }
          ],
          "heatmapgl": [
           {
            "colorbar": {
             "outlinewidth": 0,
             "ticks": ""
            },
            "colorscale": [
             [
              0,
              "#0d0887"
             ],
             [
              0.1111111111111111,
              "#46039f"
             ],
             [
              0.2222222222222222,
              "#7201a8"
             ],
             [
              0.3333333333333333,
              "#9c179e"
             ],
             [
              0.4444444444444444,
              "#bd3786"
             ],
             [
              0.5555555555555556,
              "#d8576b"
             ],
             [
              0.6666666666666666,
              "#ed7953"
             ],
             [
              0.7777777777777778,
              "#fb9f3a"
             ],
             [
              0.8888888888888888,
              "#fdca26"
             ],
             [
              1,
              "#f0f921"
             ]
            ],
            "type": "heatmapgl"
           }
          ],
          "histogram": [
           {
            "marker": {
             "pattern": {
              "fillmode": "overlay",
              "size": 10,
              "solidity": 0.2
             }
            },
            "type": "histogram"
           }
          ],
          "histogram2d": [
           {
            "colorbar": {
             "outlinewidth": 0,
             "ticks": ""
            },
            "colorscale": [
             [
              0,
              "#0d0887"
             ],
             [
              0.1111111111111111,
              "#46039f"
             ],
             [
              0.2222222222222222,
              "#7201a8"
             ],
             [
              0.3333333333333333,
              "#9c179e"
             ],
             [
              0.4444444444444444,
              "#bd3786"
             ],
             [
              0.5555555555555556,
              "#d8576b"
             ],
             [
              0.6666666666666666,
              "#ed7953"
             ],
             [
              0.7777777777777778,
              "#fb9f3a"
             ],
             [
              0.8888888888888888,
              "#fdca26"
             ],
             [
              1,
              "#f0f921"
             ]
            ],
            "type": "histogram2d"
           }
          ],
          "histogram2dcontour": [
           {
            "colorbar": {
             "outlinewidth": 0,
             "ticks": ""
            },
            "colorscale": [
             [
              0,
              "#0d0887"
             ],
             [
              0.1111111111111111,
              "#46039f"
             ],
             [
              0.2222222222222222,
              "#7201a8"
             ],
             [
              0.3333333333333333,
              "#9c179e"
             ],
             [
              0.4444444444444444,
              "#bd3786"
             ],
             [
              0.5555555555555556,
              "#d8576b"
             ],
             [
              0.6666666666666666,
              "#ed7953"
             ],
             [
              0.7777777777777778,
              "#fb9f3a"
             ],
             [
              0.8888888888888888,
              "#fdca26"
             ],
             [
              1,
              "#f0f921"
             ]
            ],
            "type": "histogram2dcontour"
           }
          ],
          "mesh3d": [
           {
            "colorbar": {
             "outlinewidth": 0,
             "ticks": ""
            },
            "type": "mesh3d"
           }
          ],
          "parcoords": [
           {
            "line": {
             "colorbar": {
              "outlinewidth": 0,
              "ticks": ""
             }
            },
            "type": "parcoords"
           }
          ],
          "pie": [
           {
            "automargin": true,
            "type": "pie"
           }
          ],
          "scatter": [
           {
            "fillpattern": {
             "fillmode": "overlay",
             "size": 10,
             "solidity": 0.2
            },
            "type": "scatter"
           }
          ],
          "scatter3d": [
           {
            "line": {
             "colorbar": {
              "outlinewidth": 0,
              "ticks": ""
             }
            },
            "marker": {
             "colorbar": {
              "outlinewidth": 0,
              "ticks": ""
             }
            },
            "type": "scatter3d"
           }
          ],
          "scattercarpet": [
           {
            "marker": {
             "colorbar": {
              "outlinewidth": 0,
              "ticks": ""
             }
            },
            "type": "scattercarpet"
           }
          ],
          "scattergeo": [
           {
            "marker": {
             "colorbar": {
              "outlinewidth": 0,
              "ticks": ""
             }
            },
            "type": "scattergeo"
           }
          ],
          "scattergl": [
           {
            "marker": {
             "colorbar": {
              "outlinewidth": 0,
              "ticks": ""
             }
            },
            "type": "scattergl"
           }
          ],
          "scattermapbox": [
           {
            "marker": {
             "colorbar": {
              "outlinewidth": 0,
              "ticks": ""
             }
            },
            "type": "scattermapbox"
           }
          ],
          "scatterpolar": [
           {
            "marker": {
             "colorbar": {
              "outlinewidth": 0,
              "ticks": ""
             }
            },
            "type": "scatterpolar"
           }
          ],
          "scatterpolargl": [
           {
            "marker": {
             "colorbar": {
              "outlinewidth": 0,
              "ticks": ""
             }
            },
            "type": "scatterpolargl"
           }
          ],
          "scatterternary": [
           {
            "marker": {
             "colorbar": {
              "outlinewidth": 0,
              "ticks": ""
             }
            },
            "type": "scatterternary"
           }
          ],
          "surface": [
           {
            "colorbar": {
             "outlinewidth": 0,
             "ticks": ""
            },
            "colorscale": [
             [
              0,
              "#0d0887"
             ],
             [
              0.1111111111111111,
              "#46039f"
             ],
             [
              0.2222222222222222,
              "#7201a8"
             ],
             [
              0.3333333333333333,
              "#9c179e"
             ],
             [
              0.4444444444444444,
              "#bd3786"
             ],
             [
              0.5555555555555556,
              "#d8576b"
             ],
             [
              0.6666666666666666,
              "#ed7953"
             ],
             [
              0.7777777777777778,
              "#fb9f3a"
             ],
             [
              0.8888888888888888,
              "#fdca26"
             ],
             [
              1,
              "#f0f921"
             ]
            ],
            "type": "surface"
           }
          ],
          "table": [
           {
            "cells": {
             "fill": {
              "color": "#EBF0F8"
             },
             "line": {
              "color": "white"
             }
            },
            "header": {
             "fill": {
              "color": "#C8D4E3"
             },
             "line": {
              "color": "white"
             }
            },
            "type": "table"
           }
          ]
         },
         "layout": {
          "annotationdefaults": {
           "arrowcolor": "#2a3f5f",
           "arrowhead": 0,
           "arrowwidth": 1
          },
          "autotypenumbers": "strict",
          "coloraxis": {
           "colorbar": {
            "outlinewidth": 0,
            "ticks": ""
           }
          },
          "colorscale": {
           "diverging": [
            [
             0,
             "#8e0152"
            ],
            [
             0.1,
             "#c51b7d"
            ],
            [
             0.2,
             "#de77ae"
            ],
            [
             0.3,
             "#f1b6da"
            ],
            [
             0.4,
             "#fde0ef"
            ],
            [
             0.5,
             "#f7f7f7"
            ],
            [
             0.6,
             "#e6f5d0"
            ],
            [
             0.7,
             "#b8e186"
            ],
            [
             0.8,
             "#7fbc41"
            ],
            [
             0.9,
             "#4d9221"
            ],
            [
             1,
             "#276419"
            ]
           ],
           "sequential": [
            [
             0,
             "#0d0887"
            ],
            [
             0.1111111111111111,
             "#46039f"
            ],
            [
             0.2222222222222222,
             "#7201a8"
            ],
            [
             0.3333333333333333,
             "#9c179e"
            ],
            [
             0.4444444444444444,
             "#bd3786"
            ],
            [
             0.5555555555555556,
             "#d8576b"
            ],
            [
             0.6666666666666666,
             "#ed7953"
            ],
            [
             0.7777777777777778,
             "#fb9f3a"
            ],
            [
             0.8888888888888888,
             "#fdca26"
            ],
            [
             1,
             "#f0f921"
            ]
           ],
           "sequentialminus": [
            [
             0,
             "#0d0887"
            ],
            [
             0.1111111111111111,
             "#46039f"
            ],
            [
             0.2222222222222222,
             "#7201a8"
            ],
            [
             0.3333333333333333,
             "#9c179e"
            ],
            [
             0.4444444444444444,
             "#bd3786"
            ],
            [
             0.5555555555555556,
             "#d8576b"
            ],
            [
             0.6666666666666666,
             "#ed7953"
            ],
            [
             0.7777777777777778,
             "#fb9f3a"
            ],
            [
             0.8888888888888888,
             "#fdca26"
            ],
            [
             1,
             "#f0f921"
            ]
           ]
          },
          "colorway": [
           "#636efa",
           "#EF553B",
           "#00cc96",
           "#ab63fa",
           "#FFA15A",
           "#19d3f3",
           "#FF6692",
           "#B6E880",
           "#FF97FF",
           "#FECB52"
          ],
          "font": {
           "color": "#2a3f5f"
          },
          "geo": {
           "bgcolor": "white",
           "lakecolor": "white",
           "landcolor": "#E5ECF6",
           "showlakes": true,
           "showland": true,
           "subunitcolor": "white"
          },
          "hoverlabel": {
           "align": "left"
          },
          "hovermode": "closest",
          "mapbox": {
           "style": "light"
          },
          "paper_bgcolor": "white",
          "plot_bgcolor": "#E5ECF6",
          "polar": {
           "angularaxis": {
            "gridcolor": "white",
            "linecolor": "white",
            "ticks": ""
           },
           "bgcolor": "#E5ECF6",
           "radialaxis": {
            "gridcolor": "white",
            "linecolor": "white",
            "ticks": ""
           }
          },
          "scene": {
           "xaxis": {
            "backgroundcolor": "#E5ECF6",
            "gridcolor": "white",
            "gridwidth": 2,
            "linecolor": "white",
            "showbackground": true,
            "ticks": "",
            "zerolinecolor": "white"
           },
           "yaxis": {
            "backgroundcolor": "#E5ECF6",
            "gridcolor": "white",
            "gridwidth": 2,
            "linecolor": "white",
            "showbackground": true,
            "ticks": "",
            "zerolinecolor": "white"
           },
           "zaxis": {
            "backgroundcolor": "#E5ECF6",
            "gridcolor": "white",
            "gridwidth": 2,
            "linecolor": "white",
            "showbackground": true,
            "ticks": "",
            "zerolinecolor": "white"
           }
          },
          "shapedefaults": {
           "line": {
            "color": "#2a3f5f"
           }
          },
          "ternary": {
           "aaxis": {
            "gridcolor": "white",
            "linecolor": "white",
            "ticks": ""
           },
           "baxis": {
            "gridcolor": "white",
            "linecolor": "white",
            "ticks": ""
           },
           "bgcolor": "#E5ECF6",
           "caxis": {
            "gridcolor": "white",
            "linecolor": "white",
            "ticks": ""
           }
          },
          "title": {
           "x": 0.05
          },
          "xaxis": {
           "automargin": true,
           "gridcolor": "white",
           "linecolor": "white",
           "ticks": "",
           "title": {
            "standoff": 15
           },
           "zerolinecolor": "white",
           "zerolinewidth": 2
          },
          "yaxis": {
           "automargin": true,
           "gridcolor": "white",
           "linecolor": "white",
           "ticks": "",
           "title": {
            "standoff": 15
           },
           "zerolinecolor": "white",
           "zerolinewidth": 2
          }
         }
        },
        "title": {
         "text": "Failure Rate for All Treatment Plans"
        },
        "xaxis": {
         "anchor": "y",
         "domain": [
          0,
          1
         ],
         "title": {
          "text": "Year"
         }
        },
        "yaxis": {
         "anchor": "x",
         "domain": [
          0,
          1
         ],
         "title": {
          "text": "Failure Rate"
         }
        }
       }
      }
     },
     "metadata": {},
     "output_type": "display_data"
    }
   ],
   "source": [
    "all_data = pd.concat(results, names=['Treatment', 'Year'])\n",
    "\n",
    "# Reset the index to make 'Treatment' and 'Year' regular columns\n",
    "all_data.reset_index(inplace=True)\n",
    "\n",
    "# Define a dictionary mapping the treatment plans to categories\n",
    "category_mapping = {0: 'Worst Performers', 1: 'Best Performers', 3: 'Middle Performers 1', 9: 'Middle Performers 2'}\n",
    "\n",
    "# Filter all_data to include only the 4 big categories\n",
    "all_data = all_data[all_data['Treatment'].isin([0, 1, 3, 9])]\n",
    "\n",
    "# Replace the treatment plans with categories\n",
    "all_data['Treatment'] = all_data['Treatment'].map(category_mapping)\n",
    "\n",
    "# Create the facet graph\n",
    "facet_graph = px.line(all_data, x='Year', y='failure_rate', color='Treatment', title='Failure Rate for All Treatment Plans', \n",
    "                        labels={'failure_rate':'Failure Rate', 'Year':'Year', 'Treatment':'Treatment Category'})\n",
    "facet_graph.update_xaxes(matches=None)\n",
    "facet_graph.show()\n"
   ]
  },
  {
   "cell_type": "markdown",
   "metadata": {},
   "source": [
    "- GBD Burden of Crohn's Disease is 0.231 weight\n",
    "- GBD Burden of colostomy bag is 0.095 weight"
   ]
  },
  {
   "cell_type": "code",
   "execution_count": 48,
   "metadata": {},
   "outputs": [
    {
     "data": {
      "application/vnd.plotly.v1+json": {
       "config": {
        "plotlyServerURL": "https://plot.ly"
       },
       "data": [
        {
         "alignmentgroup": "True",
         "hovertemplate": "index=Worst Performers<br>Treatment Plan=%{x}<br>Number of DALYs=%{y}<extra></extra>",
         "legendgroup": "Worst Performers",
         "marker": {
          "color": "#636efa",
          "pattern": {
           "shape": ""
          }
         },
         "name": "Worst Performers",
         "offsetgroup": "Worst Performers",
         "orientation": "v",
         "showlegend": true,
         "textposition": "auto",
         "type": "bar",
         "x": [
          "Worst Performers"
         ],
         "xaxis": "x",
         "y": [
          219455.2948948222
         ],
         "yaxis": "y"
        },
        {
         "alignmentgroup": "True",
         "hovertemplate": "index=Best Performers<br>Treatment Plan=%{x}<br>Number of DALYs=%{y}<extra></extra>",
         "legendgroup": "Best Performers",
         "marker": {
          "color": "#EF553B",
          "pattern": {
           "shape": ""
          }
         },
         "name": "Best Performers",
         "offsetgroup": "Best Performers",
         "orientation": "v",
         "showlegend": true,
         "textposition": "auto",
         "type": "bar",
         "x": [
          "Best Performers"
         ],
         "xaxis": "x",
         "y": [
          31387.210774164352
         ],
         "yaxis": "y"
        },
        {
         "alignmentgroup": "True",
         "hovertemplate": "index=Middle Performer 1<br>Treatment Plan=%{x}<br>Number of DALYs=%{y}<extra></extra>",
         "legendgroup": "Middle Performer 1",
         "marker": {
          "color": "#00cc96",
          "pattern": {
           "shape": ""
          }
         },
         "name": "Middle Performer 1",
         "offsetgroup": "Middle Performer 1",
         "orientation": "v",
         "showlegend": true,
         "textposition": "auto",
         "type": "bar",
         "x": [
          "Middle Performer 1"
         ],
         "xaxis": "x",
         "y": [
          153108.34527405372
         ],
         "yaxis": "y"
        },
        {
         "alignmentgroup": "True",
         "hovertemplate": "index=Middle Performer 2<br>Treatment Plan=%{x}<br>Number of DALYs=%{y}<extra></extra>",
         "legendgroup": "Middle Performer 2",
         "marker": {
          "color": "#ab63fa",
          "pattern": {
           "shape": ""
          }
         },
         "name": "Middle Performer 2",
         "offsetgroup": "Middle Performer 2",
         "orientation": "v",
         "showlegend": true,
         "textposition": "auto",
         "type": "bar",
         "x": [
          "Middle Performer 2"
         ],
         "xaxis": "x",
         "y": [
          81657.78413256825
         ],
         "yaxis": "y"
        }
       ],
       "layout": {
        "barmode": "relative",
        "legend": {
         "title": {
          "text": "index"
         },
         "tracegroupgap": 0
        },
        "template": {
         "data": {
          "bar": [
           {
            "error_x": {
             "color": "#2a3f5f"
            },
            "error_y": {
             "color": "#2a3f5f"
            },
            "marker": {
             "line": {
              "color": "#E5ECF6",
              "width": 0.5
             },
             "pattern": {
              "fillmode": "overlay",
              "size": 10,
              "solidity": 0.2
             }
            },
            "type": "bar"
           }
          ],
          "barpolar": [
           {
            "marker": {
             "line": {
              "color": "#E5ECF6",
              "width": 0.5
             },
             "pattern": {
              "fillmode": "overlay",
              "size": 10,
              "solidity": 0.2
             }
            },
            "type": "barpolar"
           }
          ],
          "carpet": [
           {
            "aaxis": {
             "endlinecolor": "#2a3f5f",
             "gridcolor": "white",
             "linecolor": "white",
             "minorgridcolor": "white",
             "startlinecolor": "#2a3f5f"
            },
            "baxis": {
             "endlinecolor": "#2a3f5f",
             "gridcolor": "white",
             "linecolor": "white",
             "minorgridcolor": "white",
             "startlinecolor": "#2a3f5f"
            },
            "type": "carpet"
           }
          ],
          "choropleth": [
           {
            "colorbar": {
             "outlinewidth": 0,
             "ticks": ""
            },
            "type": "choropleth"
           }
          ],
          "contour": [
           {
            "colorbar": {
             "outlinewidth": 0,
             "ticks": ""
            },
            "colorscale": [
             [
              0,
              "#0d0887"
             ],
             [
              0.1111111111111111,
              "#46039f"
             ],
             [
              0.2222222222222222,
              "#7201a8"
             ],
             [
              0.3333333333333333,
              "#9c179e"
             ],
             [
              0.4444444444444444,
              "#bd3786"
             ],
             [
              0.5555555555555556,
              "#d8576b"
             ],
             [
              0.6666666666666666,
              "#ed7953"
             ],
             [
              0.7777777777777778,
              "#fb9f3a"
             ],
             [
              0.8888888888888888,
              "#fdca26"
             ],
             [
              1,
              "#f0f921"
             ]
            ],
            "type": "contour"
           }
          ],
          "contourcarpet": [
           {
            "colorbar": {
             "outlinewidth": 0,
             "ticks": ""
            },
            "type": "contourcarpet"
           }
          ],
          "heatmap": [
           {
            "colorbar": {
             "outlinewidth": 0,
             "ticks": ""
            },
            "colorscale": [
             [
              0,
              "#0d0887"
             ],
             [
              0.1111111111111111,
              "#46039f"
             ],
             [
              0.2222222222222222,
              "#7201a8"
             ],
             [
              0.3333333333333333,
              "#9c179e"
             ],
             [
              0.4444444444444444,
              "#bd3786"
             ],
             [
              0.5555555555555556,
              "#d8576b"
             ],
             [
              0.6666666666666666,
              "#ed7953"
             ],
             [
              0.7777777777777778,
              "#fb9f3a"
             ],
             [
              0.8888888888888888,
              "#fdca26"
             ],
             [
              1,
              "#f0f921"
             ]
            ],
            "type": "heatmap"
           }
          ],
          "heatmapgl": [
           {
            "colorbar": {
             "outlinewidth": 0,
             "ticks": ""
            },
            "colorscale": [
             [
              0,
              "#0d0887"
             ],
             [
              0.1111111111111111,
              "#46039f"
             ],
             [
              0.2222222222222222,
              "#7201a8"
             ],
             [
              0.3333333333333333,
              "#9c179e"
             ],
             [
              0.4444444444444444,
              "#bd3786"
             ],
             [
              0.5555555555555556,
              "#d8576b"
             ],
             [
              0.6666666666666666,
              "#ed7953"
             ],
             [
              0.7777777777777778,
              "#fb9f3a"
             ],
             [
              0.8888888888888888,
              "#fdca26"
             ],
             [
              1,
              "#f0f921"
             ]
            ],
            "type": "heatmapgl"
           }
          ],
          "histogram": [
           {
            "marker": {
             "pattern": {
              "fillmode": "overlay",
              "size": 10,
              "solidity": 0.2
             }
            },
            "type": "histogram"
           }
          ],
          "histogram2d": [
           {
            "colorbar": {
             "outlinewidth": 0,
             "ticks": ""
            },
            "colorscale": [
             [
              0,
              "#0d0887"
             ],
             [
              0.1111111111111111,
              "#46039f"
             ],
             [
              0.2222222222222222,
              "#7201a8"
             ],
             [
              0.3333333333333333,
              "#9c179e"
             ],
             [
              0.4444444444444444,
              "#bd3786"
             ],
             [
              0.5555555555555556,
              "#d8576b"
             ],
             [
              0.6666666666666666,
              "#ed7953"
             ],
             [
              0.7777777777777778,
              "#fb9f3a"
             ],
             [
              0.8888888888888888,
              "#fdca26"
             ],
             [
              1,
              "#f0f921"
             ]
            ],
            "type": "histogram2d"
           }
          ],
          "histogram2dcontour": [
           {
            "colorbar": {
             "outlinewidth": 0,
             "ticks": ""
            },
            "colorscale": [
             [
              0,
              "#0d0887"
             ],
             [
              0.1111111111111111,
              "#46039f"
             ],
             [
              0.2222222222222222,
              "#7201a8"
             ],
             [
              0.3333333333333333,
              "#9c179e"
             ],
             [
              0.4444444444444444,
              "#bd3786"
             ],
             [
              0.5555555555555556,
              "#d8576b"
             ],
             [
              0.6666666666666666,
              "#ed7953"
             ],
             [
              0.7777777777777778,
              "#fb9f3a"
             ],
             [
              0.8888888888888888,
              "#fdca26"
             ],
             [
              1,
              "#f0f921"
             ]
            ],
            "type": "histogram2dcontour"
           }
          ],
          "mesh3d": [
           {
            "colorbar": {
             "outlinewidth": 0,
             "ticks": ""
            },
            "type": "mesh3d"
           }
          ],
          "parcoords": [
           {
            "line": {
             "colorbar": {
              "outlinewidth": 0,
              "ticks": ""
             }
            },
            "type": "parcoords"
           }
          ],
          "pie": [
           {
            "automargin": true,
            "type": "pie"
           }
          ],
          "scatter": [
           {
            "fillpattern": {
             "fillmode": "overlay",
             "size": 10,
             "solidity": 0.2
            },
            "type": "scatter"
           }
          ],
          "scatter3d": [
           {
            "line": {
             "colorbar": {
              "outlinewidth": 0,
              "ticks": ""
             }
            },
            "marker": {
             "colorbar": {
              "outlinewidth": 0,
              "ticks": ""
             }
            },
            "type": "scatter3d"
           }
          ],
          "scattercarpet": [
           {
            "marker": {
             "colorbar": {
              "outlinewidth": 0,
              "ticks": ""
             }
            },
            "type": "scattercarpet"
           }
          ],
          "scattergeo": [
           {
            "marker": {
             "colorbar": {
              "outlinewidth": 0,
              "ticks": ""
             }
            },
            "type": "scattergeo"
           }
          ],
          "scattergl": [
           {
            "marker": {
             "colorbar": {
              "outlinewidth": 0,
              "ticks": ""
             }
            },
            "type": "scattergl"
           }
          ],
          "scattermapbox": [
           {
            "marker": {
             "colorbar": {
              "outlinewidth": 0,
              "ticks": ""
             }
            },
            "type": "scattermapbox"
           }
          ],
          "scatterpolar": [
           {
            "marker": {
             "colorbar": {
              "outlinewidth": 0,
              "ticks": ""
             }
            },
            "type": "scatterpolar"
           }
          ],
          "scatterpolargl": [
           {
            "marker": {
             "colorbar": {
              "outlinewidth": 0,
              "ticks": ""
             }
            },
            "type": "scatterpolargl"
           }
          ],
          "scatterternary": [
           {
            "marker": {
             "colorbar": {
              "outlinewidth": 0,
              "ticks": ""
             }
            },
            "type": "scatterternary"
           }
          ],
          "surface": [
           {
            "colorbar": {
             "outlinewidth": 0,
             "ticks": ""
            },
            "colorscale": [
             [
              0,
              "#0d0887"
             ],
             [
              0.1111111111111111,
              "#46039f"
             ],
             [
              0.2222222222222222,
              "#7201a8"
             ],
             [
              0.3333333333333333,
              "#9c179e"
             ],
             [
              0.4444444444444444,
              "#bd3786"
             ],
             [
              0.5555555555555556,
              "#d8576b"
             ],
             [
              0.6666666666666666,
              "#ed7953"
             ],
             [
              0.7777777777777778,
              "#fb9f3a"
             ],
             [
              0.8888888888888888,
              "#fdca26"
             ],
             [
              1,
              "#f0f921"
             ]
            ],
            "type": "surface"
           }
          ],
          "table": [
           {
            "cells": {
             "fill": {
              "color": "#EBF0F8"
             },
             "line": {
              "color": "white"
             }
            },
            "header": {
             "fill": {
              "color": "#C8D4E3"
             },
             "line": {
              "color": "white"
             }
            },
            "type": "table"
           }
          ]
         },
         "layout": {
          "annotationdefaults": {
           "arrowcolor": "#2a3f5f",
           "arrowhead": 0,
           "arrowwidth": 1
          },
          "autotypenumbers": "strict",
          "coloraxis": {
           "colorbar": {
            "outlinewidth": 0,
            "ticks": ""
           }
          },
          "colorscale": {
           "diverging": [
            [
             0,
             "#8e0152"
            ],
            [
             0.1,
             "#c51b7d"
            ],
            [
             0.2,
             "#de77ae"
            ],
            [
             0.3,
             "#f1b6da"
            ],
            [
             0.4,
             "#fde0ef"
            ],
            [
             0.5,
             "#f7f7f7"
            ],
            [
             0.6,
             "#e6f5d0"
            ],
            [
             0.7,
             "#b8e186"
            ],
            [
             0.8,
             "#7fbc41"
            ],
            [
             0.9,
             "#4d9221"
            ],
            [
             1,
             "#276419"
            ]
           ],
           "sequential": [
            [
             0,
             "#0d0887"
            ],
            [
             0.1111111111111111,
             "#46039f"
            ],
            [
             0.2222222222222222,
             "#7201a8"
            ],
            [
             0.3333333333333333,
             "#9c179e"
            ],
            [
             0.4444444444444444,
             "#bd3786"
            ],
            [
             0.5555555555555556,
             "#d8576b"
            ],
            [
             0.6666666666666666,
             "#ed7953"
            ],
            [
             0.7777777777777778,
             "#fb9f3a"
            ],
            [
             0.8888888888888888,
             "#fdca26"
            ],
            [
             1,
             "#f0f921"
            ]
           ],
           "sequentialminus": [
            [
             0,
             "#0d0887"
            ],
            [
             0.1111111111111111,
             "#46039f"
            ],
            [
             0.2222222222222222,
             "#7201a8"
            ],
            [
             0.3333333333333333,
             "#9c179e"
            ],
            [
             0.4444444444444444,
             "#bd3786"
            ],
            [
             0.5555555555555556,
             "#d8576b"
            ],
            [
             0.6666666666666666,
             "#ed7953"
            ],
            [
             0.7777777777777778,
             "#fb9f3a"
            ],
            [
             0.8888888888888888,
             "#fdca26"
            ],
            [
             1,
             "#f0f921"
            ]
           ]
          },
          "colorway": [
           "#636efa",
           "#EF553B",
           "#00cc96",
           "#ab63fa",
           "#FFA15A",
           "#19d3f3",
           "#FF6692",
           "#B6E880",
           "#FF97FF",
           "#FECB52"
          ],
          "font": {
           "color": "#2a3f5f"
          },
          "geo": {
           "bgcolor": "white",
           "lakecolor": "white",
           "landcolor": "#E5ECF6",
           "showlakes": true,
           "showland": true,
           "subunitcolor": "white"
          },
          "hoverlabel": {
           "align": "left"
          },
          "hovermode": "closest",
          "mapbox": {
           "style": "light"
          },
          "paper_bgcolor": "white",
          "plot_bgcolor": "#E5ECF6",
          "polar": {
           "angularaxis": {
            "gridcolor": "white",
            "linecolor": "white",
            "ticks": ""
           },
           "bgcolor": "#E5ECF6",
           "radialaxis": {
            "gridcolor": "white",
            "linecolor": "white",
            "ticks": ""
           }
          },
          "scene": {
           "xaxis": {
            "backgroundcolor": "#E5ECF6",
            "gridcolor": "white",
            "gridwidth": 2,
            "linecolor": "white",
            "showbackground": true,
            "ticks": "",
            "zerolinecolor": "white"
           },
           "yaxis": {
            "backgroundcolor": "#E5ECF6",
            "gridcolor": "white",
            "gridwidth": 2,
            "linecolor": "white",
            "showbackground": true,
            "ticks": "",
            "zerolinecolor": "white"
           },
           "zaxis": {
            "backgroundcolor": "#E5ECF6",
            "gridcolor": "white",
            "gridwidth": 2,
            "linecolor": "white",
            "showbackground": true,
            "ticks": "",
            "zerolinecolor": "white"
           }
          },
          "shapedefaults": {
           "line": {
            "color": "#2a3f5f"
           }
          },
          "ternary": {
           "aaxis": {
            "gridcolor": "white",
            "linecolor": "white",
            "ticks": ""
           },
           "baxis": {
            "gridcolor": "white",
            "linecolor": "white",
            "ticks": ""
           },
           "bgcolor": "#E5ECF6",
           "caxis": {
            "gridcolor": "white",
            "linecolor": "white",
            "ticks": ""
           }
          },
          "title": {
           "x": 0.05
          },
          "xaxis": {
           "automargin": true,
           "gridcolor": "white",
           "linecolor": "white",
           "ticks": "",
           "title": {
            "standoff": 15
           },
           "zerolinecolor": "white",
           "zerolinewidth": 2
          },
          "yaxis": {
           "automargin": true,
           "gridcolor": "white",
           "linecolor": "white",
           "ticks": "",
           "title": {
            "standoff": 15
           },
           "zerolinecolor": "white",
           "zerolinewidth": 2
          }
         }
        },
        "title": {
         "text": "Cumulative DALYs Lost During Failure at 25 Years Per Performer Category"
        },
        "xaxis": {
         "anchor": "y",
         "domain": [
          0,
          1
         ],
         "title": {
          "text": "Treatment Plan"
         }
        },
        "yaxis": {
         "anchor": "x",
         "domain": [
          0,
          1
         ],
         "title": {
          "text": "Number of DALYs"
         }
        }
       }
      }
     },
     "metadata": {},
     "output_type": "display_data"
    }
   ],
   "source": [
    "# burden_df = pd.DataFrame()\n",
    "\n",
    "# for key, df in results.items():\n",
    "#     burden_df[key] = df['failure_burden']\n",
    "\n",
    "# # Select the row for the 25th year\n",
    "# burden_at_25_years = burden_df.loc[25]\n",
    "# selected_indices = [0, 1, 3, 9]\n",
    "# burden_at_25_years = burden_at_25_years[burden_at_25_years.index.isin(selected_indices)]\n",
    "\n",
    "# # Define a dictionary mapping the old names to the new names\n",
    "# index_names = {0: 'Worst Performers', 1: 'Best Performers', 3: 'Middle Performer 1', 9: 'Middle Performer 2'}\n",
    "\n",
    "# # Rename the indices\n",
    "# burden_at_25_years = burden_at_25_years.rename(index=index_names)\n",
    "\n",
    "# # Create the plot\n",
    "# fail_plot = px.bar(burden_at_25_years, x=burden_at_25_years.index.astype('str'), y=burden_at_25_years.values,\n",
    "#                    color=burden_at_25_years.index, color_continuous_scale='viridis', title='Cumulative DALYs Lost During Failure at 25 Years Per Performer Category',\n",
    "#                    labels={'x':'Treatment Plan', 'y':'Number of DALYs'})\n",
    "# fail_plot.show()"
   ]
  },
  {
   "cell_type": "code",
   "execution_count": 49,
   "metadata": {},
   "outputs": [
    {
     "data": {
      "application/vnd.plotly.v1+json": {
       "config": {
        "plotlyServerURL": "https://plot.ly"
       },
       "data": [
        {
         "marker": {
          "color": [
           "#636EFA",
           "#EF553B",
           "#00CC96",
           "#AB63FA",
           "#FFA15A",
           "#19D3F3",
           "#FF6692",
           "#B6E880",
           "#FF97FF",
           "#FECB52"
          ]
         },
         "showlegend": false,
         "text": [
          1890558779.0828454
         ],
         "textposition": "auto",
         "type": "bar",
         "x": [
          "treatment_burden"
         ],
         "xaxis": "x",
         "y": [
          1890558779.0828454
         ],
         "yaxis": "y"
        },
        {
         "marker": {
          "color": [
           "#2E91E5",
           "#E15F99",
           "#1CA71C",
           "#FB0D0D",
           "#DA16FF",
           "#222A2A",
           "#B68100",
           "#750D86",
           "#EB663B",
           "#511CFB",
           "#00A08B",
           "#FB00D1",
           "#FC0080",
           "#B2828D",
           "#6C7C32",
           "#778AAE",
           "#862A16",
           "#A777F1",
           "#620042",
           "#1616A7",
           "#DA60CA",
           "#6C4516",
           "#0D2A63",
           "#AF0038"
          ]
         },
         "showlegend": false,
         "text": [
          "485608.6350756085"
         ],
         "textposition": "auto",
         "type": "bar",
         "x": [
          "Total Burden"
         ],
         "xaxis": "x2",
         "y": [
          485608.6350756085
         ],
         "yaxis": "y2"
        }
       ],
       "layout": {
        "barmode": "group",
        "template": {
         "data": {
          "bar": [
           {
            "error_x": {
             "color": "#2a3f5f"
            },
            "error_y": {
             "color": "#2a3f5f"
            },
            "marker": {
             "line": {
              "color": "#E5ECF6",
              "width": 0.5
             },
             "pattern": {
              "fillmode": "overlay",
              "size": 10,
              "solidity": 0.2
             }
            },
            "type": "bar"
           }
          ],
          "barpolar": [
           {
            "marker": {
             "line": {
              "color": "#E5ECF6",
              "width": 0.5
             },
             "pattern": {
              "fillmode": "overlay",
              "size": 10,
              "solidity": 0.2
             }
            },
            "type": "barpolar"
           }
          ],
          "carpet": [
           {
            "aaxis": {
             "endlinecolor": "#2a3f5f",
             "gridcolor": "white",
             "linecolor": "white",
             "minorgridcolor": "white",
             "startlinecolor": "#2a3f5f"
            },
            "baxis": {
             "endlinecolor": "#2a3f5f",
             "gridcolor": "white",
             "linecolor": "white",
             "minorgridcolor": "white",
             "startlinecolor": "#2a3f5f"
            },
            "type": "carpet"
           }
          ],
          "choropleth": [
           {
            "colorbar": {
             "outlinewidth": 0,
             "ticks": ""
            },
            "type": "choropleth"
           }
          ],
          "contour": [
           {
            "colorbar": {
             "outlinewidth": 0,
             "ticks": ""
            },
            "colorscale": [
             [
              0,
              "#0d0887"
             ],
             [
              0.1111111111111111,
              "#46039f"
             ],
             [
              0.2222222222222222,
              "#7201a8"
             ],
             [
              0.3333333333333333,
              "#9c179e"
             ],
             [
              0.4444444444444444,
              "#bd3786"
             ],
             [
              0.5555555555555556,
              "#d8576b"
             ],
             [
              0.6666666666666666,
              "#ed7953"
             ],
             [
              0.7777777777777778,
              "#fb9f3a"
             ],
             [
              0.8888888888888888,
              "#fdca26"
             ],
             [
              1,
              "#f0f921"
             ]
            ],
            "type": "contour"
           }
          ],
          "contourcarpet": [
           {
            "colorbar": {
             "outlinewidth": 0,
             "ticks": ""
            },
            "type": "contourcarpet"
           }
          ],
          "heatmap": [
           {
            "colorbar": {
             "outlinewidth": 0,
             "ticks": ""
            },
            "colorscale": [
             [
              0,
              "#0d0887"
             ],
             [
              0.1111111111111111,
              "#46039f"
             ],
             [
              0.2222222222222222,
              "#7201a8"
             ],
             [
              0.3333333333333333,
              "#9c179e"
             ],
             [
              0.4444444444444444,
              "#bd3786"
             ],
             [
              0.5555555555555556,
              "#d8576b"
             ],
             [
              0.6666666666666666,
              "#ed7953"
             ],
             [
              0.7777777777777778,
              "#fb9f3a"
             ],
             [
              0.8888888888888888,
              "#fdca26"
             ],
             [
              1,
              "#f0f921"
             ]
            ],
            "type": "heatmap"
           }
          ],
          "heatmapgl": [
           {
            "colorbar": {
             "outlinewidth": 0,
             "ticks": ""
            },
            "colorscale": [
             [
              0,
              "#0d0887"
             ],
             [
              0.1111111111111111,
              "#46039f"
             ],
             [
              0.2222222222222222,
              "#7201a8"
             ],
             [
              0.3333333333333333,
              "#9c179e"
             ],
             [
              0.4444444444444444,
              "#bd3786"
             ],
             [
              0.5555555555555556,
              "#d8576b"
             ],
             [
              0.6666666666666666,
              "#ed7953"
             ],
             [
              0.7777777777777778,
              "#fb9f3a"
             ],
             [
              0.8888888888888888,
              "#fdca26"
             ],
             [
              1,
              "#f0f921"
             ]
            ],
            "type": "heatmapgl"
           }
          ],
          "histogram": [
           {
            "marker": {
             "pattern": {
              "fillmode": "overlay",
              "size": 10,
              "solidity": 0.2
             }
            },
            "type": "histogram"
           }
          ],
          "histogram2d": [
           {
            "colorbar": {
             "outlinewidth": 0,
             "ticks": ""
            },
            "colorscale": [
             [
              0,
              "#0d0887"
             ],
             [
              0.1111111111111111,
              "#46039f"
             ],
             [
              0.2222222222222222,
              "#7201a8"
             ],
             [
              0.3333333333333333,
              "#9c179e"
             ],
             [
              0.4444444444444444,
              "#bd3786"
             ],
             [
              0.5555555555555556,
              "#d8576b"
             ],
             [
              0.6666666666666666,
              "#ed7953"
             ],
             [
              0.7777777777777778,
              "#fb9f3a"
             ],
             [
              0.8888888888888888,
              "#fdca26"
             ],
             [
              1,
              "#f0f921"
             ]
            ],
            "type": "histogram2d"
           }
          ],
          "histogram2dcontour": [
           {
            "colorbar": {
             "outlinewidth": 0,
             "ticks": ""
            },
            "colorscale": [
             [
              0,
              "#0d0887"
             ],
             [
              0.1111111111111111,
              "#46039f"
             ],
             [
              0.2222222222222222,
              "#7201a8"
             ],
             [
              0.3333333333333333,
              "#9c179e"
             ],
             [
              0.4444444444444444,
              "#bd3786"
             ],
             [
              0.5555555555555556,
              "#d8576b"
             ],
             [
              0.6666666666666666,
              "#ed7953"
             ],
             [
              0.7777777777777778,
              "#fb9f3a"
             ],
             [
              0.8888888888888888,
              "#fdca26"
             ],
             [
              1,
              "#f0f921"
             ]
            ],
            "type": "histogram2dcontour"
           }
          ],
          "mesh3d": [
           {
            "colorbar": {
             "outlinewidth": 0,
             "ticks": ""
            },
            "type": "mesh3d"
           }
          ],
          "parcoords": [
           {
            "line": {
             "colorbar": {
              "outlinewidth": 0,
              "ticks": ""
             }
            },
            "type": "parcoords"
           }
          ],
          "pie": [
           {
            "automargin": true,
            "type": "pie"
           }
          ],
          "scatter": [
           {
            "fillpattern": {
             "fillmode": "overlay",
             "size": 10,
             "solidity": 0.2
            },
            "type": "scatter"
           }
          ],
          "scatter3d": [
           {
            "line": {
             "colorbar": {
              "outlinewidth": 0,
              "ticks": ""
             }
            },
            "marker": {
             "colorbar": {
              "outlinewidth": 0,
              "ticks": ""
             }
            },
            "type": "scatter3d"
           }
          ],
          "scattercarpet": [
           {
            "marker": {
             "colorbar": {
              "outlinewidth": 0,
              "ticks": ""
             }
            },
            "type": "scattercarpet"
           }
          ],
          "scattergeo": [
           {
            "marker": {
             "colorbar": {
              "outlinewidth": 0,
              "ticks": ""
             }
            },
            "type": "scattergeo"
           }
          ],
          "scattergl": [
           {
            "marker": {
             "colorbar": {
              "outlinewidth": 0,
              "ticks": ""
             }
            },
            "type": "scattergl"
           }
          ],
          "scattermapbox": [
           {
            "marker": {
             "colorbar": {
              "outlinewidth": 0,
              "ticks": ""
             }
            },
            "type": "scattermapbox"
           }
          ],
          "scatterpolar": [
           {
            "marker": {
             "colorbar": {
              "outlinewidth": 0,
              "ticks": ""
             }
            },
            "type": "scatterpolar"
           }
          ],
          "scatterpolargl": [
           {
            "marker": {
             "colorbar": {
              "outlinewidth": 0,
              "ticks": ""
             }
            },
            "type": "scatterpolargl"
           }
          ],
          "scatterternary": [
           {
            "marker": {
             "colorbar": {
              "outlinewidth": 0,
              "ticks": ""
             }
            },
            "type": "scatterternary"
           }
          ],
          "surface": [
           {
            "colorbar": {
             "outlinewidth": 0,
             "ticks": ""
            },
            "colorscale": [
             [
              0,
              "#0d0887"
             ],
             [
              0.1111111111111111,
              "#46039f"
             ],
             [
              0.2222222222222222,
              "#7201a8"
             ],
             [
              0.3333333333333333,
              "#9c179e"
             ],
             [
              0.4444444444444444,
              "#bd3786"
             ],
             [
              0.5555555555555556,
              "#d8576b"
             ],
             [
              0.6666666666666666,
              "#ed7953"
             ],
             [
              0.7777777777777778,
              "#fb9f3a"
             ],
             [
              0.8888888888888888,
              "#fdca26"
             ],
             [
              1,
              "#f0f921"
             ]
            ],
            "type": "surface"
           }
          ],
          "table": [
           {
            "cells": {
             "fill": {
              "color": "#EBF0F8"
             },
             "line": {
              "color": "white"
             }
            },
            "header": {
             "fill": {
              "color": "#C8D4E3"
             },
             "line": {
              "color": "white"
             }
            },
            "type": "table"
           }
          ]
         },
         "layout": {
          "annotationdefaults": {
           "arrowcolor": "#2a3f5f",
           "arrowhead": 0,
           "arrowwidth": 1
          },
          "autotypenumbers": "strict",
          "coloraxis": {
           "colorbar": {
            "outlinewidth": 0,
            "ticks": ""
           }
          },
          "colorscale": {
           "diverging": [
            [
             0,
             "#8e0152"
            ],
            [
             0.1,
             "#c51b7d"
            ],
            [
             0.2,
             "#de77ae"
            ],
            [
             0.3,
             "#f1b6da"
            ],
            [
             0.4,
             "#fde0ef"
            ],
            [
             0.5,
             "#f7f7f7"
            ],
            [
             0.6,
             "#e6f5d0"
            ],
            [
             0.7,
             "#b8e186"
            ],
            [
             0.8,
             "#7fbc41"
            ],
            [
             0.9,
             "#4d9221"
            ],
            [
             1,
             "#276419"
            ]
           ],
           "sequential": [
            [
             0,
             "#0d0887"
            ],
            [
             0.1111111111111111,
             "#46039f"
            ],
            [
             0.2222222222222222,
             "#7201a8"
            ],
            [
             0.3333333333333333,
             "#9c179e"
            ],
            [
             0.4444444444444444,
             "#bd3786"
            ],
            [
             0.5555555555555556,
             "#d8576b"
            ],
            [
             0.6666666666666666,
             "#ed7953"
            ],
            [
             0.7777777777777778,
             "#fb9f3a"
            ],
            [
             0.8888888888888888,
             "#fdca26"
            ],
            [
             1,
             "#f0f921"
            ]
           ],
           "sequentialminus": [
            [
             0,
             "#0d0887"
            ],
            [
             0.1111111111111111,
             "#46039f"
            ],
            [
             0.2222222222222222,
             "#7201a8"
            ],
            [
             0.3333333333333333,
             "#9c179e"
            ],
            [
             0.4444444444444444,
             "#bd3786"
            ],
            [
             0.5555555555555556,
             "#d8576b"
            ],
            [
             0.6666666666666666,
             "#ed7953"
            ],
            [
             0.7777777777777778,
             "#fb9f3a"
            ],
            [
             0.8888888888888888,
             "#fdca26"
            ],
            [
             1,
             "#f0f921"
            ]
           ]
          },
          "colorway": [
           "#636efa",
           "#EF553B",
           "#00cc96",
           "#ab63fa",
           "#FFA15A",
           "#19d3f3",
           "#FF6692",
           "#B6E880",
           "#FF97FF",
           "#FECB52"
          ],
          "font": {
           "color": "#2a3f5f"
          },
          "geo": {
           "bgcolor": "white",
           "lakecolor": "white",
           "landcolor": "#E5ECF6",
           "showlakes": true,
           "showland": true,
           "subunitcolor": "white"
          },
          "hoverlabel": {
           "align": "left"
          },
          "hovermode": "closest",
          "mapbox": {
           "style": "light"
          },
          "paper_bgcolor": "white",
          "plot_bgcolor": "#E5ECF6",
          "polar": {
           "angularaxis": {
            "gridcolor": "white",
            "linecolor": "white",
            "ticks": ""
           },
           "bgcolor": "#E5ECF6",
           "radialaxis": {
            "gridcolor": "white",
            "linecolor": "white",
            "ticks": ""
           }
          },
          "scene": {
           "xaxis": {
            "backgroundcolor": "#E5ECF6",
            "gridcolor": "white",
            "gridwidth": 2,
            "linecolor": "white",
            "showbackground": true,
            "ticks": "",
            "zerolinecolor": "white"
           },
           "yaxis": {
            "backgroundcolor": "#E5ECF6",
            "gridcolor": "white",
            "gridwidth": 2,
            "linecolor": "white",
            "showbackground": true,
            "ticks": "",
            "zerolinecolor": "white"
           },
           "zaxis": {
            "backgroundcolor": "#E5ECF6",
            "gridcolor": "white",
            "gridwidth": 2,
            "linecolor": "white",
            "showbackground": true,
            "ticks": "",
            "zerolinecolor": "white"
           }
          },
          "shapedefaults": {
           "line": {
            "color": "#2a3f5f"
           }
          },
          "ternary": {
           "aaxis": {
            "gridcolor": "white",
            "linecolor": "white",
            "ticks": ""
           },
           "baxis": {
            "gridcolor": "white",
            "linecolor": "white",
            "ticks": ""
           },
           "bgcolor": "#E5ECF6",
           "caxis": {
            "gridcolor": "white",
            "linecolor": "white",
            "ticks": ""
           }
          },
          "title": {
           "x": 0.05
          },
          "xaxis": {
           "automargin": true,
           "gridcolor": "white",
           "linecolor": "white",
           "ticks": "",
           "title": {
            "standoff": 15
           },
           "zerolinecolor": "white",
           "zerolinewidth": 2
          },
          "yaxis": {
           "automargin": true,
           "gridcolor": "white",
           "linecolor": "white",
           "ticks": "",
           "title": {
            "standoff": 15
           },
           "zerolinecolor": "white",
           "zerolinewidth": 2
          }
         }
        },
        "title": {
         "text": "Cumulative DALYs Lost in Year 25"
        },
        "xaxis": {
         "anchor": "y",
         "domain": [
          0,
          0.45
         ],
         "title": {
          "text": "Treatment"
         }
        },
        "xaxis2": {
         "anchor": "y2",
         "domain": [
          0.55,
          1
         ],
         "title": {
          "text": "Failure"
         }
        },
        "yaxis": {
         "anchor": "x",
         "domain": [
          0,
          1
         ],
         "range": [
          0,
          2000000000
         ],
         "title": {
          "text": "Cumulative DALYs"
         }
        },
        "yaxis2": {
         "anchor": "x2",
         "domain": [
          0,
          1
         ],
         "range": [
          0,
          2000000
         ]
        }
       }
      }
     },
     "metadata": {},
     "output_type": "display_data"
    }
   ],
   "source": [
    "# plotting_df = df[['treatment_burden', 'failure_burden']]\n",
    "# sum_burden_at_25_years = burden_at_25_years.sum()\n",
    "\n",
    "# # Filter the DataFrame to only include rows where the year is 50\n",
    "# plotting_df_25 = plotting_df.loc[25]\n",
    "\n",
    "# # Convert the series to a DataFrame and transpose it for plotting\n",
    "# plotting_df_25 = plotting_df_25.to_frame().reset_index()\n",
    "\n",
    "# # Rename the columns for plotting\n",
    "# plotting_df_25.columns = ['Burden Type', 'DALYs']\n",
    "\n",
    "# # Create a subplot with 1 row and 2 columns\n",
    "# fig = make_subplots(rows=1, cols=2)\n",
    "\n",
    "# # Add the first bar plot to the subplot for treatment_burden\n",
    "# fig.add_trace(\n",
    "#     go.Bar(x=plotting_df_25[plotting_df_25['Burden Type'] == 'treatment_burden']['Burden Type'],\n",
    "#            y=plotting_df_25[plotting_df_25['Burden Type'] == 'treatment_burden']['DALYs'],\n",
    "#            text=plotting_df_25[plotting_df_25['Burden Type'] == 'treatment_burden']['DALYs'],\n",
    "#            textposition='auto',\n",
    "#            marker_color=px.colors.qualitative.Plotly, showlegend=False),\n",
    "#     row=1, col=1\n",
    "# )\n",
    "\n",
    "# # Add the second bar plot to the subplot for failure_burden\n",
    "# fig.add_trace(\n",
    "#     go.Bar(x=['Total Burden'],\n",
    "#            y=[sum_burden_at_25_years],\n",
    "#            text=[sum_burden_at_25_years],\n",
    "#            textposition='auto', marker_color=px.colors.qualitative.Dark24, showlegend=False),\n",
    "#     row=1, col=2\n",
    "# )\n",
    "\n",
    "\n",
    "# # Update layout\n",
    "# fig.update_layout(title_text=\"Cumulative DALYs Lost in Year 25\", barmode='group')\n",
    "\n",
    "# # Set y-axis limits\n",
    "# fig.update_yaxes(range=[0, 2000000000], row=1, col=1, title_text='Cumulative DALYs')\n",
    "# fig.update_yaxes(range=[0, 2000000], row=1, col=2)\n",
    "# fig.update_xaxes(title_text='Treatment', row=1, col=1)\n",
    "# fig.update_xaxes(title_text='Failure', row=1, col=2)\n",
    "\n",
    "# fig.show()"
   ]
  },
  {
   "cell_type": "code",
   "execution_count": 147,
   "metadata": {},
   "outputs": [
    {
     "name": "stdout",
     "output_type": "stream",
     "text": [
      "Total Years: 348212550.5710453\n",
      "Total Failure Years: 1613876.1314703175\n",
      "Total Treatment Years: 115364228.03484038\n",
      "Average Treatment Years: 19227371.33914006\n",
      "Total Healthy Years: 231234446.40473458\n"
     ]
    }
   ],
   "source": [
    "# Initialize average total years for one study\n",
    "total_years = 0\n",
    "# Add up all bottom rows of dfs from results\n",
    "for df in results.values():\n",
    "    total_years += df.iloc[-1].sum()\n",
    "# Divide by 50\n",
    "total_years /= 50\n",
    "print(f'Total Years: {total_years}')\n",
    "\n",
    "# Total Failure years\n",
    "total_failure_years = 0\n",
    "for df in results.values():\n",
    "    total_failure_years += df['failure'].sum()\n",
    "total_failure_years /= 50\n",
    "print(f'Total Failure Years: {total_failure_years}')\n",
    "\n",
    "# Total Treatment years\n",
    "total_treatment_years = 0\n",
    "for df in results.values():\n",
    "    total_treatment_years += df['mesalamine'].iloc[-1]\n",
    "    total_treatment_years += df['remicade'].iloc[-1]\n",
    "    total_treatment_years += df['humira'].iloc[-1]\n",
    "    total_treatment_years += df['entyvio'].iloc[-1]\n",
    "    total_treatment_years += df['skyrizi'].iloc[-1]\n",
    "    total_treatment_years += df['rinvoq'].iloc[-1]\n",
    "total_treatment_years /= 50\n",
    "average_treatment_years = total_treatment_years /6\n",
    "print(f'Total Treatment Years: {total_treatment_years}')\n",
    "print(f'Average Treatment Years: {average_treatment_years}')\n",
    "\n",
    "healthy_years = total_years - total_failure_years - total_treatment_years\n",
    "print(f'Total Healthy Years: {healthy_years}')\n"
   ]
  },
  {
   "cell_type": "code",
   "execution_count": 152,
   "metadata": {},
   "outputs": [
    {
     "data": {
      "application/vnd.plotly.v1+json": {
       "config": {
        "plotlyServerURL": "https://plot.ly"
       },
       "data": [
        {
         "labels": [
          "Total Failure Years",
          "Total Treatment Years",
          "Total Healthy Years"
         ],
         "type": "pie",
         "values": [
          1613876.1314703175,
          115364228.03484038,
          231234446.40473458
         ]
        }
       ],
       "layout": {
        "template": {
         "data": {
          "bar": [
           {
            "error_x": {
             "color": "#2a3f5f"
            },
            "error_y": {
             "color": "#2a3f5f"
            },
            "marker": {
             "line": {
              "color": "#E5ECF6",
              "width": 0.5
             },
             "pattern": {
              "fillmode": "overlay",
              "size": 10,
              "solidity": 0.2
             }
            },
            "type": "bar"
           }
          ],
          "barpolar": [
           {
            "marker": {
             "line": {
              "color": "#E5ECF6",
              "width": 0.5
             },
             "pattern": {
              "fillmode": "overlay",
              "size": 10,
              "solidity": 0.2
             }
            },
            "type": "barpolar"
           }
          ],
          "carpet": [
           {
            "aaxis": {
             "endlinecolor": "#2a3f5f",
             "gridcolor": "white",
             "linecolor": "white",
             "minorgridcolor": "white",
             "startlinecolor": "#2a3f5f"
            },
            "baxis": {
             "endlinecolor": "#2a3f5f",
             "gridcolor": "white",
             "linecolor": "white",
             "minorgridcolor": "white",
             "startlinecolor": "#2a3f5f"
            },
            "type": "carpet"
           }
          ],
          "choropleth": [
           {
            "colorbar": {
             "outlinewidth": 0,
             "ticks": ""
            },
            "type": "choropleth"
           }
          ],
          "contour": [
           {
            "colorbar": {
             "outlinewidth": 0,
             "ticks": ""
            },
            "colorscale": [
             [
              0,
              "#0d0887"
             ],
             [
              0.1111111111111111,
              "#46039f"
             ],
             [
              0.2222222222222222,
              "#7201a8"
             ],
             [
              0.3333333333333333,
              "#9c179e"
             ],
             [
              0.4444444444444444,
              "#bd3786"
             ],
             [
              0.5555555555555556,
              "#d8576b"
             ],
             [
              0.6666666666666666,
              "#ed7953"
             ],
             [
              0.7777777777777778,
              "#fb9f3a"
             ],
             [
              0.8888888888888888,
              "#fdca26"
             ],
             [
              1,
              "#f0f921"
             ]
            ],
            "type": "contour"
           }
          ],
          "contourcarpet": [
           {
            "colorbar": {
             "outlinewidth": 0,
             "ticks": ""
            },
            "type": "contourcarpet"
           }
          ],
          "heatmap": [
           {
            "colorbar": {
             "outlinewidth": 0,
             "ticks": ""
            },
            "colorscale": [
             [
              0,
              "#0d0887"
             ],
             [
              0.1111111111111111,
              "#46039f"
             ],
             [
              0.2222222222222222,
              "#7201a8"
             ],
             [
              0.3333333333333333,
              "#9c179e"
             ],
             [
              0.4444444444444444,
              "#bd3786"
             ],
             [
              0.5555555555555556,
              "#d8576b"
             ],
             [
              0.6666666666666666,
              "#ed7953"
             ],
             [
              0.7777777777777778,
              "#fb9f3a"
             ],
             [
              0.8888888888888888,
              "#fdca26"
             ],
             [
              1,
              "#f0f921"
             ]
            ],
            "type": "heatmap"
           }
          ],
          "heatmapgl": [
           {
            "colorbar": {
             "outlinewidth": 0,
             "ticks": ""
            },
            "colorscale": [
             [
              0,
              "#0d0887"
             ],
             [
              0.1111111111111111,
              "#46039f"
             ],
             [
              0.2222222222222222,
              "#7201a8"
             ],
             [
              0.3333333333333333,
              "#9c179e"
             ],
             [
              0.4444444444444444,
              "#bd3786"
             ],
             [
              0.5555555555555556,
              "#d8576b"
             ],
             [
              0.6666666666666666,
              "#ed7953"
             ],
             [
              0.7777777777777778,
              "#fb9f3a"
             ],
             [
              0.8888888888888888,
              "#fdca26"
             ],
             [
              1,
              "#f0f921"
             ]
            ],
            "type": "heatmapgl"
           }
          ],
          "histogram": [
           {
            "marker": {
             "pattern": {
              "fillmode": "overlay",
              "size": 10,
              "solidity": 0.2
             }
            },
            "type": "histogram"
           }
          ],
          "histogram2d": [
           {
            "colorbar": {
             "outlinewidth": 0,
             "ticks": ""
            },
            "colorscale": [
             [
              0,
              "#0d0887"
             ],
             [
              0.1111111111111111,
              "#46039f"
             ],
             [
              0.2222222222222222,
              "#7201a8"
             ],
             [
              0.3333333333333333,
              "#9c179e"
             ],
             [
              0.4444444444444444,
              "#bd3786"
             ],
             [
              0.5555555555555556,
              "#d8576b"
             ],
             [
              0.6666666666666666,
              "#ed7953"
             ],
             [
              0.7777777777777778,
              "#fb9f3a"
             ],
             [
              0.8888888888888888,
              "#fdca26"
             ],
             [
              1,
              "#f0f921"
             ]
            ],
            "type": "histogram2d"
           }
          ],
          "histogram2dcontour": [
           {
            "colorbar": {
             "outlinewidth": 0,
             "ticks": ""
            },
            "colorscale": [
             [
              0,
              "#0d0887"
             ],
             [
              0.1111111111111111,
              "#46039f"
             ],
             [
              0.2222222222222222,
              "#7201a8"
             ],
             [
              0.3333333333333333,
              "#9c179e"
             ],
             [
              0.4444444444444444,
              "#bd3786"
             ],
             [
              0.5555555555555556,
              "#d8576b"
             ],
             [
              0.6666666666666666,
              "#ed7953"
             ],
             [
              0.7777777777777778,
              "#fb9f3a"
             ],
             [
              0.8888888888888888,
              "#fdca26"
             ],
             [
              1,
              "#f0f921"
             ]
            ],
            "type": "histogram2dcontour"
           }
          ],
          "mesh3d": [
           {
            "colorbar": {
             "outlinewidth": 0,
             "ticks": ""
            },
            "type": "mesh3d"
           }
          ],
          "parcoords": [
           {
            "line": {
             "colorbar": {
              "outlinewidth": 0,
              "ticks": ""
             }
            },
            "type": "parcoords"
           }
          ],
          "pie": [
           {
            "automargin": true,
            "type": "pie"
           }
          ],
          "scatter": [
           {
            "fillpattern": {
             "fillmode": "overlay",
             "size": 10,
             "solidity": 0.2
            },
            "type": "scatter"
           }
          ],
          "scatter3d": [
           {
            "line": {
             "colorbar": {
              "outlinewidth": 0,
              "ticks": ""
             }
            },
            "marker": {
             "colorbar": {
              "outlinewidth": 0,
              "ticks": ""
             }
            },
            "type": "scatter3d"
           }
          ],
          "scattercarpet": [
           {
            "marker": {
             "colorbar": {
              "outlinewidth": 0,
              "ticks": ""
             }
            },
            "type": "scattercarpet"
           }
          ],
          "scattergeo": [
           {
            "marker": {
             "colorbar": {
              "outlinewidth": 0,
              "ticks": ""
             }
            },
            "type": "scattergeo"
           }
          ],
          "scattergl": [
           {
            "marker": {
             "colorbar": {
              "outlinewidth": 0,
              "ticks": ""
             }
            },
            "type": "scattergl"
           }
          ],
          "scattermapbox": [
           {
            "marker": {
             "colorbar": {
              "outlinewidth": 0,
              "ticks": ""
             }
            },
            "type": "scattermapbox"
           }
          ],
          "scatterpolar": [
           {
            "marker": {
             "colorbar": {
              "outlinewidth": 0,
              "ticks": ""
             }
            },
            "type": "scatterpolar"
           }
          ],
          "scatterpolargl": [
           {
            "marker": {
             "colorbar": {
              "outlinewidth": 0,
              "ticks": ""
             }
            },
            "type": "scatterpolargl"
           }
          ],
          "scatterternary": [
           {
            "marker": {
             "colorbar": {
              "outlinewidth": 0,
              "ticks": ""
             }
            },
            "type": "scatterternary"
           }
          ],
          "surface": [
           {
            "colorbar": {
             "outlinewidth": 0,
             "ticks": ""
            },
            "colorscale": [
             [
              0,
              "#0d0887"
             ],
             [
              0.1111111111111111,
              "#46039f"
             ],
             [
              0.2222222222222222,
              "#7201a8"
             ],
             [
              0.3333333333333333,
              "#9c179e"
             ],
             [
              0.4444444444444444,
              "#bd3786"
             ],
             [
              0.5555555555555556,
              "#d8576b"
             ],
             [
              0.6666666666666666,
              "#ed7953"
             ],
             [
              0.7777777777777778,
              "#fb9f3a"
             ],
             [
              0.8888888888888888,
              "#fdca26"
             ],
             [
              1,
              "#f0f921"
             ]
            ],
            "type": "surface"
           }
          ],
          "table": [
           {
            "cells": {
             "fill": {
              "color": "#EBF0F8"
             },
             "line": {
              "color": "white"
             }
            },
            "header": {
             "fill": {
              "color": "#C8D4E3"
             },
             "line": {
              "color": "white"
             }
            },
            "type": "table"
           }
          ]
         },
         "layout": {
          "annotationdefaults": {
           "arrowcolor": "#2a3f5f",
           "arrowhead": 0,
           "arrowwidth": 1
          },
          "autotypenumbers": "strict",
          "coloraxis": {
           "colorbar": {
            "outlinewidth": 0,
            "ticks": ""
           }
          },
          "colorscale": {
           "diverging": [
            [
             0,
             "#8e0152"
            ],
            [
             0.1,
             "#c51b7d"
            ],
            [
             0.2,
             "#de77ae"
            ],
            [
             0.3,
             "#f1b6da"
            ],
            [
             0.4,
             "#fde0ef"
            ],
            [
             0.5,
             "#f7f7f7"
            ],
            [
             0.6,
             "#e6f5d0"
            ],
            [
             0.7,
             "#b8e186"
            ],
            [
             0.8,
             "#7fbc41"
            ],
            [
             0.9,
             "#4d9221"
            ],
            [
             1,
             "#276419"
            ]
           ],
           "sequential": [
            [
             0,
             "#0d0887"
            ],
            [
             0.1111111111111111,
             "#46039f"
            ],
            [
             0.2222222222222222,
             "#7201a8"
            ],
            [
             0.3333333333333333,
             "#9c179e"
            ],
            [
             0.4444444444444444,
             "#bd3786"
            ],
            [
             0.5555555555555556,
             "#d8576b"
            ],
            [
             0.6666666666666666,
             "#ed7953"
            ],
            [
             0.7777777777777778,
             "#fb9f3a"
            ],
            [
             0.8888888888888888,
             "#fdca26"
            ],
            [
             1,
             "#f0f921"
            ]
           ],
           "sequentialminus": [
            [
             0,
             "#0d0887"
            ],
            [
             0.1111111111111111,
             "#46039f"
            ],
            [
             0.2222222222222222,
             "#7201a8"
            ],
            [
             0.3333333333333333,
             "#9c179e"
            ],
            [
             0.4444444444444444,
             "#bd3786"
            ],
            [
             0.5555555555555556,
             "#d8576b"
            ],
            [
             0.6666666666666666,
             "#ed7953"
            ],
            [
             0.7777777777777778,
             "#fb9f3a"
            ],
            [
             0.8888888888888888,
             "#fdca26"
            ],
            [
             1,
             "#f0f921"
            ]
           ]
          },
          "colorway": [
           "#636efa",
           "#EF553B",
           "#00cc96",
           "#ab63fa",
           "#FFA15A",
           "#19d3f3",
           "#FF6692",
           "#B6E880",
           "#FF97FF",
           "#FECB52"
          ],
          "font": {
           "color": "#2a3f5f"
          },
          "geo": {
           "bgcolor": "white",
           "lakecolor": "white",
           "landcolor": "#E5ECF6",
           "showlakes": true,
           "showland": true,
           "subunitcolor": "white"
          },
          "hoverlabel": {
           "align": "left"
          },
          "hovermode": "closest",
          "mapbox": {
           "style": "light"
          },
          "paper_bgcolor": "white",
          "plot_bgcolor": "#E5ECF6",
          "polar": {
           "angularaxis": {
            "gridcolor": "white",
            "linecolor": "white",
            "ticks": ""
           },
           "bgcolor": "#E5ECF6",
           "radialaxis": {
            "gridcolor": "white",
            "linecolor": "white",
            "ticks": ""
           }
          },
          "scene": {
           "xaxis": {
            "backgroundcolor": "#E5ECF6",
            "gridcolor": "white",
            "gridwidth": 2,
            "linecolor": "white",
            "showbackground": true,
            "ticks": "",
            "zerolinecolor": "white"
           },
           "yaxis": {
            "backgroundcolor": "#E5ECF6",
            "gridcolor": "white",
            "gridwidth": 2,
            "linecolor": "white",
            "showbackground": true,
            "ticks": "",
            "zerolinecolor": "white"
           },
           "zaxis": {
            "backgroundcolor": "#E5ECF6",
            "gridcolor": "white",
            "gridwidth": 2,
            "linecolor": "white",
            "showbackground": true,
            "ticks": "",
            "zerolinecolor": "white"
           }
          },
          "shapedefaults": {
           "line": {
            "color": "#2a3f5f"
           }
          },
          "ternary": {
           "aaxis": {
            "gridcolor": "white",
            "linecolor": "white",
            "ticks": ""
           },
           "baxis": {
            "gridcolor": "white",
            "linecolor": "white",
            "ticks": ""
           },
           "bgcolor": "#E5ECF6",
           "caxis": {
            "gridcolor": "white",
            "linecolor": "white",
            "ticks": ""
           }
          },
          "title": {
           "x": 0.05
          },
          "xaxis": {
           "automargin": true,
           "gridcolor": "white",
           "linecolor": "white",
           "ticks": "",
           "title": {
            "standoff": 15
           },
           "zerolinecolor": "white",
           "zerolinewidth": 2
          },
          "yaxis": {
           "automargin": true,
           "gridcolor": "white",
           "linecolor": "white",
           "ticks": "",
           "title": {
            "standoff": 15
           },
           "zerolinecolor": "white",
           "zerolinewidth": 2
          }
         }
        }
       }
      }
     },
     "metadata": {},
     "output_type": "display_data"
    }
   ],
   "source": [
    "# plot years in pie chart\n",
    "fig = go.Figure(data=[go.Pie(labels=['Total Failure Years', 'Total Treatment Years', 'Total Healthy Years'],\n",
    "                             values=[total_failure_years, total_treatment_years, healthy_years])])\n",
    "fig.show()"
   ]
  },
  {
   "cell_type": "code",
   "execution_count": 150,
   "metadata": {},
   "outputs": [
    {
     "name": "stdout",
     "output_type": "stream",
     "text": [
      "Failure DALY: 153318.23248968017\n",
      "Extrapolated Failure DALY: 3832955.812242004\n",
      "Treatment DALY: 26649136.676048126\n"
     ]
    }
   ],
   "source": [
    "failure_daly = total_failure_years*0.095\n",
    "extrapolated_failure_dalys = total_failure_years*25*0.095 # add 25 years to everyone on failure to average to 70 years\n",
    "treatment_daly = total_treatment_years*0.231\n",
    "\n",
    "print(f'Failure DALY: {failure_daly}')\n",
    "print(f'Extrapolated Failure DALY: {extrapolated_failure_dalys}')\n",
    "print(f'Treatment DALY: {treatment_daly}')"
   ]
  },
  {
   "cell_type": "code",
   "execution_count": 138,
   "metadata": {},
   "outputs": [
    {
     "data": {
      "image/png": "[encoded data removed]",
      "text/plain": [
       "<Figure size 640x480 with 1 Axes>"
      ]
     },
     "metadata": {},
     "output_type": "display_data"
    }
   ],
   "source": [
    "plt.bar(['Failure DALYs', 'Extrapolated Failure DALYs'],\n",
    "        [failure_daly, extrapolated_failure_dalys])\n",
    "plt.ylabel('DALYs')\n",
    "plt.show()\n"
   ]
  },
  {
   "cell_type": "code",
   "execution_count": 151,
   "metadata": {},
   "outputs": [
    {
     "data": {
      "image/png": "[encoded data removed]",
      "text/plain": [
       "<Figure size 640x480 with 1 Axes>"
      ]
     },
     "metadata": {},
     "output_type": "display_data"
    }
   ],
   "source": [
    "\n",
    "# Plot the total treatment DALYs, original total failure DALYs, and extrapolated failure DALYs\n",
    "plt.bar(['Treatment DALYs', 'Extrapolated Failure DALYs'],\n",
    "        [treatment_daly, extrapolated_failure_dalys])\n",
    "plt.ylabel('DALYs')\n",
    "plt.show()\n"
   ]
  }
 ],
 "metadata": {
  "kernelspec": {
   "display_name": "Python 3",
   "language": "python",
   "name": "python3"
  },
  "language_info": {
   "codemirror_mode": {
    "name": "ipython",
    "version": 3
   },
   "file_extension": ".py",
   "mimetype": "text/x-python",
   "name": "python",
   "nbconvert_exporter": "python",
   "pygments_lexer": "ipython3",
   "version": "3.11.5"
  }
 },
 "nbformat": 4,
 "nbformat_minor": 2
}
