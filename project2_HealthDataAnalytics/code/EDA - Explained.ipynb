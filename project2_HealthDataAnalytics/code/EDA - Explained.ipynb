{
 "cells": [
  {
   "cell_type": "code",
   "execution_count": 3,
   "metadata": {},
   "outputs": [],
   "source": [
    "import pandas as pd\n",
    "import numpy as np\n",
    "import plotly as py"
   ]
  },
  {
   "cell_type": "code",
   "execution_count": 4,
   "metadata": {},
   "outputs": [
    {
     "data": {
      "text/html": [
       "<div>\n",
       "<style scoped>\n",
       "    .dataframe tbody tr th:only-of-type {\n",
       "        vertical-align: middle;\n",
       "    }\n",
       "\n",
       "    .dataframe tbody tr th {\n",
       "        vertical-align: top;\n",
       "    }\n",
       "\n",
       "    .dataframe thead th {\n",
       "        text-align: right;\n",
       "    }\n",
       "</style>\n",
       "<table border=\"1\" class=\"dataframe\">\n",
       "  <thead>\n",
       "    <tr style=\"text-align: right;\">\n",
       "      <th></th>\n",
       "      <th>YearStart</th>\n",
       "      <th>YearEnd</th>\n",
       "      <th>LocationAbbr</th>\n",
       "      <th>LocationDesc</th>\n",
       "      <th>DataSource</th>\n",
       "      <th>Topic</th>\n",
       "      <th>Question</th>\n",
       "      <th>Response</th>\n",
       "      <th>DataValueUnit</th>\n",
       "      <th>DataValueType</th>\n",
       "      <th>DataValue</th>\n",
       "      <th>DataValueAlt</th>\n",
       "      <th>DataValueFootnoteSymbol</th>\n",
       "      <th>DataValueFootnote</th>\n",
       "      <th>LowConfidenceLimit</th>\n",
       "      <th>HighConfidenceLimit</th>\n",
       "      <th>StratificationCategory1</th>\n",
       "      <th>Stratification1</th>\n",
       "      <th>StratificationCategory2</th>\n",
       "      <th>Stratification2</th>\n",
       "      <th>StratificationCategory3</th>\n",
       "      <th>Stratification3</th>\n",
       "      <th>Geolocation</th>\n",
       "      <th>LocationID</th>\n",
       "      <th>TopicID</th>\n",
       "      <th>QuestionID</th>\n",
       "      <th>ResponseID</th>\n",
       "      <th>DataValueTypeID</th>\n",
       "      <th>StratificationCategoryID1</th>\n",
       "      <th>StratificationID1</th>\n",
       "      <th>StratificationCategoryID2</th>\n",
       "      <th>StratificationID2</th>\n",
       "      <th>StratificationCategoryID3</th>\n",
       "      <th>StratificationID3</th>\n",
       "    </tr>\n",
       "  </thead>\n",
       "  <tbody>\n",
       "    <tr>\n",
       "      <th>0</th>\n",
       "      <td>2019</td>\n",
       "      <td>2019</td>\n",
       "      <td>GA</td>\n",
       "      <td>Georgia</td>\n",
       "      <td>BRFSS</td>\n",
       "      <td>Disability</td>\n",
       "      <td>Adults with any disability</td>\n",
       "      <td>NaN</td>\n",
       "      <td>%</td>\n",
       "      <td>Crude Prevalence</td>\n",
       "      <td>44.0</td>\n",
       "      <td>44.0</td>\n",
       "      <td>NaN</td>\n",
       "      <td>NaN</td>\n",
       "      <td>41.0</td>\n",
       "      <td>47.1</td>\n",
       "      <td>Age</td>\n",
       "      <td>Age &gt;=65</td>\n",
       "      <td>NaN</td>\n",
       "      <td>NaN</td>\n",
       "      <td>NaN</td>\n",
       "      <td>NaN</td>\n",
       "      <td>POINT (-83.62758034599966 32.83968109300048)</td>\n",
       "      <td>13</td>\n",
       "      <td>DIS</td>\n",
       "      <td>DIS01</td>\n",
       "      <td>NaN</td>\n",
       "      <td>CRDPREV</td>\n",
       "      <td>AGE</td>\n",
       "      <td>AGE65P</td>\n",
       "      <td>NaN</td>\n",
       "      <td>NaN</td>\n",
       "      <td>NaN</td>\n",
       "      <td>NaN</td>\n",
       "    </tr>\n",
       "    <tr>\n",
       "      <th>1</th>\n",
       "      <td>2019</td>\n",
       "      <td>2019</td>\n",
       "      <td>GU</td>\n",
       "      <td>Guam</td>\n",
       "      <td>BRFSS</td>\n",
       "      <td>Arthritis</td>\n",
       "      <td>Arthritis among adults</td>\n",
       "      <td>NaN</td>\n",
       "      <td>%</td>\n",
       "      <td>Crude Prevalence</td>\n",
       "      <td>15.9</td>\n",
       "      <td>15.9</td>\n",
       "      <td>NaN</td>\n",
       "      <td>NaN</td>\n",
       "      <td>13.3</td>\n",
       "      <td>18.9</td>\n",
       "      <td>Sex</td>\n",
       "      <td>Female</td>\n",
       "      <td>NaN</td>\n",
       "      <td>NaN</td>\n",
       "      <td>NaN</td>\n",
       "      <td>NaN</td>\n",
       "      <td>POINT (144.793731 13.444304)</td>\n",
       "      <td>66</td>\n",
       "      <td>ART</td>\n",
       "      <td>ART01</td>\n",
       "      <td>NaN</td>\n",
       "      <td>CRDPREV</td>\n",
       "      <td>SEX</td>\n",
       "      <td>SEXF</td>\n",
       "      <td>NaN</td>\n",
       "      <td>NaN</td>\n",
       "      <td>NaN</td>\n",
       "      <td>NaN</td>\n",
       "    </tr>\n",
       "    <tr>\n",
       "      <th>2</th>\n",
       "      <td>2019</td>\n",
       "      <td>2019</td>\n",
       "      <td>GU</td>\n",
       "      <td>Guam</td>\n",
       "      <td>BRFSS</td>\n",
       "      <td>Immunization</td>\n",
       "      <td>Influenza vaccination among adults</td>\n",
       "      <td>NaN</td>\n",
       "      <td>%</td>\n",
       "      <td>Crude Prevalence</td>\n",
       "      <td>30.0</td>\n",
       "      <td>30.0</td>\n",
       "      <td>NaN</td>\n",
       "      <td>NaN</td>\n",
       "      <td>26.2</td>\n",
       "      <td>34.0</td>\n",
       "      <td>Sex</td>\n",
       "      <td>Male</td>\n",
       "      <td>NaN</td>\n",
       "      <td>NaN</td>\n",
       "      <td>NaN</td>\n",
       "      <td>NaN</td>\n",
       "      <td>POINT (144.793731 13.444304)</td>\n",
       "      <td>66</td>\n",
       "      <td>IMM</td>\n",
       "      <td>IMM01</td>\n",
       "      <td>NaN</td>\n",
       "      <td>CRDPREV</td>\n",
       "      <td>SEX</td>\n",
       "      <td>SEXM</td>\n",
       "      <td>NaN</td>\n",
       "      <td>NaN</td>\n",
       "      <td>NaN</td>\n",
       "      <td>NaN</td>\n",
       "    </tr>\n",
       "  </tbody>\n",
       "</table>\n",
       "</div>"
      ],
      "text/plain": [
       "   YearStart  YearEnd LocationAbbr LocationDesc DataSource         Topic  \\\n",
       "0       2019     2019           GA      Georgia      BRFSS    Disability   \n",
       "1       2019     2019           GU         Guam      BRFSS     Arthritis   \n",
       "2       2019     2019           GU         Guam      BRFSS  Immunization   \n",
       "\n",
       "                             Question  Response DataValueUnit  \\\n",
       "0          Adults with any disability       NaN             %   \n",
       "1              Arthritis among adults       NaN             %   \n",
       "2  Influenza vaccination among adults       NaN             %   \n",
       "\n",
       "      DataValueType  DataValue  DataValueAlt DataValueFootnoteSymbol  \\\n",
       "0  Crude Prevalence       44.0          44.0                     NaN   \n",
       "1  Crude Prevalence       15.9          15.9                     NaN   \n",
       "2  Crude Prevalence       30.0          30.0                     NaN   \n",
       "\n",
       "  DataValueFootnote  LowConfidenceLimit  HighConfidenceLimit  \\\n",
       "0               NaN                41.0                 47.1   \n",
       "1               NaN                13.3                 18.9   \n",
       "2               NaN                26.2                 34.0   \n",
       "\n",
       "  StratificationCategory1 Stratification1  StratificationCategory2  \\\n",
       "0                     Age        Age >=65                      NaN   \n",
       "1                     Sex          Female                      NaN   \n",
       "2                     Sex            Male                      NaN   \n",
       "\n",
       "   Stratification2  StratificationCategory3  Stratification3  \\\n",
       "0              NaN                      NaN              NaN   \n",
       "1              NaN                      NaN              NaN   \n",
       "2              NaN                      NaN              NaN   \n",
       "\n",
       "                                    Geolocation  LocationID TopicID  \\\n",
       "0  POINT (-83.62758034599966 32.83968109300048)          13     DIS   \n",
       "1                  POINT (144.793731 13.444304)          66     ART   \n",
       "2                  POINT (144.793731 13.444304)          66     IMM   \n",
       "\n",
       "  QuestionID  ResponseID DataValueTypeID StratificationCategoryID1  \\\n",
       "0      DIS01         NaN         CRDPREV                       AGE   \n",
       "1      ART01         NaN         CRDPREV                       SEX   \n",
       "2      IMM01         NaN         CRDPREV                       SEX   \n",
       "\n",
       "  StratificationID1  StratificationCategoryID2  StratificationID2  \\\n",
       "0            AGE65P                        NaN                NaN   \n",
       "1              SEXF                        NaN                NaN   \n",
       "2              SEXM                        NaN                NaN   \n",
       "\n",
       "   StratificationCategoryID3  StratificationID3  \n",
       "0                        NaN                NaN  \n",
       "1                        NaN                NaN  \n",
       "2                        NaN                NaN  "
      ]
     },
     "execution_count": 4,
     "metadata": {},
     "output_type": "execute_result"
    }
   ],
   "source": [
    "df = pd.read_csv('U.S._Chronic_Disease_Indicators.csv')\n",
    "pd.set_option('display.max_columns', None)\n",
    "pd.set_option('display.max_rows', None)\n",
    "df.head(3)"
   ]
  },
  {
   "cell_type": "code",
   "execution_count": 5,
   "metadata": {},
   "outputs": [
    {
     "name": "stdout",
     "output_type": "stream",
     "text": [
      "<class 'pandas.core.frame.DataFrame'>\n",
      "RangeIndex: 311745 entries, 0 to 311744\n",
      "Data columns (total 34 columns):\n",
      " #   Column                     Non-Null Count   Dtype  \n",
      "---  ------                     --------------   -----  \n",
      " 0   YearStart                  311745 non-null  int64  \n",
      " 1   YearEnd                    311745 non-null  int64  \n",
      " 2   LocationAbbr               311745 non-null  object \n",
      " 3   LocationDesc               311745 non-null  object \n",
      " 4   DataSource                 311745 non-null  object \n",
      " 5   Topic                      311745 non-null  object \n",
      " 6   Question                   311745 non-null  object \n",
      " 7   Response                   0 non-null       float64\n",
      " 8   DataValueUnit              311745 non-null  object \n",
      " 9   DataValueType              311745 non-null  object \n",
      " 10  DataValue                  210684 non-null  float64\n",
      " 11  DataValueAlt               210684 non-null  float64\n",
      " 12  DataValueFootnoteSymbol    102758 non-null  object \n",
      " 13  DataValueFootnote          102758 non-null  object \n",
      " 14  LowConfidenceLimit         190373 non-null  float64\n",
      " 15  HighConfidenceLimit        190378 non-null  float64\n",
      " 16  StratificationCategory1    311745 non-null  object \n",
      " 17  Stratification1            311745 non-null  object \n",
      " 18  StratificationCategory2    0 non-null       float64\n",
      " 19  Stratification2            0 non-null       float64\n",
      " 20  StratificationCategory3    0 non-null       float64\n",
      " 21  Stratification3            0 non-null       float64\n",
      " 22  Geolocation                305936 non-null  object \n",
      " 23  LocationID                 311745 non-null  int64  \n",
      " 24  TopicID                    311745 non-null  object \n",
      " 25  QuestionID                 311745 non-null  object \n",
      " 26  ResponseID                 0 non-null       float64\n",
      " 27  DataValueTypeID            311745 non-null  object \n",
      " 28  StratificationCategoryID1  311745 non-null  object \n",
      " 29  StratificationID1          311745 non-null  object \n",
      " 30  StratificationCategoryID2  0 non-null       float64\n",
      " 31  StratificationID2          0 non-null       float64\n",
      " 32  StratificationCategoryID3  0 non-null       float64\n",
      " 33  StratificationID3          0 non-null       float64\n",
      "dtypes: float64(14), int64(3), object(17)\n",
      "memory usage: 80.9+ MB\n"
     ]
    }
   ],
   "source": [
    "df.info()"
   ]
  },
  {
   "cell_type": "markdown",
   "metadata": {},
   "source": [
    "# EDA"
   ]
  },
  {
   "cell_type": "markdown",
   "metadata": {},
   "source": [
    "### Cleaned up dataframe by removing columns where all the values are NaN"
   ]
  },
  {
   "cell_type": "code",
   "execution_count": 6,
   "metadata": {},
   "outputs": [
    {
     "name": "stdout",
     "output_type": "stream",
     "text": [
      "<class 'pandas.core.frame.DataFrame'>\n",
      "RangeIndex: 311745 entries, 0 to 311744\n",
      "Data columns (total 24 columns):\n",
      " #   Column                     Non-Null Count   Dtype  \n",
      "---  ------                     --------------   -----  \n",
      " 0   YearStart                  311745 non-null  int64  \n",
      " 1   YearEnd                    311745 non-null  int64  \n",
      " 2   LocationAbbr               311745 non-null  object \n",
      " 3   LocationDesc               311745 non-null  object \n",
      " 4   DataSource                 311745 non-null  object \n",
      " 5   Topic                      311745 non-null  object \n",
      " 6   Question                   311745 non-null  object \n",
      " 7   DataValueUnit              311745 non-null  object \n",
      " 8   DataValueType              311745 non-null  object \n",
      " 9   DataValue                  210684 non-null  float64\n",
      " 10  DataValueAlt               210684 non-null  float64\n",
      " 11  DataValueFootnoteSymbol    102758 non-null  object \n",
      " 12  DataValueFootnote          102758 non-null  object \n",
      " 13  LowConfidenceLimit         190373 non-null  float64\n",
      " 14  HighConfidenceLimit        190378 non-null  float64\n",
      " 15  StratificationCategory1    311745 non-null  object \n",
      " 16  Stratification1            311745 non-null  object \n",
      " 17  Geolocation                305936 non-null  object \n",
      " 18  LocationID                 311745 non-null  int64  \n",
      " 19  TopicID                    311745 non-null  object \n",
      " 20  QuestionID                 311745 non-null  object \n",
      " 21  DataValueTypeID            311745 non-null  object \n",
      " 22  StratificationCategoryID1  311745 non-null  object \n",
      " 23  StratificationID1          311745 non-null  object \n",
      "dtypes: float64(4), int64(3), object(17)\n",
      "memory usage: 57.1+ MB\n"
     ]
    }
   ],
   "source": [
    "df2 = df.dropna(how='all', axis=1)\n",
    "df2.info()"
   ]
  },
  {
   "cell_type": "markdown",
   "metadata": {},
   "source": [
    "### Looking into which values are still NaN in the dataframe"
   ]
  },
  {
   "cell_type": "code",
   "execution_count": 7,
   "metadata": {},
   "outputs": [
    {
     "data": {
      "text/html": [
       "<div>\n",
       "<style scoped>\n",
       "    .dataframe tbody tr th:only-of-type {\n",
       "        vertical-align: middle;\n",
       "    }\n",
       "\n",
       "    .dataframe tbody tr th {\n",
       "        vertical-align: top;\n",
       "    }\n",
       "\n",
       "    .dataframe thead th {\n",
       "        text-align: right;\n",
       "    }\n",
       "</style>\n",
       "<table border=\"1\" class=\"dataframe\">\n",
       "  <thead>\n",
       "    <tr style=\"text-align: right;\">\n",
       "      <th></th>\n",
       "      <th>YearStart</th>\n",
       "      <th>YearEnd</th>\n",
       "      <th>LocationAbbr</th>\n",
       "      <th>LocationDesc</th>\n",
       "      <th>DataSource</th>\n",
       "      <th>Topic</th>\n",
       "      <th>Question</th>\n",
       "      <th>DataValueUnit</th>\n",
       "      <th>DataValueType</th>\n",
       "      <th>DataValue</th>\n",
       "      <th>DataValueAlt</th>\n",
       "      <th>DataValueFootnoteSymbol</th>\n",
       "      <th>DataValueFootnote</th>\n",
       "      <th>LowConfidenceLimit</th>\n",
       "      <th>HighConfidenceLimit</th>\n",
       "      <th>StratificationCategory1</th>\n",
       "      <th>Stratification1</th>\n",
       "      <th>Geolocation</th>\n",
       "      <th>LocationID</th>\n",
       "      <th>TopicID</th>\n",
       "      <th>QuestionID</th>\n",
       "      <th>DataValueTypeID</th>\n",
       "      <th>StratificationCategoryID1</th>\n",
       "      <th>StratificationID1</th>\n",
       "    </tr>\n",
       "  </thead>\n",
       "  <tbody>\n",
       "    <tr>\n",
       "      <th>7</th>\n",
       "      <td>2019</td>\n",
       "      <td>2019</td>\n",
       "      <td>VI</td>\n",
       "      <td>Virgin Islands</td>\n",
       "      <td>YRBSS</td>\n",
       "      <td>Alcohol</td>\n",
       "      <td>Alcohol use among high school students</td>\n",
       "      <td>%</td>\n",
       "      <td>Crude Prevalence</td>\n",
       "      <td>NaN</td>\n",
       "      <td>NaN</td>\n",
       "      <td>*</td>\n",
       "      <td>No data available</td>\n",
       "      <td>NaN</td>\n",
       "      <td>NaN</td>\n",
       "      <td>Sex</td>\n",
       "      <td>Female</td>\n",
       "      <td>POINT (-64.896335 18.335765)</td>\n",
       "      <td>78</td>\n",
       "      <td>ALC</td>\n",
       "      <td>ALC01</td>\n",
       "      <td>CRDPREV</td>\n",
       "      <td>SEX</td>\n",
       "      <td>SEXF</td>\n",
       "    </tr>\n",
       "    <tr>\n",
       "      <th>45</th>\n",
       "      <td>2015</td>\n",
       "      <td>2019</td>\n",
       "      <td>CO</td>\n",
       "      <td>Colorado</td>\n",
       "      <td>US Cancer DVT</td>\n",
       "      <td>Cancer</td>\n",
       "      <td>Cervical cancer mortality among all females, u...</td>\n",
       "      <td>per 100,000</td>\n",
       "      <td>Crude Rate</td>\n",
       "      <td>NaN</td>\n",
       "      <td>NaN</td>\n",
       "      <td>~</td>\n",
       "      <td>Data suppressed; too few respondents or cases</td>\n",
       "      <td>NaN</td>\n",
       "      <td>NaN</td>\n",
       "      <td>Race/Ethnicity</td>\n",
       "      <td>American Indian or Alaska Native, non-Hispanic</td>\n",
       "      <td>POINT (-106.13361092099967 38.843840757000464)</td>\n",
       "      <td>8</td>\n",
       "      <td>CAN</td>\n",
       "      <td>CAN03</td>\n",
       "      <td>CRDRATE</td>\n",
       "      <td>RACE</td>\n",
       "      <td>AIAN</td>\n",
       "    </tr>\n",
       "    <tr>\n",
       "      <th>46</th>\n",
       "      <td>2015</td>\n",
       "      <td>2019</td>\n",
       "      <td>AL</td>\n",
       "      <td>Alabama</td>\n",
       "      <td>US Cancer DVT</td>\n",
       "      <td>Cancer</td>\n",
       "      <td>Cervical cancer mortality among all females, u...</td>\n",
       "      <td>per 100,000</td>\n",
       "      <td>Age-adjusted Rate</td>\n",
       "      <td>NaN</td>\n",
       "      <td>NaN</td>\n",
       "      <td>~</td>\n",
       "      <td>Data suppressed; too few respondents or cases</td>\n",
       "      <td>NaN</td>\n",
       "      <td>NaN</td>\n",
       "      <td>Sex</td>\n",
       "      <td>Male</td>\n",
       "      <td>POINT (-86.63186076199969 32.84057112200048)</td>\n",
       "      <td>1</td>\n",
       "      <td>CAN</td>\n",
       "      <td>CAN03</td>\n",
       "      <td>AGEADJRATE</td>\n",
       "      <td>SEX</td>\n",
       "      <td>SEXM</td>\n",
       "    </tr>\n",
       "    <tr>\n",
       "      <th>47</th>\n",
       "      <td>2016</td>\n",
       "      <td>2020</td>\n",
       "      <td>ID</td>\n",
       "      <td>Idaho</td>\n",
       "      <td>US Cancer DVT</td>\n",
       "      <td>Cancer</td>\n",
       "      <td>Breast cancer mortality among all females, und...</td>\n",
       "      <td>per 100,000</td>\n",
       "      <td>Crude Rate</td>\n",
       "      <td>NaN</td>\n",
       "      <td>NaN</td>\n",
       "      <td>~</td>\n",
       "      <td>Data suppressed; too few respondents or cases</td>\n",
       "      <td>NaN</td>\n",
       "      <td>NaN</td>\n",
       "      <td>Sex</td>\n",
       "      <td>Male</td>\n",
       "      <td>POINT (-114.3637300419997 43.682630005000476)</td>\n",
       "      <td>16</td>\n",
       "      <td>CAN</td>\n",
       "      <td>CAN02</td>\n",
       "      <td>CRDRATE</td>\n",
       "      <td>SEX</td>\n",
       "      <td>SEXM</td>\n",
       "    </tr>\n",
       "    <tr>\n",
       "      <th>51</th>\n",
       "      <td>2015</td>\n",
       "      <td>2019</td>\n",
       "      <td>NC</td>\n",
       "      <td>North Carolina</td>\n",
       "      <td>US Cancer DVT</td>\n",
       "      <td>Cancer</td>\n",
       "      <td>Prostate cancer mortality among all males, und...</td>\n",
       "      <td>per 100,000</td>\n",
       "      <td>Crude Rate</td>\n",
       "      <td>NaN</td>\n",
       "      <td>NaN</td>\n",
       "      <td>~</td>\n",
       "      <td>Data suppressed; too few respondents or cases</td>\n",
       "      <td>NaN</td>\n",
       "      <td>NaN</td>\n",
       "      <td>Sex</td>\n",
       "      <td>Female</td>\n",
       "      <td>POINT (-79.15925046299964 35.466220975000454)</td>\n",
       "      <td>37</td>\n",
       "      <td>CAN</td>\n",
       "      <td>CAN05</td>\n",
       "      <td>CRDRATE</td>\n",
       "      <td>SEX</td>\n",
       "      <td>SEXF</td>\n",
       "    </tr>\n",
       "  </tbody>\n",
       "</table>\n",
       "</div>"
      ],
      "text/plain": [
       "    YearStart  YearEnd LocationAbbr    LocationDesc     DataSource    Topic  \\\n",
       "7        2019     2019           VI  Virgin Islands          YRBSS  Alcohol   \n",
       "45       2015     2019           CO        Colorado  US Cancer DVT   Cancer   \n",
       "46       2015     2019           AL         Alabama  US Cancer DVT   Cancer   \n",
       "47       2016     2020           ID           Idaho  US Cancer DVT   Cancer   \n",
       "51       2015     2019           NC  North Carolina  US Cancer DVT   Cancer   \n",
       "\n",
       "                                             Question DataValueUnit  \\\n",
       "7              Alcohol use among high school students             %   \n",
       "45  Cervical cancer mortality among all females, u...   per 100,000   \n",
       "46  Cervical cancer mortality among all females, u...   per 100,000   \n",
       "47  Breast cancer mortality among all females, und...   per 100,000   \n",
       "51  Prostate cancer mortality among all males, und...   per 100,000   \n",
       "\n",
       "        DataValueType  DataValue  DataValueAlt DataValueFootnoteSymbol  \\\n",
       "7    Crude Prevalence        NaN           NaN                       *   \n",
       "45         Crude Rate        NaN           NaN                       ~   \n",
       "46  Age-adjusted Rate        NaN           NaN                       ~   \n",
       "47         Crude Rate        NaN           NaN                       ~   \n",
       "51         Crude Rate        NaN           NaN                       ~   \n",
       "\n",
       "                                DataValueFootnote  LowConfidenceLimit  \\\n",
       "7                               No data available                 NaN   \n",
       "45  Data suppressed; too few respondents or cases                 NaN   \n",
       "46  Data suppressed; too few respondents or cases                 NaN   \n",
       "47  Data suppressed; too few respondents or cases                 NaN   \n",
       "51  Data suppressed; too few respondents or cases                 NaN   \n",
       "\n",
       "    HighConfidenceLimit StratificationCategory1  \\\n",
       "7                   NaN                     Sex   \n",
       "45                  NaN          Race/Ethnicity   \n",
       "46                  NaN                     Sex   \n",
       "47                  NaN                     Sex   \n",
       "51                  NaN                     Sex   \n",
       "\n",
       "                                   Stratification1  \\\n",
       "7                                           Female   \n",
       "45  American Indian or Alaska Native, non-Hispanic   \n",
       "46                                            Male   \n",
       "47                                            Male   \n",
       "51                                          Female   \n",
       "\n",
       "                                       Geolocation  LocationID TopicID  \\\n",
       "7                     POINT (-64.896335 18.335765)          78     ALC   \n",
       "45  POINT (-106.13361092099967 38.843840757000464)           8     CAN   \n",
       "46    POINT (-86.63186076199969 32.84057112200048)           1     CAN   \n",
       "47   POINT (-114.3637300419997 43.682630005000476)          16     CAN   \n",
       "51   POINT (-79.15925046299964 35.466220975000454)          37     CAN   \n",
       "\n",
       "   QuestionID DataValueTypeID StratificationCategoryID1 StratificationID1  \n",
       "7       ALC01         CRDPREV                       SEX              SEXF  \n",
       "45      CAN03         CRDRATE                      RACE              AIAN  \n",
       "46      CAN03      AGEADJRATE                       SEX              SEXM  \n",
       "47      CAN02         CRDRATE                       SEX              SEXM  \n",
       "51      CAN05         CRDRATE                       SEX              SEXF  "
      ]
     },
     "execution_count": 7,
     "metadata": {},
     "output_type": "execute_result"
    }
   ],
   "source": [
    "Check_DV = df2[df2[['DataValue']].isnull().all(axis=1)]\n",
    "Check_DV.head()"
   ]
  },
  {
   "cell_type": "markdown",
   "metadata": {},
   "source": [
    "### Looked at the value counts of the each Topic under the 'Topic' column in the dataset. We are looking for topics that have large amount of data that will help us create visualization which sufficient information"
   ]
  },
  {
   "cell_type": "code",
   "execution_count": 8,
   "metadata": {},
   "outputs": [
    {
     "data": {
      "text/plain": [
       "Topic\n",
       "Cardiovascular Disease                             30709\n",
       "Chronic Obstructive Pulmonary Disease              28216\n",
       "Nutrition, Physical Activity, and Weight Status    26069\n",
       "Health Status                                      25612\n",
       "Alcohol                                            25321\n",
       "Cancer                                             22358\n",
       "Arthritis                                          19910\n",
       "Immunization                                       19140\n",
       "Social Determinants of Health                      19026\n",
       "Diabetes                                           17318\n",
       "Mental Health                                      16976\n",
       "Tobacco                                            15931\n",
       "Oral Health                                        13236\n",
       "Asthma                                             10511\n",
       "Cognitive Health and Caregiving                     9904\n",
       "Sleep                                               5318\n",
       "Disability                                          5060\n",
       "Maternal Health                                     1026\n",
       "Chronic Kidney Disease                               104\n",
       "Name: count, dtype: int64"
      ]
     },
     "execution_count": 8,
     "metadata": {},
     "output_type": "execute_result"
    }
   ],
   "source": [
    "topics = df2['Topic'].value_counts()\n",
    "topics"
   ]
  },
  {
   "cell_type": "markdown",
   "metadata": {},
   "source": [
    "### Within each topic there is number of questions with their data points. We selected each question within the topics and looked at their data\n",
    "#### The final chosen topics were *Nutrition, Physical Activity, and Weight Status* and *Health Status*"
   ]
  },
  {
   "cell_type": "code",
   "execution_count": 9,
   "metadata": {},
   "outputs": [
    {
     "data": {
      "text/plain": [
       "Question\n",
       "2 or more chronic conditions among adults                5060\n",
       "Fair or poor self-rated health status among adults       5060\n",
       "Recent activity limitation among adults                  5060\n",
       "Average recent physically unhealthy days among adults    5060\n",
       "Frequent physical distress among adults                  5060\n",
       "Life expectancy at birth                                  312\n",
       "Name: count, dtype: int64"
      ]
     },
     "execution_count": 9,
     "metadata": {},
     "output_type": "execute_result"
    }
   ],
   "source": [
    "Topic_1 = df2[df2['Topic'] == 'Health Status']\n",
    "unique_T1 = Topic_1['Question'].value_counts()\n",
    "unique_T1\n",
    "# len(unique_T1)"
   ]
  },
  {
   "cell_type": "code",
   "execution_count": 10,
   "metadata": {},
   "outputs": [
    {
     "data": {
      "text/plain": [
       "Question\n",
       "No leisure-time physical activity among adults                                          5060\n",
       "Obesity among adults                                                                    5060\n",
       "Consumed fruit less than one time daily among adults                                    2530\n",
       "Consumed vegetables less than one time daily among adults                               2530\n",
       "Consumed regular soda at least one time daily among high school students                1540\n",
       "Consumed vegetables less than one time daily among high school students                 1540\n",
       "Consumed fruit less than one time daily among high school students                      1540\n",
       "Met aerobic physical activity guideline among high school students                      1540\n",
       "Obesity among high school students                                                      1540\n",
       "Met aerobic physical activity guideline for substantial health benefits, adults         1265\n",
       "Children and adolescents aged 6-13 years meeting aerobic physical activity guideline    1248\n",
       "Obesity among WIC children aged 2 to 4 years                                             432\n",
       "Infants who were exclusively breastfed through 6 months                                  122\n",
       "Infants who were breastfed at 12 months                                                  122\n",
       "Name: count, dtype: int64"
      ]
     },
     "execution_count": 10,
     "metadata": {},
     "output_type": "execute_result"
    }
   ],
   "source": [
    "Topic_2 = df2[df2['Topic'] == 'Nutrition, Physical Activity, and Weight Status']\n",
    "unique_T2 = Topic_2['Question'].value_counts()\n",
    "unique_T2\n",
    "# len(unique_T2)"
   ]
  },
  {
   "cell_type": "code",
   "execution_count": 11,
   "metadata": {},
   "outputs": [
    {
     "data": {
      "text/html": [
       "<div>\n",
       "<style scoped>\n",
       "    .dataframe tbody tr th:only-of-type {\n",
       "        vertical-align: middle;\n",
       "    }\n",
       "\n",
       "    .dataframe tbody tr th {\n",
       "        vertical-align: top;\n",
       "    }\n",
       "\n",
       "    .dataframe thead th {\n",
       "        text-align: right;\n",
       "    }\n",
       "</style>\n",
       "<table border=\"1\" class=\"dataframe\">\n",
       "  <thead>\n",
       "    <tr style=\"text-align: right;\">\n",
       "      <th></th>\n",
       "      <th>YearStart</th>\n",
       "      <th>YearEnd</th>\n",
       "      <th>LocationAbbr</th>\n",
       "      <th>LocationDesc</th>\n",
       "      <th>DataSource</th>\n",
       "      <th>Topic</th>\n",
       "      <th>Question</th>\n",
       "      <th>DataValueUnit</th>\n",
       "      <th>DataValueType</th>\n",
       "      <th>DataValue</th>\n",
       "      <th>DataValueAlt</th>\n",
       "      <th>DataValueFootnoteSymbol</th>\n",
       "      <th>DataValueFootnote</th>\n",
       "      <th>LowConfidenceLimit</th>\n",
       "      <th>HighConfidenceLimit</th>\n",
       "      <th>StratificationCategory1</th>\n",
       "      <th>Stratification1</th>\n",
       "      <th>Geolocation</th>\n",
       "      <th>LocationID</th>\n",
       "      <th>TopicID</th>\n",
       "      <th>QuestionID</th>\n",
       "      <th>DataValueTypeID</th>\n",
       "      <th>StratificationCategoryID1</th>\n",
       "      <th>StratificationID1</th>\n",
       "    </tr>\n",
       "  </thead>\n",
       "  <tbody>\n",
       "  </tbody>\n",
       "</table>\n",
       "</div>"
      ],
      "text/plain": [
       "Empty DataFrame\n",
       "Columns: [YearStart, YearEnd, LocationAbbr, LocationDesc, DataSource, Topic, Question, DataValueUnit, DataValueType, DataValue, DataValueAlt, DataValueFootnoteSymbol, DataValueFootnote, LowConfidenceLimit, HighConfidenceLimit, StratificationCategory1, Stratification1, Geolocation, LocationID, TopicID, QuestionID, DataValueTypeID, StratificationCategoryID1, StratificationID1]\n",
       "Index: []"
      ]
     },
     "execution_count": 11,
     "metadata": {},
     "output_type": "execute_result"
    }
   ],
   "source": [
    "Question_test = Topic_2[Topic_2['Question'] == '2 or more chronic conditions among adults']\n",
    "Question_test.head(2)"
   ]
  },
  {
   "cell_type": "markdown",
   "metadata": {},
   "source": [
    "#### We identified those questions that had more than 4 years worth of data so we can observe a change over multiple years"
   ]
  },
  {
   "cell_type": "code",
   "execution_count": 12,
   "metadata": {},
   "outputs": [
    {
     "data": {
      "text/plain": [
       "Series([], Name: count, dtype: int64)"
      ]
     },
     "execution_count": 12,
     "metadata": {},
     "output_type": "execute_result"
    }
   ],
   "source": [
    "Question_test['YearStart'].value_counts()"
   ]
  },
  {
   "cell_type": "code",
   "execution_count": 13,
   "metadata": {},
   "outputs": [
    {
     "data": {
      "text/plain": [
       "Series([], Name: count, dtype: int64)"
      ]
     },
     "execution_count": 13,
     "metadata": {},
     "output_type": "execute_result"
    }
   ],
   "source": [
    "Question_test['YearEnd'].value_counts()"
   ]
  },
  {
   "cell_type": "markdown",
   "metadata": {},
   "source": [
    "#### We also looked into the various Stratifications used for the data. The ones chosen are divided demographically and by age"
   ]
  },
  {
   "cell_type": "code",
   "execution_count": 14,
   "metadata": {},
   "outputs": [
    {
     "data": {
      "text/plain": [
       "Series([], Name: count, dtype: int64)"
      ]
     },
     "execution_count": 14,
     "metadata": {},
     "output_type": "execute_result"
    }
   ],
   "source": [
    "Question_test['Stratification1'].value_counts()"
   ]
  },
  {
   "cell_type": "markdown",
   "metadata": {},
   "source": [
    "#### State-wise information can also be extracted using the _LocationAbbr_ column for all the questions"
   ]
  },
  {
   "cell_type": "code",
   "execution_count": 15,
   "metadata": {},
   "outputs": [
    {
     "data": {
      "text/plain": [
       "Series([], Name: count, dtype: int64)"
      ]
     },
     "execution_count": 15,
     "metadata": {},
     "output_type": "execute_result"
    }
   ],
   "source": [
    "Question_test['LocationAbbr'].value_counts()"
   ]
  },
  {
   "cell_type": "markdown",
   "metadata": {},
   "source": [
    "### This process of going through the Question was done for the two chosen topics. The following questions were chosen for the visualtions:<br>\n",
    "(1) No leisure-time physical activity among adults<br>\n",
    "(2) Obesity among adults<br>\n",
    "(3) 2 or more chronic conditions among adults<br>\n",
    "(4) Recent activity limitation among adults<br>\n",
    "(5) Frequent physical distress among adults<br>"
   ]
  }
 ],
 "metadata": {
  "kernelspec": {
   "display_name": "Python 3",
   "language": "python",
   "name": "python3"
  },
  "language_info": {
   "codemirror_mode": {
    "name": "ipython",
    "version": 3
   },
   "file_extension": ".py",
   "mimetype": "text/x-python",
   "name": "python",
   "nbconvert_exporter": "python",
   "pygments_lexer": "ipython3",
   "version": "3.11.4"
  }
 },
 "nbformat": 4,
 "nbformat_minor": 2
}
